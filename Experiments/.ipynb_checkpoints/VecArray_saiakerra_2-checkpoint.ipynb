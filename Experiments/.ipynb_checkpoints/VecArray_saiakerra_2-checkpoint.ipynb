{
 "cells": [
  {
   "cell_type": "code",
   "execution_count": 1,
   "id": "a98a31a9",
   "metadata": {},
   "outputs": [
    {
     "data": {
      "text/plain": [
       "setindex_! (generic function with 2 methods)"
      ]
     },
     "execution_count": 1,
     "metadata": {},
     "output_type": "execute_result"
    }
   ],
   "source": [
    "using SIMD\n",
    "include(\"../src_simd/VecArray_def.jl\")"
   ]
  },
  {
   "cell_type": "code",
   "execution_count": 2,
   "id": "740422e4",
   "metadata": {},
   "outputs": [],
   "source": [
    "using LinearAlgebra"
   ]
  },
  {
   "cell_type": "markdown",
   "id": "352be350",
   "metadata": {},
   "source": [
    "## Bi dimentsio"
   ]
  },
  {
   "cell_type": "code",
   "execution_count": 32,
   "id": "7a13500a",
   "metadata": {},
   "outputs": [
    {
     "data": {
      "text/plain": [
       "<8 x Float64>[314.6502878401571, 21013.029464716463, 2.0100136952755097e6, 2.0010001482635364e8, 2.0001000014968452e10, 2.0000100000130024e12, 2.00000100000015e14, 2.0000001000000016e16]"
      ]
     },
     "execution_count": 32,
     "metadata": {},
     "output_type": "execute_result"
    }
   ],
   "source": [
    "s=8\n",
    "a = rand(8,8)\n",
    "[a[i,j]=10^i+j for i in 1:8 for j in 1:6]\n",
    "mu= VecArray{s,Float64,2}(a)\n",
    "\n",
    "mu[6] = mu[1]*mu[2] + mu[3]*mu[4] + sin(mu[5])"
   ]
  },
  {
   "cell_type": "code",
   "execution_count": 33,
   "id": "c401f817",
   "metadata": {},
   "outputs": [
    {
     "data": {
      "text/plain": [
       "<8 x Float64>[11.0, 101.0, 1001.0, 10001.0, 100001.0, 1.000001e6, 1.0000001e7, 1.00000001e8]"
      ]
     },
     "execution_count": 33,
     "metadata": {},
     "output_type": "execute_result"
    }
   ],
   "source": [
    "muk=mu[1]"
   ]
  },
  {
   "cell_type": "code",
   "execution_count": 34,
   "id": "cfbe6737",
   "metadata": {},
   "outputs": [
    {
     "data": {
      "text/plain": [
       "11.0"
      ]
     },
     "execution_count": 34,
     "metadata": {},
     "output_type": "execute_result"
    }
   ],
   "source": [
    "muk[1]"
   ]
  },
  {
   "cell_type": "code",
   "execution_count": 35,
   "id": "365a7593",
   "metadata": {},
   "outputs": [],
   "source": [
    "setindex_!(mu, 0., 1)"
   ]
  },
  {
   "cell_type": "code",
   "execution_count": 36,
   "id": "ea00c916",
   "metadata": {},
   "outputs": [
    {
     "data": {
      "text/plain": [
       "<8 x Float64>[0.0, 0.0, 0.0, 0.0, 0.0, 0.0, 0.0, 0.0]"
      ]
     },
     "execution_count": 36,
     "metadata": {},
     "output_type": "execute_result"
    }
   ],
   "source": [
    "mu[1]"
   ]
  },
  {
   "cell_type": "code",
   "execution_count": 37,
   "id": "01101930",
   "metadata": {},
   "outputs": [
    {
     "data": {
      "text/plain": [
       "0.0"
      ]
     },
     "execution_count": 37,
     "metadata": {},
     "output_type": "execute_result"
    }
   ],
   "source": [
    "maximum(mu[1])"
   ]
  },
  {
   "cell_type": "code",
   "execution_count": 38,
   "id": "5f34e7a8",
   "metadata": {},
   "outputs": [
    {
     "data": {
      "text/plain": [
       "<8 x Float64>[12.0, 102.0, 1002.0, 10002.0, 100002.0, 1.000002e6, 1.0000002e7, 1.00000002e8]"
      ]
     },
     "execution_count": 38,
     "metadata": {},
     "output_type": "execute_result"
    }
   ],
   "source": [
    "mu[2]"
   ]
  },
  {
   "cell_type": "code",
   "execution_count": 39,
   "id": "128ac1b3",
   "metadata": {},
   "outputs": [
    {
     "data": {
      "text/plain": [
       "10003.0"
      ]
     },
     "execution_count": 39,
     "metadata": {},
     "output_type": "execute_result"
    }
   ],
   "source": [
    "mu.data[8*2+4]"
   ]
  },
  {
   "cell_type": "code",
   "execution_count": 40,
   "id": "abb09b5b",
   "metadata": {},
   "outputs": [
    {
     "data": {
      "text/plain": [
       "<8 x Float64>[13.0, 103.0, 1003.0, 10003.0, 100003.0, 1.000003e6, 1.0000003e7, 1.00000003e8]"
      ]
     },
     "execution_count": 40,
     "metadata": {},
     "output_type": "execute_result"
    }
   ],
   "source": [
    "mu[3]"
   ]
  },
  {
   "cell_type": "code",
   "execution_count": 41,
   "id": "18f43056",
   "metadata": {},
   "outputs": [],
   "source": [
    "for i in 1:s\n",
    "   sumbetai=0.\n",
    "   for j in 1:s\n",
    "       jj=(j-1)*s\n",
    "       sumbetai+=mu.data[jj+i]\n",
    "   end\n",
    "\n",
    "  for j in 1:s\n",
    "     jj=(j-1)*s\n",
    "     mu.data[jj+i]=mu.data[jj+i]/sumbetai\n",
    "  end\n",
    "\n",
    "end"
   ]
  },
  {
   "cell_type": "code",
   "execution_count": 42,
   "id": "1bdf5c61",
   "metadata": {},
   "outputs": [
    {
     "data": {
      "text/plain": [
       "<8 x Float64>[0.03244944341186311, 0.004760063163795416, 0.0004975103800373611, 4.9975010110032835e-5, 4.999750010104983e-6, 4.999975000104548e-7, 4.9999975000009866e-8, 4.999999750000009e-9]"
      ]
     },
     "execution_count": 42,
     "metadata": {},
     "output_type": "execute_result"
    }
   ],
   "source": [
    "mu[2]"
   ]
  },
  {
   "cell_type": "markdown",
   "id": "80e866c2",
   "metadata": {},
   "source": [
    "## Hiru dimentsio"
   ]
  },
  {
   "cell_type": "code",
   "execution_count": 26,
   "id": "d2c8c69e",
   "metadata": {},
   "outputs": [
    {
     "data": {
      "text/plain": [
       "8×3×2 Array{Float64, 3}:\n",
       "[:, :, 1] =\n",
       "   1.0    2.0    3.0\n",
       "   1.0    2.0    3.0\n",
       "   1.0    2.0    3.0\n",
       "   1.0    2.0    3.0\n",
       "   1.0    2.0    3.0\n",
       "   1.0    2.0    3.0\n",
       "   1.0    2.0    3.0\n",
       " 101.0  102.0  103.0\n",
       "\n",
       "[:, :, 2] =\n",
       "   4.0    5.0    6.0\n",
       "   4.0    5.0    6.0\n",
       "   4.0    5.0    6.0\n",
       "   4.0    5.0    6.0\n",
       "   4.0    5.0    6.0\n",
       "   4.0    5.0    6.0\n",
       "   4.0    5.0    6.0\n",
       " 201.0  202.0  203.0"
      ]
     },
     "execution_count": 26,
     "metadata": {},
     "output_type": "execute_result"
    }
   ],
   "source": [
    "s = 8\n",
    "dat = rand(s,3,2)\n",
    "[dat[1:8,k,1].=k for k in 1:3]\n",
    "[dat[1:8,k,2].=3+k for k in 1:3]\n",
    "[dat[8,k,1]=100+k for k in 1:3]\n",
    "[dat[8,k,2]=200+k for k in 1:3]    \n",
    "dat"
   ]
  },
  {
   "cell_type": "code",
   "execution_count": 27,
   "id": "b867a503",
   "metadata": {},
   "outputs": [],
   "source": [
    "B = VecArray{s,Float64,3}(dat);"
   ]
  },
  {
   "cell_type": "code",
   "execution_count": 11,
   "id": "795dc9db",
   "metadata": {},
   "outputs": [
    {
     "data": {
      "text/plain": [
       "<8 x Float64>[3.0, 3.0, 3.0, 3.0, 3.0, 3.0, 3.0, 103.0]"
      ]
     },
     "execution_count": 11,
     "metadata": {},
     "output_type": "execute_result"
    }
   ],
   "source": [
    "B[3,1]"
   ]
  },
  {
   "cell_type": "code",
   "execution_count": 12,
   "id": "80510178",
   "metadata": {},
   "outputs": [
    {
     "data": {
      "text/plain": [
       "3.0"
      ]
     },
     "execution_count": 12,
     "metadata": {},
     "output_type": "execute_result"
    }
   ],
   "source": [
    "B.data[6+8+8]"
   ]
  },
  {
   "cell_type": "code",
   "execution_count": 13,
   "id": "d52ae6c9",
   "metadata": {},
   "outputs": [
    {
     "data": {
      "text/plain": [
       "6-element Vector{Float64}:\n",
       " 101.0\n",
       " 102.0\n",
       " 103.0\n",
       " 201.0\n",
       " 202.0\n",
       " 203.0"
      ]
     },
     "execution_count": 13,
     "metadata": {},
     "output_type": "execute_result"
    }
   ],
   "source": [
    "datas=zeros(6)\n",
    "[datas[k]=B.data[k*s] for k in 1:6]    "
   ]
  },
  {
   "cell_type": "code",
   "execution_count": 14,
   "id": "e83a6798",
   "metadata": {},
   "outputs": [
    {
     "data": {
      "text/plain": [
       "6-element Vector{Float64}:\n",
       "   6.0\n",
       "   6.0\n",
       "   6.0\n",
       "   6.0\n",
       "   6.0\n",
       " 203.0"
      ]
     },
     "execution_count": 14,
     "metadata": {},
     "output_type": "execute_result"
    }
   ],
   "source": [
    "B.data[end-5:end]"
   ]
  },
  {
   "cell_type": "code",
   "execution_count": 35,
   "id": "741e293c",
   "metadata": {},
   "outputs": [
    {
     "data": {
      "text/plain": [
       "<8 x Float64>[4.0, 4.0, 4.0, 4.0, 4.0, 4.0, 4.0, 201.0]"
      ]
     },
     "execution_count": 35,
     "metadata": {},
     "output_type": "execute_result"
    }
   ],
   "source": [
    "Wk_a=B[1,2]"
   ]
  },
  {
   "cell_type": "code",
   "execution_count": 29,
   "id": "699fcb52",
   "metadata": {},
   "outputs": [
    {
     "data": {
      "text/plain": [
       "<8 x Float64>[6.0, 6.0, 6.0, 6.0, 6.0, 6.0, 6.0, 203.0]"
      ]
     },
     "execution_count": 29,
     "metadata": {},
     "output_type": "execute_result"
    }
   ],
   "source": [
    "Wk_a=getindex_(B,6)"
   ]
  },
  {
   "cell_type": "code",
   "execution_count": 17,
   "id": "b31ed5d4",
   "metadata": {},
   "outputs": [
    {
     "data": {
      "text/plain": [
       "6.0"
      ]
     },
     "execution_count": 17,
     "metadata": {},
     "output_type": "execute_result"
    }
   ],
   "source": [
    "Wk_a[1]"
   ]
  },
  {
   "cell_type": "code",
   "execution_count": 18,
   "id": "f4fc7ce5",
   "metadata": {},
   "outputs": [
    {
     "data": {
      "text/plain": [
       "<8 x Float64>[6.0, 6.0, 6.0, 6.0, 6.0, 6.0, 6.0, 203.0]"
      ]
     },
     "execution_count": 18,
     "metadata": {},
     "output_type": "execute_result"
    }
   ],
   "source": [
    "Wk_b=getindex(B,6)"
   ]
  },
  {
   "cell_type": "code",
   "execution_count": 19,
   "id": "4a22a204",
   "metadata": {},
   "outputs": [
    {
     "data": {
      "text/plain": [
       "6.0"
      ]
     },
     "execution_count": 19,
     "metadata": {},
     "output_type": "execute_result"
    }
   ],
   "source": [
    "Wk_b[1]"
   ]
  },
  {
   "cell_type": "code",
   "execution_count": 20,
   "id": "ce959d47",
   "metadata": {},
   "outputs": [
    {
     "data": {
      "text/plain": [
       "<8 x Float64>[0.0, 0.0, 0.0, 0.0, 0.0, 0.0, 0.0, 0.0]"
      ]
     },
     "execution_count": 20,
     "metadata": {},
     "output_type": "execute_result"
    }
   ],
   "source": [
    "duk=muladd(mu[1],Wk_b[1],0.)"
   ]
  },
  {
   "cell_type": "code",
   "execution_count": 41,
   "id": "8fe3672d",
   "metadata": {},
   "outputs": [
    {
     "data": {
      "text/plain": [
       "<8 x Float64>[72.0, 612.0, 6012.0, 60012.0, 600012.0, 6.000012e6, 6.0000012e7, 6.00000012e8]"
      ]
     },
     "execution_count": 41,
     "metadata": {},
     "output_type": "execute_result"
    }
   ],
   "source": [
    "duk=muladd(mu[2],Wk_b[2],0.)"
   ]
  },
  {
   "cell_type": "code",
   "execution_count": 42,
   "id": "fb7dd9f4",
   "metadata": {},
   "outputs": [
    {
     "ename": "LoadError",
     "evalue": "MethodError: no method matching *(::Vec{8, Float64}, ::Vector{Int64})\n\u001b[0mClosest candidates are:\n\u001b[0m  *(::Any, ::Any, \u001b[91m::Any\u001b[39m, \u001b[91m::Any...\u001b[39m) at operators.jl:560\n\u001b[0m  *(\u001b[91m::StridedMatrix{T}\u001b[39m, ::StridedVector{S}) where {T<:Union{Float32, Float64, ComplexF32, ComplexF64}, S<:Real} at /buildworker/worker/package_linux64/build/usr/share/julia/stdlib/v1.6/LinearAlgebra/src/matmul.jl:44\n\u001b[0m  *(\u001b[91m::Union{SparseArrays.AbstractSparseMatrixCSC{TA, Ti}, SubArray{TA, 2, var\"#s814\", Tuple{Base.Slice{Base.OneTo{Int64}}, I}, L} where {I<:AbstractUnitRange, var\"#s814\"<:SparseArrays.AbstractSparseMatrixCSC{TA, Ti}, L}} where Ti\u001b[39m, ::Union{StridedVector{T} where T, BitVector}) where TA at /buildworker/worker/package_linux64/build/usr/share/julia/stdlib/v1.6/SparseArrays/src/linalg.jl:50\n\u001b[0m  ...",
     "output_type": "error",
     "traceback": [
      "MethodError: no method matching *(::Vec{8, Float64}, ::Vector{Int64})\n\u001b[0mClosest candidates are:\n\u001b[0m  *(::Any, ::Any, \u001b[91m::Any\u001b[39m, \u001b[91m::Any...\u001b[39m) at operators.jl:560\n\u001b[0m  *(\u001b[91m::StridedMatrix{T}\u001b[39m, ::StridedVector{S}) where {T<:Union{Float32, Float64, ComplexF32, ComplexF64}, S<:Real} at /buildworker/worker/package_linux64/build/usr/share/julia/stdlib/v1.6/LinearAlgebra/src/matmul.jl:44\n\u001b[0m  *(\u001b[91m::Union{SparseArrays.AbstractSparseMatrixCSC{TA, Ti}, SubArray{TA, 2, var\"#s814\", Tuple{Base.Slice{Base.OneTo{Int64}}, I}, L} where {I<:AbstractUnitRange, var\"#s814\"<:SparseArrays.AbstractSparseMatrixCSC{TA, Ti}, L}} where Ti\u001b[39m, ::Union{StridedVector{T} where T, BitVector}) where TA at /buildworker/worker/package_linux64/build/usr/share/julia/stdlib/v1.6/SparseArrays/src/linalg.jl:50\n\u001b[0m  ...",
      "",
      "Stacktrace:",
      " [1] top-level scope",
      "   @ In[42]:1",
      " [2] eval",
      "   @ ./boot.jl:360 [inlined]",
      " [3] include_string(mapexpr::typeof(REPL.softscope), mod::Module, code::String, filename::String)",
      "   @ Base ./loading.jl:1116"
     ]
    }
   ],
   "source": [
    "duk*[1,2,3,4,5,6,7,8]"
   ]
  },
  {
   "cell_type": "code",
   "execution_count": 70,
   "id": "fcc7fa99",
   "metadata": {},
   "outputs": [
    {
     "data": {
      "text/plain": [
       "<8 x Float64>[1.0, 2.0, 3.0, 4.0, 5.0, 6.0, 7.0, 8.0]"
      ]
     },
     "execution_count": 70,
     "metadata": {},
     "output_type": "execute_result"
    }
   ],
   "source": [
    "a_ = rand(8)\n",
    "[a_[k]=k for k in 1:8]\n",
    "hi1= vload(Vec{s,Float64}, a_, 1)"
   ]
  },
  {
   "cell_type": "code",
   "execution_count": 44,
   "id": "e4d8cf0b",
   "metadata": {},
   "outputs": [
    {
     "data": {
      "text/plain": [
       "<8 x Float64>[72.0, 1224.0, 18036.0, 240048.0, 3.00006e6, 3.6000072e7, 4.20000084e8, 4.800000096e9]"
      ]
     },
     "execution_count": 44,
     "metadata": {},
     "output_type": "execute_result"
    }
   ],
   "source": [
    "duk*hi1"
   ]
  },
  {
   "cell_type": "code",
   "execution_count": 45,
   "id": "ac16b347",
   "metadata": {},
   "outputs": [
    {
     "data": {
      "text/plain": [
       "<8 x Float64>[72.0, 1224.0, 18036.0, 240048.0, 3.00006e6, 3.6000072e7, 4.20000084e8, 4.800000096e9]"
      ]
     },
     "execution_count": 45,
     "metadata": {},
     "output_type": "execute_result"
    }
   ],
   "source": [
    "duk=duk*hi1"
   ]
  },
  {
   "cell_type": "code",
   "execution_count": 20,
   "id": "d485e3b5",
   "metadata": {},
   "outputs": [
    {
     "ename": "LoadError",
     "evalue": "UndefVarError: norm not defined",
     "output_type": "error",
     "traceback": [
      "UndefVarError: norm not defined",
      "",
      "Stacktrace:",
      " [1] top-level scope",
      "   @ In[20]:1",
      " [2] eval",
      "   @ ./boot.jl:360 [inlined]",
      " [3] include_string(mapexpr::typeof(REPL.softscope), mod::Module, code::String, filename::String)",
      "   @ Base ./loading.jl:1116"
     ]
    }
   ],
   "source": [
    "norm(duk)"
   ]
  },
  {
   "cell_type": "code",
   "execution_count": 21,
   "id": "8cc6f56e",
   "metadata": {},
   "outputs": [
    {
     "data": {
      "text/plain": [
       "0.9167535968116086"
      ]
     },
     "execution_count": 21,
     "metadata": {},
     "output_type": "execute_result"
    }
   ],
   "source": [
    "(sum(duk*duk))^(1/(2*s))"
   ]
  },
  {
   "cell_type": "code",
   "execution_count": 22,
   "id": "2a3970c6",
   "metadata": {},
   "outputs": [
    {
     "data": {
      "text/plain": [
       "Float64"
      ]
     },
     "execution_count": 22,
     "metadata": {},
     "output_type": "execute_result"
    }
   ],
   "source": [
    "eltype(duk)"
   ]
  },
  {
   "cell_type": "code",
   "execution_count": 65,
   "id": "5f94caf9",
   "metadata": {},
   "outputs": [
    {
     "data": {
      "text/plain": [
       "<8 x Float64>[500.0, 1000.0, 1500.0, 2000.0, 2500.0, 3000.0, 3500.0, 4000.0]"
      ]
     },
     "execution_count": 65,
     "metadata": {},
     "output_type": "execute_result"
    }
   ],
   "source": [
    "dt=500\n",
    "hi1*dt"
   ]
  },
  {
   "cell_type": "code",
   "execution_count": 74,
   "id": "7550773e",
   "metadata": {},
   "outputs": [],
   "source": [
    "tt=hi1*hi1\n",
    "for k in 1:1\n",
    "    tt*=hi1\n",
    "end"
   ]
  },
  {
   "cell_type": "code",
   "execution_count": 75,
   "id": "be1039b9",
   "metadata": {},
   "outputs": [
    {
     "data": {
      "text/plain": [
       "<8 x Float64>[1.0, 8.0, 27.0, 64.0, 125.0, 216.0, 343.0, 512.0]"
      ]
     },
     "execution_count": 75,
     "metadata": {},
     "output_type": "execute_result"
    }
   ],
   "source": [
    "tt"
   ]
  },
  {
   "cell_type": "code",
   "execution_count": 69,
   "id": "7a13f40b",
   "metadata": {},
   "outputs": [
    {
     "data": {
      "text/plain": [
       "256"
      ]
     },
     "execution_count": 69,
     "metadata": {},
     "output_type": "execute_result"
    }
   ],
   "source": [
    "2^8"
   ]
  },
  {
   "cell_type": "code",
   "execution_count": 76,
   "id": "35edcd6c",
   "metadata": {},
   "outputs": [
    {
     "data": {
      "text/plain": [
       "<8 x Float64>[72.0, 1224.0, 18036.0, 240048.0, 3.00006e6, 3.6000072e7, 4.20000084e8, 4.800000096e9]"
      ]
     },
     "execution_count": 76,
     "metadata": {},
     "output_type": "execute_result"
    }
   ],
   "source": [
    "duk"
   ]
  },
  {
   "cell_type": "code",
   "execution_count": null,
   "id": "caded0f2",
   "metadata": {},
   "outputs": [],
   "source": []
  }
 ],
 "metadata": {
  "kernelspec": {
   "display_name": "Julia 1.6.6",
   "language": "julia",
   "name": "julia-1.6"
  },
  "language_info": {
   "file_extension": ".jl",
   "mimetype": "application/julia",
   "name": "julia",
   "version": "1.6.6"
  }
 },
 "nbformat": 4,
 "nbformat_minor": 5
}
