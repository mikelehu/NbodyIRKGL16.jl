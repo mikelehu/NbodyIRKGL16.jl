{
 "cells": [
  {
   "cell_type": "markdown",
   "id": "0a88c7eb",
   "metadata": {},
   "source": [
    "# Kwargs\n",
    "\n",
    "- https://docs.julialang.org/en/v1/manual/functions/"
   ]
  },
  {
   "cell_type": "code",
   "execution_count": 35,
   "id": "4f898de5",
   "metadata": {},
   "outputs": [
    {
     "data": {
      "text/plain": [
       "f (generic function with 1 method)"
      ]
     },
     "execution_count": 35,
     "metadata": {},
     "output_type": "execute_result"
    }
   ],
   "source": [
    "function f(x; y=0, kwargs...)\n",
    "    \n",
    "    println(\"x=\",x)\n",
    "    println(\"y=\",y)\n",
    "    if !isempty(kwargs) \n",
    "        println(\"kwargs=\",kwargs[:z])\n",
    "#         println(\"not empty\")\n",
    "    end\n",
    "    \n",
    "end"
   ]
  },
  {
   "cell_type": "code",
   "execution_count": 36,
   "id": "1af6c5bb",
   "metadata": {},
   "outputs": [
    {
     "name": "stdout",
     "output_type": "stream",
     "text": [
      "x=1\n",
      "y=0\n"
     ]
    }
   ],
   "source": [
    "f(1)"
   ]
  },
  {
   "cell_type": "code",
   "execution_count": 37,
   "id": "d74860f0",
   "metadata": {},
   "outputs": [
    {
     "name": "stdout",
     "output_type": "stream",
     "text": [
      "x=1\n",
      "y=1\n"
     ]
    }
   ],
   "source": [
    "f(1; y=1)"
   ]
  },
  {
   "cell_type": "code",
   "execution_count": 38,
   "id": "c7553f1f",
   "metadata": {},
   "outputs": [
    {
     "name": "stdout",
     "output_type": "stream",
     "text": [
      "x=1\n",
      "y=0\n",
      "kwargs=1\n"
     ]
    }
   ],
   "source": [
    "f(1; y=0, z=1)"
   ]
  },
  {
   "cell_type": "code",
   "execution_count": null,
   "id": "059fca5d",
   "metadata": {},
   "outputs": [],
   "source": []
  }
 ],
 "metadata": {
  "kernelspec": {
   "display_name": "Julia 1.6.6",
   "language": "julia",
   "name": "julia-1.6"
  },
  "language_info": {
   "file_extension": ".jl",
   "mimetype": "application/julia",
   "name": "julia",
   "version": "1.6.6"
  }
 },
 "nbformat": 4,
 "nbformat_minor": 5
}
