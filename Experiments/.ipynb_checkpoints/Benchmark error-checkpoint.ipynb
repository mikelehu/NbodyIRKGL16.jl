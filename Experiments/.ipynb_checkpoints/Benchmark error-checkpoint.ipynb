{
 "cells": [
  {
   "cell_type": "markdown",
   "id": "47e84396",
   "metadata": {},
   "source": [
    "# Loading packages and functions"
   ]
  },
  {
   "cell_type": "code",
   "execution_count": null,
   "id": "47c56426",
   "metadata": {},
   "outputs": [],
   "source": [
    "using LinearAlgebra\n",
    "using Plots\n",
    "using SIMD\n",
    "using IRKGaussLegendre\n",
    "using DiffEqDevTools,BenchmarkTools\n",
    "using OrdinaryDiffEq\n",
    "using JLD2, FileIO\n",
    "using RecursiveArrayTools"
   ]
  },
  {
   "cell_type": "code",
   "execution_count": null,
   "id": "21d5051b",
   "metadata": {},
   "outputs": [],
   "source": [
    "PATH_SRC=\"../src/\"\n",
    "\n",
    "include(string(PATH_SRC,\"IRKGL_SIMD.jl\"))\n",
    "using .IRKGL_SIMD "
   ]
  },
  {
   "cell_type": "markdown",
   "id": "0c33d0af",
   "metadata": {},
   "source": [
    "## Definition of the N-body problem\n",
    "\n",
    "In Nbody.jl below, the following functions are defined: NbodyEnergy(u,Gm), NbodyODE!(du,u,Gm,t), and NbodyODE1!(du,u,Gm,t), where\n",
    "\n",
    "\\begin{equation*}\n",
    "u = \n",
    "\\left(\\begin{matrix}\n",
    "q_1  & v_1\\\\\n",
    "\\vdots & \\vdots \\\\\n",
    "q_N  & v_N\n",
    "\\end{matrix}\n",
    "\\right) \\in \\mathbb{R}^{2 \\times 3\\times N}, \\quad\n",
    "Gm = (G\\,  m_1, \\ldots,G\\,  m_N) \\in \\mathbb{R}^N.\n",
    "\\end{equation*}\n",
    "\n",
    "The energy, as a function of the positions $q_1,\\ldots,q_N \\in \\mathbb{R}^3$ and the velocities $v_1,\\ldots,v_N \\in \\mathbb{R}^3$ of the $N$ bodies is:\n",
    "\\begin{equation*}\n",
    "\\begin{split}\n",
    "\\mathrm{Energy}(q_1,\\ldots,q_N,v_1,\\ldots,v_N) = \n",
    "\\frac12 \\sum_{i=1}^{N} m_i \\, \\|v_i\\|^2\n",
    "- G \\sum_{1\\leq i < j \\leq N} \\frac{m_i m_j}{\\|q_i-q_j\\|}.\n",
    "\\end{split}\n",
    "\\end{equation*}\n",
    "\n",
    "\n",
    "The ODE system of the N-body problem,\n",
    "as a function of the positions $q_1,\\ldots,q_N \\in \\mathbb{R}^3$ and the velocities $v_1,\\ldots,v_N \\in \\mathbb{R}^3$ of the $N$ bodies is:\n",
    "\\begin{equation*}\n",
    "\\begin{split}\n",
    "\\frac{d}{dt} q_i &= v_i, \\\\\n",
    "\\frac{d}{dt} v_i &= G\\, \n",
    "\\sum_{j \\neq i} \\frac{m_j}{\\|q_j-q_i\\|^3}\\,\n",
    "(q_j-q_i).\n",
    "\\end{split}\n",
    "\\end{equation*}\n",
    "This system of ODEs can be writen in compact form as\n",
    "\\begin{equation*}\n",
    "\\frac{d u}{dt} = f(t,u,Gm)\n",
    "\\end{equation*}\n"
   ]
  },
  {
   "cell_type": "code",
   "execution_count": 3,
   "id": "87a909d8",
   "metadata": {},
   "outputs": [
    {
     "data": {
      "text/plain": [
       "NbodyODE2nd! (generic function with 1 method)"
      ]
     },
     "execution_count": 3,
     "metadata": {},
     "output_type": "execute_result"
    }
   ],
   "source": [
    "PATH_ODES=\"../ODEProblems/\"\n",
    "\n",
    "include(string(PATH_ODES,\"Initial5Body.jl\"))\n",
    "include(string(PATH_ODES,\"Nbody.jl\"))\n",
    "include(string(PATH_ODES,\"Nbody2nd.jl\"))"
   ]
  },
  {
   "cell_type": "markdown",
   "id": "a47136aa",
   "metadata": {},
   "source": [
    "## Initial value problem: 5-body problem (outer solar system)\n",
    "\n",
    "We consider $N=5$ bodies of the outer solar system: the Sun, Jupiter, Saturn, Uranus, and Neptune.\n",
    "The initial values $u_{00}$ are taken from DE430, Julian day (TDB) 2440400.5 (June 28, 1969). "
   ]
  },
  {
   "cell_type": "code",
   "execution_count": null,
   "id": "3be1ba6b",
   "metadata": {},
   "outputs": [],
   "source": [
    "u0, Gm, bodylist = Initial5Body(Float64)\n",
    "q0=u0[:,:,1]\n",
    "v0=u0[:,:,2]\n",
    "N = length(Gm)\n",
    "\n",
    "show(bodylist)\n",
    "E0=NbodyEnergy(u0,Gm)"
   ]
  },
  {
   "cell_type": "code",
   "execution_count": null,
   "id": "2a028dcd",
   "metadata": {},
   "outputs": [],
   "source": [
    "t0 = 0.\n",
    "dt = 200.\n",
    "tF = 1e6  #1e8\n",
    "#tF = 8dt\n",
    "\n",
    "n = 1000\n",
    "#n = 5\n",
    "\n",
    "m = convert(Int64,ceil(abs(tF-t0)/(n*dt)))\n",
    "n = convert(Int64,ceil(abs(tF-t0)/(m*dt))) # Number of macro-steps (Output is saved for n+1 time values)\n",
    "dt = (tF-t0)/(n*m)\n",
    "println(\"dt = $dt, n=$n, m=$m\")\n",
    "\n",
    "itermax = 100\n",
    "\n",
    "prob = ODEProblem(NbodyODE!, u0, (t0,tF), Gm)\n",
    "\n",
    "udim=u0[1:1,1:1,1:1]\n",
    "sol1=solve(prob,IRKGL_simd(), udim, s=s, dt=dt, m=m, initial_interp=true, itermax=itermax)\n",
    "\n",
    "prob = ODEProblem(NbodyODE!, u0, (t0,tF), Gm)\n",
    "sol4 = solve(prob, Vern9(), adaptive=false, dt=dt/2, saveat=m*dt, dense=false)\n",
    "\n",
    "prob2nd = SecondOrderODEProblem(NbodyODE2nd!,v0,q0,(t0,tF),Gm)\n",
    "sol5 = solve(prob2nd, DPRKN12(), adaptive=false, dt=dt/2, saveat=m*dt, dense=false)"
   ]
  },
  {
   "cell_type": "code",
   "execution_count": null,
   "id": "c03ff019",
   "metadata": {},
   "outputs": [],
   "source": [
    "yrange = (1e-18,1e-10)\n",
    "year = 365.5\n",
    "\n",
    "function energy_plot(sol; title=\"\")\n",
    "    energies = [NbodyEnergy(BigFloat.(u),Gm) for u in sol.u]\n",
    "    E0 = energies[1]\n",
    "    epsilon = eps(1e-3)\n",
    "    errors = Float64.(abs.(energies[2:end]/E0 .- 1)) .+ epsilon\n",
    "    tt = sol.t[2:end]/year\n",
    "    pl = plot(title=title,\n",
    "         yscale=:log10, ylims=yrange, legend=false)\n",
    "    plot!(tt,  errors)\n",
    "    return pl\n",
    "end\n",
    "\n",
    "pl1 = energy_plot(sol1, title=\"IRKGL (VecArray)\")\n",
    "\n",
    "pl4 = energy_plot(sol4, title=\"Vern9\")\n",
    "\n",
    "pl5 = energy_plot(sol4, title=\"DPRKN12\")\n",
    "\n",
    "\n",
    "plot(pl0, pl1, pl2, pl4, pl5,  layout=(5,1), size=(600,900))"
   ]
  }
 ],
 "metadata": {
  "kernelspec": {
   "display_name": "Julia 1.6.6",
   "language": "julia",
   "name": "julia-1.6"
  },
  "language_info": {
   "file_extension": ".jl",
   "mimetype": "application/julia",
   "name": "julia",
   "version": "1.6.6"
  }
 },
 "nbformat": 4,
 "nbformat_minor": 5
}
