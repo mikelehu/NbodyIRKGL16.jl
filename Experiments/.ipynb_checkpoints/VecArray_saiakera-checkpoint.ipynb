{
 "cells": [
  {
   "cell_type": "code",
   "execution_count": 2,
   "metadata": {},
   "outputs": [
    {
     "data": {
      "text/plain": [
       "setindex_! (generic function with 4 methods)"
      ]
     },
     "execution_count": 2,
     "metadata": {},
     "output_type": "execute_result"
    }
   ],
   "source": [
    "using SIMD\n",
    "using BenchmarkTools\n",
    "using LinearAlgebra\n",
    "include(\"IRK16_Vec8Array.jl\")\n",
    "\n",
    "\n",
    "struct VecArray{s,T,dim}\n",
    "    data::Array{T,dim}\n",
    "end\n",
    "\n",
    "#@generated Base.getindex(v::VecArray{s,T,dim},i...) where {s,T,dim} = \n",
    "#        Expr(:call, :(Vec{s,T}), NTuple{s,T}(v.data[k,i...] for k=1:s)) \n",
    "\n",
    "#Base.getindex(v::VecArray{s,T,dim},i...) where {s,T,dim} = \n",
    "#      Vec{s,T}( NTuple{s,T}(a[i] for i=1:s))\n",
    "\n",
    "\n",
    "@inline function Base.getindex(v::VecArray{s,T,dim},i...) where {s,T,dim}\n",
    "      Vec{s,T}(NTuple{s,T}(v.data[k,i...] for k=1:s))\n",
    "end\n",
    "\n",
    "\n",
    "@inline function Base.setindex!(v::VecArray{s,T,dim},vi::Vec{s,T},i...) where {s,T,dim}\n",
    "    @inbounds for j in 1:s\n",
    "        v.data[j,i...] = vi[j]\n",
    "    end\n",
    "    return nothing\n",
    "end\n",
    "\n",
    "@inline function Base.setindex!(v::VecArray{s,T,dim},vi::T2,i...) where {s,T,T2,dim}\n",
    "    vi_ = convert(T,vi)\n",
    "    @inbounds for k in 1:s\n",
    "        v.data[k,i...] = vi_\n",
    "    end\n",
    "    return nothing\n",
    "end\n",
    "\n",
    "\n",
    "@inline function Base.getindex(v::VecArray{s,T,dim},i::Int64) where {s,T,dim}\n",
    "      j = s*(i-1)\n",
    "      Vec{s,T}(NTuple{s,T}(v.data[k+j] for k=1:s))\n",
    "end\n",
    "\n",
    "\n",
    "@inline function setindex_!(v::VecArray{s,T,dim},vi::Vec{s,T},i::Int64) where {s,T,dim}\n",
    "    j = s*(i-1)\n",
    "    @inbounds for k in 1:s\n",
    "        v.data[j+k] = vi[k]\n",
    "    end\n",
    "    return nothing\n",
    "end\n",
    "\n",
    "@inline function setindex_!(v::VecArray{s,T,dim},vi::T2,i::Int64) where {s,T,T2,dim}\n",
    "    vi_ = convert(T,vi)\n",
    "    j = s*(i-1)\n",
    "    @inbounds for k in 1:s\n",
    "        v.data[j+k] = vi_\n",
    "    end\n",
    "    return nothing\n",
    "end\n",
    "\n"
   ]
  },
  {
   "cell_type": "markdown",
   "metadata": {},
   "source": [
    "## Bi dimentsio"
   ]
  },
  {
   "cell_type": "code",
   "execution_count": 90,
   "metadata": {},
   "outputs": [
    {
     "data": {
      "text/plain": [
       "<8 x Float64>[0.14001227703669672, 0.18469237835732488, 0.6415045019654504, 0.5237006765692087, 0.5877801390364779, 0.27421548043853994, 0.850827707476022, 0.31956442887702896]"
      ]
     },
     "execution_count": 90,
     "metadata": {},
     "output_type": "execute_result"
    }
   ],
   "source": [
    "v[1]"
   ]
  },
  {
   "cell_type": "code",
   "execution_count": 45,
   "metadata": {},
   "outputs": [
    {
     "data": {
      "text/plain": [
       "<8 x Float64>[0.3053953826675162, 0.6787671260795991, 1.0751783725708062, 1.398188459969191, 0.9495161766868486, 0.9342564288565177, 1.7441360783571538, 0.4815454666186721]"
      ]
     },
     "execution_count": 45,
     "metadata": {},
     "output_type": "execute_result"
    }
   ],
   "source": [
    "s=8\n",
    "a = rand(8,6)\n",
    "v= VecArray{s,Float64,2}(a)\n",
    "\n",
    "v[6] = v[1]*v[2] + v[3]*v[4] + sin(v[5])"
   ]
  },
  {
   "cell_type": "code",
   "execution_count": 7,
   "metadata": {},
   "outputs": [
    {
     "data": {
      "text/plain": [
       "<8 x Float64>[1.7923149479041491, 1.3008920516910294, 1.9736300531189068, 1.6767576697964492, 1.657094245159598, 1.4368073571184437, 1.44928658183683, 1.4306836900559161]"
      ]
     },
     "execution_count": 7,
     "metadata": {},
     "output_type": "execute_result"
    }
   ],
   "source": [
    "v[1]+1"
   ]
  },
  {
   "cell_type": "code",
   "execution_count": 6,
   "metadata": {},
   "outputs": [
    {
     "data": {
      "text/plain": [
       "<8 x Float64>[0.792314947904149, 0.3008920516910295, 0.9736300531189068, 0.6767576697964494, 0.657094245159598, 0.43680735711844376, 0.4492865818368299, 0.43068369005591617]"
      ]
     },
     "execution_count": 6,
     "metadata": {},
     "output_type": "execute_result"
    }
   ],
   "source": [
    "v[1] = sin(v[6])"
   ]
  },
  {
   "cell_type": "markdown",
   "metadata": {},
   "source": [
    "## Hiru dimentsio"
   ]
  },
  {
   "cell_type": "code",
   "execution_count": 91,
   "metadata": {},
   "outputs": [
    {
     "data": {
      "text/plain": [
       "<8 x Float64>[0.7679846104051529, 0.6748767308735444, 0.17275403496702668, 0.7191446805764905, 0.8208024449082045, 0.3580535499161033, 0.1915185603248224, 0.8739725443991155]"
      ]
     },
     "execution_count": 91,
     "metadata": {},
     "output_type": "execute_result"
    }
   ],
   "source": [
    "B[1]"
   ]
  },
  {
   "cell_type": "code",
   "execution_count": 94,
   "metadata": {},
   "outputs": [
    {
     "data": {
      "text/plain": [
       "<8 x Float64>[0.7662471350135305, 0.8530366897306119, 0.7679217420034181, 0.4579296440094005, 0.8259822464695383, 0.39599992866644285, 0.4147677153652316, 0.39637297684484407]"
      ]
     },
     "execution_count": 94,
     "metadata": {},
     "output_type": "execute_result"
    }
   ],
   "source": [
    "B[1,2]"
   ]
  },
  {
   "cell_type": "code",
   "execution_count": 8,
   "metadata": {},
   "outputs": [
    {
     "data": {
      "text/plain": [
       "8×3×2 Array{Float64, 3}:\n",
       "[:, :, 1] =\n",
       " 0.767985  0.504785    0.860584\n",
       " 0.674877  0.77674     0.186075\n",
       " 0.172754  0.543431    0.457701\n",
       " 0.719145  0.510737    0.0314875\n",
       " 0.820802  0.226937    0.536299\n",
       " 0.358054  0.0666761   0.888815\n",
       " 0.191519  0.00353578  0.69367\n",
       " 0.873973  0.880553    0.292941\n",
       "\n",
       "[:, :, 2] =\n",
       " 0.766247  0.227241  0.232219\n",
       " 0.853037  0.793928  0.0874127\n",
       " 0.767922  0.303933  0.977548\n",
       " 0.45793   0.744634  0.397933\n",
       " 0.825982  0.194646  0.435852\n",
       " 0.396     0.487076  0.699539\n",
       " 0.414768  0.475531  0.41974\n",
       " 0.396373  0.3602    0.728165"
      ]
     },
     "execution_count": 8,
     "metadata": {},
     "output_type": "execute_result"
    }
   ],
   "source": [
    "s = 8\n",
    "a = rand(s,3,2)"
   ]
  },
  {
   "cell_type": "code",
   "execution_count": 9,
   "metadata": {},
   "outputs": [],
   "source": [
    "B = VecArray{s,Float64,3}(a)\n",
    "A = Vec8Array(a);"
   ]
  },
  {
   "cell_type": "code",
   "execution_count": 74,
   "metadata": {},
   "outputs": [
    {
     "data": {
      "text/plain": [
       "<8 x Float64>[0.7679846104051529, 0.6748767308735444, 0.17275403496702668, 0.7191446805764905, 0.8208024449082045, 0.3580535499161033, 0.1915185603248224, 0.8739725443991155]"
      ]
     },
     "execution_count": 74,
     "metadata": {},
     "output_type": "execute_result"
    }
   ],
   "source": [
    "A[1,1]"
   ]
  },
  {
   "cell_type": "code",
   "execution_count": 11,
   "metadata": {},
   "outputs": [
    {
     "data": {
      "text/plain": [
       "<8 x Float64>[0.7679846104051529, 0.6748767308735444, 0.17275403496702668, 0.7191446805764905, 0.8208024449082045, 0.3580535499161033, 0.1915185603248224, 0.8739725443991155]"
      ]
     },
     "execution_count": 11,
     "metadata": {},
     "output_type": "execute_result"
    }
   ],
   "source": [
    "B[1,1]"
   ]
  },
  {
   "cell_type": "code",
   "execution_count": 12,
   "metadata": {},
   "outputs": [
    {
     "data": {
      "text/plain": [
       "1×2 Matrix{DataType}:\n",
       " Vec8Array{Float64, 3}  VecArray{8, Float64, 3}"
      ]
     },
     "execution_count": 12,
     "metadata": {},
     "output_type": "execute_result"
    }
   ],
   "source": [
    "[typeof(A) typeof(B)]"
   ]
  },
  {
   "cell_type": "code",
   "execution_count": 13,
   "metadata": {},
   "outputs": [
    {
     "data": {
      "text/plain": [
       "fun (generic function with 1 method)"
      ]
     },
     "execution_count": 13,
     "metadata": {},
     "output_type": "execute_result"
    }
   ],
   "source": [
    "function fun(A) \n",
    "    s,n,m = size(A.data)\n",
    "    sum = A[1,1]-A[1,1]\n",
    "    for i in 1:n, j in 1:m \n",
    "       sum += A[i,j]\n",
    "    end\n",
    "    return sum\n",
    "end"
   ]
  },
  {
   "cell_type": "code",
   "execution_count": 14,
   "metadata": {},
   "outputs": [
    {
     "data": {
      "text/plain": [
       "1×2 Matrix{DataType}:\n",
       " Vec{8, Float64}  Vec{8, Float64}"
      ]
     },
     "execution_count": 14,
     "metadata": {},
     "output_type": "execute_result"
    }
   ],
   "source": [
    "[typeof(A[1,1]) typeof(B[1,1])]"
   ]
  },
  {
   "cell_type": "code",
   "execution_count": 15,
   "metadata": {
    "scrolled": true
   },
   "outputs": [
    {
     "name": "stdout",
     "output_type": "stream",
     "text": [
      "  15.154 ns (1 allocation: 80 bytes)\n"
     ]
    },
    {
     "data": {
      "text/plain": [
       "<8 x Float64>[3.3590603201436062, 3.372069385278186, 3.2232888648694242, 2.8618657841554764, 3.040518791585696, 2.896158909716673, 2.198763353368813, 3.5322050434470227]"
      ]
     },
     "execution_count": 15,
     "metadata": {},
     "output_type": "execute_result"
    }
   ],
   "source": [
    "@btime fun(A)"
   ]
  },
  {
   "cell_type": "code",
   "execution_count": 16,
   "metadata": {},
   "outputs": [
    {
     "name": "stdout",
     "output_type": "stream",
     "text": [
      "  15.352 ns (1 allocation: 80 bytes)\n"
     ]
    },
    {
     "data": {
      "text/plain": [
       "<8 x Float64>[3.3590603201436062, 3.372069385278186, 3.2232888648694242, 2.8618657841554764, 3.040518791585696, 2.896158909716673, 2.198763353368813, 3.5322050434470227]"
      ]
     },
     "execution_count": 16,
     "metadata": {},
     "output_type": "execute_result"
    }
   ],
   "source": [
    "@btime fun(B)"
   ]
  },
  {
   "cell_type": "code",
   "execution_count": 17,
   "metadata": {},
   "outputs": [
    {
     "data": {
      "text/plain": [
       "gradV! (generic function with 1 method)"
      ]
     },
     "execution_count": 17,
     "metadata": {},
     "output_type": "execute_result"
    }
   ],
   "source": [
    "function gradV!(grad,q)\n",
    "#   C = μ * J_2 * R_e^2   \n",
    "    C = 1.7554962315534863e10\n",
    "    x = q[1]\n",
    "    y = q[2]\n",
    "    z = q[3]\n",
    "    r2 = x^2 + y^2 + z^2\n",
    "    r = sqrt(r2)\n",
    "    sinth = z/r\n",
    "    aux1 = 1.5*C/(r*r2^2)\n",
    "    aux2 = 5*sinth^2\n",
    "    aux3 = aux1*(1 - aux2)\n",
    "    grad[1] = aux3*x\n",
    "    grad[2] = aux3*y\n",
    "    grad[3] = aux1*(3-aux2)*z\n",
    "    return nothing\n",
    "end"
   ]
  },
  {
   "cell_type": "code",
   "execution_count": 19,
   "metadata": {},
   "outputs": [
    {
     "data": {
      "text/plain": [
       "8×3 Matrix{Float64}:\n",
       " 0.983616   0.0419706  0.976576\n",
       " 0.317658   0.0120232  0.218842\n",
       " 0.29962    0.049933   0.45751\n",
       " 0.343784   0.0798339  0.313662\n",
       " 0.85731    0.627417   0.906152\n",
       " 0.557629   0.30495    0.716873\n",
       " 0.51139    0.769482   0.479045\n",
       " 0.0419295  0.91724    0.345226"
      ]
     },
     "execution_count": 19,
     "metadata": {},
     "output_type": "execute_result"
    }
   ],
   "source": [
    "s = 8\n",
    "qq = rand(s,3)"
   ]
  },
  {
   "cell_type": "code",
   "execution_count": 20,
   "metadata": {},
   "outputs": [
    {
     "name": "stdout",
     "output_type": "stream",
     "text": [
      "  21.607 ns (0 allocations: 0 bytes)\n",
      "  11.185 ns (0 allocations: 0 bytes)\n"
     ]
    },
    {
     "data": {
      "text/plain": [
       "0.0"
      ]
     },
     "execution_count": 20,
     "metadata": {},
     "output_type": "execute_result"
    }
   ],
   "source": [
    "Q = VecArray{s,Float64,2}(qq)\n",
    "Grad=deepcopy(Q)\n",
    "\n",
    "@btime gradV!(Grad,Q)\n",
    "\n",
    "q = qq[1,:]\n",
    "grad = similar(q)\n",
    "\n",
    "\n",
    "@btime gradV!(grad,q)\n",
    "\n",
    "dif = Float64[]\n",
    "for i in 1:8\n",
    "    gradV!(grad,qq[i,:])\n",
    "    push!(dif, norm(grad-Grad.data[i,:])) \n",
    "end\n",
    "norm(dif)"
   ]
  },
  {
   "cell_type": "markdown",
   "metadata": {},
   "source": [
    "## Lau dimentsio"
   ]
  },
  {
   "cell_type": "code",
   "execution_count": 95,
   "metadata": {},
   "outputs": [],
   "source": [
    "N=5\n",
    "uu = rand(8,3,N,2)\n",
    "dims=size(uu)\n",
    "U=VecArray{s,Float64,length(dims)}(uu);"
   ]
  },
  {
   "cell_type": "code",
   "execution_count": 103,
   "metadata": {},
   "outputs": [
    {
     "ename": "LoadError",
     "evalue": "BoundsError: attempt to access 8×3×5×2 Array{Float64, 4} at index [1, 1, 1]",
     "output_type": "error",
     "traceback": [
      "BoundsError: attempt to access 8×3×5×2 Array{Float64, 4} at index [1, 1, 1]",
      "",
      "Stacktrace:",
      " [1] getindex",
      "   @ ./array.jl:806 [inlined]",
      " [2] #2",
      "   @ ./none:0 [inlined]",
      " [3] iterate",
      "   @ ./generator.jl:47 [inlined]",
      " [4] _totuple",
      "   @ ./tuple.jl:314 [inlined]",
      " [5] Tuple",
      "   @ ./tuple.jl:303 [inlined]",
      " [6] getindex(::VecArray{8, Float64, 4}, ::Int64, ::Int64)",
      "   @ Main ./In[1]:19",
      " [7] top-level scope",
      "   @ In[103]:1",
      " [8] eval",
      "   @ ./boot.jl:360 [inlined]",
      " [9] include_string(mapexpr::typeof(REPL.softscope), mod::Module, code::String, filename::String)",
      "   @ Base ./loading.jl:1116"
     ]
    }
   ],
   "source": [
    "U[1,1]"
   ]
  },
  {
   "cell_type": "code",
   "execution_count": 77,
   "metadata": {},
   "outputs": [
    {
     "data": {
      "text/plain": [
       "<8 x Float64>[0.8150610943079559, 0.4805043366994808, 0.9159225515207421, 0.5142136863833113, 0.8248231980723539, 0.511860523726239, 0.17410557824112138, 0.4237059106610097]"
      ]
     },
     "execution_count": 77,
     "metadata": {},
     "output_type": "execute_result"
    }
   ],
   "source": [
    "U[1,5,1]"
   ]
  },
  {
   "cell_type": "code",
   "execution_count": 104,
   "metadata": {},
   "outputs": [
    {
     "data": {
      "text/plain": [
       "<8 x Float64>[0.39530276064717795, 0.5326073305309753, 0.3647149358944164, 0.3170527354047459, 0.15099248916842867, 0.612640071381412, 0.773275237369043, 0.1839270626065388]"
      ]
     },
     "execution_count": 104,
     "metadata": {},
     "output_type": "execute_result"
    }
   ],
   "source": [
    "UU = Vec8Array(uu);\n",
    "UU[1,1]"
   ]
  },
  {
   "cell_type": "code",
   "execution_count": null,
   "metadata": {},
   "outputs": [],
   "source": [
    " for k in indices\n",
    "                  Fk = getindex_(F, k)\n",
    "                  Lk = hb*F[k]\n",
    "                  setindex_!(L, Lk, k)\n",
    "              end"
   ]
  },
  {
   "cell_type": "markdown",
   "metadata": {},
   "source": [
    "## Bost dimentsio"
   ]
  },
  {
   "cell_type": "code",
   "execution_count": 22,
   "metadata": {},
   "outputs": [
    {
     "data": {
      "text/plain": [
       "<8 x Float64>[0.0020521992968758128, 0.06961917035328641, 0.40807632151070444, 0.4706664004748219, 0.04318255669163672, 0.5296435438196456, 0.3258120859529977, 0.5141035807955018]"
      ]
     },
     "execution_count": 22,
     "metadata": {},
     "output_type": "execute_result"
    }
   ],
   "source": [
    "aa=rand(8,5,4,5,6)\n",
    "#a = VecArray(rand(8,5,4,5,6))\n",
    "a=VecArray{s,Float64,5}(aa)\n",
    "a[1,2,3,1]*a[2,3,4,1]"
   ]
  },
  {
   "cell_type": "code",
   "execution_count": 23,
   "metadata": {},
   "outputs": [
    {
     "data": {
      "text/plain": [
       "<8 x Float64>[0.0020521992968758128, 0.06961917035328641, 0.40807632151070444, 0.4706664004748219, 0.04318255669163672, 0.5296435438196456, 0.3258120859529977, 0.5141035807955018]"
      ]
     },
     "execution_count": 23,
     "metadata": {},
     "output_type": "execute_result"
    }
   ],
   "source": [
    "a[1,3,4,1] = a[1,2,3,1]*a[2,3,4,1]"
   ]
  },
  {
   "cell_type": "code",
   "execution_count": 24,
   "metadata": {},
   "outputs": [
    {
     "data": {
      "text/plain": [
       "<8 x Float64>[0.0020521992968758128, 0.06961917035328641, 0.40807632151070444, 0.4706664004748219, 0.04318255669163672, 0.5296435438196456, 0.3258120859529977, 0.5141035807955018]"
      ]
     },
     "execution_count": 24,
     "metadata": {},
     "output_type": "execute_result"
    }
   ],
   "source": [
    "a[1,3,4,1] "
   ]
  },
  {
   "cell_type": "code",
   "execution_count": 25,
   "metadata": {},
   "outputs": [
    {
     "data": {
      "text/plain": [
       "NbodyODE! (generic function with 1 method)"
      ]
     },
     "execution_count": 25,
     "metadata": {},
     "output_type": "execute_result"
    }
   ],
   "source": [
    "function NbodyODE!(du,u,Gm,t)\n",
    "     N = length(Gm)\n",
    "     for k in 1:3\n",
    "        for i in 1:N\n",
    "            du[k,i,1] = 0\n",
    "        end\n",
    "     end\n",
    "     @inbounds for i in 1:N\n",
    "        xi = u[1,i,1]\n",
    "        yi = u[2,i,1]\n",
    "        zi = u[3,i,1]\n",
    "        Gmi = Gm[i] \n",
    "        for j in i+1:N\n",
    "            xij = xi - u[1,j,1]\n",
    "            yij = yi - u[2,j,1]\n",
    "            zij = zi - u[3,j,1] \n",
    "            Gmj = Gm[j] \n",
    "            dotij = (xij*xij+yij*yij+zij*zij)\n",
    "            auxij = 1/(sqrt(dotij)*dotij) \n",
    "            Gmjauxij = Gmj*auxij\n",
    "            du[1,i,2] -= Gmjauxij*xij\n",
    "            du[2,i,2] -= Gmjauxij*yij\n",
    "            du[3,i,2] -= Gmjauxij*zij  \n",
    "            Gmiauxij = Gmi*auxij\n",
    "            du[1,j,2] += Gmiauxij*xij\n",
    "            du[2,j,2] += Gmiauxij*yij\n",
    "            du[3,j,2] += Gmiauxij*zij\n",
    "        end\n",
    "     end \n",
    "     @inbounds for i in 1:3, j in 1:N\n",
    "        du[i,j,1] = u[i,j,2]\n",
    "     end\n",
    "    return nothing\n",
    "end\n"
   ]
  },
  {
   "cell_type": "code",
   "execution_count": 26,
   "metadata": {},
   "outputs": [
    {
     "name": "stdout",
     "output_type": "stream",
     "text": [
      "  466.908 ns (0 allocations: 0 bytes)\n",
      "  1.986 μs (0 allocations: 0 bytes)\n"
     ]
    }
   ],
   "source": [
    "N = 16\n",
    "s = 8\n",
    "W = rand(s,3,N,2)\n",
    "\n",
    "Gm = rand(N)\n",
    "\n",
    "ddW = similar(W)\n",
    "\n",
    "\n",
    "#Q = Vec8Array(W)\n",
    "Q=VecArray{s,Float64,4}(W)\n",
    "#ddQ = Vec8Array(ddW)\n",
    "ddQ=VecArray{s,Float64,4}(ddW)\n",
    "\n",
    "q = W[1,:,:,:]\n",
    "ddq = ddW[1,:,:,:]\n",
    "\n",
    "@btime NbodyODE!(ddq, q, Gm, 0.)\n",
    "\n",
    "@btime NbodyODE!(ddQ, Q, Gm, 0.)\n",
    "\n"
   ]
  },
  {
   "cell_type": "markdown",
   "metadata": {},
   "source": [
    "# IRK16_VecArray.jl argibideak"
   ]
  },
  {
   "cell_type": "code",
   "execution_count": 21,
   "metadata": {},
   "outputs": [],
   "source": [
    "(hb_, hc_, mu_, nu_) = IRK16Coefficients(1.)\n",
    "hc = vload(Vec{s,Float64}, hc_, 1)\n",
    "nu=VecArray{s,Float64,2}(nu_);"
   ]
  },
  {
   "cell_type": "code",
   "execution_count": 22,
   "metadata": {},
   "outputs": [
    {
     "data": {
      "text/plain": [
       "((3,), 3)"
      ]
     },
     "execution_count": 22,
     "metadata": {},
     "output_type": "execute_result"
    }
   ],
   "source": [
    "u0=[1, 2, 3]\n",
    "(size(u0), length(u0))"
   ]
  },
  {
   "cell_type": "code",
   "execution_count": 23,
   "metadata": {},
   "outputs": [],
   "source": [
    "dims=size(u0)\n",
    "U = Vec8Array(zeros(Float64, s, dims...))\n",
    "a=zeros(Float64, s, dims...)\n",
    "U2= Vec8Array(a);"
   ]
  },
  {
   "cell_type": "code",
   "execution_count": 24,
   "metadata": {},
   "outputs": [
    {
     "data": {
      "text/plain": [
       "1×2 Matrix{DataType}:\n",
       " Vec8Array{Float64, 2}  Vec8Array{Float64, 2}"
      ]
     },
     "execution_count": 24,
     "metadata": {},
     "output_type": "execute_result"
    }
   ],
   "source": [
    "[typeof(U) typeof(U2)]"
   ]
  },
  {
   "cell_type": "code",
   "execution_count": 25,
   "metadata": {},
   "outputs": [
    {
     "ename": "LoadError",
     "evalue": "MethodError: no method matching VecArray(::Matrix{Float64})",
     "output_type": "error",
     "traceback": [
      "MethodError: no method matching VecArray(::Matrix{Float64})",
      "",
      "Stacktrace:",
      " [1] top-level scope",
      "   @ In[25]:2",
      " [2] eval",
      "   @ ./boot.jl:360 [inlined]",
      " [3] include_string(mapexpr::typeof(REPL.softscope), mod::Module, code::String, filename::String)",
      "   @ Base ./loading.jl:1116"
     ]
    }
   ],
   "source": [
    "dims=size(u0)\n",
    "V = VecArray(zeros(Float64, s, dims...))"
   ]
  },
  {
   "cell_type": "code",
   "execution_count": 26,
   "metadata": {},
   "outputs": [
    {
     "ename": "LoadError",
     "evalue": "MethodError: no method matching VecArray(::Matrix{Float64})",
     "output_type": "error",
     "traceback": [
      "MethodError: no method matching VecArray(::Matrix{Float64})",
      "",
      "Stacktrace:",
      " [1] top-level scope",
      "   @ In[26]:2",
      " [2] eval",
      "   @ ./boot.jl:360 [inlined]",
      " [3] include_string(mapexpr::typeof(REPL.softscope), mod::Module, code::String, filename::String)",
      "   @ Base ./loading.jl:1116"
     ]
    }
   ],
   "source": [
    "a=zeros(Float64, s, dims...)\n",
    "V2= VecArray(a)"
   ]
  },
  {
   "cell_type": "code",
   "execution_count": 27,
   "metadata": {},
   "outputs": [
    {
     "data": {
      "text/plain": [
       "((2, 2), 4)"
      ]
     },
     "execution_count": 27,
     "metadata": {},
     "output_type": "execute_result"
    }
   ],
   "source": [
    "u0=zeros(2,2)\n",
    "(size(u0), length(u0))"
   ]
  },
  {
   "cell_type": "code",
   "execution_count": 28,
   "metadata": {},
   "outputs": [
    {
     "data": {
      "text/html": [
       "# 225 methods for generic function <b>getindex</b>:<ul><li> getindex(r::<b>Union{LinRange, StepRangeLen}</b>, i::<b>Integer</b>) in Base at <a href=\"https://github.com/JuliaLang/julia/tree/b8708f954a3814dc56043c64e271d34beb9f79e7/base/range.jl#L716\" target=\"_blank\">range.jl:716</a></li> <li> getindex(v::<b>Union{Adjoint{T, var\"#s814\"}, Transpose{T, var\"#s814\"}} where {T, var\"#s814\"<:(AbstractVector{T} where T)}</b>, i::<b>Int64</b>) in LinearAlgebra at <a href=\"file:///buildworker/worker/package_linux64/build/usr/share/julia/stdlib/v1.6/LinearAlgebra/src/adjtrans.jl\" target=\"_blank\">/home/mikel/Mahaigaina/Softwarea-instalazioak/Julia/julia-1.6.6-linux-x86_64/julia-1.6.6/share/julia/stdlib/v1.6/LinearAlgebra/src/adjtrans.jl:202</a></li> <li> getindex(A::<b>Union{Adjoint{T, var\"#s814\"}, Transpose{T, var\"#s814\"}} where {T, var\"#s814\"<:(AbstractMatrix{T} where T)}</b>, i::<b>Int64</b>, j::<b>Int64</b>) in LinearAlgebra at <a href=\"file:///buildworker/worker/package_linux64/build/usr/share/julia/stdlib/v1.6/LinearAlgebra/src/adjtrans.jl\" target=\"_blank\">/home/mikel/Mahaigaina/Softwarea-instalazioak/Julia/julia-1.6.6-linux-x86_64/julia-1.6.6/share/julia/stdlib/v1.6/LinearAlgebra/src/adjtrans.jl:203</a></li> <li> getindex(v::<b>Union{Adjoint{T, var\"#s814\"}, Transpose{T, var\"#s814\"}} where {T, var\"#s814\"<:(AbstractVector{T} where T)}</b>, ::<b>Colon</b>, is::<b>AbstractArray{Int64, N} where N</b>) in LinearAlgebra at <a href=\"file:///buildworker/worker/package_linux64/build/usr/share/julia/stdlib/v1.6/LinearAlgebra/src/adjtrans.jl\" target=\"_blank\">/home/mikel/Mahaigaina/Softwarea-instalazioak/Julia/julia-1.6.6-linux-x86_64/julia-1.6.6/share/julia/stdlib/v1.6/LinearAlgebra/src/adjtrans.jl:207</a></li> <li> getindex(v::<b>Union{Adjoint{T, var\"#s814\"}, Transpose{T, var\"#s814\"}} where {T, var\"#s814\"<:(AbstractVector{T} where T)}</b>, ::<b>Colon</b>, ::<b>Colon</b>) in LinearAlgebra at <a href=\"file:///buildworker/worker/package_linux64/build/usr/share/julia/stdlib/v1.6/LinearAlgebra/src/adjtrans.jl\" target=\"_blank\">/home/mikel/Mahaigaina/Softwarea-instalazioak/Julia/julia-1.6.6-linux-x86_64/julia-1.6.6/share/julia/stdlib/v1.6/LinearAlgebra/src/adjtrans.jl:208</a></li> <li> getindex(a::<b>Union{DenseVector{T}, Base.ReinterpretArray{T, 1, T2, A, IsReshaped} where {T2, A<:Union{DenseVector{T2}, SubArray{T2, 1, P, I, true} where {P, I<:Union{Tuple{Vararg{Real, N} where N}, Tuple{AbstractUnitRange, Vararg{Any, N} where N}}}}, IsReshaped}, SubArray{T, 1, P, I, true} where {P, I<:Union{Tuple{Vararg{Real, N} where N}, Tuple{AbstractUnitRange, Vararg{Any, N} where N}}}}</b>, idx::<b>Vec{N, Int64}</b>)<i> where {N, T}</i> in SIMD at <a href=\"file:///home/mikel/.julia/packages/SIMD/myoU9/src/arrayops.jl\" target=\"_blank\">/home/mikel/.julia/packages/SIMD/myoU9/src/arrayops.jl:171</a></li> <li> getindex(r::<b>Distributed.RemoteChannel</b>) in Distributed at <a href=\"file:///buildworker/worker/package_linux64/build/usr/share/julia/stdlib/v1.6/Distributed/src/remotecall.jl\" target=\"_blank\">/home/mikel/Mahaigaina/Softwarea-instalazioak/Julia/julia-1.6.6-linux-x86_64/julia-1.6.6/share/julia/stdlib/v1.6/Distributed/src/remotecall.jl:639</a></li> <li> getindex(r::<b>Distributed.RemoteChannel</b>, args...) in Distributed at <a href=\"file:///buildworker/worker/package_linux64/build/usr/share/julia/stdlib/v1.6/Distributed/src/remotecall.jl\" target=\"_blank\">/home/mikel/Mahaigaina/Softwarea-instalazioak/Julia/julia-1.6.6-linux-x86_64/julia-1.6.6/share/julia/stdlib/v1.6/Distributed/src/remotecall.jl:643</a></li> <li> getindex(a::<b>Random.UnsafeView</b>, i::<b>Int64</b>) in Random at <a href=\"file:///buildworker/worker/package_linux64/build/usr/share/julia/stdlib/v1.6/Random/src/RNGs.jl\" target=\"_blank\">/home/mikel/Mahaigaina/Softwarea-instalazioak/Julia/julia-1.6.6-linux-x86_64/julia-1.6.6/share/julia/stdlib/v1.6/Random/src/RNGs.jl:508</a></li> <li> getindex(sp::<b>Random.SamplerTrivial</b>) in Random at <a href=\"file:///buildworker/worker/package_linux64/build/usr/share/julia/stdlib/v1.6/Random/src/Random.jl\" target=\"_blank\">/home/mikel/Mahaigaina/Softwarea-instalazioak/Julia/julia-1.6.6-linux-x86_64/julia-1.6.6/share/julia/stdlib/v1.6/Random/src/Random.jl:183</a></li> <li> getindex(A::<b>PermutedDimsArray{T, N, perm, iperm, AA} where AA<:AbstractArray</b>, I::<b>Vararg{Int64, N}</b>)<i> where {T, N, perm, iperm}</i> in Base.PermutedDimsArrays at <a href=\"https://github.com/JuliaLang/julia/tree/b8708f954a3814dc56043c64e271d34beb9f79e7/base/permuteddimsarray.jl#L69\" target=\"_blank\">permuteddimsarray.jl:69</a></li> <li> getindex(r::<b>LinRange{T}</b>, s::<b>OrdinalRange{var\"#s77\", S} where {var\"#s77\"<:Integer, S}</b>)<i> where T</i> in Base at <a href=\"https://github.com/JuliaLang/julia/tree/b8708f954a3814dc56043c64e271d34beb9f79e7/base/range.jl#L783\" target=\"_blank\">range.jl:783</a></li> <li> getindex(d::<b>IdDict{K, V}</b>, key)<i> where {K, V}</i> in Base at <a href=\"https://github.com/JuliaLang/julia/tree/b8708f954a3814dc56043c64e271d34beb9f79e7/base/iddict.jl#L91\" target=\"_blank\">iddict.jl:91</a></li> <li> getindex(t::<b>Tuple</b>, i::<b>Int64</b>) in Base at <a href=\"https://github.com/JuliaLang/julia/tree/b8708f954a3814dc56043c64e271d34beb9f79e7/base/tuple.jl#L29\" target=\"_blank\">tuple.jl:29</a></li> <li> getindex(t::<b>Tuple</b>, i::<b>Real</b>) in Base at <a href=\"https://github.com/JuliaLang/julia/tree/b8708f954a3814dc56043c64e271d34beb9f79e7/base/tuple.jl#L30\" target=\"_blank\">tuple.jl:30</a></li> <li> getindex(t::<b>Tuple</b>, c::<b>Colon</b>) in Base at <a href=\"https://github.com/JuliaLang/julia/tree/b8708f954a3814dc56043c64e271d34beb9f79e7/base/tuple.jl#L33\" target=\"_blank\">tuple.jl:33</a></li> <li> getindex(t::<b>Tuple</b>, r::<b>UnitRange</b>) in Base at <a href=\"https://github.com/JuliaLang/julia/tree/b8708f954a3814dc56043c64e271d34beb9f79e7/base/range.jl#L302\" target=\"_blank\">range.jl:302</a></li> <li> getindex(t::<b>Tuple</b>, b::<b>AbstractVector{Bool}</b>) in Base at <a href=\"https://github.com/JuliaLang/julia/tree/b8708f954a3814dc56043c64e271d34beb9f79e7/base/tuple.jl#L32\" target=\"_blank\">tuple.jl:32</a></li> <li> getindex(t::<b>Tuple</b>, r::<b>AbstractVector{var\"#s77\"} where var\"#s77\"</b>) in Base at <a href=\"https://github.com/JuliaLang/julia/tree/b8708f954a3814dc56043c64e271d34beb9f79e7/base/tuple.jl#L31\" target=\"_blank\">tuple.jl:31</a></li> <li> getindex(t::<b>Tuple</b>, i::<b>CartesianIndex{1}</b>) in Base at <a href=\"https://github.com/JuliaLang/julia/tree/b8708f954a3814dc56043c64e271d34beb9f79e7/base/multidimensional.jl#L831\" target=\"_blank\">multidimensional.jl:831</a></li> <li> getindex(A::<b>SuiteSparse.CHOLMOD.Dense</b>, i::<b>Integer</b>) in SuiteSparse.CHOLMOD at <a href=\"file:///buildworker/worker/package_linux64/build/usr/share/julia/stdlib/v1.6/SuiteSparse/src/cholmod.jl\" target=\"_blank\">/home/mikel/Mahaigaina/Softwarea-instalazioak/Julia/julia-1.6.6-linux-x86_64/julia-1.6.6/share/julia/stdlib/v1.6/SuiteSparse/src/cholmod.jl:1185</a></li> <li> getindex(D::<b>Diagonal</b>, i::<b>Int64</b>, j::<b>Int64</b>) in LinearAlgebra at <a href=\"file:///buildworker/worker/package_linux64/build/usr/share/julia/stdlib/v1.6/LinearAlgebra/src/diagonal.jl\" target=\"_blank\">/home/mikel/Mahaigaina/Softwarea-instalazioak/Julia/julia-1.6.6-linux-x86_64/julia-1.6.6/share/julia/stdlib/v1.6/LinearAlgebra/src/diagonal.jl:84</a></li> <li> getindex(wkh::<b>WeakKeyDict{K, V} where V</b>, key)<i> where K</i> in Base at <a href=\"https://github.com/JuliaLang/julia/tree/b8708f954a3814dc56043c64e271d34beb9f79e7/base/weakkeydict.jl#L183\" target=\"_blank\">weakkeydict.jl:183</a></li> <li> getindex(A::<b>Base.ReshapedArray{T, N, P, MI} where {P<:AbstractArray, MI<:Tuple{Vararg{Base.MultiplicativeInverses.SignedMultiplicativeInverse{Int64}, N} where N}}</b>, indices::<b>Vararg{Int64, N}</b>)<i> where {T, N}</i> in Base at <a href=\"https://github.com/JuliaLang/julia/tree/b8708f954a3814dc56043c64e271d34beb9f79e7/base/reshapedarray.jl#L232\" target=\"_blank\">reshapedarray.jl:232</a></li> <li> getindex(A::<b>Base.ReshapedArray{T, N, P, Tuple{}} where {T, N, P<:AbstractArray}</b>, index::<b>Int64</b>) in Base at <a href=\"https://github.com/JuliaLang/julia/tree/b8708f954a3814dc56043c64e271d34beb9f79e7/base/reshapedarray.jl#L227\" target=\"_blank\">reshapedarray.jl:227</a></li> <li> getindex(A::<b>Base.ReshapedArray</b>, index::<b>Base.ReshapedIndex</b>) in Base at <a href=\"https://github.com/JuliaLang/julia/tree/b8708f954a3814dc56043c64e271d34beb9f79e7/base/reshapedarray.jl#L236\" target=\"_blank\">reshapedarray.jl:236</a></li> <li> getindex(iter::<b>CartesianIndices{N, R}</b>, I::<b>Vararg{Int64, N}</b>)<i> where {N, R}</i> in Base.IteratorsMD at <a href=\"https://github.com/JuliaLang/julia/tree/b8708f954a3814dc56043c64e271d34beb9f79e7/base/multidimensional.jl#L352\" target=\"_blank\">multidimensional.jl:352</a></li> <li> getindex(A::<b>SparseArrays.AbstractSparseMatrixCSC{Tv, Ti} where Ti<:Integer</b>, I::<b>AbstractUnitRange</b>)<i> where Tv</i> in SparseArrays at <a href=\"file:///buildworker/worker/package_linux64/build/usr/share/julia/stdlib/v1.6/SparseArrays/src/sparsevector.jl\" target=\"_blank\">/home/mikel/Mahaigaina/Softwarea-instalazioak/Julia/julia-1.6.6-linux-x86_64/julia-1.6.6/share/julia/stdlib/v1.6/SparseArrays/src/sparsevector.jl:645</a></li> <li> getindex(x::<b>SparseArrays.AbstractSparseMatrixCSC</b>, I::<b>AbstractUnitRange</b>, j::<b>Integer</b>) in SparseArrays at <a href=\"file:///buildworker/worker/package_linux64/build/usr/share/julia/stdlib/v1.6/SparseArrays/src/sparsevector.jl\" target=\"_blank\">/home/mikel/Mahaigaina/Softwarea-instalazioak/Julia/julia-1.6.6-linux-x86_64/julia-1.6.6/share/julia/stdlib/v1.6/SparseArrays/src/sparsevector.jl:550</a></li> <li> getindex(x::<b>SparseArrays.AbstractSparseVector{Tv, Ti}</b>, I::<b>AbstractUnitRange</b>)<i> where {Tv, Ti}</i> in SparseArrays at <a href=\"file:///buildworker/worker/package_linux64/build/usr/share/julia/stdlib/v1.6/SparseArrays/src/sparsevector.jl\" target=\"_blank\">/home/mikel/Mahaigaina/Softwarea-instalazioak/Julia/julia-1.6.6-linux-x86_64/julia-1.6.6/share/julia/stdlib/v1.6/SparseArrays/src/sparsevector.jl:822</a></li> <li> getindex(A::<b>SparseArrays.AbstractSparseMatrixCSC{var\"#s814\", var\"#s813\"} where {var\"#s814\", var\"#s813\"<:Integer}</b>, I::<b>AbstractRange{Bool}</b>, J::<b>AbstractVector{Bool}</b>) in SparseArrays at <a href=\"file:///buildworker/worker/package_linux64/build/usr/share/julia/stdlib/v1.6/SparseArrays/src/sparsematrix.jl\" target=\"_blank\">/home/mikel/Mahaigaina/Softwarea-instalazioak/Julia/julia-1.6.6-linux-x86_64/julia-1.6.6/share/julia/stdlib/v1.6/SparseArrays/src/sparsematrix.jl:2561</a></li> <li> getindex(A::<b>SparseArrays.AbstractSparseMatrixCSC</b>, I::<b>AbstractRange{var\"#s814\"} where var\"#s814\"<:Integer</b>, J::<b>AbstractVector{Bool}</b>) in SparseArrays at <a href=\"file:///buildworker/worker/package_linux64/build/usr/share/julia/stdlib/v1.6/SparseArrays/src/sparsematrix.jl\" target=\"_blank\">/home/mikel/Mahaigaina/Softwarea-instalazioak/Julia/julia-1.6.6-linux-x86_64/julia-1.6.6/share/julia/stdlib/v1.6/SparseArrays/src/sparsematrix.jl:2564</a></li> <li> getindex(A::<b>SparseArrays.AbstractSparseMatrixCSC{var\"#s814\", var\"#s813\"} where {var\"#s814\", var\"#s813\"<:Integer}</b>, I::<b>AbstractRange{Bool}</b>, J::<b>AbstractVector{var\"#s812\"} where var\"#s812\"<:Integer</b>) in SparseArrays at <a href=\"file:///buildworker/worker/package_linux64/build/usr/share/julia/stdlib/v1.6/SparseArrays/src/sparsematrix.jl\" target=\"_blank\">/home/mikel/Mahaigaina/Softwarea-instalazioak/Julia/julia-1.6.6-linux-x86_64/julia-1.6.6/share/julia/stdlib/v1.6/SparseArrays/src/sparsematrix.jl:2562</a></li> <li> getindex(A::<b>SparseArrays.AbstractSparseMatrixCSC{Tv, Ti}</b>, I::<b>AbstractRange</b>, J::<b>AbstractVector{T} where T</b>)<i> where {Tv, Ti<:Integer}</i> in SparseArrays at <a href=\"file:///buildworker/worker/package_linux64/build/usr/share/julia/stdlib/v1.6/SparseArrays/src/sparsematrix.jl\" target=\"_blank\">/home/mikel/Mahaigaina/Softwarea-instalazioak/Julia/julia-1.6.6-linux-x86_64/julia-1.6.6/share/julia/stdlib/v1.6/SparseArrays/src/sparsematrix.jl:2179</a></li> <li> getindex(A::<b>SparseArrays.AbstractSparseMatrixCSC</b>, I::<b>AbstractVector{Bool}</b>) in SparseArrays at <a href=\"file:///buildworker/worker/package_linux64/build/usr/share/julia/stdlib/v1.6/SparseArrays/src/sparsevector.jl\" target=\"_blank\">/home/mikel/Mahaigaina/Softwarea-instalazioak/Julia/julia-1.6.6-linux-x86_64/julia-1.6.6/share/julia/stdlib/v1.6/SparseArrays/src/sparsevector.jl:601</a></li> <li> getindex(A::<b>SparseArrays.AbstractSparseMatrixCSC</b>, I::<b>AbstractVector{Bool}</b>, J::<b>Integer</b>) in SparseArrays at <a href=\"file:///buildworker/worker/package_linux64/build/usr/share/julia/stdlib/v1.6/SparseArrays/src/sparsematrix.jl\" target=\"_blank\">/home/mikel/Mahaigaina/Softwarea-instalazioak/Julia/julia-1.6.6-linux-x86_64/julia-1.6.6/share/julia/stdlib/v1.6/SparseArrays/src/sparsematrix.jl:2566</a></li> <li> getindex(A::<b>SparseArrays.AbstractSparseMatrixCSC</b>, I::<b>AbstractVector{Bool}</b>, J::<b>AbstractVector{Bool}</b>) in SparseArrays at <a href=\"file:///buildworker/worker/package_linux64/build/usr/share/julia/stdlib/v1.6/SparseArrays/src/sparsematrix.jl\" target=\"_blank\">/home/mikel/Mahaigaina/Softwarea-instalazioak/Julia/julia-1.6.6-linux-x86_64/julia-1.6.6/share/julia/stdlib/v1.6/SparseArrays/src/sparsematrix.jl:2567</a></li> <li> getindex(A::<b>SparseArrays.AbstractSparseMatrixCSC</b>, I::<b>AbstractVector{var\"#s814\"} where var\"#s814\"<:Integer</b>, J::<b>AbstractVector{Bool}</b>) in SparseArrays at <a href=\"file:///buildworker/worker/package_linux64/build/usr/share/julia/stdlib/v1.6/SparseArrays/src/sparsematrix.jl\" target=\"_blank\">/home/mikel/Mahaigaina/Softwarea-instalazioak/Julia/julia-1.6.6-linux-x86_64/julia-1.6.6/share/julia/stdlib/v1.6/SparseArrays/src/sparsematrix.jl:2568</a></li> <li> getindex(A::<b>SparseArrays.AbstractSparseMatrixCSC</b>, I::<b>AbstractVector{Bool}</b>, J::<b>AbstractVector{var\"#s814\"} where var\"#s814\"<:Integer</b>) in SparseArrays at <a href=\"file:///buildworker/worker/package_linux64/build/usr/share/julia/stdlib/v1.6/SparseArrays/src/sparsematrix.jl\" target=\"_blank\">/home/mikel/Mahaigaina/Softwarea-instalazioak/Julia/julia-1.6.6-linux-x86_64/julia-1.6.6/share/julia/stdlib/v1.6/SparseArrays/src/sparsematrix.jl:2569</a></li> <li> getindex(x::<b>SparseArrays.AbstractSparseVector{Tv, Ti} where {Tv, Ti}</b>, I::<b>AbstractVector{Bool}</b>) in SparseArrays at <a href=\"file:///buildworker/worker/package_linux64/build/usr/share/julia/stdlib/v1.6/SparseArrays/src/sparsevector.jl\" target=\"_blank\">/home/mikel/Mahaigaina/Softwarea-instalazioak/Julia/julia-1.6.6-linux-x86_64/julia-1.6.6/share/julia/stdlib/v1.6/SparseArrays/src/sparsevector.jl:853</a></li> <li> getindex(A::<b>SparseArrays.AbstractSparseMatrixCSC</b>, I::<b>AbstractVector{T} where T</b>, J::<b>Integer</b>) in SparseArrays at <a href=\"file:///buildworker/worker/package_linux64/build/usr/share/julia/stdlib/v1.6/SparseArrays/src/sparsevector.jl\" target=\"_blank\">/home/mikel/Mahaigaina/Softwarea-instalazioak/Julia/julia-1.6.6-linux-x86_64/julia-1.6.6/share/julia/stdlib/v1.6/SparseArrays/src/sparsevector.jl:562</a></li> <li> getindex(A::<b>SparseArrays.AbstractSparseMatrixCSC</b>, I::<b>AbstractArray{Bool, N} where N</b>) in SparseArrays at <a href=\"file:///buildworker/worker/package_linux64/build/usr/share/julia/stdlib/v1.6/SparseArrays/src/sparsevector.jl\" target=\"_blank\">/home/mikel/Mahaigaina/Softwarea-instalazioak/Julia/julia-1.6.6-linux-x86_64/julia-1.6.6/share/julia/stdlib/v1.6/SparseArrays/src/sparsevector.jl:602</a></li> <li> getindex(A::<b>SparseArrays.AbstractSparseMatrixCSC{Tv, Ti}</b>, I::<b>AbstractVector{T} where T</b>)<i> where {Tv, Ti}</i> in SparseArrays at <a href=\"file:///buildworker/worker/package_linux64/build/usr/share/julia/stdlib/v1.6/SparseArrays/src/sparsevector.jl\" target=\"_blank\">/home/mikel/Mahaigaina/Softwarea-instalazioak/Julia/julia-1.6.6-linux-x86_64/julia-1.6.6/share/julia/stdlib/v1.6/SparseArrays/src/sparsevector.jl:682</a></li> <li> getindex(A::<b>SparseArrays.AbstractSparseMatrixCSC{Tv, Ti}</b>, I::<b>AbstractVector{T} where T</b>, J::<b>AbstractVector{T} where T</b>)<i> where {Tv, Ti}</i> in SparseArrays at <a href=\"file:///buildworker/worker/package_linux64/build/usr/share/julia/stdlib/v1.6/SparseArrays/src/sparsematrix.jl\" target=\"_blank\">/home/mikel/Mahaigaina/Softwarea-instalazioak/Julia/julia-1.6.6-linux-x86_64/julia-1.6.6/share/julia/stdlib/v1.6/SparseArrays/src/sparsematrix.jl:2492</a></li> <li> getindex(x::<b>SparseArrays.AbstractSparseVector{Tv, Ti}</b>, I::<b>AbstractVector{T} where T</b>)<i> where {Tv, Ti}</i> in SparseArrays at <a href=\"file:///buildworker/worker/package_linux64/build/usr/share/julia/stdlib/v1.6/SparseArrays/src/sparsevector.jl\" target=\"_blank\">/home/mikel/Mahaigaina/Softwarea-instalazioak/Julia/julia-1.6.6-linux-x86_64/julia-1.6.6/share/julia/stdlib/v1.6/SparseArrays/src/sparsevector.jl:855</a></li> <li> getindex(x::<b>SparseArrays.AbstractSparseVector{Tv, Ti} where {Tv, Ti}</b>, I::<b>AbstractArray{Bool, N} where N</b>) in SparseArrays at <a href=\"file:///buildworker/worker/package_linux64/build/usr/share/julia/stdlib/v1.6/SparseArrays/src/sparsevector.jl\" target=\"_blank\">/home/mikel/Mahaigaina/Softwarea-instalazioak/Julia/julia-1.6.6-linux-x86_64/julia-1.6.6/share/julia/stdlib/v1.6/SparseArrays/src/sparsevector.jl:854</a></li> <li> getindex(A::<b>SparseArrays.AbstractSparseMatrixCSC{Tv, Ti}</b>, I::<b>AbstractArray</b>)<i> where {Tv, Ti}</i> in SparseArrays at <a href=\"file:///buildworker/worker/package_linux64/build/usr/share/julia/stdlib/v1.6/SparseArrays/src/sparsematrix.jl\" target=\"_blank\">/home/mikel/Mahaigaina/Softwarea-instalazioak/Julia/julia-1.6.6-linux-x86_64/julia-1.6.6/share/julia/stdlib/v1.6/SparseArrays/src/sparsematrix.jl:2517</a></li> <li> getindex(x::<b>SparseArrays.AbstractSparseVector{Tv, Ti}</b>, I::<b>AbstractArray</b>)<i> where {Tv, Ti}</i> in SparseArrays at <a href=\"file:///buildworker/worker/package_linux64/build/usr/share/julia/stdlib/v1.6/SparseArrays/src/sparsevector.jl\" target=\"_blank\">/home/mikel/Mahaigaina/Softwarea-instalazioak/Julia/julia-1.6.6-linux-x86_64/julia-1.6.6/share/julia/stdlib/v1.6/SparseArrays/src/sparsevector.jl:861</a></li> <li> getindex(A::<b>SparseArrays.AbstractSparseMatrixCSC</b>, I::<b>Integer</b>, J::<b>AbstractVector{Bool}</b>) in SparseArrays at <a href=\"file:///buildworker/worker/package_linux64/build/usr/share/julia/stdlib/v1.6/SparseArrays/src/sparsematrix.jl\" target=\"_blank\">/home/mikel/Mahaigaina/Softwarea-instalazioak/Julia/julia-1.6.6-linux-x86_64/julia-1.6.6/share/julia/stdlib/v1.6/SparseArrays/src/sparsematrix.jl:2565</a></li> <li> getindex(A::<b>SparseArrays.AbstractSparseMatrixCSC{T, Ti} where Ti<:Integer</b>, i0::<b>Integer</b>, i1::<b>Integer</b>)<i> where T</i> in SparseArrays at <a href=\"file:///buildworker/worker/package_linux64/build/usr/share/julia/stdlib/v1.6/SparseArrays/src/sparsematrix.jl\" target=\"_blank\">/home/mikel/Mahaigaina/Softwarea-instalazioak/Julia/julia-1.6.6-linux-x86_64/julia-1.6.6/share/julia/stdlib/v1.6/SparseArrays/src/sparsematrix.jl:2128</a></li> <li> getindex(A::<b>SparseArrays.AbstractSparseMatrixCSC</b>, i::<b>Integer</b>, ::<b>Colon</b>) in SparseArrays at <a href=\"file:///buildworker/worker/package_linux64/build/usr/share/julia/stdlib/v1.6/SparseArrays/src/sparsevector.jl\" target=\"_blank\">/home/mikel/Mahaigaina/Softwarea-instalazioak/Julia/julia-1.6.6-linux-x86_64/julia-1.6.6/share/julia/stdlib/v1.6/SparseArrays/src/sparsevector.jl:568</a></li> <li> getindex(A::<b>SparseArrays.AbstractSparseMatrixCSC{Tv, Ti}</b>, i::<b>Integer</b>, J::<b>AbstractVector{T} where T</b>)<i> where {Tv, Ti}</i> in SparseArrays at <a href=\"file:///buildworker/worker/package_linux64/build/usr/share/julia/stdlib/v1.6/SparseArrays/src/sparsevector.jl\" target=\"_blank\">/home/mikel/Mahaigaina/Softwarea-instalazioak/Julia/julia-1.6.6-linux-x86_64/julia-1.6.6/share/julia/stdlib/v1.6/SparseArrays/src/sparsevector.jl:569</a></li> <li> getindex(A::<b>SparseArrays.AbstractSparseMatrixCSC</b>, I::<b>Tuple{Integer, Integer}</b>) in SparseArrays at <a href=\"file:///buildworker/worker/package_linux64/build/usr/share/julia/stdlib/v1.6/SparseArrays/src/sparsematrix.jl\" target=\"_blank\">/home/mikel/Mahaigaina/Softwarea-instalazioak/Julia/julia-1.6.6-linux-x86_64/julia-1.6.6/share/julia/stdlib/v1.6/SparseArrays/src/sparsematrix.jl:2126</a></li> <li> getindex(A::<b>SparseArrays.AbstractSparseMatrixCSC</b>, ::<b>Colon</b>) in SparseArrays at <a href=\"file:///buildworker/worker/package_linux64/build/usr/share/julia/stdlib/v1.6/SparseArrays/src/sparsevector.jl\" target=\"_blank\">/home/mikel/Mahaigaina/Softwarea-instalazioak/Julia/julia-1.6.6-linux-x86_64/julia-1.6.6/share/julia/stdlib/v1.6/SparseArrays/src/sparsevector.jl:643</a></li> <li> getindex(A::<b>SparseArrays.AbstractSparseMatrixCSC</b>, ::<b>Colon</b>, ::<b>Colon</b>) in SparseArrays at <a href=\"file:///buildworker/worker/package_linux64/build/usr/share/julia/stdlib/v1.6/SparseArrays/src/sparsematrix.jl\" target=\"_blank\">/home/mikel/Mahaigaina/Softwarea-instalazioak/Julia/julia-1.6.6-linux-x86_64/julia-1.6.6/share/julia/stdlib/v1.6/SparseArrays/src/sparsematrix.jl:2138</a></li> <li> getindex(A::<b>SparseArrays.AbstractSparseMatrixCSC</b>, i, ::<b>Colon</b>) in SparseArrays at <a href=\"file:///buildworker/worker/package_linux64/build/usr/share/julia/stdlib/v1.6/SparseArrays/src/sparsematrix.jl\" target=\"_blank\">/home/mikel/Mahaigaina/Softwarea-instalazioak/Julia/julia-1.6.6-linux-x86_64/julia-1.6.6/share/julia/stdlib/v1.6/SparseArrays/src/sparsematrix.jl:2139</a></li> <li> getindex(x::<b>SparseArrays.AbstractSparseMatrixCSC</b>, ::<b>Colon</b>, j::<b>Integer</b>) in SparseArrays at <a href=\"file:///buildworker/worker/package_linux64/build/usr/share/julia/stdlib/v1.6/SparseArrays/src/sparsevector.jl\" target=\"_blank\">/home/mikel/Mahaigaina/Softwarea-instalazioak/Julia/julia-1.6.6-linux-x86_64/julia-1.6.6/share/julia/stdlib/v1.6/SparseArrays/src/sparsevector.jl:543</a></li> <li> getindex(A::<b>SparseArrays.AbstractSparseMatrixCSC</b>, ::<b>Colon</b>, i) in SparseArrays at <a href=\"file:///buildworker/worker/package_linux64/build/usr/share/julia/stdlib/v1.6/SparseArrays/src/sparsematrix.jl\" target=\"_blank\">/home/mikel/Mahaigaina/Softwarea-instalazioak/Julia/julia-1.6.6-linux-x86_64/julia-1.6.6/share/julia/stdlib/v1.6/SparseArrays/src/sparsematrix.jl:2140</a></li> <li> getindex(x::<b>SparseArrays.AbstractSparseVector{Tv, Ti} where {Tv, Ti}</b>, ::<b>Colon</b>) in SparseArrays at <a href=\"file:///buildworker/worker/package_linux64/build/usr/share/julia/stdlib/v1.6/SparseArrays/src/sparsevector.jl\" target=\"_blank\">/home/mikel/Mahaigaina/Softwarea-instalazioak/Julia/julia-1.6.6-linux-x86_64/julia-1.6.6/share/julia/stdlib/v1.6/SparseArrays/src/sparsevector.jl:867</a></li> <li> getindex(r::<b>StepRange</b>, s::<b>AbstractRange{var\"#s77\"} where var\"#s77\"<:Integer</b>) in Base at <a href=\"https://github.com/JuliaLang/julia/tree/b8708f954a3814dc56043c64e271d34beb9f79e7/base/range.jl#L766\" target=\"_blank\">range.jl:766</a></li> <li> getindex(S::<b>Base.IdentityUnitRange</b>, i::<b>Int64</b>) in Base at <a href=\"https://github.com/JuliaLang/julia/tree/b8708f954a3814dc56043c64e271d34beb9f79e7/base/indices.jl#L397\" target=\"_blank\">indices.jl:397</a></li> <li> getindex(S::<b>Base.IdentityUnitRange</b>, i::<b>AbstractUnitRange{var\"#s77\"} where var\"#s77\"<:Integer</b>) in Base at <a href=\"https://github.com/JuliaLang/julia/tree/b8708f954a3814dc56043c64e271d34beb9f79e7/base/indices.jl#L398\" target=\"_blank\">indices.jl:398</a></li> <li> getindex(S::<b>Base.IdentityUnitRange</b>, i::<b>StepRange{var\"#s77\", S} where {var\"#s77\"<:Integer, S}</b>) in Base at <a href=\"https://github.com/JuliaLang/julia/tree/b8708f954a3814dc56043c64e271d34beb9f79e7/base/indices.jl#L399\" target=\"_blank\">indices.jl:399</a></li> <li> getindex(B::<b>BitArray</b>, i::<b>Int64</b>) in Base at <a href=\"https://github.com/JuliaLang/julia/tree/b8708f954a3814dc56043c64e271d34beb9f79e7/base/bitarray.jl#L677\" target=\"_blank\">bitarray.jl:677</a></li> <li> getindex(A::<b>SymTridiagonal{T, V} where V<:AbstractVector{T}</b>, i::<b>Integer</b>, j::<b>Integer</b>)<i> where T</i> in LinearAlgebra at <a href=\"file:///buildworker/worker/package_linux64/build/usr/share/julia/stdlib/v1.6/LinearAlgebra/src/tridiag.jl\" target=\"_blank\">/home/mikel/Mahaigaina/Softwarea-instalazioak/Julia/julia-1.6.6-linux-x86_64/julia-1.6.6/share/julia/stdlib/v1.6/LinearAlgebra/src/tridiag.jl:444</a></li> <li> getindex(A::<b>Base.Experimental.Const</b>, i1::<b>Int64</b>) in Base.Experimental at <a href=\"https://github.com/JuliaLang/julia/tree/b8708f954a3814dc56043c64e271d34beb9f79e7/base/experimental.jl#L30\" target=\"_blank\">experimental.jl:30</a></li> <li> getindex(A::<b>Base.Experimental.Const</b>, i1::<b>Int64</b>, i2::<b>Int64</b>, I::<b>Int64...</b>) in Base.Experimental at <a href=\"https://github.com/JuliaLang/julia/tree/b8708f954a3814dc56043c64e271d34beb9f79e7/base/experimental.jl#L32\" target=\"_blank\">experimental.jl:32</a></li> <li> getindex(io::<b>IOContext</b>, key) in Base at <a href=\"https://github.com/JuliaLang/julia/tree/b8708f954a3814dc56043c64e271d34beb9f79e7/base/show.jl#L340\" target=\"_blank\">show.jl:340</a></li> <li> getindex(dict::<b>Base.ImmutableDict</b>, key) in Base at <a href=\"https://github.com/JuliaLang/julia/tree/b8708f954a3814dc56043c64e271d34beb9f79e7/base/dict.jl#L780\" target=\"_blank\">dict.jl:780</a></li> <li> getindex(A::<b>Array</b>, i1::<b>Int64</b>) in Base at <a href=\"https://github.com/JuliaLang/julia/tree/b8708f954a3814dc56043c64e271d34beb9f79e7/base/array.jl#L805\" target=\"_blank\">array.jl:805</a></li> <li> getindex(A::<b>Array</b>, i1::<b>Int64</b>, i2::<b>Int64</b>, I::<b>Int64...</b>) in Base at <a href=\"https://github.com/JuliaLang/julia/tree/b8708f954a3814dc56043c64e271d34beb9f79e7/base/array.jl#L806\" target=\"_blank\">array.jl:806</a></li> <li> getindex(A::<b>Array</b>, I::<b>UnitRange{Int64}</b>) in Base at <a href=\"https://github.com/JuliaLang/julia/tree/b8708f954a3814dc56043c64e271d34beb9f79e7/base/array.jl#L809\" target=\"_blank\">array.jl:809</a></li> <li> getindex(A::<b>Array</b>, c::<b>Colon</b>) in Base at <a href=\"https://github.com/JuliaLang/julia/tree/b8708f954a3814dc56043c64e271d34beb9f79e7/base/array.jl#L819\" target=\"_blank\">array.jl:819</a></li> <li> getindex(A::<b>Array{S, N} where N</b>, I::<b>AbstractRange{Int64}</b>)<i> where S</i> in Base at <a href=\"https://github.com/JuliaLang/julia/tree/b8708f954a3814dc56043c64e271d34beb9f79e7/base/array.jl#L829\" target=\"_blank\">array.jl:829</a></li> <li> getindex(A::<b>Array</b>, i1::<b>Integer</b>, I::<b>Integer...</b>) in Base at <a href=\"https://github.com/JuliaLang/julia/tree/b8708f954a3814dc56043c64e271d34beb9f79e7/base/abstractarray.jl#L1173\" target=\"_blank\">abstractarray.jl:1173</a></li> <li> getindex(A::<b>Array</b>, i1::<b>Union{Integer, CartesianIndex}</b>, I::<b>Union{Integer, CartesianIndex}...</b>) in Base at <a href=\"https://github.com/JuliaLang/julia/tree/b8708f954a3814dc56043c64e271d34beb9f79e7/base/multidimensional.jl#L643\" target=\"_blank\">multidimensional.jl:643</a></li> <li> getindex(bc::<b>Base.Broadcast.Broadcasted</b>) in Base.Broadcast at <a href=\"https://github.com/JuliaLang/julia/tree/b8708f954a3814dc56043c64e271d34beb9f79e7/base/broadcast.jl#L584\" target=\"_blank\">broadcast.jl:584</a></li> <li> getindex(bc::<b>Base.Broadcast.Broadcasted</b>, I::<b>Union{Integer, CartesianIndex}</b>) in Base.Broadcast at <a href=\"https://github.com/JuliaLang/julia/tree/b8708f954a3814dc56043c64e271d34beb9f79e7/base/broadcast.jl#L573\" target=\"_blank\">broadcast.jl:573</a></li> <li> getindex(bc::<b>Base.Broadcast.Broadcasted</b>, i1::<b>Union{Integer, CartesianIndex}</b>, i2::<b>Union{Integer, CartesianIndex}</b>, I::<b>Union{Integer, CartesianIndex}...</b>) in Base.Broadcast at <a href=\"https://github.com/JuliaLang/julia/tree/b8708f954a3814dc56043c64e271d34beb9f79e7/base/broadcast.jl#L582\" target=\"_blank\">broadcast.jl:582</a></li> <li> getindex(J::<b>UniformScaling</b>, i::<b>Integer</b>, j::<b>Integer</b>) in LinearAlgebra at <a href=\"file:///buildworker/worker/package_linux64/build/usr/share/julia/stdlib/v1.6/LinearAlgebra/src/uniformscaling.jl\" target=\"_blank\">/home/mikel/Mahaigaina/Softwarea-instalazioak/Julia/julia-1.6.6-linux-x86_64/julia-1.6.6/share/julia/stdlib/v1.6/LinearAlgebra/src/uniformscaling.jl:89</a></li> <li> getindex(x::<b>UniformScaling</b>, n::<b>Integer</b>, m::<b>AbstractRange{var\"#s814\"} where var\"#s814\"<:Integer</b>) in LinearAlgebra at <a href=\"file:///buildworker/worker/package_linux64/build/usr/share/julia/stdlib/v1.6/LinearAlgebra/src/uniformscaling.jl\" target=\"_blank\">/home/mikel/Mahaigaina/Softwarea-instalazioak/Julia/julia-1.6.6-linux-x86_64/julia-1.6.6/share/julia/stdlib/v1.6/LinearAlgebra/src/uniformscaling.jl:91</a></li> <li> getindex(x::<b>UniformScaling{T}</b>, n::<b>AbstractRange{var\"#s814\"} where var\"#s814\"<:Integer</b>, m::<b>Integer</b>)<i> where T</i> in LinearAlgebra at <a href=\"file:///buildworker/worker/package_linux64/build/usr/share/julia/stdlib/v1.6/LinearAlgebra/src/uniformscaling.jl\" target=\"_blank\">/home/mikel/Mahaigaina/Softwarea-instalazioak/Julia/julia-1.6.6-linux-x86_64/julia-1.6.6/share/julia/stdlib/v1.6/LinearAlgebra/src/uniformscaling.jl:92</a></li> <li> getindex(x::<b>UniformScaling{T}</b>, n::<b>AbstractRange{var\"#s814\"} where var\"#s814\"<:Integer</b>, m::<b>AbstractRange{var\"#s813\"} where var\"#s813\"<:Integer</b>)<i> where T</i> in LinearAlgebra at <a href=\"file:///buildworker/worker/package_linux64/build/usr/share/julia/stdlib/v1.6/LinearAlgebra/src/uniformscaling.jl\" target=\"_blank\">/home/mikel/Mahaigaina/Softwarea-instalazioak/Julia/julia-1.6.6-linux-x86_64/julia-1.6.6/share/julia/stdlib/v1.6/LinearAlgebra/src/uniformscaling.jl:103</a></li> <li> getindex(sp::<b>Random.SamplerSimple</b>) in Random at <a href=\"file:///buildworker/worker/package_linux64/build/usr/share/julia/stdlib/v1.6/Random/src/Random.jl\" target=\"_blank\">/home/mikel/Mahaigaina/Softwarea-instalazioak/Julia/julia-1.6.6-linux-x86_64/julia-1.6.6/share/julia/stdlib/v1.6/Random/src/Random.jl:201</a></li> <li> getindex(Q::<b>LinearAlgebra.AbstractQ</b>, i::<b>Integer</b>, j::<b>Integer</b>) in LinearAlgebra at <a href=\"file:///buildworker/worker/package_linux64/build/usr/share/julia/stdlib/v1.6/LinearAlgebra/src/qr.jl\" target=\"_blank\">/home/mikel/Mahaigaina/Softwarea-instalazioak/Julia/julia-1.6.6-linux-x86_64/julia-1.6.6/share/julia/stdlib/v1.6/LinearAlgebra/src/qr.jl:562</a></li> <li> getindex(iter::<b>LinearIndices</b>, i::<b>Int64</b>) in Base at <a href=\"https://github.com/JuliaLang/julia/tree/b8708f954a3814dc56043c64e271d34beb9f79e7/base/indices.jl#L479\" target=\"_blank\">indices.jl:479</a></li> <li> getindex(iter::<b>LinearIndices</b>, i::<b>AbstractRange{var\"#s77\"} where var\"#s77\"<:Integer</b>) in Base at <a href=\"https://github.com/JuliaLang/julia/tree/b8708f954a3814dc56043c64e271d34beb9f79e7/base/indices.jl#L484\" target=\"_blank\">indices.jl:484</a></li> <li> getindex(S::<b>SharedArrays.SharedArray</b>, i::<b>Real</b>) in SharedArrays at <a href=\"file:///buildworker/worker/package_linux64/build/usr/share/julia/stdlib/v1.6/SharedArrays/src/SharedArrays.jl\" target=\"_blank\">/home/mikel/Mahaigaina/Softwarea-instalazioak/Julia/julia-1.6.6-linux-x86_64/julia-1.6.6/share/julia/stdlib/v1.6/SharedArrays/src/SharedArrays.jl:510</a></li> <li> getindex(r::<b>StepRangeLen{T, var\"#s77\", var\"#s76\"} where {var\"#s77\"<:Base.TwicePrecision, var\"#s76\"<:Base.TwicePrecision}</b>, s::<b>OrdinalRange{var\"#s75\", S} where {var\"#s75\"<:Integer, S}</b>)<i> where T</i> in Base at <a href=\"https://github.com/JuliaLang/julia/tree/b8708f954a3814dc56043c64e271d34beb9f79e7/base/twiceprecision.jl#L465\" target=\"_blank\">twiceprecision.jl:465</a></li> <li> getindex(r::<b>StepRangeLen{T, R, S} where {R, S}</b>, s::<b>OrdinalRange{var\"#s77\", S} where {var\"#s77\"<:Integer, S}</b>)<i> where T</i> in Base at <a href=\"https://github.com/JuliaLang/julia/tree/b8708f954a3814dc56043c64e271d34beb9f79e7/base/range.jl#L773\" target=\"_blank\">range.jl:773</a></li> <li> getindex(iter::<b>Base.SCartesianIndices2{K, R} where R<:AbstractUnitRange{Int64}</b>, i::<b>Int64</b>, j::<b>Int64</b>)<i> where K</i> in Base at <a href=\"https://github.com/JuliaLang/julia/tree/b8708f954a3814dc56043c64e271d34beb9f79e7/base/reinterpretarray.jl#L224\" target=\"_blank\">reinterpretarray.jl:224</a></li> <li> getindex(A::<b>Hermitian</b>, i::<b>Integer</b>, j::<b>Integer</b>) in LinearAlgebra at <a href=\"file:///buildworker/worker/package_linux64/build/usr/share/julia/stdlib/v1.6/LinearAlgebra/src/symmetric.jl\" target=\"_blank\">/home/mikel/Mahaigaina/Softwarea-instalazioak/Julia/julia-1.6.6-linux-x86_64/julia-1.6.6/share/julia/stdlib/v1.6/LinearAlgebra/src/symmetric.jl:213</a></li> <li> getindex(A::<b>Symmetric</b>, i::<b>Integer</b>, j::<b>Integer</b>) in LinearAlgebra at <a href=\"file:///buildworker/worker/package_linux64/build/usr/share/julia/stdlib/v1.6/LinearAlgebra/src/symmetric.jl\" target=\"_blank\">/home/mikel/Mahaigaina/Softwarea-instalazioak/Julia/julia-1.6.6-linux-x86_64/julia-1.6.6/share/julia/stdlib/v1.6/LinearAlgebra/src/symmetric.jl:203</a></li> <li> getindex(A::<b>UpperTriangular</b>, i::<b>Integer</b>, j::<b>Integer</b>) in LinearAlgebra at <a href=\"file:///buildworker/worker/package_linux64/build/usr/share/julia/stdlib/v1.6/LinearAlgebra/src/triangular.jl\" target=\"_blank\">/home/mikel/Mahaigaina/Softwarea-instalazioak/Julia/julia-1.6.6-linux-x86_64/julia-1.6.6/share/julia/stdlib/v1.6/LinearAlgebra/src/triangular.jl:226</a></li> <li> getindex(A::<b>LinearAlgebra.LQPackedQ</b>, i::<b>Integer</b>, j::<b>Integer</b>) in LinearAlgebra at <a href=\"file:///buildworker/worker/package_linux64/build/usr/share/julia/stdlib/v1.6/LinearAlgebra/src/lq.jl\" target=\"_blank\">/home/mikel/Mahaigaina/Softwarea-instalazioak/Julia/julia-1.6.6-linux-x86_64/julia-1.6.6/share/julia/stdlib/v1.6/LinearAlgebra/src/lq.jl:141</a></li> <li> getindex(v::<b>Vec</b>, i::<b>Union{Int16, Int32, Int64, Int8, UInt16, UInt32, UInt64, UInt8}</b>) in SIMD at <a href=\"file:///home/mikel/.julia/packages/SIMD/myoU9/src/simdvec.jl\" target=\"_blank\">/home/mikel/.julia/packages/SIMD/myoU9/src/simdvec.jl:98</a></li> <li> getindex(A::<b>UnitUpperTriangular{T, S} where S<:AbstractMatrix{T}</b>, i::<b>Integer</b>, j::<b>Integer</b>)<i> where T</i> in LinearAlgebra at <a href=\"file:///buildworker/worker/package_linux64/build/usr/share/julia/stdlib/v1.6/LinearAlgebra/src/triangular.jl\" target=\"_blank\">/home/mikel/Mahaigaina/Softwarea-instalazioak/Julia/julia-1.6.6-linux-x86_64/julia-1.6.6/share/julia/stdlib/v1.6/LinearAlgebra/src/triangular.jl:224</a></li> <li> getindex(t::<b>NamedTuple</b>, i::<b>Int64</b>) in Base at <a href=\"https://github.com/JuliaLang/julia/tree/b8708f954a3814dc56043c64e271d34beb9f79e7/base/namedtuple.jl#L117\" target=\"_blank\">namedtuple.jl:117</a></li> <li> getindex(t::<b>NamedTuple</b>, i::<b>Symbol</b>) in Base at <a href=\"https://github.com/JuliaLang/julia/tree/b8708f954a3814dc56043c64e271d34beb9f79e7/base/namedtuple.jl#L118\" target=\"_blank\">namedtuple.jl:118</a></li> <li> getindex(p::<b>Pair</b>, i::<b>Int64</b>) in Base at <a href=\"https://github.com/JuliaLang/julia/tree/b8708f954a3814dc56043c64e271d34beb9f79e7/base/pair.jl#L59\" target=\"_blank\">pair.jl:59</a></li> <li> getindex(p::<b>Pair</b>, i::<b>Real</b>) in Base at <a href=\"https://github.com/JuliaLang/julia/tree/b8708f954a3814dc56043c64e271d34beb9f79e7/base/pair.jl#L60\" target=\"_blank\">pair.jl:60</a></li> <li> getindex(h::<b>Dict{K, V}</b>, key)<i> where {K, V}</i> in Base at <a href=\"https://github.com/JuliaLang/julia/tree/b8708f954a3814dc56043c64e271d34beb9f79e7/base/dict.jl#L480\" target=\"_blank\">dict.jl:480</a></li> <li> getindex(index::<b>CartesianIndex</b>, i::<b>Integer</b>) in Base.IteratorsMD at <a href=\"https://github.com/JuliaLang/julia/tree/b8708f954a3814dc56043c64e271d34beb9f79e7/base/multidimensional.jl#L93\" target=\"_blank\">multidimensional.jl:93</a></li> <li> getindex(s::<b>AbstractString</b>, i::<b>Colon</b>) in Base at <a href=\"https://github.com/JuliaLang/julia/tree/b8708f954a3814dc56043c64e271d34beb9f79e7/base/strings/basic.jl#L189\" target=\"_blank\">strings/basic.jl:189</a></li> <li> getindex(c::<b>AbstractChar</b>) in Base at <a href=\"https://github.com/JuliaLang/julia/tree/b8708f954a3814dc56043c64e271d34beb9f79e7/base/char.jl#L197\" target=\"_blank\">char.jl:197</a></li> <li> getindex(c::<b>AbstractChar</b>, i::<b>Integer</b>) in Base at <a href=\"https://github.com/JuliaLang/julia/tree/b8708f954a3814dc56043c64e271d34beb9f79e7/base/char.jl#L198\" target=\"_blank\">char.jl:198</a></li> <li> getindex(c::<b>AbstractChar</b>, I::<b>Integer...</b>) in Base at <a href=\"https://github.com/JuliaLang/julia/tree/b8708f954a3814dc56043c64e271d34beb9f79e7/base/char.jl#L199\" target=\"_blank\">char.jl:199</a></li> <li> getindex(v::<b>Vec8Array{T, dim}</b>, i...)<i> where {T, dim}</i> in Main at <a href=\"file:///home/mikel/Mahaigaina/Work-2021-2022/PIC/PIC-2021-2022/Softwarea/IRK_SIMD_Mikel/IRK16_Vec8Array.jl\" target=\"_blank\">/home/mikel/Mahaigaina/Work-2021-2022/PIC/PIC-2021-2022/Softwarea/IRK_SIMD_Mikel/IRK16_Vec8Array.jl:15</a></li> <li> getindex(io::<b>IJulia.IJuliaStdio</b>, key) in IJulia at <a href=\"file:///home/mikel/.julia/packages/IJulia/AQu2H/src/stdio.jl\" target=\"_blank\">/home/mikel/.julia/packages/IJulia/AQu2H/src/stdio.jl:20</a></li> <li> getindex(v::<b>Base.OneTo{T}</b>, i::<b>Integer</b>)<i> where T</i> in Base at <a href=\"https://github.com/JuliaLang/julia/tree/b8708f954a3814dc56043c64e271d34beb9f79e7/base/range.jl#L700\" target=\"_blank\">range.jl:700</a></li> <li> getindex(r::<b>Base.OneTo{T}</b>, s::<b>Base.OneTo</b>)<i> where T</i> in Base at <a href=\"https://github.com/JuliaLang/julia/tree/b8708f954a3814dc56043c64e271d34beb9f79e7/base/range.jl#L753\" target=\"_blank\">range.jl:753</a></li> <li> getindex(p::<b>Base.BinaryPlatforms.AbstractPlatform</b>, k::<b>String</b>) in Base.BinaryPlatforms at <a href=\"https://github.com/JuliaLang/julia/tree/b8708f954a3814dc56043c64e271d34beb9f79e7/base/binaryplatforms.jl#L137\" target=\"_blank\">binaryplatforms.jl:137</a></li> <li> getindex(itr::<b>Base.SkipMissing</b>, I...) in Base at <a href=\"https://github.com/JuliaLang/julia/tree/b8708f954a3814dc56043c64e271d34beb9f79e7/base/missing.jl#L257\" target=\"_blank\">missing.jl:257</a></li> <li> getindex(v::<b>Base.Iterators.Pairs</b>, key) in Base.Iterators at <a href=\"https://github.com/JuliaLang/julia/tree/b8708f954a3814dc56043c64e271d34beb9f79e7/base/iterators.jl#L270\" target=\"_blank\">iterators.jl:270</a></li> <li> getindex(A::<b>LowerTriangular</b>, i::<b>Integer</b>, j::<b>Integer</b>) in LinearAlgebra at <a href=\"file:///buildworker/worker/package_linux64/build/usr/share/julia/stdlib/v1.6/LinearAlgebra/src/triangular.jl\" target=\"_blank\">/home/mikel/Mahaigaina/Softwarea-instalazioak/Julia/julia-1.6.6-linux-x86_64/julia-1.6.6/share/julia/stdlib/v1.6/LinearAlgebra/src/triangular.jl:222</a></li> <li> getindex(H::<b>UpperHessenberg{T, S} where S<:AbstractMatrix{T}</b>, i::<b>Integer</b>, j::<b>Integer</b>)<i> where T</i> in LinearAlgebra at <a href=\"file:///buildworker/worker/package_linux64/build/usr/share/julia/stdlib/v1.6/LinearAlgebra/src/hessenberg.jl\" target=\"_blank\">/home/mikel/Mahaigaina/Softwarea-instalazioak/Julia/julia-1.6.6-linux-x86_64/julia-1.6.6/share/julia/stdlib/v1.6/LinearAlgebra/src/hessenberg.jl:73</a></li> <li> getindex(r::<b>AbstractRange</b>, ::<b>Colon</b>) in Base at <a href=\"https://github.com/JuliaLang/julia/tree/b8708f954a3814dc56043c64e271d34beb9f79e7/base/range.jl#L743\" target=\"_blank\">range.jl:743</a></li> <li> getindex(A::<b>Tridiagonal{T, V} where V<:AbstractVector{T}</b>, i::<b>Integer</b>, j::<b>Integer</b>)<i> where T</i> in LinearAlgebra at <a href=\"file:///buildworker/worker/package_linux64/build/usr/share/julia/stdlib/v1.6/LinearAlgebra/src/tridiag.jl\" target=\"_blank\">/home/mikel/Mahaigaina/Softwarea-instalazioak/Julia/julia-1.6.6-linux-x86_64/julia-1.6.6/share/julia/stdlib/v1.6/LinearAlgebra/src/tridiag.jl:629</a></li> <li> getindex(s::<b>SubString</b>, i::<b>Integer</b>) in Base at <a href=\"https://github.com/JuliaLang/julia/tree/b8708f954a3814dc56043c64e271d34beb9f79e7/base/strings/substring.jl#L82\" target=\"_blank\">strings/substring.jl:82</a></li> <li> getindex(x::<b>Number</b>) in Base at <a href=\"https://github.com/JuliaLang/julia/tree/b8708f954a3814dc56043c64e271d34beb9f79e7/base/number.jl#L93\" target=\"_blank\">number.jl:93</a></li> <li> getindex(x::<b>Number</b>, i::<b>Integer</b>) in Base at <a href=\"https://github.com/JuliaLang/julia/tree/b8708f954a3814dc56043c64e271d34beb9f79e7/base/number.jl#L94\" target=\"_blank\">number.jl:94</a></li> <li> getindex(x::<b>Number</b>, I::<b>Integer...</b>) in Base at <a href=\"https://github.com/JuliaLang/julia/tree/b8708f954a3814dc56043c64e271d34beb9f79e7/base/number.jl#L99\" target=\"_blank\">number.jl:99</a></li> <li> getindex(x::<b>Number</b>, i::<b>CartesianIndex{0}</b>) in Base at <a href=\"https://github.com/JuliaLang/julia/tree/b8708f954a3814dc56043c64e271d34beb9f79e7/base/multidimensional.jl#L830\" target=\"_blank\">multidimensional.jl:830</a></li> <li> getindex(S::<b>Base.Slice</b>, i::<b>Int64</b>) in Base at <a href=\"https://github.com/JuliaLang/julia/tree/b8708f954a3814dc56043c64e271d34beb9f79e7/base/indices.jl#L366\" target=\"_blank\">indices.jl:366</a></li> <li> getindex(S::<b>Base.Slice</b>, i::<b>AbstractUnitRange{var\"#s77\"} where var\"#s77\"<:Integer</b>) in Base at <a href=\"https://github.com/JuliaLang/julia/tree/b8708f954a3814dc56043c64e271d34beb9f79e7/base/indices.jl#L367\" target=\"_blank\">indices.jl:367</a></li> <li> getindex(r::<b>AbstractUnitRange</b>, s::<b>AbstractUnitRange{var\"#s77\"} where var\"#s77\"<:Integer</b>) in Base at <a href=\"https://github.com/JuliaLang/julia/tree/b8708f954a3814dc56043c64e271d34beb9f79e7/base/range.jl#L745\" target=\"_blank\">range.jl:745</a></li> <li> getindex(S::<b>Base.Slice</b>, i::<b>StepRange{var\"#s77\", S} where {var\"#s77\"<:Integer, S}</b>) in Base at <a href=\"https://github.com/JuliaLang/julia/tree/b8708f954a3814dc56043c64e271d34beb9f79e7/base/indices.jl#L368\" target=\"_blank\">indices.jl:368</a></li> <li> getindex(r::<b>AbstractUnitRange</b>, s::<b>StepRange{var\"#s77\", S} where {var\"#s77\"<:Integer, S}</b>) in Base at <a href=\"https://github.com/JuliaLang/julia/tree/b8708f954a3814dc56043c64e271d34beb9f79e7/base/range.jl#L759\" target=\"_blank\">range.jl:759</a></li> <li> getindex(b::<b>Base.RefValue</b>) in Base at <a href=\"https://github.com/JuliaLang/julia/tree/b8708f954a3814dc56043c64e271d34beb9f79e7/base/refvalue.jl#L56\" target=\"_blank\">refvalue.jl:56</a></li> <li> getindex(a::<b>Base.ReinterpretArray{T, 0, S, A, false} where {S, A<:AbstractArray{S, 0}}</b>)<i> where T</i> in Base at <a href=\"https://github.com/JuliaLang/julia/tree/b8708f954a3814dc56043c64e271d34beb9f79e7/base/reinterpretarray.jl#L315\" target=\"_blank\">reinterpretarray.jl:315</a></li> <li> getindex(arr::<b>Union{DenseArray{T, N}, Base.ReinterpretArray{T, N, T2, A, IsReshaped} where {T2, A<:Union{DenseArray{T2, N}, SubArray{T2, N, P, I, L} where {P, I<:Union{Tuple{Vararg{Real, N} where N}, Tuple{AbstractUnitRange, Vararg{Any, N} where N}}, L}}, IsReshaped}, SubArray{T, N, P, I, L} where {P, I<:Union{Tuple{Vararg{Real, N} where N}, Tuple{AbstractUnitRange, Vararg{Any, N} where N}}, L}} where N</b>, idx::<b>Vec{N, var\"#s12\"} where var\"#s12\"<:Integer</b>, args::<b>Union{Integer, Vec{N, Bool}}...</b>)<i> where {N, T}</i> in SIMD at <a href=\"file:///home/mikel/.julia/packages/SIMD/myoU9/src/arrayops.jl\" target=\"_blank\">/home/mikel/.julia/packages/SIMD/myoU9/src/arrayops.jl:313</a></li> <li> getindex(arr::<b>Union{DenseArray{T, N}, Base.ReinterpretArray{T, N, T2, A, IsReshaped} where {T2, A<:Union{DenseArray{T2, N}, SubArray{T2, N, P, I, L} where {P, I<:Union{Tuple{Vararg{Real, N} where N}, Tuple{AbstractUnitRange, Vararg{Any, N} where N}}, L}}, IsReshaped}, SubArray{T, N, P, I, L} where {P, I<:Union{Tuple{Vararg{Real, N} where N}, Tuple{AbstractUnitRange, Vararg{Any, N} where N}}, L}} where N</b>, idx::<b>VecRange{N}</b>, args::<b>Union{Integer, Vec{N, Bool}}...</b>)<i> where {N, T}</i> in SIMD at <a href=\"file:///home/mikel/.julia/packages/SIMD/myoU9/src/arrayops.jl\" target=\"_blank\">/home/mikel/.julia/packages/SIMD/myoU9/src/arrayops.jl:298</a></li> <li> getindex(a::<b>Base.ReinterpretArray{T, N, S, A, IsReshaped} where {A<:(AbstractArray{S, N} where N), IsReshaped}</b>, inds::<b>Vararg{Int64, N}</b>)<i> where {T, N, S}</i> in Base at <a href=\"https://github.com/JuliaLang/julia/tree/b8708f954a3814dc56043c64e271d34beb9f79e7/base/reinterpretarray.jl#L318\" target=\"_blank\">reinterpretarray.jl:318</a></li> <li> getindex(a::<b>Base.ReinterpretArray{T, N, S, A, IsReshaped} where {A<:(AbstractArray{S, N} where N), IsReshaped}</b>, i::<b>Int64</b>)<i> where {T, N, S}</i> in Base at <a href=\"https://github.com/JuliaLang/julia/tree/b8708f954a3814dc56043c64e271d34beb9f79e7/base/reinterpretarray.jl#L323\" target=\"_blank\">reinterpretarray.jl:323</a></li> <li> getindex(a::<b>Base.ReinterpretArray{T, N, S, A, true} where A<:(AbstractArray{S, N} where N)</b>, ind::<b>Base.SCartesianIndex2</b>)<i> where {T, N, S}</i> in Base at <a href=\"https://github.com/JuliaLang/julia/tree/b8708f954a3814dc56043c64e271d34beb9f79e7/base/reinterpretarray.jl#L334\" target=\"_blank\">reinterpretarray.jl:334</a></li> <li> getindex(a::<b>Base.ReinterpretArray</b>) in Base at <a href=\"https://github.com/JuliaLang/julia/tree/b8708f954a3814dc56043c64e271d34beb9f79e7/base/reinterpretarray.jl#L316\" target=\"_blank\">reinterpretarray.jl:316</a></li> <li> getindex(a::<b>Test.GenericArray</b>, i::<b>Int64</b>) in Test at <a href=\"file:///buildworker/worker/package_linux64/build/usr/share/julia/stdlib/v1.6/Test/src/Test.jl\" target=\"_blank\">/home/mikel/Mahaigaina/Softwarea-instalazioak/Julia/julia-1.6.6-linux-x86_64/julia-1.6.6/share/julia/stdlib/v1.6/Test/src/Test.jl:1691</a></li> <li> getindex(v::<b>UnitRange{T}</b>, i::<b>Integer</b>)<i> where T<:Union{Bool, Int128, Int16, Int32, Int64, Int8, UInt128, UInt16, UInt32, UInt64, UInt8}</i> in Base at <a href=\"https://github.com/JuliaLang/julia/tree/b8708f954a3814dc56043c64e271d34beb9f79e7/base/range.jl#L693\" target=\"_blank\">range.jl:693</a></li> <li> getindex(v::<b>UnitRange{T}</b>, i::<b>Integer</b>)<i> where T</i> in Base at <a href=\"https://github.com/JuliaLang/julia/tree/b8708f954a3814dc56043c64e271d34beb9f79e7/base/range.jl#L683\" target=\"_blank\">range.jl:683</a></li> <li> getindex(v::<b>AbstractRange{T}</b>, i::<b>Integer</b>)<i> where T</i> in Base at <a href=\"https://github.com/JuliaLang/julia/tree/b8708f954a3814dc56043c64e271d34beb9f79e7/base/range.jl#L706\" target=\"_blank\">range.jl:706</a></li> <li> getindex(A::<b>UnitLowerTriangular{T, S} where S<:AbstractMatrix{T}</b>, i::<b>Integer</b>, j::<b>Integer</b>)<i> where T</i> in LinearAlgebra at <a href=\"file:///buildworker/worker/package_linux64/build/usr/share/julia/stdlib/v1.6/LinearAlgebra/src/triangular.jl\" target=\"_blank\">/home/mikel/Mahaigaina/Softwarea-instalazioak/Julia/julia-1.6.6-linux-x86_64/julia-1.6.6/share/julia/stdlib/v1.6/LinearAlgebra/src/triangular.jl:220</a></li> <li> getindex(s::<b>Base.CodeUnits</b>, i::<b>Int64</b>) in Base at <a href=\"https://github.com/JuliaLang/julia/tree/b8708f954a3814dc56043c64e271d34beb9f79e7/base/strings/basic.jl#L741\" target=\"_blank\">strings/basic.jl:741</a></li> <li> getindex(A::<b>SuiteSparse.CHOLMOD.Sparse{T}</b>, i0::<b>Integer</b>, i1::<b>Integer</b>)<i> where T</i> in SuiteSparse.CHOLMOD at <a href=\"file:///buildworker/worker/package_linux64/build/usr/share/julia/stdlib/v1.6/SuiteSparse/src/cholmod.jl\" target=\"_blank\">/home/mikel/Mahaigaina/Softwarea-instalazioak/Julia/julia-1.6.6-linux-x86_64/julia-1.6.6/share/julia/stdlib/v1.6/SuiteSparse/src/cholmod.jl:1192</a></li> <li> getindex(x::<b>SparseArrays.AbstractSparseVector{Tv, Ti} where {Tv, Ti}</b>, i::<b>Integer</b>) in SparseArrays at <a href=\"file:///buildworker/worker/package_linux64/build/usr/share/julia/stdlib/v1.6/SparseArrays/src/sparsevector.jl\" target=\"_blank\">/home/mikel/Mahaigaina/Softwarea-instalazioak/Julia/julia-1.6.6-linux-x86_64/julia-1.6.6/share/julia/stdlib/v1.6/SparseArrays/src/sparsevector.jl:817</a></li> <li> getindex(G::<b>LinearAlgebra.Givens</b>, i::<b>Integer</b>, j::<b>Integer</b>) in LinearAlgebra at <a href=\"file:///buildworker/worker/package_linux64/build/usr/share/julia/stdlib/v1.6/LinearAlgebra/src/givens.jl\" target=\"_blank\">/home/mikel/Mahaigaina/Softwarea-instalazioak/Julia/julia-1.6.6-linux-x86_64/julia-1.6.6/share/julia/stdlib/v1.6/LinearAlgebra/src/givens.jl:336</a></li> <li> getindex(::<b>Random.SamplerType{T}</b>)<i> where T</i> in Random at <a href=\"file:///buildworker/worker/package_linux64/build/usr/share/julia/stdlib/v1.6/Random/src/Random.jl\" target=\"_blank\">/home/mikel/Mahaigaina/Softwarea-instalazioak/Julia/julia-1.6.6-linux-x86_64/julia-1.6.6/share/julia/stdlib/v1.6/Random/src/Random.jl:164</a></li> <li> getindex(V::<b>SubArray{var\"#s77\", 1, P, I, true} where {var\"#s77\", P, I<:Union{Tuple{Vararg{Real, N} where N}, Tuple{AbstractUnitRange, Vararg{Any, N} where N}}}</b>, i::<b>Int64</b>) in Base at <a href=\"https://github.com/JuliaLang/julia/tree/b8708f954a3814dc56043c64e271d34beb9f79e7/base/subarray.jl#L306\" target=\"_blank\">subarray.jl:306</a></li> <li> getindex(V::<b>SubArray{var\"#s77\", 1, P, I, true} where {var\"#s77\", P, I}</b>, i::<b>Int64</b>) in Base at <a href=\"https://github.com/JuliaLang/julia/tree/b8708f954a3814dc56043c64e271d34beb9f79e7/base/subarray.jl#L300\" target=\"_blank\">subarray.jl:300</a></li> <li> getindex(V::<b>SubArray{T, N, P, I, true} where {T, N, P, I<:Union{Tuple{Vararg{Real, N} where N}, Tuple{AbstractUnitRange, Vararg{Any, N} where N}}}</b>, i::<b>Int64</b>) in Base at <a href=\"https://github.com/JuliaLang/julia/tree/b8708f954a3814dc56043c64e271d34beb9f79e7/base/subarray.jl#L292\" target=\"_blank\">subarray.jl:292</a></li> <li> getindex(V::<b>SubArray{T, N, P, I, L} where {P, I, L}</b>, I::<b>Vararg{Int64, N}</b>)<i> where {T, N}</i> in Base at <a href=\"https://github.com/JuliaLang/julia/tree/b8708f954a3814dc56043c64e271d34beb9f79e7/base/subarray.jl#L273\" target=\"_blank\">subarray.jl:273</a></li> <li> getindex(V::<b>SubArray{T, N, P, I, true} where {T, N, P, I}</b>, i::<b>Int64</b>) in Base at <a href=\"https://github.com/JuliaLang/julia/tree/b8708f954a3814dc56043c64e271d34beb9f79e7/base/subarray.jl#L282\" target=\"_blank\">subarray.jl:282</a></li> <li> getindex(b::<b>Base.RefArray</b>) in Base at <a href=\"https://github.com/JuliaLang/julia/tree/b8708f954a3814dc56043c64e271d34beb9f79e7/base/refpointer.jl#L181\" target=\"_blank\">refpointer.jl:181</a></li> <li> getindex(b::<b>Ref</b>, ::<b>CartesianIndex{0}</b>) in Base at <a href=\"https://github.com/JuliaLang/julia/tree/b8708f954a3814dc56043c64e271d34beb9f79e7/base/multidimensional.jl#L1907\" target=\"_blank\">multidimensional.jl:1907</a></li> <li> getindex(v::<b>VecArray{s, T, dim}</b>, i::<b>Int64</b>)<i> where {s, T, dim}</i> in Main at In[1]:39</li> <li> getindex(v::<b>VecArray{s, T, dim}</b>, i...)<i> where {s, T, dim}</i> in Main at In[1]:18</li> <li> getindex(A::<b>Bidiagonal{T, V} where V<:AbstractVector{T}</b>, i::<b>Integer</b>, j::<b>Integer</b>)<i> where T</i> in LinearAlgebra at <a href=\"file:///buildworker/worker/package_linux64/build/usr/share/julia/stdlib/v1.6/LinearAlgebra/src/bidiag.jl\" target=\"_blank\">/home/mikel/Mahaigaina/Softwarea-instalazioak/Julia/julia-1.6.6-linux-x86_64/julia-1.6.6/share/julia/stdlib/v1.6/LinearAlgebra/src/bidiag.jl:116</a></li> <li> getindex(::<b>Type{Any}</b>) in Base at <a href=\"https://github.com/JuliaLang/julia/tree/b8708f954a3814dc56043c64e271d34beb9f79e7/base/array.jl#L403\" target=\"_blank\">array.jl:403</a></li> <li> getindex(::<b>Type{Any}</b>, vals...) in Base at <a href=\"https://github.com/JuliaLang/julia/tree/b8708f954a3814dc56043c64e271d34beb9f79e7/base/array.jl#L396\" target=\"_blank\">array.jl:396</a></li> <li> getindex(::<b>Type{T}</b>)<i> where T</i> in Base at <a href=\"https://github.com/JuliaLang/julia/tree/b8708f954a3814dc56043c64e271d34beb9f79e7/base/array.jl#L391\" target=\"_blank\">array.jl:391</a></li> <li> getindex(::<b>Type{T}</b>, x)<i> where T</i> in Base at <a href=\"https://github.com/JuliaLang/julia/tree/b8708f954a3814dc56043c64e271d34beb9f79e7/base/array.jl#L392\" target=\"_blank\">array.jl:392</a></li> <li> getindex(::<b>Type{T}</b>, x, y)<i> where T</i> in Base at <a href=\"https://github.com/JuliaLang/julia/tree/b8708f954a3814dc56043c64e271d34beb9f79e7/base/array.jl#L393\" target=\"_blank\">array.jl:393</a></li> <li> getindex(::<b>Type{T}</b>, x, y, z)<i> where T</i> in Base at <a href=\"https://github.com/JuliaLang/julia/tree/b8708f954a3814dc56043c64e271d34beb9f79e7/base/array.jl#L394\" target=\"_blank\">array.jl:394</a></li> <li> getindex(::<b>Type{T}</b>, vals...)<i> where T</i> in Base at <a href=\"https://github.com/JuliaLang/julia/tree/b8708f954a3814dc56043c64e271d34beb9f79e7/base/array.jl#L383\" target=\"_blank\">array.jl:383</a></li> <li> getindex(x::<b>Base.Threads.Atomic{UInt8}</b>) in Base.Threads at <a href=\"https://github.com/JuliaLang/julia/tree/b8708f954a3814dc56043c64e271d34beb9f79e7/base/atomics.jl#L358\" target=\"_blank\">atomics.jl:358</a></li> <li> getindex(r::<b>Core.Compiler.StmtRange</b>, ind::<b>Integer</b>) in Base.IRShow at <a href=\"https://github.com/JuliaLang/julia/tree/b8708f954a3814dc56043c64e271d34beb9f79e7/base/show.jl#L2350\" target=\"_blank\">show.jl:2350</a></li> <li> getindex(rb::<b>LibGit2.GitRebase</b>, i::<b>Integer</b>) in LibGit2 at <a href=\"file:///buildworker/worker/package_linux64/build/usr/share/julia/stdlib/v1.6/LibGit2/src/rebase.jl\" target=\"_blank\">/home/mikel/Mahaigaina/Softwarea-instalazioak/Julia/julia-1.6.6-linux-x86_64/julia-1.6.6/share/julia/stdlib/v1.6/LibGit2/src/rebase.jl:34</a></li> <li> getindex(x::<b>Base.Threads.Atomic{Float16}</b>) in Base.Threads at <a href=\"https://github.com/JuliaLang/julia/tree/b8708f954a3814dc56043c64e271d34beb9f79e7/base/atomics.jl#L358\" target=\"_blank\">atomics.jl:358</a></li> <li> getindex(is::<b>Core.Compiler.InstructionStream</b>, idx::<b>Int64</b>) in Base.IRShow at <a href=\"https://github.com/JuliaLang/julia/tree/b8708f954a3814dc56043c64e271d34beb9f79e7/base/show.jl#L2356\" target=\"_blank\">show.jl:2356</a></li> <li> getindex(diff::<b>LibGit2.GitDiff</b>, i::<b>Integer</b>) in LibGit2 at <a href=\"file:///buildworker/worker/package_linux64/build/usr/share/julia/stdlib/v1.6/LibGit2/src/diff.jl\" target=\"_blank\">/home/mikel/Mahaigaina/Softwarea-instalazioak/Julia/julia-1.6.6-linux-x86_64/julia-1.6.6/share/julia/stdlib/v1.6/LibGit2/src/diff.jl:120</a></li> <li> getindex(x::<b>Base.Threads.Atomic{Int64}</b>) in Base.Threads at <a href=\"https://github.com/JuliaLang/julia/tree/b8708f954a3814dc56043c64e271d34beb9f79e7/base/atomics.jl#L358\" target=\"_blank\">atomics.jl:358</a></li> <li> getindex(m::<b>RegexMatch</b>, idx::<b>Integer</b>) in Base at <a href=\"https://github.com/JuliaLang/julia/tree/b8708f954a3814dc56043c64e271d34beb9f79e7/base/regex.jl#L177\" target=\"_blank\">regex.jl:177</a></li> <li> getindex(m::<b>RegexMatch</b>, name::<b>Symbol</b>) in Base at <a href=\"https://github.com/JuliaLang/julia/tree/b8708f954a3814dc56043c64e271d34beb9f79e7/base/regex.jl#L178\" target=\"_blank\">regex.jl:178</a></li> <li> getindex(m::<b>RegexMatch</b>, name::<b>AbstractString</b>) in Base at <a href=\"https://github.com/JuliaLang/julia/tree/b8708f954a3814dc56043c64e271d34beb9f79e7/base/regex.jl#L183\" target=\"_blank\">regex.jl:183</a></li> <li> getindex(::<b>Base.EnvDict</b>, k::<b>AbstractString</b>) in Base at <a href=\"https://github.com/JuliaLang/julia/tree/b8708f954a3814dc56043c64e271d34beb9f79e7/base/env.jl#L79\" target=\"_blank\">env.jl:79</a></li> <li> getindex(t::<b>AbstractDict</b>, key) in Base at <a href=\"https://github.com/JuliaLang/julia/tree/b8708f954a3814dc56043c64e271d34beb9f79e7/base/abstractdict.jl#L497\" target=\"_blank\">abstractdict.jl:497</a></li> <li> getindex(t::<b>AbstractDict</b>, k1, k2, ks...) in Base at <a href=\"https://github.com/JuliaLang/julia/tree/b8708f954a3814dc56043c64e271d34beb9f79e7/base/abstractdict.jl#L507\" target=\"_blank\">abstractdict.jl:507</a></li> <li> getindex(state::<b>JSON.Parser.MemoryParserState</b>, i::<b>Int64</b>) in JSON.Parser at <a href=\"file:///home/mikel/.julia/packages/JSON/NeJ9k/src/Parser.jl\" target=\"_blank\">/home/mikel/.julia/packages/JSON/NeJ9k/src/Parser.jl:27</a></li> <li> getindex(::<b>Base.TTY</b>, key::<b>Symbol</b>) in Base at <a href=\"https://github.com/JuliaLang/julia/tree/b8708f954a3814dc56043c64e271d34beb9f79e7/base/ttyhascolor.jl#L26\" target=\"_blank\">ttyhascolor.jl:26</a></li> <li> getindex(dtfd::<b>Base.DataTypeFieldDesc</b>, i::<b>Int64</b>) in Base at <a href=\"https://github.com/JuliaLang/julia/tree/b8708f954a3814dc56043c64e271d34beb9f79e7/base/reflection.jl#L423\" target=\"_blank\">reflection.jl:423</a></li> <li> getindex(m::<b>Pkg.Types.Manifest</b>, i_or_key) in Pkg.Types at <a href=\"file:///buildworker/worker/package_linux64/build/usr/share/julia/stdlib/v1.6/Pkg/src/Types.jl\" target=\"_blank\">/home/mikel/Mahaigaina/Softwarea-instalazioak/Julia/julia-1.6.6-linux-x86_64/julia-1.6.6/share/julia/stdlib/v1.6/Pkg/src/Types.jl:231</a></li> <li> getindex(x::<b>Base.Threads.Atomic{UInt32}</b>) in Base.Threads at <a href=\"https://github.com/JuliaLang/julia/tree/b8708f954a3814dc56043c64e271d34beb9f79e7/base/atomics.jl#L358\" target=\"_blank\">atomics.jl:358</a></li> <li> getindex(v::<b>Core.SimpleVector</b>, i::<b>Int64</b>) in Base at <a href=\"https://github.com/JuliaLang/julia/tree/b8708f954a3814dc56043c64e271d34beb9f79e7/base/essentials.jl#L587\" target=\"_blank\">essentials.jl:587</a></li> <li> getindex(v::<b>Core.SimpleVector</b>, I::<b>AbstractArray</b>) in Base at <a href=\"https://github.com/JuliaLang/julia/tree/b8708f954a3814dc56043c64e271d34beb9f79e7/base/essentials.jl#L616\" target=\"_blank\">essentials.jl:616</a></li> <li> getindex(x::<b>Base.Threads.Atomic{UInt64}</b>) in Base.Threads at <a href=\"https://github.com/JuliaLang/julia/tree/b8708f954a3814dc56043c64e271d34beb9f79e7/base/atomics.jl#L358\" target=\"_blank\">atomics.jl:358</a></li> <li> getindex(t::<b>BenchmarkTools.Trial</b>, i::<b>Number</b>) in BenchmarkTools at <a href=\"file:///home/mikel/.julia/packages/BenchmarkTools/7xSXH/src/trials.jl\" target=\"_blank\">/home/mikel/.julia/packages/BenchmarkTools/7xSXH/src/trials.jl:40</a></li> <li> getindex(t::<b>BenchmarkTools.Trial</b>, i) in BenchmarkTools at <a href=\"file:///home/mikel/.julia/packages/BenchmarkTools/7xSXH/src/trials.jl\" target=\"_blank\">/home/mikel/.julia/packages/BenchmarkTools/7xSXH/src/trials.jl:41</a></li> <li> getindex(tree::<b>LibGit2.GitTree</b>, i::<b>Integer</b>) in LibGit2 at <a href=\"file:///buildworker/worker/package_linux64/build/usr/share/julia/stdlib/v1.6/LibGit2/src/tree.jl\" target=\"_blank\">/home/mikel/Mahaigaina/Softwarea-instalazioak/Julia/julia-1.6.6-linux-x86_64/julia-1.6.6/share/julia/stdlib/v1.6/LibGit2/src/tree.jl:107</a></li> <li> getindex(tree::<b>LibGit2.GitTree</b>, target::<b>AbstractString</b>) in LibGit2 at <a href=\"file:///buildworker/worker/package_linux64/build/usr/share/julia/stdlib/v1.6/LibGit2/src/tree.jl\" target=\"_blank\">/home/mikel/Mahaigaina/Softwarea-instalazioak/Julia/julia-1.6.6-linux-x86_64/julia-1.6.6/share/julia/stdlib/v1.6/LibGit2/src/tree.jl:186</a></li> <li> getindex(a::<b>ZMQ.Message</b>, i::<b>Integer</b>) in ZMQ at <a href=\"file:///home/mikel/.julia/packages/ZMQ/R3wSD/src/message.jl\" target=\"_blank\">/home/mikel/.julia/packages/ZMQ/R3wSD/src/message.jl:97</a></li> <li> getindex(A::<b>AbstractArray</b>, I...) in Base at <a href=\"https://github.com/JuliaLang/julia/tree/b8708f954a3814dc56043c64e271d34beb9f79e7/base/abstractarray.jl#L1167\" target=\"_blank\">abstractarray.jl:1167</a></li> <li> getindex(x::<b>Base.Threads.Atomic{Int8}</b>) in Base.Threads at <a href=\"https://github.com/JuliaLang/julia/tree/b8708f954a3814dc56043c64e271d34beb9f79e7/base/atomics.jl#L358\" target=\"_blank\">atomics.jl:358</a></li> <li> getindex(status::<b>LibGit2.GitStatus</b>, i::<b>Integer</b>) in LibGit2 at <a href=\"file:///buildworker/worker/package_linux64/build/usr/share/julia/stdlib/v1.6/LibGit2/src/status.jl\" target=\"_blank\">/home/mikel/Mahaigaina/Softwarea-instalazioak/Julia/julia-1.6.6-linux-x86_64/julia-1.6.6/share/julia/stdlib/v1.6/LibGit2/src/status.jl:27</a></li> <li> getindex(blame::<b>LibGit2.GitBlame</b>, i::<b>Integer</b>) in LibGit2 at <a href=\"file:///buildworker/worker/package_linux64/build/usr/share/julia/stdlib/v1.6/LibGit2/src/blame.jl\" target=\"_blank\">/home/mikel/Mahaigaina/Softwarea-instalazioak/Julia/julia-1.6.6-linux-x86_64/julia-1.6.6/share/julia/stdlib/v1.6/LibGit2/src/blame.jl:33</a></li> <li> getindex(x::<b>Base.Threads.Atomic{Int16}</b>) in Base.Threads at <a href=\"https://github.com/JuliaLang/julia/tree/b8708f954a3814dc56043c64e271d34beb9f79e7/base/atomics.jl#L358\" target=\"_blank\">atomics.jl:358</a></li> <li> getindex(node::<b>Core.Compiler.Instruction</b>, fld::<b>Symbol</b>) in Base.IRShow at <a href=\"https://github.com/JuliaLang/julia/tree/b8708f954a3814dc56043c64e271d34beb9f79e7/base/show.jl#L2357\" target=\"_blank\">show.jl:2357</a></li> <li> getindex(cache::<b>LibGit2.CachedCredentials</b>, cred_id) in LibGit2 at <a href=\"file:///buildworker/worker/package_linux64/build/usr/share/julia/stdlib/v1.6/LibGit2/src/types.jl\" target=\"_blank\">/home/mikel/Mahaigaina/Softwarea-instalazioak/Julia/julia-1.6.6-linux-x86_64/julia-1.6.6/share/julia/stdlib/v1.6/LibGit2/src/types.jl:1300</a></li> <li> getindex(cmd::<b>Cmd</b>, i) in Base at <a href=\"https://github.com/JuliaLang/julia/tree/b8708f954a3814dc56043c64e271d34beb9f79e7/base/process.jl#L655\" target=\"_blank\">process.jl:655</a></li> <li> getindex(x::<b>Base.Threads.Atomic{Int128}</b>) in Base.Threads at <a href=\"https://github.com/JuliaLang/julia/tree/b8708f954a3814dc56043c64e271d34beb9f79e7/base/atomics.jl#L358\" target=\"_blank\">atomics.jl:358</a></li> <li> getindex(x::<b>Base.Threads.Atomic{Int32}</b>) in Base.Threads at <a href=\"https://github.com/JuliaLang/julia/tree/b8708f954a3814dc56043c64e271d34beb9f79e7/base/atomics.jl#L358\" target=\"_blank\">atomics.jl:358</a></li> <li> getindex(md::<b>Markdown.MD</b>, args...) in Markdown at <a href=\"file:///buildworker/worker/package_linux64/build/usr/share/julia/stdlib/v1.6/Markdown/src/parse/parse.jl\" target=\"_blank\">/home/mikel/Mahaigaina/Softwarea-instalazioak/Julia/julia-1.6.6-linux-x86_64/julia-1.6.6/share/julia/stdlib/v1.6/Markdown/src/parse/parse.jl:24</a></li> <li> getindex(x::<b>Base.Threads.Atomic{Bool}</b>) in Base.Threads at <a href=\"https://github.com/JuliaLang/julia/tree/b8708f954a3814dc56043c64e271d34beb9f79e7/base/atomics.jl#L358\" target=\"_blank\">atomics.jl:358</a></li> <li> getindex(x::<b>Base.Threads.Atomic{UInt16}</b>) in Base.Threads at <a href=\"https://github.com/JuliaLang/julia/tree/b8708f954a3814dc56043c64e271d34beb9f79e7/base/atomics.jl#L358\" target=\"_blank\">atomics.jl:358</a></li> <li> getindex(group::<b>BenchmarkGroup</b>, x::<b>BenchmarkGroup</b>) in BenchmarkTools at <a href=\"file:///home/mikel/.julia/packages/BenchmarkTools/7xSXH/src/groups.jl\" target=\"_blank\">/home/mikel/.julia/packages/BenchmarkTools/7xSXH/src/groups.jl:259</a></li> <li> getindex(src::<b>BenchmarkGroup</b>, f::<b>BenchmarkTools.TagFilter</b>) in BenchmarkTools at <a href=\"file:///home/mikel/.julia/packages/BenchmarkTools/7xSXH/src/groups.jl\" target=\"_blank\">/home/mikel/.julia/packages/BenchmarkTools/7xSXH/src/groups.jl:190</a></li> <li> getindex(group::<b>BenchmarkGroup</b>, keys::<b>Vector{T} where T</b>) in BenchmarkTools at <a href=\"file:///home/mikel/.julia/packages/BenchmarkTools/7xSXH/src/groups.jl\" target=\"_blank\">/home/mikel/.julia/packages/BenchmarkTools/7xSXH/src/groups.jl:143</a></li> <li> getindex(group::<b>BenchmarkGroup</b>, k) in BenchmarkTools at <a href=\"file:///home/mikel/.julia/packages/BenchmarkTools/7xSXH/src/groups.jl\" target=\"_blank\">/home/mikel/.julia/packages/BenchmarkTools/7xSXH/src/groups.jl:34</a></li> <li> getindex(group::<b>BenchmarkGroup</b>, k...) in BenchmarkTools at <a href=\"file:///home/mikel/.julia/packages/BenchmarkTools/7xSXH/src/groups.jl\" target=\"_blank\">/home/mikel/.julia/packages/BenchmarkTools/7xSXH/src/groups.jl:35</a></li> <li> getindex(s::<b>String</b>, i::<b>Int64</b>) in Base at <a href=\"https://github.com/JuliaLang/julia/tree/b8708f954a3814dc56043c64e271d34beb9f79e7/base/strings/string.jl#L222\" target=\"_blank\">strings/string.jl:222</a></li> <li> getindex(s::<b>AbstractString</b>, i::<b>Integer</b>) in Base at <a href=\"https://github.com/JuliaLang/julia/tree/b8708f954a3814dc56043c64e271d34beb9f79e7/base/strings/basic.jl#L184\" target=\"_blank\">strings/basic.jl:184</a></li> <li> getindex(s::<b>String</b>, r::<b>UnitRange{Int64}</b>) in Base at <a href=\"https://github.com/JuliaLang/julia/tree/b8708f954a3814dc56043c64e271d34beb9f79e7/base/strings/string.jl#L257\" target=\"_blank\">strings/string.jl:257</a></li> <li> getindex(s::<b>String</b>, r::<b>UnitRange{var\"#s77\"} where var\"#s77\"<:Integer</b>) in Base at <a href=\"https://github.com/JuliaLang/julia/tree/b8708f954a3814dc56043c64e271d34beb9f79e7/base/strings/string.jl#L255\" target=\"_blank\">strings/string.jl:255</a></li> <li> getindex(s::<b>AbstractString</b>, r::<b>UnitRange{var\"#s77\"} where var\"#s77\"<:Integer</b>) in Base at <a href=\"https://github.com/JuliaLang/julia/tree/b8708f954a3814dc56043c64e271d34beb9f79e7/base/strings/substring.jl#L255\" target=\"_blank\">strings/substring.jl:255</a></li> <li> getindex(s::<b>AbstractString</b>, v::<b>AbstractVector{Bool}</b>) in Base at <a href=\"https://github.com/JuliaLang/julia/tree/b8708f954a3814dc56043c64e271d34beb9f79e7/base/strings/basic.jl#L194\" target=\"_blank\">strings/basic.jl:194</a></li> <li> getindex(s::<b>AbstractString</b>, v::<b>AbstractVector{var\"#s77\"} where var\"#s77\"<:Integer</b>) in Base at <a href=\"https://github.com/JuliaLang/julia/tree/b8708f954a3814dc56043c64e271d34beb9f79e7/base/strings/basic.jl#L192\" target=\"_blank\">strings/basic.jl:192</a></li> <li> getindex(x::<b>Base.Threads.Atomic{Float64}</b>) in Base.Threads at <a href=\"https://github.com/JuliaLang/julia/tree/b8708f954a3814dc56043c64e271d34beb9f79e7/base/atomics.jl#L358\" target=\"_blank\">atomics.jl:358</a></li> <li> getindex(t::<b>REPL.Terminals.TTYTerminal</b>, key) in REPL.Terminals at <a href=\"file:///buildworker/worker/package_linux64/build/usr/share/julia/stdlib/v1.6/REPL/src/Terminals.jl\" target=\"_blank\">/home/mikel/Mahaigaina/Softwarea-instalazioak/Julia/julia-1.6.6-linux-x86_64/julia-1.6.6/share/julia/stdlib/v1.6/REPL/src/Terminals.jl:160</a></li> <li> getindex(io::<b>IO</b>, key) in Base at <a href=\"https://github.com/JuliaLang/julia/tree/b8708f954a3814dc56043c64e271d34beb9f79e7/base/show.jl#L341\" target=\"_blank\">show.jl:341</a></li> <li> getindex(r::<b>Distributed.Future</b>) in Distributed at <a href=\"file:///buildworker/worker/package_linux64/build/usr/share/julia/stdlib/v1.6/Distributed/src/remotecall.jl\" target=\"_blank\">/home/mikel/Mahaigaina/Softwarea-instalazioak/Julia/julia-1.6.6-linux-x86_64/julia-1.6.6/share/julia/stdlib/v1.6/Distributed/src/remotecall.jl:640</a></li> <li> getindex(r::<b>Distributed.Future</b>, args...) in Distributed at <a href=\"file:///buildworker/worker/package_linux64/build/usr/share/julia/stdlib/v1.6/Distributed/src/remotecall.jl\" target=\"_blank\">/home/mikel/Mahaigaina/Softwarea-instalazioak/Julia/julia-1.6.6-linux-x86_64/julia-1.6.6/share/julia/stdlib/v1.6/Distributed/src/remotecall.jl:642</a></li> <li> getindex(buffer::<b>Base64.Buffer</b>, i::<b>Integer</b>) in Base64 at <a href=\"file:///buildworker/worker/package_linux64/build/usr/share/julia/stdlib/v1.6/Base64/src/buffer.jl\" target=\"_blank\">/home/mikel/Mahaigaina/Softwarea-instalazioak/Julia/julia-1.6.6-linux-x86_64/julia-1.6.6/share/julia/stdlib/v1.6/Base64/src/buffer.jl:16</a></li> <li> getindex(idx::<b>LibGit2.GitIndex</b>, i::<b>Integer</b>) in LibGit2 at <a href=\"file:///buildworker/worker/package_linux64/build/usr/share/julia/stdlib/v1.6/LibGit2/src/index.jl\" target=\"_blank\">/home/mikel/Mahaigaina/Softwarea-instalazioak/Julia/julia-1.6.6-linux-x86_64/julia-1.6.6/share/julia/stdlib/v1.6/LibGit2/src/index.jl:179</a></li> <li> getindex(x::<b>Base.Threads.Atomic{Float32}</b>) in Base.Threads at <a href=\"https://github.com/JuliaLang/julia/tree/b8708f954a3814dc56043c64e271d34beb9f79e7/base/atomics.jl#L358\" target=\"_blank\">atomics.jl:358</a></li> <li> getindex(x::<b>Base.Threads.Atomic{UInt128}</b>) in Base.Threads at <a href=\"https://github.com/JuliaLang/julia/tree/b8708f954a3814dc56043c64e271d34beb9f79e7/base/atomics.jl#L358\" target=\"_blank\">atomics.jl:358</a></li> <li> getindex(b::<b>Pkg.Types.VersionBound</b>, i::<b>Int64</b>) in Pkg.Types at <a href=\"file:///buildworker/worker/package_linux64/build/usr/share/julia/stdlib/v1.6/Pkg/src/versions.jl\" target=\"_blank\">/home/mikel/Mahaigaina/Softwarea-instalazioak/Julia/julia-1.6.6-linux-x86_64/julia-1.6.6/share/julia/stdlib/v1.6/Pkg/src/versions.jl:21</a></li> <li> getindex(match::<b>Core.MethodMatch</b>, field::<b>Int64</b>) in Base at <a href=\"https://github.com/JuliaLang/julia/tree/b8708f954a3814dc56043c64e271d34beb9f79e7/base/deprecated.jl#L221\" target=\"_blank\">deprecated.jl:221</a></li> </ul>"
      ],
      "text/plain": [
       "# 225 methods for generic function \"getindex\":\n",
       "[1] getindex(r::Union{LinRange, StepRangeLen}, i::Integer) in Base at range.jl:716\n",
       "[2] getindex(v::Union{Adjoint{T, var\"#s814\"}, Transpose{T, var\"#s814\"}} where {T, var\"#s814\"<:(AbstractVector{T} where T)}, i::Int64) in LinearAlgebra at /home/mikel/Mahaigaina/Softwarea-instalazioak/Julia/julia-1.6.6-linux-x86_64/julia-1.6.6/share/julia/stdlib/v1.6/LinearAlgebra/src/adjtrans.jl:202\n",
       "[3] getindex(A::Union{Adjoint{T, var\"#s814\"}, Transpose{T, var\"#s814\"}} where {T, var\"#s814\"<:(AbstractMatrix{T} where T)}, i::Int64, j::Int64) in LinearAlgebra at /home/mikel/Mahaigaina/Softwarea-instalazioak/Julia/julia-1.6.6-linux-x86_64/julia-1.6.6/share/julia/stdlib/v1.6/LinearAlgebra/src/adjtrans.jl:203\n",
       "[4] getindex(v::Union{Adjoint{T, var\"#s814\"}, Transpose{T, var\"#s814\"}} where {T, var\"#s814\"<:(AbstractVector{T} where T)}, ::Colon, is::AbstractArray{Int64, N} where N) in LinearAlgebra at /home/mikel/Mahaigaina/Softwarea-instalazioak/Julia/julia-1.6.6-linux-x86_64/julia-1.6.6/share/julia/stdlib/v1.6/LinearAlgebra/src/adjtrans.jl:207\n",
       "[5] getindex(v::Union{Adjoint{T, var\"#s814\"}, Transpose{T, var\"#s814\"}} where {T, var\"#s814\"<:(AbstractVector{T} where T)}, ::Colon, ::Colon) in LinearAlgebra at /home/mikel/Mahaigaina/Softwarea-instalazioak/Julia/julia-1.6.6-linux-x86_64/julia-1.6.6/share/julia/stdlib/v1.6/LinearAlgebra/src/adjtrans.jl:208\n",
       "[6] getindex(a::Union{DenseVector{T}, Base.ReinterpretArray{T, 1, T2, A, IsReshaped} where {T2, A<:Union{DenseVector{T2}, SubArray{T2, 1, P, I, true} where {P, I<:Union{Tuple{Vararg{Real, N} where N}, Tuple{AbstractUnitRange, Vararg{Any, N} where N}}}}, IsReshaped}, SubArray{T, 1, P, I, true} where {P, I<:Union{Tuple{Vararg{Real, N} where N}, Tuple{AbstractUnitRange, Vararg{Any, N} where N}}}}, idx::Vec{N, Int64}) where {N, T} in SIMD at /home/mikel/.julia/packages/SIMD/myoU9/src/arrayops.jl:171\n",
       "[7] getindex(r::Distributed.RemoteChannel) in Distributed at /home/mikel/Mahaigaina/Softwarea-instalazioak/Julia/julia-1.6.6-linux-x86_64/julia-1.6.6/share/julia/stdlib/v1.6/Distributed/src/remotecall.jl:639\n",
       "[8] getindex(r::Distributed.RemoteChannel, args...) in Distributed at /home/mikel/Mahaigaina/Softwarea-instalazioak/Julia/julia-1.6.6-linux-x86_64/julia-1.6.6/share/julia/stdlib/v1.6/Distributed/src/remotecall.jl:643\n",
       "[9] getindex(a::Random.UnsafeView, i::Int64) in Random at /home/mikel/Mahaigaina/Softwarea-instalazioak/Julia/julia-1.6.6-linux-x86_64/julia-1.6.6/share/julia/stdlib/v1.6/Random/src/RNGs.jl:508\n",
       "[10] getindex(sp::Random.SamplerTrivial) in Random at /home/mikel/Mahaigaina/Softwarea-instalazioak/Julia/julia-1.6.6-linux-x86_64/julia-1.6.6/share/julia/stdlib/v1.6/Random/src/Random.jl:183\n",
       "[11] getindex(A::PermutedDimsArray{T, N, perm, iperm, AA} where AA<:AbstractArray, I::Vararg{Int64, N}) where {T, N, perm, iperm} in Base.PermutedDimsArrays at permuteddimsarray.jl:69\n",
       "[12] getindex(r::LinRange{T}, s::OrdinalRange{var\"#s77\", S} where {var\"#s77\"<:Integer, S}) where T in Base at range.jl:783\n",
       "[13] getindex(d::IdDict{K, V}, key) where {K, V} in Base at iddict.jl:91\n",
       "[14] getindex(t::Tuple, i::Int64) in Base at tuple.jl:29\n",
       "[15] getindex(t::Tuple, i::Real) in Base at tuple.jl:30\n",
       "[16] getindex(t::Tuple, c::Colon) in Base at tuple.jl:33\n",
       "[17] getindex(t::Tuple, r::UnitRange) in Base at range.jl:302\n",
       "[18] getindex(t::Tuple, b::AbstractVector{Bool}) in Base at tuple.jl:32\n",
       "[19] getindex(t::Tuple, r::AbstractVector{var\"#s77\"} where var\"#s77\") in Base at tuple.jl:31\n",
       "[20] getindex(t::Tuple, i::CartesianIndex{1}) in Base at multidimensional.jl:831\n",
       "[21] getindex(A::SuiteSparse.CHOLMOD.Dense, i::Integer) in SuiteSparse.CHOLMOD at /home/mikel/Mahaigaina/Softwarea-instalazioak/Julia/julia-1.6.6-linux-x86_64/julia-1.6.6/share/julia/stdlib/v1.6/SuiteSparse/src/cholmod.jl:1185\n",
       "[22] getindex(D::Diagonal, i::Int64, j::Int64) in LinearAlgebra at /home/mikel/Mahaigaina/Softwarea-instalazioak/Julia/julia-1.6.6-linux-x86_64/julia-1.6.6/share/julia/stdlib/v1.6/LinearAlgebra/src/diagonal.jl:84\n",
       "[23] getindex(wkh::WeakKeyDict{K, V} where V, key) where K in Base at weakkeydict.jl:183\n",
       "[24] getindex(A::Base.ReshapedArray{T, N, P, MI} where {P<:AbstractArray, MI<:Tuple{Vararg{Base.MultiplicativeInverses.SignedMultiplicativeInverse{Int64}, N} where N}}, indices::Vararg{Int64, N}) where {T, N} in Base at reshapedarray.jl:232\n",
       "[25] getindex(A::Base.ReshapedArray{T, N, P, Tuple{}} where {T, N, P<:AbstractArray}, index::Int64) in Base at reshapedarray.jl:227\n",
       "[26] getindex(A::Base.ReshapedArray, index::Base.ReshapedIndex) in Base at reshapedarray.jl:236\n",
       "[27] getindex(iter::CartesianIndices{N, R}, I::Vararg{Int64, N}) where {N, R} in Base.IteratorsMD at multidimensional.jl:352\n",
       "[28] getindex(A::SparseArrays.AbstractSparseMatrixCSC{Tv, Ti} where Ti<:Integer, I::AbstractUnitRange) where Tv in SparseArrays at /home/mikel/Mahaigaina/Softwarea-instalazioak/Julia/julia-1.6.6-linux-x86_64/julia-1.6.6/share/julia/stdlib/v1.6/SparseArrays/src/sparsevector.jl:645\n",
       "[29] getindex(x::SparseArrays.AbstractSparseMatrixCSC, I::AbstractUnitRange, j::Integer) in SparseArrays at /home/mikel/Mahaigaina/Softwarea-instalazioak/Julia/julia-1.6.6-linux-x86_64/julia-1.6.6/share/julia/stdlib/v1.6/SparseArrays/src/sparsevector.jl:550\n",
       "[30] getindex(x::SparseArrays.AbstractSparseVector{Tv, Ti}, I::AbstractUnitRange) where {Tv, Ti} in SparseArrays at /home/mikel/Mahaigaina/Softwarea-instalazioak/Julia/julia-1.6.6-linux-x86_64/julia-1.6.6/share/julia/stdlib/v1.6/SparseArrays/src/sparsevector.jl:822\n",
       "[31] getindex(A::SparseArrays.AbstractSparseMatrixCSC{var\"#s814\", var\"#s813\"} where {var\"#s814\", var\"#s813\"<:Integer}, I::AbstractRange{Bool}, J::AbstractVector{Bool}) in SparseArrays at /home/mikel/Mahaigaina/Softwarea-instalazioak/Julia/julia-1.6.6-linux-x86_64/julia-1.6.6/share/julia/stdlib/v1.6/SparseArrays/src/sparsematrix.jl:2561\n",
       "[32] getindex(A::SparseArrays.AbstractSparseMatrixCSC, I::AbstractRange{var\"#s814\"} where var\"#s814\"<:Integer, J::AbstractVector{Bool}) in SparseArrays at /home/mikel/Mahaigaina/Softwarea-instalazioak/Julia/julia-1.6.6-linux-x86_64/julia-1.6.6/share/julia/stdlib/v1.6/SparseArrays/src/sparsematrix.jl:2564\n",
       "[33] getindex(A::SparseArrays.AbstractSparseMatrixCSC{var\"#s814\", var\"#s813\"} where {var\"#s814\", var\"#s813\"<:Integer}, I::AbstractRange{Bool}, J::AbstractVector{var\"#s812\"} where var\"#s812\"<:Integer) in SparseArrays at /home/mikel/Mahaigaina/Softwarea-instalazioak/Julia/julia-1.6.6-linux-x86_64/julia-1.6.6/share/julia/stdlib/v1.6/SparseArrays/src/sparsematrix.jl:2562\n",
       "[34] getindex(A::SparseArrays.AbstractSparseMatrixCSC{Tv, Ti}, I::AbstractRange, J::AbstractVector{T} where T) where {Tv, Ti<:Integer} in SparseArrays at /home/mikel/Mahaigaina/Softwarea-instalazioak/Julia/julia-1.6.6-linux-x86_64/julia-1.6.6/share/julia/stdlib/v1.6/SparseArrays/src/sparsematrix.jl:2179\n",
       "[35] getindex(A::SparseArrays.AbstractSparseMatrixCSC, I::AbstractVector{Bool}) in SparseArrays at /home/mikel/Mahaigaina/Softwarea-instalazioak/Julia/julia-1.6.6-linux-x86_64/julia-1.6.6/share/julia/stdlib/v1.6/SparseArrays/src/sparsevector.jl:601\n",
       "[36] getindex(A::SparseArrays.AbstractSparseMatrixCSC, I::AbstractVector{Bool}, J::Integer) in SparseArrays at /home/mikel/Mahaigaina/Softwarea-instalazioak/Julia/julia-1.6.6-linux-x86_64/julia-1.6.6/share/julia/stdlib/v1.6/SparseArrays/src/sparsematrix.jl:2566\n",
       "[37] getindex(A::SparseArrays.AbstractSparseMatrixCSC, I::AbstractVector{Bool}, J::AbstractVector{Bool}) in SparseArrays at /home/mikel/Mahaigaina/Softwarea-instalazioak/Julia/julia-1.6.6-linux-x86_64/julia-1.6.6/share/julia/stdlib/v1.6/SparseArrays/src/sparsematrix.jl:2567\n",
       "[38] getindex(A::SparseArrays.AbstractSparseMatrixCSC, I::AbstractVector{var\"#s814\"} where var\"#s814\"<:Integer, J::AbstractVector{Bool}) in SparseArrays at /home/mikel/Mahaigaina/Softwarea-instalazioak/Julia/julia-1.6.6-linux-x86_64/julia-1.6.6/share/julia/stdlib/v1.6/SparseArrays/src/sparsematrix.jl:2568\n",
       "[39] getindex(A::SparseArrays.AbstractSparseMatrixCSC, I::AbstractVector{Bool}, J::AbstractVector{var\"#s814\"} where var\"#s814\"<:Integer) in SparseArrays at /home/mikel/Mahaigaina/Softwarea-instalazioak/Julia/julia-1.6.6-linux-x86_64/julia-1.6.6/share/julia/stdlib/v1.6/SparseArrays/src/sparsematrix.jl:2569\n",
       "[40] getindex(x::SparseArrays.AbstractSparseVector{Tv, Ti} where {Tv, Ti}, I::AbstractVector{Bool}) in SparseArrays at /home/mikel/Mahaigaina/Softwarea-instalazioak/Julia/julia-1.6.6-linux-x86_64/julia-1.6.6/share/julia/stdlib/v1.6/SparseArrays/src/sparsevector.jl:853\n",
       "[41] getindex(A::SparseArrays.AbstractSparseMatrixCSC, I::AbstractVector{T} where T, J::Integer) in SparseArrays at /home/mikel/Mahaigaina/Softwarea-instalazioak/Julia/julia-1.6.6-linux-x86_64/julia-1.6.6/share/julia/stdlib/v1.6/SparseArrays/src/sparsevector.jl:562\n",
       "[42] getindex(A::SparseArrays.AbstractSparseMatrixCSC, I::AbstractArray{Bool, N} where N) in SparseArrays at /home/mikel/Mahaigaina/Softwarea-instalazioak/Julia/julia-1.6.6-linux-x86_64/julia-1.6.6/share/julia/stdlib/v1.6/SparseArrays/src/sparsevector.jl:602\n",
       "[43] getindex(A::SparseArrays.AbstractSparseMatrixCSC{Tv, Ti}, I::AbstractVector{T} where T) where {Tv, Ti} in SparseArrays at /home/mikel/Mahaigaina/Softwarea-instalazioak/Julia/julia-1.6.6-linux-x86_64/julia-1.6.6/share/julia/stdlib/v1.6/SparseArrays/src/sparsevector.jl:682\n",
       "[44] getindex(A::SparseArrays.AbstractSparseMatrixCSC{Tv, Ti}, I::AbstractVector{T} where T, J::AbstractVector{T} where T) where {Tv, Ti} in SparseArrays at /home/mikel/Mahaigaina/Softwarea-instalazioak/Julia/julia-1.6.6-linux-x86_64/julia-1.6.6/share/julia/stdlib/v1.6/SparseArrays/src/sparsematrix.jl:2492\n",
       "[45] getindex(x::SparseArrays.AbstractSparseVector{Tv, Ti}, I::AbstractVector{T} where T) where {Tv, Ti} in SparseArrays at /home/mikel/Mahaigaina/Softwarea-instalazioak/Julia/julia-1.6.6-linux-x86_64/julia-1.6.6/share/julia/stdlib/v1.6/SparseArrays/src/sparsevector.jl:855\n",
       "[46] getindex(x::SparseArrays.AbstractSparseVector{Tv, Ti} where {Tv, Ti}, I::AbstractArray{Bool, N} where N) in SparseArrays at /home/mikel/Mahaigaina/Softwarea-instalazioak/Julia/julia-1.6.6-linux-x86_64/julia-1.6.6/share/julia/stdlib/v1.6/SparseArrays/src/sparsevector.jl:854\n",
       "[47] getindex(A::SparseArrays.AbstractSparseMatrixCSC{Tv, Ti}, I::AbstractArray) where {Tv, Ti} in SparseArrays at /home/mikel/Mahaigaina/Softwarea-instalazioak/Julia/julia-1.6.6-linux-x86_64/julia-1.6.6/share/julia/stdlib/v1.6/SparseArrays/src/sparsematrix.jl:2517\n",
       "[48] getindex(x::SparseArrays.AbstractSparseVector{Tv, Ti}, I::AbstractArray) where {Tv, Ti} in SparseArrays at /home/mikel/Mahaigaina/Softwarea-instalazioak/Julia/julia-1.6.6-linux-x86_64/julia-1.6.6/share/julia/stdlib/v1.6/SparseArrays/src/sparsevector.jl:861\n",
       "[49] getindex(A::SparseArrays.AbstractSparseMatrixCSC, I::Integer, J::AbstractVector{Bool}) in SparseArrays at /home/mikel/Mahaigaina/Softwarea-instalazioak/Julia/julia-1.6.6-linux-x86_64/julia-1.6.6/share/julia/stdlib/v1.6/SparseArrays/src/sparsematrix.jl:2565\n",
       "[50] getindex(A::SparseArrays.AbstractSparseMatrixCSC{T, Ti} where Ti<:Integer, i0::Integer, i1::Integer) where T in SparseArrays at /home/mikel/Mahaigaina/Softwarea-instalazioak/Julia/julia-1.6.6-linux-x86_64/julia-1.6.6/share/julia/stdlib/v1.6/SparseArrays/src/sparsematrix.jl:2128\n",
       "[51] getindex(A::SparseArrays.AbstractSparseMatrixCSC, i::Integer, ::Colon) in SparseArrays at /home/mikel/Mahaigaina/Softwarea-instalazioak/Julia/julia-1.6.6-linux-x86_64/julia-1.6.6/share/julia/stdlib/v1.6/SparseArrays/src/sparsevector.jl:568\n",
       "[52] getindex(A::SparseArrays.AbstractSparseMatrixCSC{Tv, Ti}, i::Integer, J::AbstractVector{T} where T) where {Tv, Ti} in SparseArrays at /home/mikel/Mahaigaina/Softwarea-instalazioak/Julia/julia-1.6.6-linux-x86_64/julia-1.6.6/share/julia/stdlib/v1.6/SparseArrays/src/sparsevector.jl:569\n",
       "[53] getindex(A::SparseArrays.AbstractSparseMatrixCSC, I::Tuple{Integer, Integer}) in SparseArrays at /home/mikel/Mahaigaina/Softwarea-instalazioak/Julia/julia-1.6.6-linux-x86_64/julia-1.6.6/share/julia/stdlib/v1.6/SparseArrays/src/sparsematrix.jl:2126\n",
       "[54] getindex(A::SparseArrays.AbstractSparseMatrixCSC, ::Colon) in SparseArrays at /home/mikel/Mahaigaina/Softwarea-instalazioak/Julia/julia-1.6.6-linux-x86_64/julia-1.6.6/share/julia/stdlib/v1.6/SparseArrays/src/sparsevector.jl:643\n",
       "[55] getindex(A::SparseArrays.AbstractSparseMatrixCSC, ::Colon, ::Colon) in SparseArrays at /home/mikel/Mahaigaina/Softwarea-instalazioak/Julia/julia-1.6.6-linux-x86_64/julia-1.6.6/share/julia/stdlib/v1.6/SparseArrays/src/sparsematrix.jl:2138\n",
       "[56] getindex(A::SparseArrays.AbstractSparseMatrixCSC, i, ::Colon) in SparseArrays at /home/mikel/Mahaigaina/Softwarea-instalazioak/Julia/julia-1.6.6-linux-x86_64/julia-1.6.6/share/julia/stdlib/v1.6/SparseArrays/src/sparsematrix.jl:2139\n",
       "[57] getindex(x::SparseArrays.AbstractSparseMatrixCSC, ::Colon, j::Integer) in SparseArrays at /home/mikel/Mahaigaina/Softwarea-instalazioak/Julia/julia-1.6.6-linux-x86_64/julia-1.6.6/share/julia/stdlib/v1.6/SparseArrays/src/sparsevector.jl:543\n",
       "[58] getindex(A::SparseArrays.AbstractSparseMatrixCSC, ::Colon, i) in SparseArrays at /home/mikel/Mahaigaina/Softwarea-instalazioak/Julia/julia-1.6.6-linux-x86_64/julia-1.6.6/share/julia/stdlib/v1.6/SparseArrays/src/sparsematrix.jl:2140\n",
       "[59] getindex(x::SparseArrays.AbstractSparseVector{Tv, Ti} where {Tv, Ti}, ::Colon) in SparseArrays at /home/mikel/Mahaigaina/Softwarea-instalazioak/Julia/julia-1.6.6-linux-x86_64/julia-1.6.6/share/julia/stdlib/v1.6/SparseArrays/src/sparsevector.jl:867\n",
       "[60] getindex(r::StepRange, s::AbstractRange{var\"#s77\"} where var\"#s77\"<:Integer) in Base at range.jl:766\n",
       "[61] getindex(S::Base.IdentityUnitRange, i::Int64) in Base at indices.jl:397\n",
       "[62] getindex(S::Base.IdentityUnitRange, i::AbstractUnitRange{var\"#s77\"} where var\"#s77\"<:Integer) in Base at indices.jl:398\n",
       "[63] getindex(S::Base.IdentityUnitRange, i::StepRange{var\"#s77\", S} where {var\"#s77\"<:Integer, S}) in Base at indices.jl:399\n",
       "[64] getindex(B::BitArray, i::Int64) in Base at bitarray.jl:677\n",
       "[65] getindex(A::SymTridiagonal{T, V} where V<:AbstractVector{T}, i::Integer, j::Integer) where T in LinearAlgebra at /home/mikel/Mahaigaina/Softwarea-instalazioak/Julia/julia-1.6.6-linux-x86_64/julia-1.6.6/share/julia/stdlib/v1.6/LinearAlgebra/src/tridiag.jl:444\n",
       "[66] getindex(A::Base.Experimental.Const, i1::Int64) in Base.Experimental at experimental.jl:30\n",
       "[67] getindex(A::Base.Experimental.Const, i1::Int64, i2::Int64, I::Int64...) in Base.Experimental at experimental.jl:32\n",
       "[68] getindex(io::IOContext, key) in Base at show.jl:340\n",
       "[69] getindex(dict::Base.ImmutableDict, key) in Base at dict.jl:780\n",
       "[70] getindex(A::Array, i1::Int64) in Base at array.jl:805\n",
       "[71] getindex(A::Array, i1::Int64, i2::Int64, I::Int64...) in Base at array.jl:806\n",
       "[72] getindex(A::Array, I::UnitRange{Int64}) in Base at array.jl:809\n",
       "[73] getindex(A::Array, c::Colon) in Base at array.jl:819\n",
       "[74] getindex(A::Array{S, N} where N, I::AbstractRange{Int64}) where S in Base at array.jl:829\n",
       "[75] getindex(A::Array, i1::Integer, I::Integer...) in Base at abstractarray.jl:1173\n",
       "[76] getindex(A::Array, i1::Union{Integer, CartesianIndex}, I::Union{Integer, CartesianIndex}...) in Base at multidimensional.jl:643\n",
       "[77] getindex(bc::Base.Broadcast.Broadcasted) in Base.Broadcast at broadcast.jl:584\n",
       "[78] getindex(bc::Base.Broadcast.Broadcasted, I::Union{Integer, CartesianIndex}) in Base.Broadcast at broadcast.jl:573\n",
       "[79] getindex(bc::Base.Broadcast.Broadcasted, i1::Union{Integer, CartesianIndex}, i2::Union{Integer, CartesianIndex}, I::Union{Integer, CartesianIndex}...) in Base.Broadcast at broadcast.jl:582\n",
       "[80] getindex(J::UniformScaling, i::Integer, j::Integer) in LinearAlgebra at /home/mikel/Mahaigaina/Softwarea-instalazioak/Julia/julia-1.6.6-linux-x86_64/julia-1.6.6/share/julia/stdlib/v1.6/LinearAlgebra/src/uniformscaling.jl:89\n",
       "[81] getindex(x::UniformScaling, n::Integer, m::AbstractRange{var\"#s814\"} where var\"#s814\"<:Integer) in LinearAlgebra at /home/mikel/Mahaigaina/Softwarea-instalazioak/Julia/julia-1.6.6-linux-x86_64/julia-1.6.6/share/julia/stdlib/v1.6/LinearAlgebra/src/uniformscaling.jl:91\n",
       "[82] getindex(x::UniformScaling{T}, n::AbstractRange{var\"#s814\"} where var\"#s814\"<:Integer, m::Integer) where T in LinearAlgebra at /home/mikel/Mahaigaina/Softwarea-instalazioak/Julia/julia-1.6.6-linux-x86_64/julia-1.6.6/share/julia/stdlib/v1.6/LinearAlgebra/src/uniformscaling.jl:92\n",
       "[83] getindex(x::UniformScaling{T}, n::AbstractRange{var\"#s814\"} where var\"#s814\"<:Integer, m::AbstractRange{var\"#s813\"} where var\"#s813\"<:Integer) where T in LinearAlgebra at /home/mikel/Mahaigaina/Softwarea-instalazioak/Julia/julia-1.6.6-linux-x86_64/julia-1.6.6/share/julia/stdlib/v1.6/LinearAlgebra/src/uniformscaling.jl:103\n",
       "[84] getindex(sp::Random.SamplerSimple) in Random at /home/mikel/Mahaigaina/Softwarea-instalazioak/Julia/julia-1.6.6-linux-x86_64/julia-1.6.6/share/julia/stdlib/v1.6/Random/src/Random.jl:201\n",
       "[85] getindex(Q::LinearAlgebra.AbstractQ, i::Integer, j::Integer) in LinearAlgebra at /home/mikel/Mahaigaina/Softwarea-instalazioak/Julia/julia-1.6.6-linux-x86_64/julia-1.6.6/share/julia/stdlib/v1.6/LinearAlgebra/src/qr.jl:562\n",
       "[86] getindex(iter::LinearIndices, i::Int64) in Base at indices.jl:479\n",
       "[87] getindex(iter::LinearIndices, i::AbstractRange{var\"#s77\"} where var\"#s77\"<:Integer) in Base at indices.jl:484\n",
       "[88] getindex(S::SharedArrays.SharedArray, i::Real) in SharedArrays at /home/mikel/Mahaigaina/Softwarea-instalazioak/Julia/julia-1.6.6-linux-x86_64/julia-1.6.6/share/julia/stdlib/v1.6/SharedArrays/src/SharedArrays.jl:510\n",
       "[89] getindex(r::StepRangeLen{T, var\"#s77\", var\"#s76\"} where {var\"#s77\"<:Base.TwicePrecision, var\"#s76\"<:Base.TwicePrecision}, s::OrdinalRange{var\"#s75\", S} where {var\"#s75\"<:Integer, S}) where T in Base at twiceprecision.jl:465\n",
       "[90] getindex(r::StepRangeLen{T, R, S} where {R, S}, s::OrdinalRange{var\"#s77\", S} where {var\"#s77\"<:Integer, S}) where T in Base at range.jl:773\n",
       "[91] getindex(iter::Base.SCartesianIndices2{K, R} where R<:AbstractUnitRange{Int64}, i::Int64, j::Int64) where K in Base at reinterpretarray.jl:224\n",
       "[92] getindex(A::Hermitian, i::Integer, j::Integer) in LinearAlgebra at /home/mikel/Mahaigaina/Softwarea-instalazioak/Julia/julia-1.6.6-linux-x86_64/julia-1.6.6/share/julia/stdlib/v1.6/LinearAlgebra/src/symmetric.jl:213\n",
       "[93] getindex(A::Symmetric, i::Integer, j::Integer) in LinearAlgebra at /home/mikel/Mahaigaina/Softwarea-instalazioak/Julia/julia-1.6.6-linux-x86_64/julia-1.6.6/share/julia/stdlib/v1.6/LinearAlgebra/src/symmetric.jl:203\n",
       "[94] getindex(A::UpperTriangular, i::Integer, j::Integer) in LinearAlgebra at /home/mikel/Mahaigaina/Softwarea-instalazioak/Julia/julia-1.6.6-linux-x86_64/julia-1.6.6/share/julia/stdlib/v1.6/LinearAlgebra/src/triangular.jl:226\n",
       "[95] getindex(A::LinearAlgebra.LQPackedQ, i::Integer, j::Integer) in LinearAlgebra at /home/mikel/Mahaigaina/Softwarea-instalazioak/Julia/julia-1.6.6-linux-x86_64/julia-1.6.6/share/julia/stdlib/v1.6/LinearAlgebra/src/lq.jl:141\n",
       "[96] getindex(v::Vec, i::Union{Int16, Int32, Int64, Int8, UInt16, UInt32, UInt64, UInt8}) in SIMD at /home/mikel/.julia/packages/SIMD/myoU9/src/simdvec.jl:98\n",
       "[97] getindex(A::UnitUpperTriangular{T, S} where S<:AbstractMatrix{T}, i::Integer, j::Integer) where T in LinearAlgebra at /home/mikel/Mahaigaina/Softwarea-instalazioak/Julia/julia-1.6.6-linux-x86_64/julia-1.6.6/share/julia/stdlib/v1.6/LinearAlgebra/src/triangular.jl:224\n",
       "[98] getindex(t::NamedTuple, i::Int64) in Base at namedtuple.jl:117\n",
       "[99] getindex(t::NamedTuple, i::Symbol) in Base at namedtuple.jl:118\n",
       "[100] getindex(p::Pair, i::Int64) in Base at pair.jl:59\n",
       "[101] getindex(p::Pair, i::Real) in Base at pair.jl:60\n",
       "[102] getindex(h::Dict{K, V}, key) where {K, V} in Base at dict.jl:480\n",
       "[103] getindex(index::CartesianIndex, i::Integer) in Base.IteratorsMD at multidimensional.jl:93\n",
       "[104] getindex(s::AbstractString, i::Colon) in Base at strings/basic.jl:189\n",
       "[105] getindex(c::AbstractChar) in Base at char.jl:197\n",
       "[106] getindex(c::AbstractChar, i::Integer) in Base at char.jl:198\n",
       "[107] getindex(c::AbstractChar, I::Integer...) in Base at char.jl:199\n",
       "[108] getindex(v::Vec8Array{T, dim}, i...) where {T, dim} in Main at /home/mikel/Mahaigaina/Work-2021-2022/PIC/PIC-2021-2022/Softwarea/IRK_SIMD_Mikel/IRK16_Vec8Array.jl:15\n",
       "[109] getindex(io::IJulia.IJuliaStdio, key) in IJulia at /home/mikel/.julia/packages/IJulia/AQu2H/src/stdio.jl:20\n",
       "[110] getindex(v::Base.OneTo{T}, i::Integer) where T in Base at range.jl:700\n",
       "[111] getindex(r::Base.OneTo{T}, s::Base.OneTo) where T in Base at range.jl:753\n",
       "[112] getindex(p::Base.BinaryPlatforms.AbstractPlatform, k::String) in Base.BinaryPlatforms at binaryplatforms.jl:137\n",
       "[113] getindex(itr::Base.SkipMissing, I...) in Base at missing.jl:257\n",
       "[114] getindex(v::Base.Iterators.Pairs, key) in Base.Iterators at iterators.jl:270\n",
       "[115] getindex(A::LowerTriangular, i::Integer, j::Integer) in LinearAlgebra at /home/mikel/Mahaigaina/Softwarea-instalazioak/Julia/julia-1.6.6-linux-x86_64/julia-1.6.6/share/julia/stdlib/v1.6/LinearAlgebra/src/triangular.jl:222\n",
       "[116] getindex(H::UpperHessenberg{T, S} where S<:AbstractMatrix{T}, i::Integer, j::Integer) where T in LinearAlgebra at /home/mikel/Mahaigaina/Softwarea-instalazioak/Julia/julia-1.6.6-linux-x86_64/julia-1.6.6/share/julia/stdlib/v1.6/LinearAlgebra/src/hessenberg.jl:73\n",
       "[117] getindex(r::AbstractRange, ::Colon) in Base at range.jl:743\n",
       "[118] getindex(A::Tridiagonal{T, V} where V<:AbstractVector{T}, i::Integer, j::Integer) where T in LinearAlgebra at /home/mikel/Mahaigaina/Softwarea-instalazioak/Julia/julia-1.6.6-linux-x86_64/julia-1.6.6/share/julia/stdlib/v1.6/LinearAlgebra/src/tridiag.jl:629\n",
       "[119] getindex(s::SubString, i::Integer) in Base at strings/substring.jl:82\n",
       "[120] getindex(x::Number) in Base at number.jl:93\n",
       "[121] getindex(x::Number, i::Integer) in Base at number.jl:94\n",
       "[122] getindex(x::Number, I::Integer...) in Base at number.jl:99\n",
       "[123] getindex(x::Number, i::CartesianIndex{0}) in Base at multidimensional.jl:830\n",
       "[124] getindex(S::Base.Slice, i::Int64) in Base at indices.jl:366\n",
       "[125] getindex(S::Base.Slice, i::AbstractUnitRange{var\"#s77\"} where var\"#s77\"<:Integer) in Base at indices.jl:367\n",
       "[126] getindex(r::AbstractUnitRange, s::AbstractUnitRange{var\"#s77\"} where var\"#s77\"<:Integer) in Base at range.jl:745\n",
       "[127] getindex(S::Base.Slice, i::StepRange{var\"#s77\", S} where {var\"#s77\"<:Integer, S}) in Base at indices.jl:368\n",
       "[128] getindex(r::AbstractUnitRange, s::StepRange{var\"#s77\", S} where {var\"#s77\"<:Integer, S}) in Base at range.jl:759\n",
       "[129] getindex(b::Base.RefValue) in Base at refvalue.jl:56\n",
       "[130] getindex(a::Base.ReinterpretArray{T, 0, S, A, false} where {S, A<:AbstractArray{S, 0}}) where T in Base at reinterpretarray.jl:315\n",
       "[131] getindex(arr::Union{DenseArray{T, N}, Base.ReinterpretArray{T, N, T2, A, IsReshaped} where {T2, A<:Union{DenseArray{T2, N}, SubArray{T2, N, P, I, L} where {P, I<:Union{Tuple{Vararg{Real, N} where N}, Tuple{AbstractUnitRange, Vararg{Any, N} where N}}, L}}, IsReshaped}, SubArray{T, N, P, I, L} where {P, I<:Union{Tuple{Vararg{Real, N} where N}, Tuple{AbstractUnitRange, Vararg{Any, N} where N}}, L}} where N, idx::Vec{N, var\"#s12\"} where var\"#s12\"<:Integer, args::Union{Integer, Vec{N, Bool}}...) where {N, T} in SIMD at /home/mikel/.julia/packages/SIMD/myoU9/src/arrayops.jl:313\n",
       "[132] getindex(arr::Union{DenseArray{T, N}, Base.ReinterpretArray{T, N, T2, A, IsReshaped} where {T2, A<:Union{DenseArray{T2, N}, SubArray{T2, N, P, I, L} where {P, I<:Union{Tuple{Vararg{Real, N} where N}, Tuple{AbstractUnitRange, Vararg{Any, N} where N}}, L}}, IsReshaped}, SubArray{T, N, P, I, L} where {P, I<:Union{Tuple{Vararg{Real, N} where N}, Tuple{AbstractUnitRange, Vararg{Any, N} where N}}, L}} where N, idx::VecRange{N}, args::Union{Integer, Vec{N, Bool}}...) where {N, T} in SIMD at /home/mikel/.julia/packages/SIMD/myoU9/src/arrayops.jl:298\n",
       "[133] getindex(a::Base.ReinterpretArray{T, N, S, A, IsReshaped} where {A<:(AbstractArray{S, N} where N), IsReshaped}, inds::Vararg{Int64, N}) where {T, N, S} in Base at reinterpretarray.jl:318\n",
       "[134] getindex(a::Base.ReinterpretArray{T, N, S, A, IsReshaped} where {A<:(AbstractArray{S, N} where N), IsReshaped}, i::Int64) where {T, N, S} in Base at reinterpretarray.jl:323\n",
       "[135] getindex(a::Base.ReinterpretArray{T, N, S, A, true} where A<:(AbstractArray{S, N} where N), ind::Base.SCartesianIndex2) where {T, N, S} in Base at reinterpretarray.jl:334\n",
       "[136] getindex(a::Base.ReinterpretArray) in Base at reinterpretarray.jl:316\n",
       "[137] getindex(a::Test.GenericArray, i::Int64) in Test at /home/mikel/Mahaigaina/Softwarea-instalazioak/Julia/julia-1.6.6-linux-x86_64/julia-1.6.6/share/julia/stdlib/v1.6/Test/src/Test.jl:1691\n",
       "[138] getindex(v::UnitRange{T}, i::Integer) where T<:Union{Bool, Int128, Int16, Int32, Int64, Int8, UInt128, UInt16, UInt32, UInt64, UInt8} in Base at range.jl:693\n",
       "[139] getindex(v::UnitRange{T}, i::Integer) where T in Base at range.jl:683\n",
       "[140] getindex(v::AbstractRange{T}, i::Integer) where T in Base at range.jl:706\n",
       "[141] getindex(A::UnitLowerTriangular{T, S} where S<:AbstractMatrix{T}, i::Integer, j::Integer) where T in LinearAlgebra at /home/mikel/Mahaigaina/Softwarea-instalazioak/Julia/julia-1.6.6-linux-x86_64/julia-1.6.6/share/julia/stdlib/v1.6/LinearAlgebra/src/triangular.jl:220\n",
       "[142] getindex(s::Base.CodeUnits, i::Int64) in Base at strings/basic.jl:741\n",
       "[143] getindex(A::SuiteSparse.CHOLMOD.Sparse{T}, i0::Integer, i1::Integer) where T in SuiteSparse.CHOLMOD at /home/mikel/Mahaigaina/Softwarea-instalazioak/Julia/julia-1.6.6-linux-x86_64/julia-1.6.6/share/julia/stdlib/v1.6/SuiteSparse/src/cholmod.jl:1192\n",
       "[144] getindex(x::SparseArrays.AbstractSparseVector{Tv, Ti} where {Tv, Ti}, i::Integer) in SparseArrays at /home/mikel/Mahaigaina/Softwarea-instalazioak/Julia/julia-1.6.6-linux-x86_64/julia-1.6.6/share/julia/stdlib/v1.6/SparseArrays/src/sparsevector.jl:817\n",
       "[145] getindex(G::LinearAlgebra.Givens, i::Integer, j::Integer) in LinearAlgebra at /home/mikel/Mahaigaina/Softwarea-instalazioak/Julia/julia-1.6.6-linux-x86_64/julia-1.6.6/share/julia/stdlib/v1.6/LinearAlgebra/src/givens.jl:336\n",
       "[146] getindex(::Random.SamplerType{T}) where T in Random at /home/mikel/Mahaigaina/Softwarea-instalazioak/Julia/julia-1.6.6-linux-x86_64/julia-1.6.6/share/julia/stdlib/v1.6/Random/src/Random.jl:164\n",
       "[147] getindex(V::SubArray{var\"#s77\", 1, P, I, true} where {var\"#s77\", P, I<:Union{Tuple{Vararg{Real, N} where N}, Tuple{AbstractUnitRange, Vararg{Any, N} where N}}}, i::Int64) in Base at subarray.jl:306\n",
       "[148] getindex(V::SubArray{var\"#s77\", 1, P, I, true} where {var\"#s77\", P, I}, i::Int64) in Base at subarray.jl:300\n",
       "[149] getindex(V::SubArray{T, N, P, I, true} where {T, N, P, I<:Union{Tuple{Vararg{Real, N} where N}, Tuple{AbstractUnitRange, Vararg{Any, N} where N}}}, i::Int64) in Base at subarray.jl:292\n",
       "[150] getindex(V::SubArray{T, N, P, I, L} where {P, I, L}, I::Vararg{Int64, N}) where {T, N} in Base at subarray.jl:273\n",
       "[151] getindex(V::SubArray{T, N, P, I, true} where {T, N, P, I}, i::Int64) in Base at subarray.jl:282\n",
       "[152] getindex(b::Base.RefArray) in Base at refpointer.jl:181\n",
       "[153] getindex(b::Ref, ::CartesianIndex{0}) in Base at multidimensional.jl:1907\n",
       "[154] getindex(v::VecArray{s, T, dim}, i::Int64) where {s, T, dim} in Main at In[1]:39\n",
       "[155] getindex(v::VecArray{s, T, dim}, i...) where {s, T, dim} in Main at In[1]:18\n",
       "[156] getindex(A::Bidiagonal{T, V} where V<:AbstractVector{T}, i::Integer, j::Integer) where T in LinearAlgebra at /home/mikel/Mahaigaina/Softwarea-instalazioak/Julia/julia-1.6.6-linux-x86_64/julia-1.6.6/share/julia/stdlib/v1.6/LinearAlgebra/src/bidiag.jl:116\n",
       "[157] getindex(::Type{Any}) in Base at array.jl:403\n",
       "[158] getindex(::Type{Any}, vals...) in Base at array.jl:396\n",
       "[159] getindex(::Type{T}) where T in Base at array.jl:391\n",
       "[160] getindex(::Type{T}, x) where T in Base at array.jl:392\n",
       "[161] getindex(::Type{T}, x, y) where T in Base at array.jl:393\n",
       "[162] getindex(::Type{T}, x, y, z) where T in Base at array.jl:394\n",
       "[163] getindex(::Type{T}, vals...) where T in Base at array.jl:383\n",
       "[164] getindex(x::Base.Threads.Atomic{UInt8}) in Base.Threads at atomics.jl:358\n",
       "[165] getindex(r::Core.Compiler.StmtRange, ind::Integer) in Base.IRShow at show.jl:2350\n",
       "[166] getindex(rb::LibGit2.GitRebase, i::Integer) in LibGit2 at /home/mikel/Mahaigaina/Softwarea-instalazioak/Julia/julia-1.6.6-linux-x86_64/julia-1.6.6/share/julia/stdlib/v1.6/LibGit2/src/rebase.jl:34\n",
       "[167] getindex(x::Base.Threads.Atomic{Float16}) in Base.Threads at atomics.jl:358\n",
       "[168] getindex(is::Core.Compiler.InstructionStream, idx::Int64) in Base.IRShow at show.jl:2356\n",
       "[169] getindex(diff::LibGit2.GitDiff, i::Integer) in LibGit2 at /home/mikel/Mahaigaina/Softwarea-instalazioak/Julia/julia-1.6.6-linux-x86_64/julia-1.6.6/share/julia/stdlib/v1.6/LibGit2/src/diff.jl:120\n",
       "[170] getindex(x::Base.Threads.Atomic{Int64}) in Base.Threads at atomics.jl:358\n",
       "[171] getindex(m::RegexMatch, idx::Integer) in Base at regex.jl:177\n",
       "[172] getindex(m::RegexMatch, name::Symbol) in Base at regex.jl:178\n",
       "[173] getindex(m::RegexMatch, name::AbstractString) in Base at regex.jl:183\n",
       "[174] getindex(::Base.EnvDict, k::AbstractString) in Base at env.jl:79\n",
       "[175] getindex(t::AbstractDict, key) in Base at abstractdict.jl:497\n",
       "[176] getindex(t::AbstractDict, k1, k2, ks...) in Base at abstractdict.jl:507\n",
       "[177] getindex(state::JSON.Parser.MemoryParserState, i::Int64) in JSON.Parser at /home/mikel/.julia/packages/JSON/NeJ9k/src/Parser.jl:27\n",
       "[178] getindex(::Base.TTY, key::Symbol) in Base at ttyhascolor.jl:26\n",
       "[179] getindex(dtfd::Base.DataTypeFieldDesc, i::Int64) in Base at reflection.jl:423\n",
       "[180] getindex(m::Pkg.Types.Manifest, i_or_key) in Pkg.Types at /home/mikel/Mahaigaina/Softwarea-instalazioak/Julia/julia-1.6.6-linux-x86_64/julia-1.6.6/share/julia/stdlib/v1.6/Pkg/src/Types.jl:231\n",
       "[181] getindex(x::Base.Threads.Atomic{UInt32}) in Base.Threads at atomics.jl:358\n",
       "[182] getindex(v::Core.SimpleVector, i::Int64) in Base at essentials.jl:587\n",
       "[183] getindex(v::Core.SimpleVector, I::AbstractArray) in Base at essentials.jl:616\n",
       "[184] getindex(x::Base.Threads.Atomic{UInt64}) in Base.Threads at atomics.jl:358\n",
       "[185] getindex(t::BenchmarkTools.Trial, i::Number) in BenchmarkTools at /home/mikel/.julia/packages/BenchmarkTools/7xSXH/src/trials.jl:40\n",
       "[186] getindex(t::BenchmarkTools.Trial, i) in BenchmarkTools at /home/mikel/.julia/packages/BenchmarkTools/7xSXH/src/trials.jl:41\n",
       "[187] getindex(tree::LibGit2.GitTree, i::Integer) in LibGit2 at /home/mikel/Mahaigaina/Softwarea-instalazioak/Julia/julia-1.6.6-linux-x86_64/julia-1.6.6/share/julia/stdlib/v1.6/LibGit2/src/tree.jl:107\n",
       "[188] getindex(tree::LibGit2.GitTree, target::AbstractString) in LibGit2 at /home/mikel/Mahaigaina/Softwarea-instalazioak/Julia/julia-1.6.6-linux-x86_64/julia-1.6.6/share/julia/stdlib/v1.6/LibGit2/src/tree.jl:186\n",
       "[189] getindex(a::ZMQ.Message, i::Integer) in ZMQ at /home/mikel/.julia/packages/ZMQ/R3wSD/src/message.jl:97\n",
       "[190] getindex(A::AbstractArray, I...) in Base at abstractarray.jl:1167\n",
       "[191] getindex(x::Base.Threads.Atomic{Int8}) in Base.Threads at atomics.jl:358\n",
       "[192] getindex(status::LibGit2.GitStatus, i::Integer) in LibGit2 at /home/mikel/Mahaigaina/Softwarea-instalazioak/Julia/julia-1.6.6-linux-x86_64/julia-1.6.6/share/julia/stdlib/v1.6/LibGit2/src/status.jl:27\n",
       "[193] getindex(blame::LibGit2.GitBlame, i::Integer) in LibGit2 at /home/mikel/Mahaigaina/Softwarea-instalazioak/Julia/julia-1.6.6-linux-x86_64/julia-1.6.6/share/julia/stdlib/v1.6/LibGit2/src/blame.jl:33\n",
       "[194] getindex(x::Base.Threads.Atomic{Int16}) in Base.Threads at atomics.jl:358\n",
       "[195] getindex(node::Core.Compiler.Instruction, fld::Symbol) in Base.IRShow at show.jl:2357\n",
       "[196] getindex(cache::LibGit2.CachedCredentials, cred_id) in LibGit2 at /home/mikel/Mahaigaina/Softwarea-instalazioak/Julia/julia-1.6.6-linux-x86_64/julia-1.6.6/share/julia/stdlib/v1.6/LibGit2/src/types.jl:1300\n",
       "[197] getindex(cmd::Cmd, i) in Base at process.jl:655\n",
       "[198] getindex(x::Base.Threads.Atomic{Int128}) in Base.Threads at atomics.jl:358\n",
       "[199] getindex(x::Base.Threads.Atomic{Int32}) in Base.Threads at atomics.jl:358\n",
       "[200] getindex(md::Markdown.MD, args...) in Markdown at /home/mikel/Mahaigaina/Softwarea-instalazioak/Julia/julia-1.6.6-linux-x86_64/julia-1.6.6/share/julia/stdlib/v1.6/Markdown/src/parse/parse.jl:24\n",
       "[201] getindex(x::Base.Threads.Atomic{Bool}) in Base.Threads at atomics.jl:358\n",
       "[202] getindex(x::Base.Threads.Atomic{UInt16}) in Base.Threads at atomics.jl:358\n",
       "[203] getindex(group::BenchmarkGroup, x::BenchmarkGroup) in BenchmarkTools at /home/mikel/.julia/packages/BenchmarkTools/7xSXH/src/groups.jl:259\n",
       "[204] getindex(src::BenchmarkGroup, f::BenchmarkTools.TagFilter) in BenchmarkTools at /home/mikel/.julia/packages/BenchmarkTools/7xSXH/src/groups.jl:190\n",
       "[205] getindex(group::BenchmarkGroup, keys::Vector{T} where T) in BenchmarkTools at /home/mikel/.julia/packages/BenchmarkTools/7xSXH/src/groups.jl:143\n",
       "[206] getindex(group::BenchmarkGroup, k) in BenchmarkTools at /home/mikel/.julia/packages/BenchmarkTools/7xSXH/src/groups.jl:34\n",
       "[207] getindex(group::BenchmarkGroup, k...) in BenchmarkTools at /home/mikel/.julia/packages/BenchmarkTools/7xSXH/src/groups.jl:35\n",
       "[208] getindex(s::String, i::Int64) in Base at strings/string.jl:222\n",
       "[209] getindex(s::AbstractString, i::Integer) in Base at strings/basic.jl:184\n",
       "[210] getindex(s::String, r::UnitRange{Int64}) in Base at strings/string.jl:257\n",
       "[211] getindex(s::String, r::UnitRange{var\"#s77\"} where var\"#s77\"<:Integer) in Base at strings/string.jl:255\n",
       "[212] getindex(s::AbstractString, r::UnitRange{var\"#s77\"} where var\"#s77\"<:Integer) in Base at strings/substring.jl:255\n",
       "[213] getindex(s::AbstractString, v::AbstractVector{Bool}) in Base at strings/basic.jl:194\n",
       "[214] getindex(s::AbstractString, v::AbstractVector{var\"#s77\"} where var\"#s77\"<:Integer) in Base at strings/basic.jl:192\n",
       "[215] getindex(x::Base.Threads.Atomic{Float64}) in Base.Threads at atomics.jl:358\n",
       "[216] getindex(t::REPL.Terminals.TTYTerminal, key) in REPL.Terminals at /home/mikel/Mahaigaina/Softwarea-instalazioak/Julia/julia-1.6.6-linux-x86_64/julia-1.6.6/share/julia/stdlib/v1.6/REPL/src/Terminals.jl:160\n",
       "[217] getindex(io::IO, key) in Base at show.jl:341\n",
       "[218] getindex(r::Distributed.Future) in Distributed at /home/mikel/Mahaigaina/Softwarea-instalazioak/Julia/julia-1.6.6-linux-x86_64/julia-1.6.6/share/julia/stdlib/v1.6/Distributed/src/remotecall.jl:640\n",
       "[219] getindex(r::Distributed.Future, args...) in Distributed at /home/mikel/Mahaigaina/Softwarea-instalazioak/Julia/julia-1.6.6-linux-x86_64/julia-1.6.6/share/julia/stdlib/v1.6/Distributed/src/remotecall.jl:642\n",
       "[220] getindex(buffer::Base64.Buffer, i::Integer) in Base64 at /home/mikel/Mahaigaina/Softwarea-instalazioak/Julia/julia-1.6.6-linux-x86_64/julia-1.6.6/share/julia/stdlib/v1.6/Base64/src/buffer.jl:16\n",
       "[221] getindex(idx::LibGit2.GitIndex, i::Integer) in LibGit2 at /home/mikel/Mahaigaina/Softwarea-instalazioak/Julia/julia-1.6.6-linux-x86_64/julia-1.6.6/share/julia/stdlib/v1.6/LibGit2/src/index.jl:179\n",
       "[222] getindex(x::Base.Threads.Atomic{Float32}) in Base.Threads at atomics.jl:358\n",
       "[223] getindex(x::Base.Threads.Atomic{UInt128}) in Base.Threads at atomics.jl:358\n",
       "[224] getindex(b::Pkg.Types.VersionBound, i::Int64) in Pkg.Types at /home/mikel/Mahaigaina/Softwarea-instalazioak/Julia/julia-1.6.6-linux-x86_64/julia-1.6.6/share/julia/stdlib/v1.6/Pkg/src/versions.jl:21\n",
       "[225] getindex(match::Core.MethodMatch, field::Int64) in Base at deprecated.jl:221"
      ]
     },
     "execution_count": 28,
     "metadata": {},
     "output_type": "execute_result"
    }
   ],
   "source": [
    "methods(getindex)"
   ]
  },
  {
   "cell_type": "code",
   "execution_count": 65,
   "metadata": {},
   "outputs": [
    {
     "data": {
      "text/plain": [
       "NbodyK (generic function with 1 method)"
      ]
     },
     "execution_count": 65,
     "metadata": {},
     "output_type": "execute_result"
    }
   ],
   "source": [
    "include(\"Initial5Body.jl\")\n",
    "include(\"Nbody.jl\")"
   ]
  },
  {
   "cell_type": "code",
   "execution_count": 75,
   "metadata": {},
   "outputs": [
    {
     "data": {
      "text/plain": [
       "3"
      ]
     },
     "execution_count": 75,
     "metadata": {},
     "output_type": "execute_result"
    }
   ],
   "source": [
    "u0, Gm, bodylist = Initial5Body(Float64)\n",
    "dims=size(u0)\n",
    "length(dims)"
   ]
  },
  {
   "cell_type": "code",
   "execution_count": 79,
   "metadata": {},
   "outputs": [
    {
     "data": {
      "text/plain": [
       "1×2 Matrix{DataType}:\n",
       " VecArray{8, Float64, 2}  VecArray{8, Float64, 2}"
      ]
     },
     "execution_count": 79,
     "metadata": {},
     "output_type": "execute_result"
    }
   ],
   "source": [
    "zz=zeros(Float64, s, dims...)\n",
    "#U=VecArray{s,Float64,4}(zz);\n",
    "U=VecArray{s,Float64,length(dims)+1}(zz)\n",
    "L=deepcopy(U)\n",
    "[typeof(L) typeof(U)]"
   ]
  },
  {
   "cell_type": "markdown",
   "metadata": {},
   "source": [
    "## IRK_Coefficients"
   ]
  },
  {
   "cell_type": "code",
   "execution_count": 53,
   "metadata": {},
   "outputs": [
    {
     "data": {
      "text/plain": [
       "IRK16Coefficients (generic function with 2 methods)"
      ]
     },
     "execution_count": 53,
     "metadata": {},
     "output_type": "execute_result"
    }
   ],
   "source": [
    "include(\"IRK_Coefficients.jl\")"
   ]
  },
  {
   "cell_type": "code",
   "execution_count": 54,
   "metadata": {},
   "outputs": [],
   "source": [
    "(hb_, hc_, mu_, nu_) = IRK16Coefficients(4,1.);"
   ]
  },
  {
   "cell_type": "code",
   "execution_count": 57,
   "metadata": {},
   "outputs": [
    {
     "data": {
      "text/plain": [
       "IRK16Coefficients (generic function with 2 methods)"
      ]
     },
     "execution_count": 57,
     "metadata": {},
     "output_type": "execute_result"
    }
   ],
   "source": [
    "include(\"IRK16_Vec8Array.jl\") "
   ]
  },
  {
   "cell_type": "code",
   "execution_count": 64,
   "metadata": {},
   "outputs": [
    {
     "data": {
      "text/plain": [
       "IRKN16step! (generic function with 1 method)"
      ]
     },
     "execution_count": 64,
     "metadata": {},
     "output_type": "execute_result"
    }
   ],
   "source": [
    "include(\"IRK16_VecArray.jl\") "
   ]
  },
  {
   "cell_type": "markdown",
   "metadata": {},
   "source": [
    "## Ntuple"
   ]
  },
  {
   "cell_type": "code",
   "execution_count": 4,
   "metadata": {},
   "outputs": [],
   "source": [
    "data=[1,2,3,4,5,6,7,8];"
   ]
  },
  {
   "cell_type": "code",
   "execution_count": 10,
   "metadata": {},
   "outputs": [
    {
     "data": {
      "text/plain": [
       "<8 x Float64>[1.0, 2.0, 3.0, 4.0, 5.0, 6.0, 7.0, 8.0]"
      ]
     },
     "execution_count": 10,
     "metadata": {},
     "output_type": "execute_result"
    }
   ],
   "source": [
    " #Vec{s,T}( NTuple{s,T}(v.data[k,i...] for k=1:s))\n",
    " v=Vec{8,Float64}(NTuple{8,Float64}(@inbounds data[k] for k=1:8))"
   ]
  },
  {
   "cell_type": "code",
   "execution_count": 8,
   "metadata": {},
   "outputs": [
    {
     "data": {
      "text/plain": [
       "Vec{8, Float64}"
      ]
     },
     "execution_count": 8,
     "metadata": {},
     "output_type": "execute_result"
    }
   ],
   "source": [
    "typeof(v)"
   ]
  },
  {
   "cell_type": "markdown",
   "metadata": {},
   "source": [
    "## Push eta Pop"
   ]
  },
  {
   "cell_type": "code",
   "execution_count": 1,
   "metadata": {},
   "outputs": [
    {
     "data": {
      "text/plain": [
       "Float64"
      ]
     },
     "execution_count": 1,
     "metadata": {},
     "output_type": "execute_result"
    }
   ],
   "source": [
    "    utype = Vector{Float64}\n",
    "    ttype = Float64\n",
    "\n",
    "     uu = utype[]\n",
    "     tt = ttype[]"
   ]
  },
  {
   "cell_type": "code",
   "execution_count": null,
   "metadata": {},
   "outputs": [],
   "source": []
  }
 ],
 "metadata": {
  "@webio": {
   "lastCommId": null,
   "lastKernelId": null
  },
  "kernelspec": {
   "display_name": "Julia 1.6.6",
   "language": "julia",
   "name": "julia-1.6"
  },
  "language_info": {
   "file_extension": ".jl",
   "mimetype": "application/julia",
   "name": "julia",
   "version": "1.6.6"
  }
 },
 "nbformat": 4,
 "nbformat_minor": 2
}
