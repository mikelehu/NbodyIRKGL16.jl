{
 "cells": [
  {
   "cell_type": "code",
   "execution_count": 1,
   "metadata": {},
   "outputs": [],
   "source": [
    "using SIMD\n",
    "using BenchmarkTools\n",
    "using LinearAlgebra"
   ]
  },
  {
   "cell_type": "code",
   "execution_count": 2,
   "metadata": {},
   "outputs": [],
   "source": [
    "struct Vec8Vector{T}\n",
    "    data::Array{T,2}\n",
    "end\n",
    "\n",
    "function Base.getindex(v::Vec8Vector{T},i::Int64) where {T}\n",
    " #   @inbounds vec = Vec((v.data[1,i], v.data[2,i], v.data[3,i], v.data[4,i],v.data[5,i], v.data[6,i], v.data[7,i], v.data[8,i]))\n",
    "    Vec{8,T}( NTuple{8,T}(v.data[k,i]  for k=1:8))\n",
    " #   return vec\n",
    "end\n",
    "\n",
    "function Base.setindex!(v::Vec8Vector{T},vi::Vec{8,T},i::Int64) where {T}\n",
    "    @inbounds for j in 1:8\n",
    "        v.data[j,i] = vi[j]\n",
    "    end\n",
    "    return nothing\n",
    "end"
   ]
  },
  {
   "cell_type": "code",
   "execution_count": 5,
   "metadata": {},
   "outputs": [
    {
     "data": {
      "text/plain": [
       "-1"
      ]
     },
     "execution_count": 5,
     "metadata": {},
     "output_type": "execute_result"
    }
   ],
   "source": [
    "a = rand(8,6)\n",
    "v2=Vec8Vector(a);\n",
    "a[1,1]=pi\n",
    "a[2,1]=pi/2\n",
    "a[1,2]=0\n",
    "a[2,2]=-1\n",
    "#v[1]+1"
   ]
  },
  {
   "cell_type": "code",
   "execution_count": 4,
   "metadata": {},
   "outputs": [
    {
     "data": {
      "text/plain": [
       "<8 x Float64>[0.8319689472936884, 0.9896510450533695, 1.2385291728134555, 0.9230241459356745, 0.9667935630260385, 0.8495099978950313, 0.6363119782842566, 0.7689898993707098]"
      ]
     },
     "execution_count": 4,
     "metadata": {},
     "output_type": "execute_result"
    }
   ],
   "source": [
    "a = rand(8,6)\n",
    "v = Vec8Vector(a)\n",
    "\n",
    "v[6] = v[1]*v[2] + v[3]*v[4] + sin(v[5])"
   ]
  },
  {
   "cell_type": "code",
   "execution_count": 5,
   "metadata": {},
   "outputs": [
    {
     "data": {
      "text/plain": [
       "<8 x Float64>[0.7392587346642323, 0.8358344596621353, 0.9453052573940411, 0.7974300677401995, 0.8230688787067645, 0.7509569218305208, 0.594233240121537, 0.6954097215970189]"
      ]
     },
     "execution_count": 5,
     "metadata": {},
     "output_type": "execute_result"
    }
   ],
   "source": [
    "v[1] = sin(v[6])"
   ]
  },
  {
   "cell_type": "code",
   "execution_count": 6,
   "metadata": {},
   "outputs": [
    {
     "data": {
      "text/plain": [
       "gradV! (generic function with 1 method)"
      ]
     },
     "execution_count": 6,
     "metadata": {},
     "output_type": "execute_result"
    }
   ],
   "source": [
    "function gradV!(grad,q)\n",
    "#   C = μ * J_2 * R_e^2   \n",
    "    C = 1.7554962315534863e10\n",
    "    x = q[1]\n",
    "    y = q[2]\n",
    "    z = q[3]\n",
    "    r2 = x^2 + y^2 + z^2\n",
    "    r = sqrt(r2)\n",
    "    sinth = z/r\n",
    "    aux1 = 1.5*C/(r*r2^2)\n",
    "    aux2 = 5*sinth^2\n",
    "    aux3 = aux1*(1 - aux2)\n",
    "    grad[1] = aux3*x\n",
    "    grad[2] = aux3*y\n",
    "    grad[3] = aux1*(3-aux2)*z\n",
    "    return nothing\n",
    "end"
   ]
  },
  {
   "cell_type": "code",
   "execution_count": 7,
   "metadata": {},
   "outputs": [
    {
     "name": "stdout",
     "output_type": "stream",
     "text": [
      "  19.072 ns (0 allocations: 0 bytes)\n",
      "  10.859 ns (0 allocations: 0 bytes)\n"
     ]
    },
    {
     "data": {
      "text/plain": [
       "0.0"
      ]
     },
     "execution_count": 7,
     "metadata": {},
     "output_type": "execute_result"
    }
   ],
   "source": [
    "qq = rand(8,3)\n",
    "Q = Vec8Vector(qq)\n",
    "Grad = deepcopy(Q)\n",
    "\n",
    "@btime gradV!(Grad,Q)\n",
    "\n",
    "q = qq[1,:]\n",
    "grad = similar(q)\n",
    "\n",
    "\n",
    "@btime gradV!(grad,q)\n",
    "\n",
    "dif = Float64[]\n",
    "for i in 1:8\n",
    "    gradV!(grad,qq[i,:])\n",
    "    push!(dif, norm(grad-Grad.data[i,:])) \n",
    "end\n",
    "norm(dif)"
   ]
  },
  {
   "cell_type": "code",
   "execution_count": 8,
   "metadata": {},
   "outputs": [],
   "source": [
    "struct Vec8Array{T,dim}\n",
    "    data::Array{T,dim}\n",
    "end\n",
    "\n",
    "\n",
    "function Base.getindex(v::Vec8Array{T,dim},i...) where {T,dim}\n",
    "#    @inbounds vec = Vec((v.data[1,i...], v.data[2,i...], v.data[3,i...], v.data[4,i...],v.data[5,i...], v.data[6,i...], v.data[7,i...], v.data[8,i...]))\n",
    "#    return vec\n",
    "      Vec{8,T}( NTuple{8,T}(v.data[k,i...]  for k=1:8))\n",
    "end\n",
    "\n",
    "function Base.setindex!(v::Vec8Array{T,dim},vi::Vec{8,T},i...) where {T,dim}\n",
    "    @inbounds for k in 1:8\n",
    "        v.data[k,i...] = vi[k]\n",
    "    end\n",
    "    return nothing\n",
    "end\n",
    "\n",
    "function Base.setindex!(v::Vec8Array{T,dim},vi::T2,i...) where {T,T2,dim}\n",
    "    @inbounds for k in 1:8\n",
    "        v.data[k,i...] = vi\n",
    "    end\n",
    "    return nothing\n",
    "end"
   ]
  },
  {
   "cell_type": "code",
   "execution_count": 9,
   "metadata": {},
   "outputs": [],
   "source": [
    "struct Vec8Array{T,dim}\n",
    "    data::Array{T,dim}\n",
    "end\n",
    "\n",
    "\n",
    "function Base.getindex(v::Vec8Array{T,dim},i...) where {T,dim}\n",
    "    vec = Vec((v.data[1,i...], v.data[2,i...], v.data[3,i...], v.data[4,i...],v.data[5,i...], v.data[6,i...], v.data[7,i...], v.data[8,i...]))\n",
    "    return vec\n",
    "end\n",
    "\n",
    "function Base.setindex!(v::Vec8Array{T,dim},vi::Vec{8,T},i...) where {T,dim}\n",
    "    for k in 1:8\n",
    "        v.data[k,i...] = vi[k]\n",
    "    end\n",
    "    return nothing\n",
    "end\n",
    "\n",
    "function Base.setindex!(v::Vec8Array{T,dim},vi::T2,i...) where {T,T2,dim}\n",
    "    for k in 1:8\n",
    "        v.data[k,i...] = vi\n",
    "    end\n",
    "    return nothing\n",
    "end"
   ]
  },
  {
   "cell_type": "code",
   "execution_count": 10,
   "metadata": {},
   "outputs": [
    {
     "data": {
      "text/plain": [
       "<8 x Float64>[0.005839859299699747, 0.2508187724077034, 0.3623928377751766, 0.2820134029635282, 0.07144210792654396, 0.6572288527934108, 0.21831048519304727, 0.07900486583423469]"
      ]
     },
     "execution_count": 10,
     "metadata": {},
     "output_type": "execute_result"
    }
   ],
   "source": [
    "a = Vec8Array(rand(8,5,4,5,6))\n",
    "a[1,2,3,1]*a[2,3,4,1]"
   ]
  },
  {
   "cell_type": "code",
   "execution_count": 11,
   "metadata": {},
   "outputs": [
    {
     "data": {
      "text/plain": [
       "<8 x Float64>[0.005839859299699747, 0.2508187724077034, 0.3623928377751766, 0.2820134029635282, 0.07144210792654396, 0.6572288527934108, 0.21831048519304727, 0.07900486583423469]"
      ]
     },
     "execution_count": 11,
     "metadata": {},
     "output_type": "execute_result"
    }
   ],
   "source": [
    "a[1,3,4,1] = a[1,2,3,1]*a[2,3,4,1]"
   ]
  },
  {
   "cell_type": "code",
   "execution_count": 12,
   "metadata": {},
   "outputs": [
    {
     "data": {
      "text/plain": [
       "<8 x Float64>[0.005839859299699747, 0.2508187724077034, 0.3623928377751766, 0.2820134029635282, 0.07144210792654396, 0.6572288527934108, 0.21831048519304727, 0.07900486583423469]"
      ]
     },
     "execution_count": 12,
     "metadata": {},
     "output_type": "execute_result"
    }
   ],
   "source": [
    "a[1,3,4,1] "
   ]
  },
  {
   "cell_type": "code",
   "execution_count": 13,
   "metadata": {},
   "outputs": [
    {
     "name": "stdout",
     "output_type": "stream",
     "text": [
      "  20.848 ns (0 allocations: 0 bytes)\n",
      "  10.729 ns (0 allocations: 0 bytes)\n"
     ]
    },
    {
     "data": {
      "text/plain": [
       "0.0"
      ]
     },
     "execution_count": 13,
     "metadata": {},
     "output_type": "execute_result"
    }
   ],
   "source": [
    "qq = rand(8,3)\n",
    "Q = Vec8Array(qq)\n",
    "Grad = deepcopy(Q)\n",
    "\n",
    "@btime gradV!(Grad,Q)\n",
    "\n",
    "q = qq[1,:]\n",
    "grad = similar(q)\n",
    "\n",
    "\n",
    "@btime gradV!(grad,q)\n",
    "\n",
    "dif = Float64[]\n",
    "for i in 1:8\n",
    "    gradV!(grad,qq[i,:])\n",
    "    push!(dif, norm(grad-Grad.data[i,:])) \n",
    "end\n",
    "norm(dif)"
   ]
  },
  {
   "cell_type": "code",
   "execution_count": 14,
   "metadata": {},
   "outputs": [
    {
     "data": {
      "text/plain": [
       "NbodyODE! (generic function with 1 method)"
      ]
     },
     "execution_count": 14,
     "metadata": {},
     "output_type": "execute_result"
    }
   ],
   "source": [
    "function NbodyODE!(du,u,Gm,t)\n",
    "     N = length(Gm)\n",
    "     for k in 1:3\n",
    "        for i in 1:N\n",
    "            du[k,i,1] = 0\n",
    "        end\n",
    "     end\n",
    "     @inbounds for i in 1:N\n",
    "        xi = u[1,i,1]\n",
    "        yi = u[2,i,1]\n",
    "        zi = u[3,i,1]\n",
    "        Gmi = Gm[i] \n",
    "        for j in i+1:N\n",
    "            xij = xi - u[1,j,1]\n",
    "            yij = yi - u[2,j,1]\n",
    "            zij = zi - u[3,j,1] \n",
    "            Gmj = Gm[j] \n",
    "            dotij = (xij*xij+yij*yij+zij*zij)\n",
    "            auxij = 1/(sqrt(dotij)*dotij) \n",
    "            Gmjauxij = Gmj*auxij\n",
    "            du[1,i,2] -= Gmjauxij*xij\n",
    "            du[2,i,2] -= Gmjauxij*yij\n",
    "            du[3,i,2] -= Gmjauxij*zij  \n",
    "            Gmiauxij = Gmi*auxij\n",
    "            du[1,j,2] += Gmiauxij*xij\n",
    "            du[2,j,2] += Gmiauxij*yij\n",
    "            du[3,j,2] += Gmiauxij*zij\n",
    "        end\n",
    "     end \n",
    "     @inbounds for i in 1:3, j in 1:N\n",
    "        du[i,j,1] = u[i,j,2]\n",
    "     end\n",
    "    return nothing\n",
    "end\n"
   ]
  },
  {
   "cell_type": "code",
   "execution_count": 15,
   "metadata": {},
   "outputs": [
    {
     "name": "stdout",
     "output_type": "stream",
     "text": [
      "  466.015 ns (0 allocations: 0 bytes)\n",
      "  2.110 μs (0 allocations: 0 bytes)\n"
     ]
    }
   ],
   "source": [
    "N = 16\n",
    "s = 8\n",
    "W = rand(s,3,N,2)\n",
    "\n",
    "Gm = rand(N)\n",
    "\n",
    "ddW = similar(W)\n",
    "\n",
    "Q = Vec8Array(W)\n",
    "ddQ = Vec8Array(ddW)\n",
    "\n",
    "q = W[1,:,:,:]\n",
    "ddq = ddW[1,:,:,:]\n",
    "\n",
    "@btime NbodyODE!(ddq, q, Gm, 0.)\n",
    "\n",
    "@btime NbodyODE!(ddQ, Q, Gm, 0.)\n",
    "\n",
    "\n"
   ]
  },
  {
   "cell_type": "code",
   "execution_count": 16,
   "metadata": {},
   "outputs": [],
   "source": [
    "N=5\n",
    "uu = rand(8,3,N,2);"
   ]
  },
  {
   "cell_type": "code",
   "execution_count": 17,
   "metadata": {},
   "outputs": [
    {
     "ename": "LoadError",
     "evalue": "BoundsError: attempt to access 8×3×5×2 Array{Float64, 4} at index [1, 1, 1]",
     "output_type": "error",
     "traceback": [
      "BoundsError: attempt to access 8×3×5×2 Array{Float64, 4} at index [1, 1, 1]",
      "",
      "Stacktrace:",
      " [1] getindex",
      "   @ ./array.jl:806 [inlined]",
      " [2] getindex(::Vec8Array{Float64, 4}, ::Int64, ::Int64)",
      "   @ Main ./In[9]:7",
      " [3] top-level scope",
      "   @ In[17]:2",
      " [4] eval",
      "   @ ./boot.jl:360 [inlined]",
      " [5] include_string(mapexpr::typeof(REPL.softscope), mod::Module, code::String, filename::String)",
      "   @ Base ./loading.jl:1116"
     ]
    }
   ],
   "source": [
    "UU = Vec8Array(uu);\n",
    "UU[1,1]"
   ]
  },
  {
   "cell_type": "code",
   "execution_count": null,
   "metadata": {},
   "outputs": [],
   "source": []
  }
 ],
 "metadata": {
  "kernelspec": {
   "display_name": "Julia 1.6.6",
   "language": "julia",
   "name": "julia-1.6"
  },
  "language_info": {
   "file_extension": ".jl",
   "mimetype": "application/julia",
   "name": "julia",
   "version": "1.6.6"
  }
 },
 "nbformat": 4,
 "nbformat_minor": 2
}
