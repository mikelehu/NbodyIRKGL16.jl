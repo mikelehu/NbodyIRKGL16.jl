{
 "cells": [
  {
   "cell_type": "markdown",
   "metadata": {},
   "source": [
    "# Outer Solar System IRKGL-seq"
   ]
  },
  {
   "cell_type": "markdown",
   "metadata": {},
   "source": [
    "## Loading packages and functions"
   ]
  },
  {
   "cell_type": "code",
   "execution_count": 1,
   "metadata": {},
   "outputs": [],
   "source": [
    "using LinearAlgebra\n",
    "using Plots\n",
    "using IRKGaussLegendre\n",
    "#using OrdinaryDiffEq\n",
    "#using BenchmarkTools\n",
    "using Pkg\n",
    "\n",
    "#Pkg.status()\n",
    "#Pkg.add(\"Revise\")\n",
    "#using Revise"
   ]
  },
  {
   "cell_type": "code",
   "execution_count": 2,
   "metadata": {},
   "outputs": [],
   "source": [
    "PATH_SRC=\"../src_seq/\"\n",
    "\n",
    "include(string(PATH_SRC,\"IRKGL_SEQ.jl\"))\n",
    "\n",
    "using .IRKGL_SEQ   "
   ]
  },
  {
   "cell_type": "markdown",
   "metadata": {},
   "source": [
    "\n",
    "\n",
    "## Definition of the N-body problem\n",
    "\n",
    "In Nbody.jl below, the following functions are defined: NbodyEnergy(u,Gm), NbodyODE!(du,u,Gm,t), and NbodyODE1!(du,u,Gm,t), where\n",
    "\n",
    "\\begin{equation*}\n",
    "u = \n",
    "\\left(\\begin{matrix}\n",
    "q_1  & v_1\\\\\n",
    "\\vdots & \\vdots \\\\\n",
    "q_N  & v_N\n",
    "\\end{matrix}\n",
    "\\right) \\in \\mathbb{R}^{2 \\times 3\\times N}, \\quad\n",
    "Gm = (G\\,  m_1, \\ldots,G\\,  m_N) \\in \\mathbb{R}^N.\n",
    "\\end{equation*}"
   ]
  },
  {
   "cell_type": "markdown",
   "metadata": {},
   "source": [
    "The energy, as a function of the positions $q_1,\\ldots,q_N \\in \\mathbb{R}^3$ and the velocities $v_1,\\ldots,v_N \\in \\mathbb{R}^3$ of the $N$ bodies is:\n",
    "\\begin{equation*}\n",
    "\\begin{split}\n",
    "\\mathrm{Energy}(q_1,\\ldots,q_N,v_1,\\ldots,v_N) = \n",
    "\\frac12 \\sum_{i=1}^{N} m_i \\, \\|v_i\\|^2\n",
    "- G \\sum_{1\\leq i < j \\leq N} \\frac{m_i m_j}{\\|q_i-q_j\\|}.\n",
    "\\end{split}\n",
    "\\end{equation*}\n",
    "\n",
    "\n",
    "The ODE system of the N-body problem,\n",
    "as a function of the positions $q_1,\\ldots,q_N \\in \\mathbb{R}^3$ and the velocities $v_1,\\ldots,v_N \\in \\mathbb{R}^3$ of the $N$ bodies is:\n",
    "\\begin{equation*}\n",
    "\\begin{split}\n",
    "\\frac{d}{dt} q_i &= v_i, \\\\\n",
    "\\frac{d}{dt} v_i &= G\\, \n",
    "\\sum_{j \\neq i} \\frac{m_j}{\\|q_j-q_i\\|^3}\\,\n",
    "(q_j-q_i).\n",
    "\\end{split}\n",
    "\\end{equation*}\n",
    "This system of ODEs can be writen in compact form as\n",
    "\\begin{equation*}\n",
    "\\frac{d u}{dt} = f(t,u,Gm)\n",
    "\\end{equation*}\n",
    "\n",
    "\n"
   ]
  },
  {
   "cell_type": "code",
   "execution_count": 3,
   "metadata": {},
   "outputs": [
    {
     "data": {
      "text/plain": [
       "NbodyODE! (generic function with 2 methods)"
      ]
     },
     "execution_count": 3,
     "metadata": {},
     "output_type": "execute_result"
    }
   ],
   "source": [
    "PATH_ODES=\"../ODEProblems/\"\n",
    "\n",
    "include(string(PATH_ODES,\"Initial5Body.jl\"))\n",
    "include(string(PATH_ODES,\"Nbody.jl\"))\n",
    "#include(string(PATH_ODES,\"Nbody2nd.jl\"))"
   ]
  },
  {
   "cell_type": "markdown",
   "metadata": {},
   "source": [
    "##### <a href=\"#top\">Back to the top</a>\n",
    "\n",
    "## Initial value problem: 5-body problem (outer solar system)\n",
    "\n",
    "We consider $N=5$ bodies of the outer solar system: the Sun, Jupiter, Saturn, Uranus, and Neptune.\n",
    "The initial values $u_{00}$ are taken from DE430, Julian day (TDB) 2440400.5 (June 28, 1969). "
   ]
  },
  {
   "cell_type": "code",
   "execution_count": 4,
   "metadata": {},
   "outputs": [
    {
     "name": "stdout",
     "output_type": "stream",
     "text": [
      "[\"Sun\" \"Jupiter\" \"Saturn\" \"Uranus\" \"Neptune\"]"
     ]
    },
    {
     "data": {
      "text/plain": [
       "-9.522696242724855e-12"
      ]
     },
     "execution_count": 4,
     "metadata": {},
     "output_type": "execute_result"
    }
   ],
   "source": [
    "u0, Gm, bodylist = Initial5Body(Float64)\n",
    "q0=u0[:,:,1]\n",
    "v0=u0[:,:,2]\n",
    "dim=length(size(u0))\n",
    "\n",
    "N = length(Gm)\n",
    "\n",
    "show(bodylist)\n",
    "E0=NbodyEnergy(u0,Gm)"
   ]
  },
  {
   "cell_type": "markdown",
   "metadata": {},
   "source": [
    "### IRKGL_simd eta IRKGL16 integrazioak"
   ]
  },
  {
   "cell_type": "code",
   "execution_count": 5,
   "metadata": {},
   "outputs": [
    {
     "name": "stdout",
     "output_type": "stream",
     "text": [
      "dt = 500.0, m=1\n"
     ]
    },
    {
     "ename": "LoadError",
     "evalue": "UndefVarError: dt3 not defined",
     "output_type": "error",
     "traceback": [
      "UndefVarError: dt3 not defined",
      "",
      "Stacktrace:",
      " [1] IRKGLstep_fixed!(ttj::Vector{Float64}, uj::Array{Float64, 3}, ej::Array{Float64, 3}, prob::ODEProblem{Array{Float64, 3}, Tuple{Float64, Float64}, true, Vector{Float64}, ODEFunction{true, typeof(NbodyODE!), UniformScaling{Bool}, Nothing, Nothing, Nothing, Nothing, Nothing, Nothing, Nothing, Nothing, Nothing, Nothing, Nothing, Nothing, typeof(SciMLBase.DEFAULT_OBSERVED), Nothing}, Base.Iterators.Pairs{Union{}, Union{}, Tuple{}, NamedTuple{(), Tuple{}}}, SciMLBase.StandardODEProblem}, dts::Vector{Float64}, irkgl_cache::Main.IRKGL_SEQ.IRKGL_Cache{Array{Float64, 3}, Float64, ODEFunction{true, typeof(NbodyODE!), UniformScaling{Bool}, Nothing, Nothing, Nothing, Nothing, Nothing, Nothing, Nothing, Nothing, Nothing, Nothing, Nothing, Nothing, typeof(SciMLBase.DEFAULT_OBSERVED), Nothing}, Vector{Float64}})",
      "   @ Main.IRKGL_SEQ ~/Mahaigaina/Work-2021-2022/PIC/PIC-2021-2022/Softwarea/2-IRKGL_Formulazio_Berria/IRKGL_Formulazioa_Zaharra v2/src_seq/IRKGL_Step_Functions.jl:403",
      " [2] __solve(::ODEProblem{Array{Float64, 3}, Tuple{Float64, Float64}, true, Vector{Float64}, ODEFunction{true, typeof(NbodyODE!), UniformScaling{Bool}, Nothing, Nothing, Nothing, Nothing, Nothing, Nothing, Nothing, Nothing, Nothing, Nothing, Nothing, Nothing, typeof(SciMLBase.DEFAULT_OBSERVED), Nothing}, Base.Iterators.Pairs{Union{}, Union{}, Tuple{}, NamedTuple{(), Tuple{}}}, SciMLBase.StandardODEProblem}, ::IRKGL_Seq{8, false, 1, 1, true, 0}; dt::Float64, save_everystep::Bool, adaptive::Bool, maxiters::Int64, reltol::Float64, abstol::Float64, kwargs::Base.Iterators.Pairs{Union{}, Union{}, Tuple{}, NamedTuple{(), Tuple{}}})",
      "   @ Main.IRKGL_SEQ ~/Mahaigaina/Work-2021-2022/PIC/PIC-2021-2022/Softwarea/2-IRKGL_Formulazio_Berria/IRKGL_Formulazioa_Zaharra v2/src_seq/IRKGL_Seq_Solver.jl:167",
      " [3] #solve_call#28",
      "   @ ~/.julia/packages/DiffEqBase/HDcso/src/solve.jl:440 [inlined]",
      " [4] solve_up(prob::ODEProblem{Array{Float64, 3}, Tuple{Float64, Float64}, true, Vector{Float64}, ODEFunction{true, typeof(NbodyODE!), UniformScaling{Bool}, Nothing, Nothing, Nothing, Nothing, Nothing, Nothing, Nothing, Nothing, Nothing, Nothing, Nothing, Nothing, typeof(SciMLBase.DEFAULT_OBSERVED), Nothing}, Base.Iterators.Pairs{Union{}, Union{}, Tuple{}, NamedTuple{(), Tuple{}}}, SciMLBase.StandardODEProblem}, sensealg::Nothing, u0::Array{Float64, 3}, p::Vector{Float64}, args::IRKGL_Seq{8, false, 1, 1, true, 0}; kwargs::Base.Iterators.Pairs{Symbol, Real, Tuple{Symbol, Symbol}, NamedTuple{(:dt, :adaptive), Tuple{Float64, Bool}}})",
      "   @ DiffEqBase ~/.julia/packages/DiffEqBase/HDcso/src/solve.jl:783",
      " [5] #solve#33",
      "   @ ~/.julia/packages/DiffEqBase/HDcso/src/solve.jl:763 [inlined]",
      " [6] top-level scope",
      "   @ In[5]:25",
      " [7] eval",
      "   @ ./boot.jl:360 [inlined]",
      " [8] include_string(mapexpr::typeof(REPL.softscope), mod::Module, code::String, filename::String)",
      "   @ Base ./loading.jl:1116"
     ]
    }
   ],
   "source": [
    "t0 = 0.\n",
    "dt = 500.  # 500.\n",
    "tF = 1e4  #1e8\n",
    "tF=  1e6\n",
    "tF = 100*dt\n",
    "\n",
    "#n = 100\n",
    "#n = 5\n",
    "\n",
    "#m = convert(Int64,ceil(abs(tF-t0)/(n*dt)))\n",
    "#n = convert(Int64,ceil(abs(tF-t0)/(m*dt))) # Number of macro-steps (Output is saved for n+1 time values)\n",
    "#dt = (tF-t0)/(n*m)\n",
    "\n",
    "m=1\n",
    "println(\"dt = $dt, m=$m\")\n",
    "\n",
    "prob = ODEProblem(NbodyODE!, u0, (t0,tF), Gm)\n",
    "prob_rev = ODEProblem(NbodyODE!, u0, (tF,t0), Gm)\n",
    "\n",
    "\n",
    "tol=1e-6\n",
    "\n",
    "# Bertsio adaptatiboa\n",
    "alg=IRKGL_Seq(s=8, initial_interp=1, m=m,myoutputs=true, nrmbits=0)\n",
    "sol1,iters1=solve(prob_rev,alg,dt=dt, adaptive=true);"
   ]
  },
  {
   "cell_type": "code",
   "execution_count": 6,
   "metadata": {},
   "outputs": [
    {
     "ename": "LoadError",
     "evalue": "UndefVarError: dt3 not defined",
     "output_type": "error",
     "traceback": [
      "UndefVarError: dt3 not defined",
      "",
      "Stacktrace:",
      " [1] IRKGLstep_fixed!(ttj::Vector{Float64}, uj::Array{Float64, 3}, ej::Array{Float64, 3}, prob::ODEProblem{Array{Float64, 3}, Tuple{Float64, Float64}, true, Vector{Float64}, ODEFunction{true, typeof(NbodyODE!), UniformScaling{Bool}, Nothing, Nothing, Nothing, Nothing, Nothing, Nothing, Nothing, Nothing, Nothing, Nothing, Nothing, Nothing, typeof(SciMLBase.DEFAULT_OBSERVED), Nothing}, Base.Iterators.Pairs{Union{}, Union{}, Tuple{}, NamedTuple{(), Tuple{}}}, SciMLBase.StandardODEProblem}, dts::Vector{Float64}, irkgl_cache::Main.IRKGL_SEQ.IRKGL_Cache{Array{Float64, 3}, Float64, ODEFunction{true, typeof(NbodyODE!), UniformScaling{Bool}, Nothing, Nothing, Nothing, Nothing, Nothing, Nothing, Nothing, Nothing, Nothing, Nothing, Nothing, Nothing, typeof(SciMLBase.DEFAULT_OBSERVED), Nothing}, Vector{Float64}})",
      "   @ Main.IRKGL_SEQ ~/Mahaigaina/Work-2021-2022/PIC/PIC-2021-2022/Softwarea/2-IRKGL_Formulazio_Berria/IRKGL_Formulazioa_Zaharra v2/src_seq/IRKGL_Step_Functions.jl:403",
      " [2] __solve(::ODEProblem{Array{Float64, 3}, Tuple{Float64, Float64}, true, Vector{Float64}, ODEFunction{true, typeof(NbodyODE!), UniformScaling{Bool}, Nothing, Nothing, Nothing, Nothing, Nothing, Nothing, Nothing, Nothing, Nothing, Nothing, Nothing, Nothing, typeof(SciMLBase.DEFAULT_OBSERVED), Nothing}, Base.Iterators.Pairs{Union{}, Union{}, Tuple{}, NamedTuple{(), Tuple{}}}, SciMLBase.StandardODEProblem}, ::IRKGL_Seq{8, false, 1, 1, true, 0}; dt::Float64, save_everystep::Bool, adaptive::Bool, maxiters::Int64, reltol::Float64, abstol::Float64, kwargs::Base.Iterators.Pairs{Union{}, Union{}, Tuple{}, NamedTuple{(), Tuple{}}})",
      "   @ Main.IRKGL_SEQ ~/Mahaigaina/Work-2021-2022/PIC/PIC-2021-2022/Softwarea/2-IRKGL_Formulazio_Berria/IRKGL_Formulazioa_Zaharra v2/src_seq/IRKGL_Seq_Solver.jl:167",
      " [3] #solve_call#28",
      "   @ ~/.julia/packages/DiffEqBase/HDcso/src/solve.jl:440 [inlined]",
      " [4] solve_up(prob::ODEProblem{Array{Float64, 3}, Tuple{Float64, Float64}, true, Vector{Float64}, ODEFunction{true, typeof(NbodyODE!), UniformScaling{Bool}, Nothing, Nothing, Nothing, Nothing, Nothing, Nothing, Nothing, Nothing, Nothing, Nothing, Nothing, Nothing, typeof(SciMLBase.DEFAULT_OBSERVED), Nothing}, Base.Iterators.Pairs{Union{}, Union{}, Tuple{}, NamedTuple{(), Tuple{}}}, SciMLBase.StandardODEProblem}, sensealg::Nothing, u0::Array{Float64, 3}, p::Vector{Float64}, args::IRKGL_Seq{8, false, 1, 1, true, 0}; kwargs::Base.Iterators.Pairs{Symbol, Real, Tuple{Symbol, Symbol}, NamedTuple{(:dt, :adaptive), Tuple{Float64, Bool}}})",
      "   @ DiffEqBase ~/.julia/packages/DiffEqBase/HDcso/src/solve.jl:783",
      " [5] #solve#33",
      "   @ ~/.julia/packages/DiffEqBase/HDcso/src/solve.jl:763 [inlined]",
      " [6] top-level scope",
      "   @ In[6]:1",
      " [7] eval",
      "   @ ./boot.jl:360 [inlined]",
      " [8] include_string(mapexpr::typeof(REPL.softscope), mod::Module, code::String, filename::String)",
      "   @ Base ./loading.jl:1116"
     ]
    }
   ],
   "source": [
    "sol1h2,iters1h2=solve(prob_rev,alg,dt=dt/2, adaptive=true);\n",
    "#sol1h4,iters1h4=solve(prob,algh,dt=dt/4, adaptive=true) "
   ]
  },
  {
   "cell_type": "code",
   "execution_count": 7,
   "metadata": {},
   "outputs": [
    {
     "ename": "LoadError",
     "evalue": "UndefVarError: dt3 not defined",
     "output_type": "error",
     "traceback": [
      "UndefVarError: dt3 not defined",
      "",
      "Stacktrace:",
      " [1] IRKGLstep_fixed!(ttj::Vector{Float64}, uj::Array{Float64, 3}, ej::Array{Float64, 3}, prob::ODEProblem{Array{Float64, 3}, Tuple{Float64, Float64}, true, Vector{Float64}, ODEFunction{true, typeof(NbodyODE!), UniformScaling{Bool}, Nothing, Nothing, Nothing, Nothing, Nothing, Nothing, Nothing, Nothing, Nothing, Nothing, Nothing, Nothing, typeof(SciMLBase.DEFAULT_OBSERVED), Nothing}, Base.Iterators.Pairs{Union{}, Union{}, Tuple{}, NamedTuple{(), Tuple{}}}, SciMLBase.StandardODEProblem}, dts::Vector{Float64}, irkgl_cache::Main.IRKGL_SEQ.IRKGL_Cache{Array{Float64, 3}, Float64, ODEFunction{true, typeof(NbodyODE!), UniformScaling{Bool}, Nothing, Nothing, Nothing, Nothing, Nothing, Nothing, Nothing, Nothing, Nothing, Nothing, Nothing, Nothing, typeof(SciMLBase.DEFAULT_OBSERVED), Nothing}, Vector{Float64}})",
      "   @ Main.IRKGL_SEQ ~/Mahaigaina/Work-2021-2022/PIC/PIC-2021-2022/Softwarea/2-IRKGL_Formulazio_Berria/IRKGL_Formulazioa_Zaharra v2/src_seq/IRKGL_Step_Functions.jl:403",
      " [2] __solve(::ODEProblem{Array{Float64, 3}, Tuple{Float64, Float64}, true, Vector{Float64}, ODEFunction{true, typeof(NbodyODE!), UniformScaling{Bool}, Nothing, Nothing, Nothing, Nothing, Nothing, Nothing, Nothing, Nothing, Nothing, Nothing, Nothing, Nothing, typeof(SciMLBase.DEFAULT_OBSERVED), Nothing}, Base.Iterators.Pairs{Union{}, Union{}, Tuple{}, NamedTuple{(), Tuple{}}}, SciMLBase.StandardODEProblem}, ::IRKGL_Seq{8, false, 1, 1, true, 0}; dt::Float64, save_everystep::Bool, adaptive::Bool, maxiters::Int64, reltol::Float64, abstol::Float64, kwargs::Base.Iterators.Pairs{Union{}, Union{}, Tuple{}, NamedTuple{(), Tuple{}}})",
      "   @ Main.IRKGL_SEQ ~/Mahaigaina/Work-2021-2022/PIC/PIC-2021-2022/Softwarea/2-IRKGL_Formulazio_Berria/IRKGL_Formulazioa_Zaharra v2/src_seq/IRKGL_Seq_Solver.jl:244",
      " [3] #solve_call#28",
      "   @ ~/.julia/packages/DiffEqBase/HDcso/src/solve.jl:440 [inlined]",
      " [4] solve_up(prob::ODEProblem{Array{Float64, 3}, Tuple{Float64, Float64}, true, Vector{Float64}, ODEFunction{true, typeof(NbodyODE!), UniformScaling{Bool}, Nothing, Nothing, Nothing, Nothing, Nothing, Nothing, Nothing, Nothing, Nothing, Nothing, Nothing, Nothing, typeof(SciMLBase.DEFAULT_OBSERVED), Nothing}, Base.Iterators.Pairs{Union{}, Union{}, Tuple{}, NamedTuple{(), Tuple{}}}, SciMLBase.StandardODEProblem}, sensealg::Nothing, u0::Array{Float64, 3}, p::Vector{Float64}, args::IRKGL_Seq{8, false, 1, 1, true, 0}; kwargs::Base.Iterators.Pairs{Symbol, Real, Tuple{Symbol, Symbol}, NamedTuple{(:dt, :adaptive), Tuple{Float64, Bool}}})",
      "   @ DiffEqBase ~/.julia/packages/DiffEqBase/HDcso/src/solve.jl:783",
      " [5] #solve#33",
      "   @ ~/.julia/packages/DiffEqBase/HDcso/src/solve.jl:763 [inlined]",
      " [6] top-level scope",
      "   @ In[7]:3",
      " [7] eval",
      "   @ ./boot.jl:360 [inlined]",
      " [8] include_string(mapexpr::typeof(REPL.softscope), mod::Module, code::String, filename::String)",
      "   @ Base ./loading.jl:1116"
     ]
    }
   ],
   "source": [
    "# Bertsio urrats-finkoa\n",
    "alg=IRKGL_Seq(s=8, initial_interp=1, m=m,myoutputs=true)\n",
    "sol2,iters=solve(prob_rev,alg,dt=10dt/12, adaptive=false);"
   ]
  },
  {
   "cell_type": "code",
   "execution_count": 8,
   "metadata": {},
   "outputs": [
    {
     "ename": "LoadError",
     "evalue": "UndefVarError: dt3 not defined",
     "output_type": "error",
     "traceback": [
      "UndefVarError: dt3 not defined",
      "",
      "Stacktrace:",
      " [1] IRKGLstep_fixed!(ttj::Vector{Float64}, uj::Array{Float64, 3}, ej::Array{Float64, 3}, prob::ODEProblem{Array{Float64, 3}, Tuple{Float64, Float64}, true, Vector{Float64}, ODEFunction{true, typeof(NbodyODE!), UniformScaling{Bool}, Nothing, Nothing, Nothing, Nothing, Nothing, Nothing, Nothing, Nothing, Nothing, Nothing, Nothing, Nothing, typeof(SciMLBase.DEFAULT_OBSERVED), Nothing}, Base.Iterators.Pairs{Union{}, Union{}, Tuple{}, NamedTuple{(), Tuple{}}}, SciMLBase.StandardODEProblem}, dts::Vector{Float64}, irkgl_cache::Main.IRKGL_SEQ.IRKGL_Cache{Array{Float64, 3}, Float64, ODEFunction{true, typeof(NbodyODE!), UniformScaling{Bool}, Nothing, Nothing, Nothing, Nothing, Nothing, Nothing, Nothing, Nothing, Nothing, Nothing, Nothing, Nothing, typeof(SciMLBase.DEFAULT_OBSERVED), Nothing}, Vector{Float64}})",
      "   @ Main.IRKGL_SEQ ~/Mahaigaina/Work-2021-2022/PIC/PIC-2021-2022/Softwarea/2-IRKGL_Formulazio_Berria/IRKGL_Formulazioa_Zaharra v2/src_seq/IRKGL_Step_Functions.jl:403",
      " [2] __solve(::ODEProblem{Array{Float64, 3}, Tuple{Float64, Float64}, true, Vector{Float64}, ODEFunction{true, typeof(NbodyODE!), UniformScaling{Bool}, Nothing, Nothing, Nothing, Nothing, Nothing, Nothing, Nothing, Nothing, Nothing, Nothing, Nothing, Nothing, typeof(SciMLBase.DEFAULT_OBSERVED), Nothing}, Base.Iterators.Pairs{Union{}, Union{}, Tuple{}, NamedTuple{(), Tuple{}}}, SciMLBase.StandardODEProblem}, ::IRKGL_Seq{8, false, 1, 1, true, 0}; dt::Float64, save_everystep::Bool, adaptive::Bool, maxiters::Int64, reltol::Float64, abstol::Float64, kwargs::Base.Iterators.Pairs{Union{}, Union{}, Tuple{}, NamedTuple{(), Tuple{}}})",
      "   @ Main.IRKGL_SEQ ~/Mahaigaina/Work-2021-2022/PIC/PIC-2021-2022/Softwarea/2-IRKGL_Formulazio_Berria/IRKGL_Formulazioa_Zaharra v2/src_seq/IRKGL_Seq_Solver.jl:244",
      " [3] #solve_call#28",
      "   @ ~/.julia/packages/DiffEqBase/HDcso/src/solve.jl:440 [inlined]",
      " [4] solve_up(prob::ODEProblem{Array{Float64, 3}, Tuple{Float64, Float64}, true, Vector{Float64}, ODEFunction{true, typeof(NbodyODE!), UniformScaling{Bool}, Nothing, Nothing, Nothing, Nothing, Nothing, Nothing, Nothing, Nothing, Nothing, Nothing, Nothing, Nothing, typeof(SciMLBase.DEFAULT_OBSERVED), Nothing}, Base.Iterators.Pairs{Union{}, Union{}, Tuple{}, NamedTuple{(), Tuple{}}}, SciMLBase.StandardODEProblem}, sensealg::Nothing, u0::Array{Float64, 3}, p::Vector{Float64}, args::IRKGL_Seq{8, false, 1, 1, true, 0}; kwargs::Base.Iterators.Pairs{Symbol, Real, Tuple{Symbol, Symbol}, NamedTuple{(:dt, :adaptive), Tuple{Float64, Bool}}})",
      "   @ DiffEqBase ~/.julia/packages/DiffEqBase/HDcso/src/solve.jl:783",
      " [5] #solve#33",
      "   @ ~/.julia/packages/DiffEqBase/HDcso/src/solve.jl:763 [inlined]",
      " [6] top-level scope",
      "   @ In[8]:1",
      " [7] eval",
      "   @ ./boot.jl:360 [inlined]",
      " [8] include_string(mapexpr::typeof(REPL.softscope), mod::Module, code::String, filename::String)",
      "   @ Base ./loading.jl:1116"
     ]
    }
   ],
   "source": [
    "sol2h2,itersh2=solve(prob_rev,alg,dt=10dt/24, adaptive=false);"
   ]
  },
  {
   "cell_type": "code",
   "execution_count": 9,
   "metadata": {
    "scrolled": true
   },
   "outputs": [],
   "source": [
    "#alg=IRKGL_Seq(s=8, initial_interp=0, m=m,myoutputs=true)\n",
    "#sol2h4,itersh2=solve(prob,alg,dt=dt/4, adaptive=false); \n",
    "\n",
    "\n",
    "# IRKGL16 (SCML bertsioa)\n",
    "#sol31=solve(prob, IRKGL16(initial_interp=false), dt=dt,  reltol=1e-14, abstol=1e-14,  adaptive=true)\n",
    "#sol32=solve(prob, IRKGL16(initial_interp=false), dt=dt/2, reltol=1e-15, abstol=1e-15,  adaptive=true)\n",
    "#sol33=solve(prob, IRKGL16(initial_interp=false), dt=dt/4, reltol=1e-16, abstol=1e-16,  adaptive=true);"
   ]
  },
  {
   "cell_type": "markdown",
   "metadata": {},
   "source": [
    "### Iterazioak"
   ]
  },
  {
   "cell_type": "code",
   "execution_count": 10,
   "metadata": {},
   "outputs": [
    {
     "ename": "LoadError",
     "evalue": "UndefVarError: iters1 not defined",
     "output_type": "error",
     "traceback": [
      "UndefVarError: iters1 not defined",
      "",
      "Stacktrace:",
      " [1] top-level scope",
      "   @ In[10]:4",
      " [2] eval",
      "   @ ./boot.jl:360 [inlined]",
      " [3] include_string(mapexpr::typeof(REPL.softscope), mod::Module, code::String, filename::String)",
      "   @ Base ./loading.jl:1116"
     ]
    }
   ],
   "source": [
    "iterfun(iters) = Int64(round(sum(iters)))\n",
    "\n",
    "p1=plot(title=\"Iterazioak\", ylims=(0,30), legend=:top) #bottom\n",
    "plot!(sol1.t,iters1,label=\"Adaptatiboa h (interp=1): $(iterfun(iters1))\")\n",
    "plot!(sol1h2.t,iters1h2,label=\"Adaptatiboa h/2 (interp=1): $(iterfun(iters1h2))\")\n",
    "plot!(sol2.t,iters,label=\"Finkoa h (interp=1): $(iterfun(iters))\")\n",
    "plot!(sol2h2.t,itersh2,label=\"Finkoa h/2 (interp=1): $(iterfun(itersh2))\")"
   ]
  },
  {
   "cell_type": "markdown",
   "metadata": {},
   "source": [
    "### Urrats luzerak"
   ]
  },
  {
   "cell_type": "code",
   "execution_count": 11,
   "metadata": {},
   "outputs": [
    {
     "ename": "LoadError",
     "evalue": "UndefVarError: sol1 not defined",
     "output_type": "error",
     "traceback": [
      "UndefVarError: sol1 not defined",
      "",
      "Stacktrace:",
      " [1] top-level scope",
      "   @ In[11]:2",
      " [2] eval",
      "   @ ./boot.jl:360 [inlined]",
      " [3] include_string(mapexpr::typeof(REPL.softscope), mod::Module, code::String, filename::String)",
      "   @ Base ./loading.jl:1116"
     ]
    }
   ],
   "source": [
    "p1=plot(title=\"Urrats luzerak\",  legend=:bottom)\n",
    "plot!(sol1.t[1:end-1],(sol1.t[2:end].-sol1.t[1:end-1])/2,label=\"Adaptatiboa\")\n",
    "plot!(sol1h2.t[1:end-1],sol1h2.t[2:end].-sol1h2.t[1:end-1],label=\"Adaptatiboa h/2\")"
   ]
  },
  {
   "cell_type": "code",
   "execution_count": 12,
   "metadata": {},
   "outputs": [
    {
     "ename": "LoadError",
     "evalue": "UndefVarError: sol1 not defined",
     "output_type": "error",
     "traceback": [
      "UndefVarError: sol1 not defined",
      "",
      "Stacktrace:",
      " [1] top-level scope",
      "   @ In[12]:1",
      " [2] eval",
      "   @ ./boot.jl:360 [inlined]",
      " [3] include_string(mapexpr::typeof(REPL.softscope), mod::Module, code::String, filename::String)",
      "   @ Base ./loading.jl:1116"
     ]
    }
   ],
   "source": [
    "[length(sol1) length(sol2) ]"
   ]
  },
  {
   "cell_type": "code",
   "execution_count": 13,
   "metadata": {},
   "outputs": [
    {
     "ename": "LoadError",
     "evalue": "UndefVarError: sol1h2 not defined",
     "output_type": "error",
     "traceback": [
      "UndefVarError: sol1h2 not defined",
      "",
      "Stacktrace:",
      " [1] top-level scope",
      "   @ In[13]:1",
      " [2] eval",
      "   @ ./boot.jl:360 [inlined]",
      " [3] include_string(mapexpr::typeof(REPL.softscope), mod::Module, code::String, filename::String)",
      "   @ Base ./loading.jl:1116"
     ]
    }
   ],
   "source": [
    "[length(sol1h2) length(sol2h2) ]"
   ]
  },
  {
   "cell_type": "markdown",
   "metadata": {},
   "source": [
    "### Energy erroreak"
   ]
  },
  {
   "cell_type": "code",
   "execution_count": 14,
   "metadata": {},
   "outputs": [
    {
     "data": {
      "text/plain": [
       "energy_plot (generic function with 1 method)"
      ]
     },
     "execution_count": 14,
     "metadata": {},
     "output_type": "execute_result"
    }
   ],
   "source": [
    "yrange = (1e-16,1e-4)\n",
    "year = 365.5\n",
    "\n",
    "function energy_plot(sol; title=\"\")\n",
    "    energies = [NbodyEnergy(BigFloat.(u),Gm) for u in sol.u]\n",
    "    E0 = energies[1]\n",
    "    epsilon = eps(1e-3)\n",
    "    errors = Float64.(abs.(energies[2:end]/E0 .- 1)) .+ epsilon\n",
    "    tt = sol.t[2:end]  #/year\n",
    "    pl = plot(title=title, ylims=(1e-18,1e-10), xlims=(0, tF),\n",
    "         yscale=:log10, legend=false) #ylims=yrange, \n",
    "    plot!(tt,  errors)\n",
    "    println(maximum(errors))\n",
    "    return pl\n",
    "end"
   ]
  },
  {
   "cell_type": "code",
   "execution_count": 15,
   "metadata": {},
   "outputs": [
    {
     "ename": "LoadError",
     "evalue": "UndefVarError: sol1 not defined",
     "output_type": "error",
     "traceback": [
      "UndefVarError: sol1 not defined",
      "",
      "Stacktrace:",
      " [1] top-level scope",
      "   @ In[15]:1",
      " [2] eval",
      "   @ ./boot.jl:360 [inlined]",
      " [3] include_string(mapexpr::typeof(REPL.softscope), mod::Module, code::String, filename::String)",
      "   @ Base ./loading.jl:1116"
     ]
    }
   ],
   "source": [
    "pl1 = energy_plot(sol1,  title=\"IRKGL_Adaptatiboa h\")\n",
    "\n",
    "pl1h2 = energy_plot(sol1h2, title=\"IRKGL_Adaptatiboa h/2\")\n",
    "\n",
    "pl2 = energy_plot(sol2, title=\"IRKGL_Finkoa h\")\n",
    "\n",
    "pl2h2 = energy_plot(sol2h2, title=\"IRKGL_Finkoa h/2\")\n",
    "\n",
    "\n",
    "\n",
    "plot(pl1, pl1h2,  pl2, pl2h2,  layout=(2,2), size=(600,400))"
   ]
  },
  {
   "cell_type": "code",
   "execution_count": 16,
   "metadata": {},
   "outputs": [],
   "source": [
    "#pl3h = energy_plot(sol31, title=\"IRKGL16 h\")\n",
    "#pl3h2 = energy_plot(sol32, title=\"IRKGL16 h/2\")\n",
    "#pl3h3 = energy_plot(sol33, title=\"IRKGL16 h/4\")\n",
    "\n",
    "#plot(pl3h, pl3h2, pl3h3,  layout=(1,3), size=(900,200))"
   ]
  },
  {
   "cell_type": "markdown",
   "metadata": {},
   "source": [
    "### Kokapenen diferentziak \n",
    "\n",
    "u[a,b,c]\n",
    "\n",
    "   -a:  =1:3  x,y,z;    \n",
    "   -b:  =1:5  gorputa   \n",
    "   -c:  =1 kokapenak;   =2 abiadura"
   ]
  },
  {
   "cell_type": "code",
   "execution_count": 17,
   "metadata": {},
   "outputs": [
    {
     "ename": "LoadError",
     "evalue": "UndefVarError: sol1 not defined",
     "output_type": "error",
     "traceback": [
      "UndefVarError: sol1 not defined",
      "",
      "Stacktrace:",
      " [1] top-level scope",
      "   @ In[17]:1",
      " [2] eval",
      "   @ ./boot.jl:360 [inlined]",
      " [3] include_string(mapexpr::typeof(REPL.softscope), mod::Module, code::String, filename::String)",
      "   @ Base ./loading.jl:1116"
     ]
    }
   ],
   "source": [
    "norm(sol1.u[1]-sol2.u[1])"
   ]
  },
  {
   "cell_type": "code",
   "execution_count": 18,
   "metadata": {},
   "outputs": [
    {
     "ename": "LoadError",
     "evalue": "UndefVarError: sol1 not defined",
     "output_type": "error",
     "traceback": [
      "UndefVarError: sol1 not defined",
      "",
      "Stacktrace:",
      " [1] top-level scope",
      "   @ In[18]:1",
      " [2] eval",
      "   @ ./boot.jl:360 [inlined]",
      " [3] include_string(mapexpr::typeof(REPL.softscope), mod::Module, code::String, filename::String)",
      "   @ Base ./loading.jl:1116"
     ]
    }
   ],
   "source": [
    "qq1=[u[:,:,1] for u in sol1.u]\n",
    "qq1h2=[u[:,:,1] for u in sol1h2.u]\n",
    "qq1h4=[u[:,:,1] for u in sol1h4.u]\n",
    "qq2=[u[:,:,1] for u in sol2.u]\n",
    "\n",
    "plot(sol1.t,norm.((qq1-qq2)),seriestype=:scatter, label=\"qq1-qq2\")\n",
    "#plot!(sol1.t,norm.((qq1-qq1h2)),seriestype=:scatter, label=\"qq1-qq2h2\")\n",
    "#plot!(sol1.t,norm.((qq1-qq1h4)), seriestype=:scatter, label=\"qq1-qq2h4\")"
   ]
  },
  {
   "cell_type": "markdown",
   "metadata": {},
   "source": [
    "### Gamma matrizea"
   ]
  },
  {
   "cell_type": "code",
   "execution_count": 19,
   "metadata": {},
   "outputs": [
    {
     "ename": "LoadError",
     "evalue": "BoundsError: attempt to access Tuple{Vector{Float64}, Vector{Float64}, Matrix{Float64}, Matrix{Float64}, Matrix{Float64}, Matrix{Float64}, Matrix{Float64}, Matrix{Float64}, Vector{Float64}, Vector{Float64}} at index [11]",
     "output_type": "error",
     "traceback": [
      "BoundsError: attempt to access Tuple{Vector{Float64}, Vector{Float64}, Matrix{Float64}, Matrix{Float64}, Matrix{Float64}, Matrix{Float64}, Matrix{Float64}, Matrix{Float64}, Vector{Float64}, Vector{Float64}} at index [11]",
      "",
      "Stacktrace:",
      " [1] indexed_iterate(t::Tuple{Vector{Float64}, Vector{Float64}, Matrix{Float64}, Matrix{Float64}, Matrix{Float64}, Matrix{Float64}, Matrix{Float64}, Matrix{Float64}, Vector{Float64}, Vector{Float64}}, i::Int64, state::Int64)",
      "   @ Base ./tuple.jl:86",
      " [2] top-level scope",
      "   @ In[19]:2",
      " [3] eval",
      "   @ ./boot.jl:360 [inlined]",
      " [4] include_string(mapexpr::typeof(REPL.softscope), mod::Module, code::String, filename::String)",
      "   @ Base ./loading.jl:1116"
     ]
    }
   ],
   "source": [
    "dt = 500.\n",
    "b,c,mu,nu,nu1,nu2,gamma,theta,omega,g,d=IRKGL_SEQ.IRKGLCoefficients_adap(8,dt);"
   ]
  },
  {
   "cell_type": "code",
   "execution_count": 20,
   "metadata": {},
   "outputs": [
    {
     "data": {
      "text/plain": [
       "8-element Vector{Float64}:\n",
       "  -403.9205105285671\n",
       "  1296.9422880743655\n",
       " -2168.250266304504\n",
       "  2693.799306787763\n",
       " -2693.799306787751\n",
       "  2168.2502663044766\n",
       " -1296.94228807434\n",
       "   403.9205105285571"
      ]
     },
     "execution_count": 20,
     "metadata": {},
     "output_type": "execute_result"
    }
   ],
   "source": [
    "g"
   ]
  },
  {
   "cell_type": "code",
   "execution_count": 21,
   "metadata": {},
   "outputs": [
    {
     "ename": "LoadError",
     "evalue": "UndefVarError: d not defined",
     "output_type": "error",
     "traceback": [
      "UndefVarError: d not defined",
      "",
      "Stacktrace:",
      " [1] top-level scope",
      "   @ :0",
      " [2] eval",
      "   @ ./boot.jl:360 [inlined]",
      " [3] include_string(mapexpr::typeof(REPL.softscope), mod::Module, code::String, filename::String)",
      "   @ Base ./loading.jl:1116"
     ]
    }
   ],
   "source": [
    "d"
   ]
  },
  {
   "cell_type": "code",
   "execution_count": 22,
   "metadata": {},
   "outputs": [
    {
     "ename": "LoadError",
     "evalue": "DimensionMismatch(\"matrix is not square: dimensions are (8, 9)\")",
     "output_type": "error",
     "traceback": [
      "DimensionMismatch(\"matrix is not square: dimensions are (8, 9)\")",
      "",
      "Stacktrace:",
      " [1] checksquare",
      "   @ /buildworker/worker/package_linux64/build/usr/share/julia/stdlib/v1.6/LinearAlgebra/src/LinearAlgebra.jl:224 [inlined]",
      " [2] inv(A::Matrix{Float64})",
      "   @ LinearAlgebra /buildworker/worker/package_linux64/build/usr/share/julia/stdlib/v1.6/LinearAlgebra/src/dense.jl:807",
      " [3] top-level scope",
      "   @ In[22]:1",
      " [4] eval",
      "   @ ./boot.jl:360 [inlined]",
      " [5] include_string(mapexpr::typeof(REPL.softscope), mod::Module, code::String, filename::String)",
      "   @ Base ./loading.jl:1116"
     ]
    }
   ],
   "source": [
    "norm(gamma)*norm(inv(gamma))"
   ]
  },
  {
   "cell_type": "code",
   "execution_count": 23,
   "metadata": {},
   "outputs": [
    {
     "ename": "LoadError",
     "evalue": "DimensionMismatch(\"matrix is not square: dimensions are (8, 9)\")",
     "output_type": "error",
     "traceback": [
      "DimensionMismatch(\"matrix is not square: dimensions are (8, 9)\")",
      "",
      "Stacktrace:",
      " [1] checksquare",
      "   @ /buildworker/worker/package_linux64/build/usr/share/julia/stdlib/v1.6/LinearAlgebra/src/LinearAlgebra.jl:224 [inlined]",
      " [2] inv(A::Matrix{Float64})",
      "   @ LinearAlgebra /buildworker/worker/package_linux64/build/usr/share/julia/stdlib/v1.6/LinearAlgebra/src/dense.jl:807",
      " [3] top-level scope",
      "   @ In[23]:1",
      " [4] eval",
      "   @ ./boot.jl:360 [inlined]",
      " [5] include_string(mapexpr::typeof(REPL.softscope), mod::Module, code::String, filename::String)",
      "   @ Base ./loading.jl:1116"
     ]
    }
   ],
   "source": [
    "gamma*inv(gamma)"
   ]
  },
  {
   "cell_type": "code",
   "execution_count": 24,
   "metadata": {},
   "outputs": [
    {
     "name": "stdout",
     "output_type": "stream",
     "text": [
      "8×9 Matrix{Float64}:\n",
      " 1.54274e-6  -9.75994e-7  1.55643e-6  -2.17239e-6  3.00931e-6   -4.36135e-6   6.98479e-6   -1.37527e-5   4.81799e-5\n",
      " 7.89952e-6  -4.99752e-6  7.96961e-6  -1.11236e-5  1.5409e-5    -2.2332e-5    3.57652e-5   -7.042e-5     0.000246702\n",
      " 1.84331e-5  -1.16614e-5  1.85967e-5  -2.59564e-5  3.59561e-5   -5.21105e-5   8.34562e-5   -0.000164321  0.000575666\n",
      " 3.17236e-5  -2.00695e-5  3.20051e-5  -4.46712e-5  6.18809e-5   -8.9683e-5    0.000143629  -0.000282799  0.00099073\n",
      " 4.59765e-5  -2.90864e-5  4.63845e-5  -6.47413e-5  8.9683e-5    -0.000129976  0.00020816   -0.000409856  0.00143585\n",
      " 5.9267e-5   -3.74945e-5  5.97929e-5  -8.34562e-5  0.000115608  -0.000167548  0.000268333  -0.000528334  0.00185091\n",
      " 6.98006e-5  -4.41584e-5  7.042e-5    -9.82889e-5  0.000136155  -0.000197327  0.000316024  -0.000622235  0.00217988\n",
      " 7.61573e-5  -4.81799e-5  7.68331e-5  -0.00010724  0.000148555  -0.000215298  0.000344804  -0.000678902  0.0023784"
     ]
    }
   ],
   "source": [
    "show(IOContext(stdout, :limit=>false), MIME\"text/plain\"(), gamma)"
   ]
  },
  {
   "cell_type": "code",
   "execution_count": 25,
   "metadata": {},
   "outputs": [
    {
     "data": {
      "text/plain": [
       "8×9 Matrix{Float64}:\n",
       " 1.54274e-6  -0.0         -6.41318e-6  …   0.000608482  -0.00233022\n",
       " 7.89952e-6  -4.02153e-6   0.0             0.000551815  -0.0021317\n",
       " 1.84331e-5  -1.06854e-5   1.0627e-5       0.000457914  -0.00180273\n",
       " 3.17236e-5  -1.90935e-5   2.40355e-5      0.000339436  -0.00138767\n",
       " 4.59765e-5  -2.81104e-5   3.84149e-5      0.000212379  -0.00094255\n",
       " 5.9267e-5   -3.65185e-5   5.18233e-5  …   9.39012e-5   -0.000527487\n",
       " 6.98006e-5  -4.31824e-5   6.24504e-5     -0.0          -0.000198523\n",
       " 7.61573e-5  -4.72039e-5   6.88635e-5     -5.66673e-5    0.0"
      ]
     },
     "execution_count": 25,
     "metadata": {},
     "output_type": "execute_result"
    }
   ],
   "source": [
    "theta"
   ]
  },
  {
   "cell_type": "code",
   "execution_count": 26,
   "metadata": {},
   "outputs": [
    {
     "data": {
      "text/plain": [
       "8-element Vector{Float64}:\n",
       "  27.705769220847785\n",
       " -73.80217457492193\n",
       "  81.39184198232988\n",
       " -35.29543662825232\n",
       " -35.295436628264625\n",
       "  81.3918419823381\n",
       " -73.80217457492542\n",
       "  27.70576922084854"
      ]
     },
     "execution_count": 26,
     "metadata": {},
     "output_type": "execute_result"
    }
   ],
   "source": [
    "omega"
   ]
  },
  {
   "cell_type": "code",
   "execution_count": null,
   "metadata": {},
   "outputs": [],
   "source": []
  }
 ],
 "metadata": {
  "@webio": {
   "lastCommId": null,
   "lastKernelId": null
  },
  "kernelspec": {
   "display_name": "Julia 1.6.5",
   "language": "julia",
   "name": "julia-1.6"
  },
  "language_info": {
   "file_extension": ".jl",
   "mimetype": "application/julia",
   "name": "julia",
   "version": "1.6.5"
  }
 },
 "nbformat": 4,
 "nbformat_minor": 2
}
