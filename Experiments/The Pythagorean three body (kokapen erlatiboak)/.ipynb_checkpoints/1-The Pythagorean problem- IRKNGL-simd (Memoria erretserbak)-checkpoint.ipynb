{
 "cells": [
  {
   "cell_type": "markdown",
   "id": "9188be46",
   "metadata": {},
   "source": [
    "# The Pythagorean three body problem"
   ]
  },
  {
   "cell_type": "markdown",
   "id": "ce24bf80",
   "metadata": {},
   "source": [
    "<ul id=\"top\">\n",
    "<li><a href=\"#Loading-packages-and-functions\"> \n",
    "             Loading packages and functions</a></li>\n",
    "    \n",
    "<li><a href=\"#Definition-of-the-problem\"> \n",
    "             Definition of the problem</a></li>  \n",
    "\n",
    "<li><a href=\"#Choose-steps-sizes\">\n",
    "             Choose steps sizes</a></li>\n",
    "\n",
    "<li><a href=\"#Compute-exact-solution\">\n",
    "             Compute exact solution</a></li>\n",
    "             \n",
    "<li><a href=\"#Float64-integrations\">\n",
    "              Float64 integrations</a></li>\n",
    "\n",
    "</ul>  "
   ]
  },
  {
   "cell_type": "markdown",
   "id": "bc1a0de1",
   "metadata": {},
   "source": [
    "## Loading packages and functions"
   ]
  },
  {
   "cell_type": "code",
   "execution_count": 1,
   "id": "cd608cad",
   "metadata": {},
   "outputs": [],
   "source": [
    "using LinearAlgebra\n",
    "using Plots\n",
    "using JLD2, Dates, LaTeXStrings\n",
    "using OrdinaryDiffEq\n",
    "using BenchmarkTools"
   ]
  },
  {
   "cell_type": "code",
   "execution_count": 2,
   "id": "459c7fff",
   "metadata": {},
   "outputs": [],
   "source": [
    "PATH_SRC=\"../../src_seq/\"\n",
    "PATH_DATA=\"./Data/\"\n",
    "\n",
    "include(string(PATH_SRC,\"IRKGL_SEQ.jl\"))\n",
    "using .IRKGL_SEQ \n",
    "\n",
    "\n",
    "PATH_SRC=\"../../src_simd/\"\n",
    "\n",
    "include(string(PATH_SRC,\"IRKGL_SIMD.jl\"))\n",
    "using .IRKGL_SIMD "
   ]
  },
  {
   "cell_type": "code",
   "execution_count": 3,
   "id": "dc781127",
   "metadata": {},
   "outputs": [
    {
     "data": {
      "text/plain": [
       "coord_bar (generic function with 1 method)"
      ]
     },
     "execution_count": 3,
     "metadata": {},
     "output_type": "execute_result"
    }
   ],
   "source": [
    "struct mysolution\n",
    "   sol::ODESolution\n",
    "   iters::Vector{Float64}\n",
    "   steps::Float64\n",
    "end\n",
    "\n",
    "\n",
    "function coord_bar(out,u)\n",
    "    \n",
    "     @. out[:,1,1]=u[:,3,1]-u[:,1,1]\n",
    "     @. out[:,2,1]=u[:,1,1]-u[:,2,1]\n",
    "     @. out[:,3,1]=u[:,2,1]-u[:,3,1]\n",
    "     \n",
    "     return copy(out)\n",
    " \n",
    " end"
   ]
  },
  {
   "cell_type": "code",
   "execution_count": 4,
   "id": "10115b92",
   "metadata": {},
   "outputs": [
    {
     "data": {
      "text/plain": [
       "false"
      ]
     },
     "execution_count": 4,
     "metadata": {},
     "output_type": "execute_result"
    }
   ],
   "source": [
    "run=false"
   ]
  },
  {
   "cell_type": "markdown",
   "id": "84e55bf2",
   "metadata": {},
   "source": [
    " <a href=\"#top\">Back to the top</a>\n",
    " \n",
    " ## Definition of the problem"
   ]
  },
  {
   "cell_type": "code",
   "execution_count": 5,
   "id": "0b8c286a",
   "metadata": {},
   "outputs": [
    {
     "data": {
      "text/plain": [
       "NbodyODE3REL! (generic function with 2 methods)"
      ]
     },
     "execution_count": 5,
     "metadata": {},
     "output_type": "execute_result"
    }
   ],
   "source": [
    "PATH_ODES=\"../../ODEProblems/\"\n",
    "\n",
    "include(string(PATH_ODES,\"InitialPythagorean3BPREL.jl\"))\n",
    "include(string(PATH_ODES,\"Nbody3REL.jl\"))"
   ]
  },
  {
   "cell_type": "markdown",
   "id": "828727c5",
   "metadata": {},
   "source": [
    "### Initial value problem: Pythagorean 3 body problem"
   ]
  },
  {
   "cell_type": "code",
   "execution_count": 6,
   "id": "fc919480",
   "metadata": {},
   "outputs": [],
   "source": [
    "u0, Gm, bodylist = InitialPythagorean3BPREL(Float64)\n",
    "dim=length(size(u0))\n",
    "N = length(Gm)\n",
    "\n",
    "t0=0.\n",
    "tf=63.\n",
    "tf2=2*tf\n",
    "tf4=4*tf\n",
    "\n",
    "prob = ODEProblem(NbodyODE3REL!, u0, (t0,tf), Gm)\n",
    "prob2 = ODEProblem(NbodyODE3REL!, u0, (t0,tf2), Gm)\n",
    "prob4 = ODEProblem(NbodyODE3REL!, u0, (t0,tf4), Gm)\n",
    "\n",
    "setprecision(BigFloat, 108);\n",
    "u0B, GmB, bodylist = InitialPythagorean3BPREL(BigFloat)\n",
    "tspanB=(BigFloat(t0),BigFloat(tf))\n",
    "probB = ODEProblem(NbodyODE3REL!,u0B,tspanB,GmB);"
   ]
  },
  {
   "cell_type": "markdown",
   "id": "1bbac355",
   "metadata": {},
   "source": [
    "## IRKGL"
   ]
  },
  {
   "cell_type": "markdown",
   "id": "817c2256",
   "metadata": {},
   "source": [
    "### IRKGL_Seq"
   ]
  },
  {
   "cell_type": "code",
   "execution_count": 7,
   "id": "b6906ada",
   "metadata": {},
   "outputs": [
    {
     "data": {
      "text/plain": [
       "1×6 Matrix{Int64}:\n",
       " 2  210  2  420  2  840"
      ]
     },
     "execution_count": 7,
     "metadata": {},
     "output_type": "execute_result"
    }
   ],
   "source": [
    "dt=0.3\n",
    "\n",
    "alg=IRKGL_Seq(s=8, initial_interp=1,  myoutputs=true)\n",
    "\n",
    "sol,iters,steps=solve(prob,alg,dt=dt, save_everystep=false, adaptive=false)\n",
    "sol2,iters2,steps2=solve(prob2,alg,dt=dt, save_everystep=false, adaptive=false)\n",
    "sol4,iters4,steps4=solve(prob4,alg,dt=dt, save_everystep=false, adaptive=false)\n",
    "\n",
    "[length(sol.t) steps length(sol2.t) steps2 length(sol4.t) steps4]\n"
   ]
  },
  {
   "cell_type": "code",
   "execution_count": 8,
   "id": "383ea88a",
   "metadata": {},
   "outputs": [
    {
     "name": "stdout",
     "output_type": "stream",
     "text": [
      "  0.001228 seconds (2.57 k allocations: 89.102 KiB)\n"
     ]
    }
   ],
   "source": [
    "@time sol,iters,steps=solve(prob,alg,dt=dt, save_everystep=false, adaptive=false);"
   ]
  },
  {
   "cell_type": "code",
   "execution_count": 9,
   "id": "300110e5",
   "metadata": {},
   "outputs": [
    {
     "name": "stdout",
     "output_type": "stream",
     "text": [
      "  0.002090 seconds (3.20 k allocations: 115.352 KiB)\n"
     ]
    }
   ],
   "source": [
    "@time sol2,iters2,steps2=solve(prob2,alg,dt=dt, save_everystep=false, adaptive=false);"
   ]
  },
  {
   "cell_type": "code",
   "execution_count": 10,
   "id": "b0d0157d",
   "metadata": {},
   "outputs": [
    {
     "name": "stdout",
     "output_type": "stream",
     "text": [
      "  0.003777 seconds (4.46 k allocations: 167.883 KiB)\n"
     ]
    }
   ],
   "source": [
    "@time sol4,iters4,steps4=solve(prob4,alg,dt=dt, save_everystep=false, adaptive=false);"
   ]
  },
  {
   "cell_type": "markdown",
   "id": "61a04d8f",
   "metadata": {},
   "source": [
    "### IRKGL_simd"
   ]
  },
  {
   "cell_type": "code",
   "execution_count": 11,
   "id": "44e12ec7",
   "metadata": {},
   "outputs": [
    {
     "data": {
      "text/plain": [
       "1×6 Matrix{Int64}:\n",
       " 2  210  2  420  2  840"
      ]
     },
     "execution_count": 11,
     "metadata": {},
     "output_type": "execute_result"
    }
   ],
   "source": [
    "dt=0.3\n",
    "\n",
    "alg=IRKGL_simd(s=8, initial_interp=1,  myoutputs=true)\n",
    "\n",
    "sol,iters,steps=solve(prob,alg,dt=dt, save_everystep=false, adaptive=false)\n",
    "sol2,iters2,steps2=solve(prob2,alg,dt=dt, save_everystep=false, adaptive=false)\n",
    "sol4,iters4,steps4=solve(prob4,alg,dt=dt, save_everystep=false, adaptive=false)\n",
    "\n",
    "[length(sol.t) steps length(sol2.t) steps2 length(sol4.t) steps4]"
   ]
  },
  {
   "cell_type": "code",
   "execution_count": 12,
   "id": "ffaa8a32",
   "metadata": {},
   "outputs": [
    {
     "name": "stdout",
     "output_type": "stream",
     "text": [
      "  0.000451 seconds (2.55 k allocations: 88.227 KiB)\n"
     ]
    }
   ],
   "source": [
    "@time sol,iters,steps=solve(prob,alg,dt=dt, save_everystep=false, adaptive=false);"
   ]
  },
  {
   "cell_type": "code",
   "execution_count": 13,
   "id": "45a0a5cb",
   "metadata": {},
   "outputs": [
    {
     "name": "stdout",
     "output_type": "stream",
     "text": [
      "  0.000670 seconds (3.18 k allocations: 114.477 KiB)\n"
     ]
    }
   ],
   "source": [
    "@time sol2,iters2,steps2=solve(prob2,alg,dt=dt, save_everystep=false, adaptive=false);"
   ]
  },
  {
   "cell_type": "code",
   "execution_count": 14,
   "id": "4e12afd1",
   "metadata": {},
   "outputs": [
    {
     "name": "stdout",
     "output_type": "stream",
     "text": [
      "  0.001074 seconds (4.45 k allocations: 167.008 KiB)\n"
     ]
    }
   ],
   "source": [
    "@time sol4,iters4,steps4=solve(prob4,alg,dt=dt, save_everystep=false, adaptive=false);"
   ]
  },
  {
   "cell_type": "markdown",
   "id": "be3aaee8",
   "metadata": {},
   "source": [
    "## IRKNGL"
   ]
  },
  {
   "cell_type": "markdown",
   "id": "de8f10fe",
   "metadata": {},
   "source": [
    "### IRKNGL_seq"
   ]
  },
  {
   "cell_type": "code",
   "execution_count": 15,
   "id": "1468c15d",
   "metadata": {},
   "outputs": [
    {
     "data": {
      "text/plain": [
       "1×6 Matrix{Int64}:\n",
       " 2  210  2  420  2  840"
      ]
     },
     "execution_count": 15,
     "metadata": {},
     "output_type": "execute_result"
    }
   ],
   "source": [
    "dt=0.3\n",
    "\n",
    "alg=IRKNGL_Seq(s=8, initial_interp=1,  myoutputs=true)\n",
    "\n",
    "sol,iters,steps=solve(prob,alg,dt=dt, save_everystep=false, adaptive=false)\n",
    "sol2,iters2,steps2=solve(prob2,alg,dt=dt, save_everystep=false, adaptive=false)\n",
    "sol4,iters4,steps4=solve(prob4,alg,dt=dt, save_everystep=false, adaptive=false)\n",
    "\n",
    "[length(sol.t) steps length(sol2.t) steps2 length(sol4.t) steps4]\n"
   ]
  },
  {
   "cell_type": "code",
   "execution_count": 16,
   "id": "e9a801fc",
   "metadata": {},
   "outputs": [
    {
     "name": "stdout",
     "output_type": "stream",
     "text": [
      "  0.001226 seconds (2.57 k allocations: 89.055 KiB)\n"
     ]
    }
   ],
   "source": [
    "@time sol,iters,steps=solve(prob,alg,dt=dt, save_everystep=false, adaptive=false);"
   ]
  },
  {
   "cell_type": "code",
   "execution_count": 17,
   "id": "b3076ff7",
   "metadata": {},
   "outputs": [
    {
     "name": "stdout",
     "output_type": "stream",
     "text": [
      "  0.001500 seconds (3.20 k allocations: 115.305 KiB)\n"
     ]
    }
   ],
   "source": [
    "@time sol2,iters2,steps2=solve(prob2,alg,dt=dt, save_everystep=false, adaptive=false);"
   ]
  },
  {
   "cell_type": "code",
   "execution_count": 18,
   "id": "74cbdd6c",
   "metadata": {},
   "outputs": [
    {
     "name": "stdout",
     "output_type": "stream",
     "text": [
      "  0.002561 seconds (4.46 k allocations: 167.836 KiB)\n"
     ]
    }
   ],
   "source": [
    "@time sol4,iters4,steps4=solve(prob4,alg,dt=dt, save_everystep=false, adaptive=false);"
   ]
  },
  {
   "cell_type": "markdown",
   "id": "31c6b493",
   "metadata": {},
   "source": [
    "### IRKNGL_simd"
   ]
  },
  {
   "cell_type": "code",
   "execution_count": 19,
   "id": "8fea5d4f",
   "metadata": {},
   "outputs": [
    {
     "data": {
      "text/plain": [
       "1×6 Matrix{Int64}:\n",
       " 2  210  2  420  2  840"
      ]
     },
     "execution_count": 19,
     "metadata": {},
     "output_type": "execute_result"
    }
   ],
   "source": [
    "dt=0.3\n",
    "\n",
    "alg=IRKNGL_simd(s=8, initial_interp=1,  myoutputs=true)\n",
    "\n",
    "sol,iters,steps=solve(prob,alg,dt=dt, save_everystep=false, adaptive=false)\n",
    "sol2,iters2,steps2=solve(prob2,alg,dt=dt, save_everystep=false, adaptive=false)\n",
    "sol4,iters4,steps4=solve(prob4,alg,dt=dt, save_everystep=false, adaptive=false)\n",
    "\n",
    "[length(sol.t) steps length(sol2.t) steps2 length(sol4.t) steps4]\n"
   ]
  },
  {
   "cell_type": "code",
   "execution_count": 20,
   "id": "0d5f5a5b",
   "metadata": {},
   "outputs": [
    {
     "name": "stdout",
     "output_type": "stream",
     "text": [
      "  0.000371 seconds (2.55 k allocations: 88.180 KiB)\n"
     ]
    }
   ],
   "source": [
    "@time sol,iters,steps=solve(prob,alg,dt=dt, save_everystep=false, adaptive=false);"
   ]
  },
  {
   "cell_type": "code",
   "execution_count": 21,
   "id": "50564e79",
   "metadata": {},
   "outputs": [
    {
     "name": "stdout",
     "output_type": "stream",
     "text": [
      "  0.000475 seconds (3.18 k allocations: 114.430 KiB)\n"
     ]
    }
   ],
   "source": [
    "@time sol2,iters2,steps2=solve(prob2,alg,dt=dt, save_everystep=false, adaptive=false);"
   ]
  },
  {
   "cell_type": "code",
   "execution_count": 22,
   "id": "89f448ba",
   "metadata": {},
   "outputs": [
    {
     "name": "stdout",
     "output_type": "stream",
     "text": [
      "  0.000709 seconds (4.45 k allocations: 166.961 KiB)\n"
     ]
    }
   ],
   "source": [
    "@time sol4,iters4,steps4=solve(prob4,alg,dt=dt, save_everystep=false, adaptive=false);"
   ]
  },
  {
   "cell_type": "markdown",
   "id": "1fc1cbdf",
   "metadata": {},
   "source": [
    "## Vern9"
   ]
  },
  {
   "cell_type": "code",
   "execution_count": 11,
   "id": "960d5675",
   "metadata": {},
   "outputs": [
    {
     "data": {
      "text/plain": [
       "1×3 Matrix{Int64}:\n",
       " 2  2  2"
      ]
     },
     "execution_count": 11,
     "metadata": {},
     "output_type": "execute_result"
    }
   ],
   "source": [
    "sol_Vern =solve(prob,Vern9(), dt=dt, save_everystep=false, adaptive=false)\n",
    "sol_Vern2 =solve(prob2,Vern9(), dt=dt, save_everystep=false, adaptive=false)\n",
    "sol_Vern4 =solve(prob4,Vern9(), dt=dt, save_everystep=false, adaptive=false)\n",
    "\n",
    "[length(sol_Vern.t) length(sol_Vern2.t) length(sol_Vern4.t)]"
   ]
  },
  {
   "cell_type": "code",
   "execution_count": 14,
   "id": "93005776",
   "metadata": {},
   "outputs": [
    {
     "name": "stdout",
     "output_type": "stream",
     "text": [
      "  0.000606 seconds (52 allocations: 15.391 KiB)\n"
     ]
    }
   ],
   "source": [
    "@time sol_Vern =solve(prob,Vern9(), dt=dt, save_everystep=false, adaptive=false);"
   ]
  },
  {
   "cell_type": "code",
   "execution_count": 15,
   "id": "73cb6d49",
   "metadata": {},
   "outputs": [
    {
     "name": "stdout",
     "output_type": "stream",
     "text": [
      "  0.002787 seconds (52 allocations: 15.391 KiB)\n"
     ]
    }
   ],
   "source": [
    "@time sol_Vern2 =solve(prob2,Vern9(), dt=dt, save_everystep=false, adaptive=false);"
   ]
  },
  {
   "cell_type": "code",
   "execution_count": 16,
   "id": "9bfdfe17",
   "metadata": {},
   "outputs": [
    {
     "name": "stdout",
     "output_type": "stream",
     "text": [
      "  0.005131 seconds (52 allocations: 15.391 KiB)\n"
     ]
    }
   ],
   "source": [
    "@time sol_Vern4 =solve(prob4,Vern9(), dt=dt, save_everystep=false, adaptive=false);"
   ]
  },
  {
   "cell_type": "code",
   "execution_count": 14,
   "id": "e4f47c2a",
   "metadata": {},
   "outputs": [
    {
     "data": {
      "image/svg+xml": [
       "<?xml version=\"1.0\" encoding=\"utf-8\"?>\n",
       "<svg xmlns=\"http://www.w3.org/2000/svg\" xmlns:xlink=\"http://www.w3.org/1999/xlink\" width=\"900\" height=\"300\" viewBox=\"0 0 3600 1200\">\n",
       "<defs>\n",
       "  <clipPath id=\"clip110\">\n",
       "    <rect x=\"0\" y=\"0\" width=\"3600\" height=\"1200\"/>\n",
       "  </clipPath>\n",
       "</defs>\n",
       "<path clip-path=\"url(#clip110)\" d=\"\n",
       "M0 1200 L3600 1200 L3600 0 L0 0  Z\n",
       "  \" fill=\"#ffffff\" fill-rule=\"evenodd\" fill-opacity=\"1\"/>\n",
       "<defs>\n",
       "  <clipPath id=\"clip111\">\n",
       "    <rect x=\"720\" y=\"0\" width=\"2521\" height=\"1200\"/>\n",
       "  </clipPath>\n",
       "</defs>\n",
       "<path clip-path=\"url(#clip110)\" d=\"\n",
       "M365.953 1062.08 L1238.28 1062.08 L1238.28 93.2321 L365.953 93.2321  Z\n",
       "  \" fill=\"#ffffff\" fill-rule=\"evenodd\" fill-opacity=\"1\"/>\n",
       "<defs>\n",
       "  <clipPath id=\"clip112\">\n",
       "    <rect x=\"365\" y=\"93\" width=\"873\" height=\"970\"/>\n",
       "  </clipPath>\n",
       "</defs>\n",
       "<polyline clip-path=\"url(#clip112)\" style=\"stroke:#000000; stroke-linecap:round; stroke-linejoin:round; stroke-width:2; stroke-opacity:0.1; fill:none\" points=\"\n",
       "  412.313,1062.08 412.313,93.2321 \n",
       "  \"/>\n",
       "<polyline clip-path=\"url(#clip112)\" style=\"stroke:#000000; stroke-linecap:round; stroke-linejoin:round; stroke-width:2; stroke-opacity:0.1; fill:none\" points=\"\n",
       "  599.557,1062.08 599.557,93.2321 \n",
       "  \"/>\n",
       "<polyline clip-path=\"url(#clip112)\" style=\"stroke:#000000; stroke-linecap:round; stroke-linejoin:round; stroke-width:2; stroke-opacity:0.1; fill:none\" points=\"\n",
       "  786.802,1062.08 786.802,93.2321 \n",
       "  \"/>\n",
       "<polyline clip-path=\"url(#clip112)\" style=\"stroke:#000000; stroke-linecap:round; stroke-linejoin:round; stroke-width:2; stroke-opacity:0.1; fill:none\" points=\"\n",
       "  974.047,1062.08 974.047,93.2321 \n",
       "  \"/>\n",
       "<polyline clip-path=\"url(#clip112)\" style=\"stroke:#000000; stroke-linecap:round; stroke-linejoin:round; stroke-width:2; stroke-opacity:0.1; fill:none\" points=\"\n",
       "  1161.29,1062.08 1161.29,93.2321 \n",
       "  \"/>\n",
       "<polyline clip-path=\"url(#clip110)\" style=\"stroke:#000000; stroke-linecap:round; stroke-linejoin:round; stroke-width:4; stroke-opacity:1; fill:none\" points=\"\n",
       "  365.953,1062.08 1238.28,1062.08 \n",
       "  \"/>\n",
       "<polyline clip-path=\"url(#clip110)\" style=\"stroke:#000000; stroke-linecap:round; stroke-linejoin:round; stroke-width:4; stroke-opacity:1; fill:none\" points=\"\n",
       "  412.313,1062.08 412.313,1043.18 \n",
       "  \"/>\n",
       "<polyline clip-path=\"url(#clip110)\" style=\"stroke:#000000; stroke-linecap:round; stroke-linejoin:round; stroke-width:4; stroke-opacity:1; fill:none\" points=\"\n",
       "  599.557,1062.08 599.557,1043.18 \n",
       "  \"/>\n",
       "<polyline clip-path=\"url(#clip110)\" style=\"stroke:#000000; stroke-linecap:round; stroke-linejoin:round; stroke-width:4; stroke-opacity:1; fill:none\" points=\"\n",
       "  786.802,1062.08 786.802,1043.18 \n",
       "  \"/>\n",
       "<polyline clip-path=\"url(#clip110)\" style=\"stroke:#000000; stroke-linecap:round; stroke-linejoin:round; stroke-width:4; stroke-opacity:1; fill:none\" points=\"\n",
       "  974.047,1062.08 974.047,1043.18 \n",
       "  \"/>\n",
       "<polyline clip-path=\"url(#clip110)\" style=\"stroke:#000000; stroke-linecap:round; stroke-linejoin:round; stroke-width:4; stroke-opacity:1; fill:none\" points=\"\n",
       "  1161.29,1062.08 1161.29,1043.18 \n",
       "  \"/>\n",
       "<path clip-path=\"url(#clip110)\" d=\"M299.734 1132.91 L329.41 1132.91 L329.41 1136.84 L299.734 1136.84 L299.734 1132.91 Z\" fill=\"#000000\" fill-rule=\"evenodd\" fill-opacity=\"1\" /><path clip-path=\"url(#clip110)\" d=\"M340.312 1145.8 L347.951 1145.8 L347.951 1119.44 L339.641 1121.1 L339.641 1116.84 L347.905 1115.18 L352.581 1115.18 L352.581 1145.8 L360.22 1145.8 L360.22 1149.74 L340.312 1149.74 L340.312 1145.8 Z\" fill=\"#000000\" fill-rule=\"evenodd\" fill-opacity=\"1\" /><path clip-path=\"url(#clip110)\" d=\"M369.664 1143.86 L374.548 1143.86 L374.548 1149.74 L369.664 1149.74 L369.664 1143.86 Z\" fill=\"#000000\" fill-rule=\"evenodd\" fill-opacity=\"1\" /><path clip-path=\"url(#clip110)\" d=\"M394.733 1118.26 Q391.122 1118.26 389.294 1121.82 Q387.488 1125.36 387.488 1132.49 Q387.488 1139.6 389.294 1143.16 Q391.122 1146.71 394.733 1146.71 Q398.368 1146.71 400.173 1143.16 Q402.002 1139.6 402.002 1132.49 Q402.002 1125.36 400.173 1121.82 Q398.368 1118.26 394.733 1118.26 M394.733 1114.55 Q400.543 1114.55 403.599 1119.16 Q406.678 1123.74 406.678 1132.49 Q406.678 1141.22 403.599 1145.83 Q400.543 1150.41 394.733 1150.41 Q388.923 1150.41 385.844 1145.83 Q382.789 1141.22 382.789 1132.49 Q382.789 1123.74 385.844 1119.16 Q388.923 1114.55 394.733 1114.55 Z\" fill=\"#000000\" fill-rule=\"evenodd\" fill-opacity=\"1\" /><path clip-path=\"url(#clip110)\" d=\"M443.066 1124.28 L432.488 1134.9 L443.066 1145.48 L440.312 1148.28 L429.687 1137.65 L419.062 1148.28 L416.33 1145.48 L426.886 1134.9 L416.33 1124.28 L419.062 1121.47 L429.687 1132.1 L440.312 1121.47 L443.066 1124.28 Z\" fill=\"#000000\" fill-rule=\"evenodd\" fill-opacity=\"1\" /><path clip-path=\"url(#clip110)\" d=\"M455.427 1145.8 L463.066 1145.8 L463.066 1119.44 L454.756 1121.1 L454.756 1116.84 L463.02 1115.18 L467.696 1115.18 L467.696 1145.8 L475.335 1145.8 L475.335 1149.74 L455.427 1149.74 L455.427 1145.8 Z\" fill=\"#000000\" fill-rule=\"evenodd\" fill-opacity=\"1\" /><path clip-path=\"url(#clip110)\" d=\"M494.779 1118.26 Q491.168 1118.26 489.339 1121.82 Q487.534 1125.36 487.534 1132.49 Q487.534 1139.6 489.339 1143.16 Q491.168 1146.71 494.779 1146.71 Q498.413 1146.71 500.219 1143.16 Q502.048 1139.6 502.048 1132.49 Q502.048 1125.36 500.219 1121.82 Q498.413 1118.26 494.779 1118.26 M494.779 1114.55 Q500.589 1114.55 503.645 1119.16 Q506.723 1123.74 506.723 1132.49 Q506.723 1141.22 503.645 1145.83 Q500.589 1150.41 494.779 1150.41 Q488.969 1150.41 485.89 1145.83 Q482.835 1141.22 482.835 1132.49 Q482.835 1123.74 485.89 1119.16 Q488.969 1114.55 494.779 1114.55 Z\" fill=\"#000000\" fill-rule=\"evenodd\" fill-opacity=\"1\" /><path clip-path=\"url(#clip110)\" d=\"M507.908 1094.25 L522.823 1094.25 L522.823 1097.45 L511.388 1097.45 L511.388 1104.33 Q512.215 1104.05 513.043 1103.92 Q513.87 1103.76 514.698 1103.76 Q519.4 1103.76 522.146 1106.34 Q524.892 1108.92 524.892 1113.32 Q524.892 1117.85 522.071 1120.37 Q519.249 1122.87 514.115 1122.87 Q512.347 1122.87 510.504 1122.57 Q508.679 1122.27 506.723 1121.67 L506.723 1117.85 Q508.416 1118.77 510.222 1119.22 Q512.027 1119.68 514.04 1119.68 Q517.293 1119.68 519.193 1117.96 Q521.093 1116.25 521.093 1113.32 Q521.093 1110.38 519.193 1108.67 Q517.293 1106.96 514.04 1106.96 Q512.516 1106.96 510.993 1107.3 Q509.488 1107.64 507.908 1108.35 L507.908 1094.25 Z\" fill=\"#000000\" fill-rule=\"evenodd\" fill-opacity=\"1\" /><path clip-path=\"url(#clip110)\" d=\"M485.831 1132.91 L515.507 1132.91 L515.507 1136.84 L485.831 1136.84 L485.831 1132.91 Z\" fill=\"#000000\" fill-rule=\"evenodd\" fill-opacity=\"1\" /><path clip-path=\"url(#clip110)\" d=\"M525.646 1115.18 L544.002 1115.18 L544.002 1119.11 L529.928 1119.11 L529.928 1127.59 Q530.947 1127.24 531.965 1127.08 Q532.984 1126.89 534.002 1126.89 Q539.789 1126.89 543.169 1130.06 Q546.548 1133.23 546.548 1138.65 Q546.548 1144.23 543.076 1147.33 Q539.604 1150.41 533.285 1150.41 Q531.109 1150.41 528.84 1150.04 Q526.595 1149.67 524.187 1148.93 L524.187 1144.23 Q526.271 1145.36 528.493 1145.92 Q530.715 1146.47 533.192 1146.47 Q537.197 1146.47 539.535 1144.37 Q541.873 1142.26 541.873 1138.65 Q541.873 1135.04 539.535 1132.93 Q537.197 1130.83 533.192 1130.83 Q531.317 1130.83 529.442 1131.24 Q527.59 1131.66 525.646 1132.54 L525.646 1115.18 Z\" fill=\"#000000\" fill-rule=\"evenodd\" fill-opacity=\"1\" /><path clip-path=\"url(#clip110)\" d=\"M555.761 1143.86 L560.646 1143.86 L560.646 1149.74 L555.761 1149.74 L555.761 1143.86 Z\" fill=\"#000000\" fill-rule=\"evenodd\" fill-opacity=\"1\" /><path clip-path=\"url(#clip110)\" d=\"M580.831 1118.26 Q577.22 1118.26 575.391 1121.82 Q573.585 1125.36 573.585 1132.49 Q573.585 1139.6 575.391 1143.16 Q577.22 1146.71 580.831 1146.71 Q584.465 1146.71 586.27 1143.16 Q588.099 1139.6 588.099 1132.49 Q588.099 1125.36 586.27 1121.82 Q584.465 1118.26 580.831 1118.26 M580.831 1114.55 Q586.641 1114.55 589.696 1119.16 Q592.775 1123.74 592.775 1132.49 Q592.775 1141.22 589.696 1145.83 Q586.641 1150.41 580.831 1150.41 Q575.02 1150.41 571.942 1145.83 Q568.886 1141.22 568.886 1132.49 Q568.886 1123.74 571.942 1119.16 Q575.02 1114.55 580.831 1114.55 Z\" fill=\"#000000\" fill-rule=\"evenodd\" fill-opacity=\"1\" /><path clip-path=\"url(#clip110)\" d=\"M629.164 1124.28 L618.585 1134.9 L629.164 1145.48 L626.409 1148.28 L615.784 1137.65 L605.159 1148.28 L602.428 1145.48 L612.983 1134.9 L602.428 1124.28 L605.159 1121.47 L615.784 1132.1 L626.409 1121.47 L629.164 1124.28 Z\" fill=\"#000000\" fill-rule=\"evenodd\" fill-opacity=\"1\" /><path clip-path=\"url(#clip110)\" d=\"M641.525 1145.8 L649.164 1145.8 L649.164 1119.44 L640.853 1121.1 L640.853 1116.84 L649.117 1115.18 L653.793 1115.18 L653.793 1145.8 L661.432 1145.8 L661.432 1149.74 L641.525 1149.74 L641.525 1145.8 Z\" fill=\"#000000\" fill-rule=\"evenodd\" fill-opacity=\"1\" /><path clip-path=\"url(#clip110)\" d=\"M680.876 1118.26 Q677.265 1118.26 675.437 1121.82 Q673.631 1125.36 673.631 1132.49 Q673.631 1139.6 675.437 1143.16 Q677.265 1146.71 680.876 1146.71 Q684.511 1146.71 686.316 1143.16 Q688.145 1139.6 688.145 1132.49 Q688.145 1125.36 686.316 1121.82 Q684.511 1118.26 680.876 1118.26 M680.876 1114.55 Q686.687 1114.55 689.742 1119.16 Q692.821 1123.74 692.821 1132.49 Q692.821 1141.22 689.742 1145.83 Q686.687 1150.41 680.876 1150.41 Q675.066 1150.41 671.988 1145.83 Q668.932 1141.22 668.932 1132.49 Q668.932 1123.74 671.988 1119.16 Q675.066 1114.55 680.876 1114.55 Z\" fill=\"#000000\" fill-rule=\"evenodd\" fill-opacity=\"1\" /><path clip-path=\"url(#clip110)\" d=\"M705.497 1097.56 L695.905 1112.55 L705.497 1112.55 L705.497 1097.56 M704.5 1094.25 L709.278 1094.25 L709.278 1112.55 L713.284 1112.55 L713.284 1115.71 L709.278 1115.71 L709.278 1122.33 L705.497 1122.33 L705.497 1115.71 L692.821 1115.71 L692.821 1112.04 L704.5 1094.25 Z\" fill=\"#000000\" fill-rule=\"evenodd\" fill-opacity=\"1\" /><path clip-path=\"url(#clip110)\" d=\"M786.802 1102.6 Q783.191 1102.6 781.362 1106.16 Q779.557 1109.7 779.557 1116.83 Q779.557 1123.94 781.362 1127.5 Q783.191 1131.05 786.802 1131.05 Q790.436 1131.05 792.242 1127.5 Q794.07 1123.94 794.07 1116.83 Q794.07 1109.7 792.242 1106.16 Q790.436 1102.6 786.802 1102.6 M786.802 1098.89 Q792.612 1098.89 795.668 1103.5 Q798.746 1108.08 798.746 1116.83 Q798.746 1125.56 795.668 1130.17 Q792.612 1134.75 786.802 1134.75 Q780.992 1134.75 777.913 1130.17 Q774.858 1125.56 774.858 1116.83 Q774.858 1108.08 777.913 1103.5 Q780.992 1098.89 786.802 1098.89 Z\" fill=\"#000000\" fill-rule=\"evenodd\" fill-opacity=\"1\" /><path clip-path=\"url(#clip110)\" d=\"M880.957 1115.18 L899.313 1115.18 L899.313 1119.11 L885.239 1119.11 L885.239 1127.59 Q886.258 1127.24 887.276 1127.08 Q888.295 1126.89 889.313 1126.89 Q895.1 1126.89 898.48 1130.06 Q901.86 1133.23 901.86 1138.65 Q901.86 1144.23 898.387 1147.33 Q894.915 1150.41 888.596 1150.41 Q886.42 1150.41 884.151 1150.04 Q881.906 1149.67 879.499 1148.93 L879.499 1144.23 Q881.582 1145.36 883.804 1145.92 Q886.026 1146.47 888.503 1146.47 Q892.508 1146.47 894.846 1144.37 Q897.184 1142.26 897.184 1138.65 Q897.184 1135.04 894.846 1132.93 Q892.508 1130.83 888.503 1130.83 Q886.628 1130.83 884.753 1131.24 Q882.901 1131.66 880.957 1132.54 L880.957 1115.18 Z\" fill=\"#000000\" fill-rule=\"evenodd\" fill-opacity=\"1\" /><path clip-path=\"url(#clip110)\" d=\"M911.072 1143.86 L915.957 1143.86 L915.957 1149.74 L911.072 1149.74 L911.072 1143.86 Z\" fill=\"#000000\" fill-rule=\"evenodd\" fill-opacity=\"1\" /><path clip-path=\"url(#clip110)\" d=\"M936.142 1118.26 Q932.531 1118.26 930.702 1121.82 Q928.896 1125.36 928.896 1132.49 Q928.896 1139.6 930.702 1143.16 Q932.531 1146.71 936.142 1146.71 Q939.776 1146.71 941.582 1143.16 Q943.41 1139.6 943.41 1132.49 Q943.41 1125.36 941.582 1121.82 Q939.776 1118.26 936.142 1118.26 M936.142 1114.55 Q941.952 1114.55 945.007 1119.16 Q948.086 1123.74 948.086 1132.49 Q948.086 1141.22 945.007 1145.83 Q941.952 1150.41 936.142 1150.41 Q930.332 1150.41 927.253 1145.83 Q924.197 1141.22 924.197 1132.49 Q924.197 1123.74 927.253 1119.16 Q930.332 1114.55 936.142 1114.55 Z\" fill=\"#000000\" fill-rule=\"evenodd\" fill-opacity=\"1\" /><path clip-path=\"url(#clip110)\" d=\"M984.475 1124.28 L973.896 1134.9 L984.475 1145.48 L981.72 1148.28 L971.095 1137.65 L960.47 1148.28 L957.739 1145.48 L968.294 1134.9 L957.739 1124.28 L960.47 1121.47 L971.095 1132.1 L981.72 1121.47 L984.475 1124.28 Z\" fill=\"#000000\" fill-rule=\"evenodd\" fill-opacity=\"1\" /><path clip-path=\"url(#clip110)\" d=\"M996.836 1145.8 L1004.47 1145.8 L1004.47 1119.44 L996.165 1121.1 L996.165 1116.84 L1004.43 1115.18 L1009.1 1115.18 L1009.1 1145.8 L1016.74 1145.8 L1016.74 1149.74 L996.836 1149.74 L996.836 1145.8 Z\" fill=\"#000000\" fill-rule=\"evenodd\" fill-opacity=\"1\" /><path clip-path=\"url(#clip110)\" d=\"M1036.19 1118.26 Q1032.58 1118.26 1030.75 1121.82 Q1028.94 1125.36 1028.94 1132.49 Q1028.94 1139.6 1030.75 1143.16 Q1032.58 1146.71 1036.19 1146.71 Q1039.82 1146.71 1041.63 1143.16 Q1043.46 1139.6 1043.46 1132.49 Q1043.46 1125.36 1041.63 1121.82 Q1039.82 1118.26 1036.19 1118.26 M1036.19 1114.55 Q1042 1114.55 1045.05 1119.16 Q1048.13 1123.74 1048.13 1132.49 Q1048.13 1141.22 1045.05 1145.83 Q1042 1150.41 1036.19 1150.41 Q1030.38 1150.41 1027.3 1145.83 Q1024.24 1141.22 1024.24 1132.49 Q1024.24 1123.74 1027.3 1119.16 Q1030.38 1114.55 1036.19 1114.55 Z\" fill=\"#000000\" fill-rule=\"evenodd\" fill-opacity=\"1\" /><path clip-path=\"url(#clip110)\" d=\"M1060.81 1097.56 L1051.22 1112.55 L1060.81 1112.55 L1060.81 1097.56 M1059.81 1094.25 L1064.59 1094.25 L1064.59 1112.55 L1068.59 1112.55 L1068.59 1115.71 L1064.59 1115.71 L1064.59 1122.33 L1060.81 1122.33 L1060.81 1115.71 L1048.13 1115.71 L1048.13 1112.04 L1059.81 1094.25 Z\" fill=\"#000000\" fill-rule=\"evenodd\" fill-opacity=\"1\" /><path clip-path=\"url(#clip110)\" d=\"M1069.34 1145.8 L1076.98 1145.8 L1076.98 1119.44 L1068.67 1121.1 L1068.67 1116.84 L1076.93 1115.18 L1081.61 1115.18 L1081.61 1145.8 L1089.24 1145.8 L1089.24 1149.74 L1069.34 1149.74 L1069.34 1145.8 Z\" fill=\"#000000\" fill-rule=\"evenodd\" fill-opacity=\"1\" /><path clip-path=\"url(#clip110)\" d=\"M1098.69 1143.86 L1103.57 1143.86 L1103.57 1149.74 L1098.69 1149.74 L1098.69 1143.86 Z\" fill=\"#000000\" fill-rule=\"evenodd\" fill-opacity=\"1\" /><path clip-path=\"url(#clip110)\" d=\"M1123.76 1118.26 Q1120.15 1118.26 1118.32 1121.82 Q1116.51 1125.36 1116.51 1132.49 Q1116.51 1139.6 1118.32 1143.16 Q1120.15 1146.71 1123.76 1146.71 Q1127.39 1146.71 1129.2 1143.16 Q1131.03 1139.6 1131.03 1132.49 Q1131.03 1125.36 1129.2 1121.82 Q1127.39 1118.26 1123.76 1118.26 M1123.76 1114.55 Q1129.57 1114.55 1132.62 1119.16 Q1135.7 1123.74 1135.7 1132.49 Q1135.7 1141.22 1132.62 1145.83 Q1129.57 1150.41 1123.76 1150.41 Q1117.95 1150.41 1114.87 1145.83 Q1111.81 1141.22 1111.81 1132.49 Q1111.81 1123.74 1114.87 1119.16 Q1117.95 1114.55 1123.76 1114.55 Z\" fill=\"#000000\" fill-rule=\"evenodd\" fill-opacity=\"1\" /><path clip-path=\"url(#clip110)\" d=\"M1172.09 1124.28 L1161.51 1134.9 L1172.09 1145.48 L1169.34 1148.28 L1158.71 1137.65 L1148.09 1148.28 L1145.36 1145.48 L1155.91 1134.9 L1145.36 1124.28 L1148.09 1121.47 L1158.71 1132.1 L1169.34 1121.47 L1172.09 1124.28 Z\" fill=\"#000000\" fill-rule=\"evenodd\" fill-opacity=\"1\" /><path clip-path=\"url(#clip110)\" d=\"M1184.45 1145.8 L1192.09 1145.8 L1192.09 1119.44 L1183.78 1121.1 L1183.78 1116.84 L1192.04 1115.18 L1196.72 1115.18 L1196.72 1145.8 L1204.36 1145.8 L1204.36 1149.74 L1184.45 1149.74 L1184.45 1145.8 Z\" fill=\"#000000\" fill-rule=\"evenodd\" fill-opacity=\"1\" /><path clip-path=\"url(#clip110)\" d=\"M1223.8 1118.26 Q1220.19 1118.26 1218.36 1121.82 Q1216.56 1125.36 1216.56 1132.49 Q1216.56 1139.6 1218.36 1143.16 Q1220.19 1146.71 1223.8 1146.71 Q1227.44 1146.71 1229.24 1143.16 Q1231.07 1139.6 1231.07 1132.49 Q1231.07 1125.36 1229.24 1121.82 Q1227.44 1118.26 1223.8 1118.26 M1223.8 1114.55 Q1229.61 1114.55 1232.67 1119.16 Q1235.75 1123.74 1235.75 1132.49 Q1235.75 1141.22 1232.67 1145.83 Q1229.61 1150.41 1223.8 1150.41 Q1217.99 1150.41 1214.92 1145.83 Q1211.86 1141.22 1211.86 1132.49 Q1211.86 1123.74 1214.92 1119.16 Q1217.99 1114.55 1223.8 1114.55 Z\" fill=\"#000000\" fill-rule=\"evenodd\" fill-opacity=\"1\" /><path clip-path=\"url(#clip110)\" d=\"M1236.93 1094.25 L1251.85 1094.25 L1251.85 1097.45 L1240.41 1097.45 L1240.41 1104.33 Q1241.24 1104.05 1242.07 1103.92 Q1242.9 1103.76 1243.72 1103.76 Q1248.42 1103.76 1251.17 1106.34 Q1253.92 1108.92 1253.92 1113.32 Q1253.92 1117.85 1251.1 1120.37 Q1248.27 1122.87 1243.14 1122.87 Q1241.37 1122.87 1239.53 1122.57 Q1237.7 1122.27 1235.75 1121.67 L1235.75 1117.85 Q1237.44 1118.77 1239.25 1119.22 Q1241.05 1119.68 1243.06 1119.68 Q1246.32 1119.68 1248.22 1117.96 Q1250.12 1116.25 1250.12 1113.32 Q1250.12 1110.38 1248.22 1108.67 Q1246.32 1106.96 1243.06 1106.96 Q1241.54 1106.96 1240.02 1107.3 Q1238.51 1107.64 1236.93 1108.35 L1236.93 1094.25 Z\" fill=\"#000000\" fill-rule=\"evenodd\" fill-opacity=\"1\" /><path clip-path=\"url(#clip110)\" d=\"M818.731 1207.72 L805.84 1225.07 L819.399 1243.37 L812.492 1243.37 L802.116 1229.36 L791.74 1243.37 L784.833 1243.37 L798.679 1224.72 L786.011 1207.72 L792.918 1207.72 L802.371 1220.42 L811.824 1207.72 L818.731 1207.72 Z\" fill=\"#000000\" fill-rule=\"evenodd\" fill-opacity=\"1\" /><polyline clip-path=\"url(#clip112)\" style=\"stroke:#000000; stroke-linecap:round; stroke-linejoin:round; stroke-width:2; stroke-opacity:0.1; fill:none\" points=\"\n",
       "  365.953,956.057 1238.28,956.057 \n",
       "  \"/>\n",
       "<polyline clip-path=\"url(#clip112)\" style=\"stroke:#000000; stroke-linecap:round; stroke-linejoin:round; stroke-width:2; stroke-opacity:0.1; fill:none\" points=\"\n",
       "  365.953,768.812 1238.28,768.812 \n",
       "  \"/>\n",
       "<polyline clip-path=\"url(#clip112)\" style=\"stroke:#000000; stroke-linecap:round; stroke-linejoin:round; stroke-width:2; stroke-opacity:0.1; fill:none\" points=\"\n",
       "  365.953,581.567 1238.28,581.567 \n",
       "  \"/>\n",
       "<polyline clip-path=\"url(#clip112)\" style=\"stroke:#000000; stroke-linecap:round; stroke-linejoin:round; stroke-width:2; stroke-opacity:0.1; fill:none\" points=\"\n",
       "  365.953,394.323 1238.28,394.323 \n",
       "  \"/>\n",
       "<polyline clip-path=\"url(#clip112)\" style=\"stroke:#000000; stroke-linecap:round; stroke-linejoin:round; stroke-width:2; stroke-opacity:0.1; fill:none\" points=\"\n",
       "  365.953,207.078 1238.28,207.078 \n",
       "  \"/>\n",
       "<polyline clip-path=\"url(#clip110)\" style=\"stroke:#000000; stroke-linecap:round; stroke-linejoin:round; stroke-width:4; stroke-opacity:1; fill:none\" points=\"\n",
       "  365.953,1062.08 365.953,93.2321 \n",
       "  \"/>\n",
       "<polyline clip-path=\"url(#clip110)\" style=\"stroke:#000000; stroke-linecap:round; stroke-linejoin:round; stroke-width:4; stroke-opacity:1; fill:none\" points=\"\n",
       "  365.953,956.057 384.85,956.057 \n",
       "  \"/>\n",
       "<polyline clip-path=\"url(#clip110)\" style=\"stroke:#000000; stroke-linecap:round; stroke-linejoin:round; stroke-width:4; stroke-opacity:1; fill:none\" points=\"\n",
       "  365.953,768.812 384.85,768.812 \n",
       "  \"/>\n",
       "<polyline clip-path=\"url(#clip110)\" style=\"stroke:#000000; stroke-linecap:round; stroke-linejoin:round; stroke-width:4; stroke-opacity:1; fill:none\" points=\"\n",
       "  365.953,581.567 384.85,581.567 \n",
       "  \"/>\n",
       "<polyline clip-path=\"url(#clip110)\" style=\"stroke:#000000; stroke-linecap:round; stroke-linejoin:round; stroke-width:4; stroke-opacity:1; fill:none\" points=\"\n",
       "  365.953,394.323 384.85,394.323 \n",
       "  \"/>\n",
       "<polyline clip-path=\"url(#clip110)\" style=\"stroke:#000000; stroke-linecap:round; stroke-linejoin:round; stroke-width:4; stroke-opacity:1; fill:none\" points=\"\n",
       "  365.953,207.078 384.85,207.078 \n",
       "  \"/>\n",
       "<path clip-path=\"url(#clip110)\" d=\"M86.7947 962.956 L116.47 962.956 L116.47 966.891 L86.7947 966.891 L86.7947 962.956 Z\" fill=\"#000000\" fill-rule=\"evenodd\" fill-opacity=\"1\" /><path clip-path=\"url(#clip110)\" d=\"M127.373 975.849 L135.012 975.849 L135.012 949.484 L126.702 951.15 L126.702 946.891 L134.966 945.224 L139.642 945.224 L139.642 975.849 L147.28 975.849 L147.28 979.784 L127.373 979.784 L127.373 975.849 Z\" fill=\"#000000\" fill-rule=\"evenodd\" fill-opacity=\"1\" /><path clip-path=\"url(#clip110)\" d=\"M156.725 973.905 L161.609 973.905 L161.609 979.784 L156.725 979.784 L156.725 973.905 Z\" fill=\"#000000\" fill-rule=\"evenodd\" fill-opacity=\"1\" /><path clip-path=\"url(#clip110)\" d=\"M181.794 948.303 Q178.183 948.303 176.354 951.868 Q174.549 955.409 174.549 962.539 Q174.549 969.645 176.354 973.21 Q178.183 976.752 181.794 976.752 Q185.428 976.752 187.234 973.21 Q189.063 969.645 189.063 962.539 Q189.063 955.409 187.234 951.868 Q185.428 948.303 181.794 948.303 M181.794 944.599 Q187.604 944.599 190.66 949.206 Q193.739 953.789 193.739 962.539 Q193.739 971.266 190.66 975.872 Q187.604 980.456 181.794 980.456 Q175.984 980.456 172.905 975.872 Q169.85 971.266 169.85 962.539 Q169.85 953.789 172.905 949.206 Q175.984 944.599 181.794 944.599 Z\" fill=\"#000000\" fill-rule=\"evenodd\" fill-opacity=\"1\" /><path clip-path=\"url(#clip110)\" d=\"M230.127 954.321 L219.549 964.946 L230.127 975.525 L227.373 978.326 L216.748 967.701 L206.123 978.326 L203.391 975.525 L213.947 964.946 L203.391 954.321 L206.123 951.521 L216.748 962.145 L227.373 951.521 L230.127 954.321 Z\" fill=\"#000000\" fill-rule=\"evenodd\" fill-opacity=\"1\" /><path clip-path=\"url(#clip110)\" d=\"M242.488 975.849 L250.127 975.849 L250.127 949.484 L241.817 951.15 L241.817 946.891 L250.081 945.224 L254.757 945.224 L254.757 975.849 L262.396 975.849 L262.396 979.784 L242.488 979.784 L242.488 975.849 Z\" fill=\"#000000\" fill-rule=\"evenodd\" fill-opacity=\"1\" /><path clip-path=\"url(#clip110)\" d=\"M281.84 948.303 Q278.229 948.303 276.4 951.868 Q274.595 955.409 274.595 962.539 Q274.595 969.645 276.4 973.21 Q278.229 976.752 281.84 976.752 Q285.474 976.752 287.28 973.21 Q289.108 969.645 289.108 962.539 Q289.108 955.409 287.28 951.868 Q285.474 948.303 281.84 948.303 M281.84 944.599 Q287.65 944.599 290.706 949.206 Q293.784 953.789 293.784 962.539 Q293.784 971.266 290.706 975.872 Q287.65 980.456 281.84 980.456 Q276.03 980.456 272.951 975.872 Q269.896 971.266 269.896 962.539 Q269.896 953.789 272.951 949.206 Q276.03 944.599 281.84 944.599 Z\" fill=\"#000000\" fill-rule=\"evenodd\" fill-opacity=\"1\" /><path clip-path=\"url(#clip110)\" d=\"M294.969 924.294 L309.884 924.294 L309.884 927.491 L298.449 927.491 L298.449 934.375 Q299.276 934.093 300.104 933.961 Q300.931 933.811 301.759 933.811 Q306.461 933.811 309.207 936.387 Q311.953 938.964 311.953 943.365 Q311.953 947.898 309.131 950.418 Q306.31 952.919 301.176 952.919 Q299.408 952.919 297.565 952.618 Q295.74 952.317 293.784 951.716 L293.784 947.898 Q295.477 948.819 297.283 949.271 Q299.088 949.722 301.101 949.722 Q304.354 949.722 306.254 948.01 Q308.153 946.299 308.153 943.365 Q308.153 940.431 306.254 938.719 Q304.354 937.008 301.101 937.008 Q299.577 937.008 298.054 937.346 Q296.549 937.685 294.969 938.4 L294.969 924.294 Z\" fill=\"#000000\" fill-rule=\"evenodd\" fill-opacity=\"1\" /><path clip-path=\"url(#clip110)\" d=\"M84.5002 775.711 L114.176 775.711 L114.176 779.646 L84.5002 779.646 L84.5002 775.711 Z\" fill=\"#000000\" fill-rule=\"evenodd\" fill-opacity=\"1\" /><path clip-path=\"url(#clip110)\" d=\"M124.315 757.98 L142.671 757.98 L142.671 761.915 L128.597 761.915 L128.597 770.387 Q129.616 770.04 130.634 769.878 Q131.653 769.693 132.671 769.693 Q138.458 769.693 141.838 772.864 Q145.217 776.035 145.217 781.452 Q145.217 787.03 141.745 790.132 Q138.273 793.211 131.954 793.211 Q129.778 793.211 127.509 792.841 Q125.264 792.47 122.856 791.729 L122.856 787.03 Q124.94 788.165 127.162 788.72 Q129.384 789.276 131.861 789.276 Q135.866 789.276 138.204 787.169 Q140.542 785.063 140.542 781.452 Q140.542 777.841 138.204 775.734 Q135.866 773.628 131.861 773.628 Q129.986 773.628 128.111 774.044 Q126.259 774.461 124.315 775.341 L124.315 757.98 Z\" fill=\"#000000\" fill-rule=\"evenodd\" fill-opacity=\"1\" /><path clip-path=\"url(#clip110)\" d=\"M154.43 786.66 L159.315 786.66 L159.315 792.54 L154.43 792.54 L154.43 786.66 Z\" fill=\"#000000\" fill-rule=\"evenodd\" fill-opacity=\"1\" /><path clip-path=\"url(#clip110)\" d=\"M179.5 761.058 Q175.889 761.058 174.06 764.623 Q172.254 768.165 172.254 775.294 Q172.254 782.401 174.06 785.966 Q175.889 789.507 179.5 789.507 Q183.134 789.507 184.939 785.966 Q186.768 782.401 186.768 775.294 Q186.768 768.165 184.939 764.623 Q183.134 761.058 179.5 761.058 M179.5 757.355 Q185.31 757.355 188.365 761.961 Q191.444 766.544 191.444 775.294 Q191.444 784.021 188.365 788.628 Q185.31 793.211 179.5 793.211 Q173.689 793.211 170.611 788.628 Q167.555 784.021 167.555 775.294 Q167.555 766.544 170.611 761.961 Q173.689 757.355 179.5 757.355 Z\" fill=\"#000000\" fill-rule=\"evenodd\" fill-opacity=\"1\" /><path clip-path=\"url(#clip110)\" d=\"M227.833 767.077 L217.254 777.702 L227.833 788.28 L225.078 791.081 L214.453 780.456 L203.828 791.081 L201.097 788.28 L211.652 777.702 L201.097 767.077 L203.828 764.276 L214.453 774.901 L225.078 764.276 L227.833 767.077 Z\" fill=\"#000000\" fill-rule=\"evenodd\" fill-opacity=\"1\" /><path clip-path=\"url(#clip110)\" d=\"M240.194 788.605 L247.833 788.605 L247.833 762.239 L239.522 763.906 L239.522 759.646 L247.786 757.98 L252.462 757.98 L252.462 788.605 L260.101 788.605 L260.101 792.54 L240.194 792.54 L240.194 788.605 Z\" fill=\"#000000\" fill-rule=\"evenodd\" fill-opacity=\"1\" /><path clip-path=\"url(#clip110)\" d=\"M279.545 761.058 Q275.934 761.058 274.106 764.623 Q272.3 768.165 272.3 775.294 Q272.3 782.401 274.106 785.966 Q275.934 789.507 279.545 789.507 Q283.18 789.507 284.985 785.966 Q286.814 782.401 286.814 775.294 Q286.814 768.165 284.985 764.623 Q283.18 761.058 279.545 761.058 M279.545 757.355 Q285.356 757.355 288.411 761.961 Q291.49 766.544 291.49 775.294 Q291.49 784.021 288.411 788.628 Q285.356 793.211 279.545 793.211 Q273.735 793.211 270.657 788.628 Q267.601 784.021 267.601 775.294 Q267.601 766.544 270.657 761.961 Q273.735 757.355 279.545 757.355 Z\" fill=\"#000000\" fill-rule=\"evenodd\" fill-opacity=\"1\" /><path clip-path=\"url(#clip110)\" d=\"M304.166 740.359 L294.574 755.349 L304.166 755.349 L304.166 740.359 M303.169 737.049 L307.947 737.049 L307.947 755.349 L311.953 755.349 L311.953 758.509 L307.947 758.509 L307.947 765.129 L304.166 765.129 L304.166 758.509 L291.49 758.509 L291.49 754.841 L303.169 737.049 Z\" fill=\"#000000\" fill-rule=\"evenodd\" fill-opacity=\"1\" /><path clip-path=\"url(#clip110)\" d=\"M300.008 567.366 Q296.397 567.366 294.568 570.931 Q292.763 574.473 292.763 581.602 Q292.763 588.709 294.568 592.273 Q296.397 595.815 300.008 595.815 Q303.643 595.815 305.448 592.273 Q307.277 588.709 307.277 581.602 Q307.277 574.473 305.448 570.931 Q303.643 567.366 300.008 567.366 M300.008 563.662 Q305.818 563.662 308.874 568.269 Q311.953 572.852 311.953 581.602 Q311.953 590.329 308.874 594.935 Q305.818 599.519 300.008 599.519 Q294.198 599.519 291.119 594.935 Q288.064 590.329 288.064 581.602 Q288.064 572.852 291.119 568.269 Q294.198 563.662 300.008 563.662 Z\" fill=\"#000000\" fill-rule=\"evenodd\" fill-opacity=\"1\" /><path clip-path=\"url(#clip110)\" d=\"M124.315 383.49 L142.671 383.49 L142.671 387.426 L128.597 387.426 L128.597 395.898 Q129.616 395.551 130.634 395.389 Q131.653 395.203 132.671 395.203 Q138.458 395.203 141.838 398.375 Q145.217 401.546 145.217 406.963 Q145.217 412.541 141.745 415.643 Q138.273 418.722 131.954 418.722 Q129.778 418.722 127.509 418.351 Q125.264 417.981 122.856 417.24 L122.856 412.541 Q124.94 413.675 127.162 414.231 Q129.384 414.787 131.861 414.787 Q135.866 414.787 138.204 412.68 Q140.542 410.574 140.542 406.963 Q140.542 403.351 138.204 401.245 Q135.866 399.139 131.861 399.139 Q129.986 399.139 128.111 399.555 Q126.259 399.972 124.315 400.851 L124.315 383.49 Z\" fill=\"#000000\" fill-rule=\"evenodd\" fill-opacity=\"1\" /><path clip-path=\"url(#clip110)\" d=\"M154.43 412.171 L159.315 412.171 L159.315 418.05 L154.43 418.05 L154.43 412.171 Z\" fill=\"#000000\" fill-rule=\"evenodd\" fill-opacity=\"1\" /><path clip-path=\"url(#clip110)\" d=\"M179.5 386.569 Q175.889 386.569 174.06 390.134 Q172.254 393.676 172.254 400.805 Q172.254 407.912 174.06 411.476 Q175.889 415.018 179.5 415.018 Q183.134 415.018 184.939 411.476 Q186.768 407.912 186.768 400.805 Q186.768 393.676 184.939 390.134 Q183.134 386.569 179.5 386.569 M179.5 382.865 Q185.31 382.865 188.365 387.472 Q191.444 392.055 191.444 400.805 Q191.444 409.532 188.365 414.138 Q185.31 418.722 179.5 418.722 Q173.689 418.722 170.611 414.138 Q167.555 409.532 167.555 400.805 Q167.555 392.055 170.611 387.472 Q173.689 382.865 179.5 382.865 Z\" fill=\"#000000\" fill-rule=\"evenodd\" fill-opacity=\"1\" /><path clip-path=\"url(#clip110)\" d=\"M227.833 392.588 L217.254 403.213 L227.833 413.791 L225.078 416.592 L214.453 405.967 L203.828 416.592 L201.097 413.791 L211.652 403.213 L201.097 392.588 L203.828 389.787 L214.453 400.412 L225.078 389.787 L227.833 392.588 Z\" fill=\"#000000\" fill-rule=\"evenodd\" fill-opacity=\"1\" /><path clip-path=\"url(#clip110)\" d=\"M240.194 414.115 L247.833 414.115 L247.833 387.75 L239.522 389.416 L239.522 385.157 L247.786 383.49 L252.462 383.49 L252.462 414.115 L260.101 414.115 L260.101 418.05 L240.194 418.05 L240.194 414.115 Z\" fill=\"#000000\" fill-rule=\"evenodd\" fill-opacity=\"1\" /><path clip-path=\"url(#clip110)\" d=\"M279.545 386.569 Q275.934 386.569 274.106 390.134 Q272.3 393.676 272.3 400.805 Q272.3 407.912 274.106 411.476 Q275.934 415.018 279.545 415.018 Q283.18 415.018 284.985 411.476 Q286.814 407.912 286.814 400.805 Q286.814 393.676 284.985 390.134 Q283.18 386.569 279.545 386.569 M279.545 382.865 Q285.356 382.865 288.411 387.472 Q291.49 392.055 291.49 400.805 Q291.49 409.532 288.411 414.138 Q285.356 418.722 279.545 418.722 Q273.735 418.722 270.657 414.138 Q267.601 409.532 267.601 400.805 Q267.601 392.055 270.657 387.472 Q273.735 382.865 279.545 382.865 Z\" fill=\"#000000\" fill-rule=\"evenodd\" fill-opacity=\"1\" /><path clip-path=\"url(#clip110)\" d=\"M304.166 365.87 L294.574 380.86 L304.166 380.86 L304.166 365.87 M303.169 362.56 L307.947 362.56 L307.947 380.86 L311.953 380.86 L311.953 384.02 L307.947 384.02 L307.947 390.64 L304.166 390.64 L304.166 384.02 L291.49 384.02 L291.49 380.352 L303.169 362.56 Z\" fill=\"#000000\" fill-rule=\"evenodd\" fill-opacity=\"1\" /><path clip-path=\"url(#clip110)\" d=\"M127.373 226.871 L135.012 226.871 L135.012 200.505 L126.702 202.172 L126.702 197.913 L134.966 196.246 L139.642 196.246 L139.642 226.871 L147.28 226.871 L147.28 230.806 L127.373 230.806 L127.373 226.871 Z\" fill=\"#000000\" fill-rule=\"evenodd\" fill-opacity=\"1\" /><path clip-path=\"url(#clip110)\" d=\"M156.725 224.926 L161.609 224.926 L161.609 230.806 L156.725 230.806 L156.725 224.926 Z\" fill=\"#000000\" fill-rule=\"evenodd\" fill-opacity=\"1\" /><path clip-path=\"url(#clip110)\" d=\"M181.794 199.325 Q178.183 199.325 176.354 202.889 Q174.549 206.431 174.549 213.561 Q174.549 220.667 176.354 224.232 Q178.183 227.773 181.794 227.773 Q185.428 227.773 187.234 224.232 Q189.063 220.667 189.063 213.561 Q189.063 206.431 187.234 202.889 Q185.428 199.325 181.794 199.325 M181.794 195.621 Q187.604 195.621 190.66 200.227 Q193.739 204.811 193.739 213.561 Q193.739 222.287 190.66 226.894 Q187.604 231.477 181.794 231.477 Q175.984 231.477 172.905 226.894 Q169.85 222.287 169.85 213.561 Q169.85 204.811 172.905 200.227 Q175.984 195.621 181.794 195.621 Z\" fill=\"#000000\" fill-rule=\"evenodd\" fill-opacity=\"1\" /><path clip-path=\"url(#clip110)\" d=\"M230.127 205.343 L219.549 215.968 L230.127 226.547 L227.373 229.348 L216.748 218.723 L206.123 229.348 L203.391 226.547 L213.947 215.968 L203.391 205.343 L206.123 202.542 L216.748 213.167 L227.373 202.542 L230.127 205.343 Z\" fill=\"#000000\" fill-rule=\"evenodd\" fill-opacity=\"1\" /><path clip-path=\"url(#clip110)\" d=\"M242.488 226.871 L250.127 226.871 L250.127 200.505 L241.817 202.172 L241.817 197.913 L250.081 196.246 L254.757 196.246 L254.757 226.871 L262.396 226.871 L262.396 230.806 L242.488 230.806 L242.488 226.871 Z\" fill=\"#000000\" fill-rule=\"evenodd\" fill-opacity=\"1\" /><path clip-path=\"url(#clip110)\" d=\"M281.84 199.325 Q278.229 199.325 276.4 202.889 Q274.595 206.431 274.595 213.561 Q274.595 220.667 276.4 224.232 Q278.229 227.773 281.84 227.773 Q285.474 227.773 287.28 224.232 Q289.108 220.667 289.108 213.561 Q289.108 206.431 287.28 202.889 Q285.474 199.325 281.84 199.325 M281.84 195.621 Q287.65 195.621 290.706 200.227 Q293.784 204.811 293.784 213.561 Q293.784 222.287 290.706 226.894 Q287.65 231.477 281.84 231.477 Q276.03 231.477 272.951 226.894 Q269.896 222.287 269.896 213.561 Q269.896 204.811 272.951 200.227 Q276.03 195.621 281.84 195.621 Z\" fill=\"#000000\" fill-rule=\"evenodd\" fill-opacity=\"1\" /><path clip-path=\"url(#clip110)\" d=\"M294.969 175.315 L309.884 175.315 L309.884 178.513 L298.449 178.513 L298.449 185.396 Q299.276 185.114 300.104 184.983 Q300.931 184.832 301.759 184.832 Q306.461 184.832 309.207 187.409 Q311.953 189.986 311.953 194.387 Q311.953 198.919 309.131 201.439 Q306.31 203.941 301.176 203.941 Q299.408 203.941 297.565 203.64 Q295.74 203.339 293.784 202.737 L293.784 198.919 Q295.477 199.841 297.283 200.292 Q299.088 200.744 301.101 200.744 Q304.354 200.744 306.254 199.032 Q308.153 197.321 308.153 194.387 Q308.153 191.453 306.254 189.741 Q304.354 188.03 301.101 188.03 Q299.577 188.03 298.054 188.368 Q296.549 188.707 294.969 189.421 L294.969 175.315 Z\" fill=\"#000000\" fill-rule=\"evenodd\" fill-opacity=\"1\" /><path clip-path=\"url(#clip110)\" d=\"M19.5543 575.968 Q25.92 578.451 27.8616 580.806 Q29.8031 583.162 29.8031 587.108 L29.8031 591.787 L24.9015 591.787 L24.9015 588.35 Q24.9015 585.931 23.7557 584.594 Q22.6099 583.257 18.3448 581.634 L15.6712 580.583 L-19.4038 595.002 L-19.4038 588.795 L8.478 577.655 L-19.4038 566.515 L-19.4038 560.309 L19.5543 575.968 Z\" fill=\"#000000\" fill-rule=\"evenodd\" fill-opacity=\"1\" /><path clip-path=\"url(#clip110)\" d=\"M370.452 18.8205 L370.452 41.5461 L380.741 41.5461 Q386.453 41.5461 389.572 38.5889 Q392.692 35.6318 392.692 30.163 Q392.692 24.7348 389.572 21.7777 Q386.453 18.8205 380.741 18.8205 L370.452 18.8205 M362.269 12.096 L380.741 12.096 Q390.909 12.096 396.094 16.714 Q401.32 21.2916 401.32 30.163 Q401.32 39.1155 396.094 43.6931 Q390.909 48.2706 380.741 48.2706 L370.452 48.2706 L370.452 72.576 L362.269 72.576 L362.269 12.096 Z\" fill=\"#000000\" fill-rule=\"evenodd\" fill-opacity=\"1\" /><path clip-path=\"url(#clip110)\" d=\"M430.851 76.7889 Q427.691 84.8907 424.694 87.3618 Q421.696 89.8329 416.673 89.8329 L410.718 89.8329 L410.718 83.5945 L415.093 83.5945 Q418.172 83.5945 419.873 82.1361 Q421.574 80.6778 423.64 75.2496 L424.977 71.8468 L406.627 27.2059 L414.526 27.2059 L428.704 62.6918 L442.882 27.2059 L450.781 27.2059 L430.851 76.7889 Z\" fill=\"#000000\" fill-rule=\"evenodd\" fill-opacity=\"1\" /><path clip-path=\"url(#clip110)\" d=\"M468.443 14.324 L468.443 27.2059 L483.796 27.2059 L483.796 32.9987 L468.443 32.9987 L468.443 57.6282 Q468.443 63.1779 469.942 64.7578 Q471.482 66.3376 476.14 66.3376 L483.796 66.3376 L483.796 72.576 L476.14 72.576 Q467.512 72.576 464.23 69.3758 Q460.949 66.1351 460.949 57.6282 L460.949 32.9987 L455.481 32.9987 L455.481 27.2059 L460.949 27.2059 L460.949 14.324 L468.443 14.324 Z\" fill=\"#000000\" fill-rule=\"evenodd\" fill-opacity=\"1\" /><path clip-path=\"url(#clip110)\" d=\"M531.313 45.1919 L531.313 72.576 L523.86 72.576 L523.86 45.4349 Q523.86 38.994 521.348 35.7938 Q518.837 32.5936 513.814 32.5936 Q507.778 32.5936 504.294 36.4419 Q500.81 40.2903 500.81 46.9338 L500.81 72.576 L493.316 72.576 L493.316 9.54393 L500.81 9.54393 L500.81 34.2544 Q503.484 30.163 507.089 28.1376 Q510.735 26.1121 515.474 26.1121 Q523.293 26.1121 527.303 30.9732 Q531.313 35.7938 531.313 45.1919 Z\" fill=\"#000000\" fill-rule=\"evenodd\" fill-opacity=\"1\" /><path clip-path=\"url(#clip110)\" d=\"M566.799 49.7694 Q557.766 49.7694 554.282 51.8354 Q550.798 53.9013 550.798 58.8839 Q550.798 62.8538 553.391 65.2034 Q556.024 67.5124 560.52 67.5124 Q566.718 67.5124 570.445 63.1374 Q574.213 58.7219 574.213 51.4303 L574.213 49.7694 L566.799 49.7694 M581.666 46.6907 L581.666 72.576 L574.213 72.576 L574.213 65.6895 Q571.66 69.8214 567.853 71.8063 Q564.045 73.7508 558.536 73.7508 Q551.568 73.7508 547.436 69.8619 Q543.345 65.9325 543.345 59.3701 Q543.345 51.7138 548.449 47.825 Q553.593 43.9361 563.761 43.9361 L574.213 43.9361 L574.213 43.2069 Q574.213 38.0623 570.81 35.2672 Q567.448 32.4315 561.331 32.4315 Q557.442 32.4315 553.755 33.3632 Q550.069 34.295 546.666 36.1584 L546.666 29.2718 Q550.758 27.692 554.606 26.9223 Q558.455 26.1121 562.1 26.1121 Q571.944 26.1121 576.805 31.2163 Q581.666 36.3204 581.666 46.6907 Z\" fill=\"#000000\" fill-rule=\"evenodd\" fill-opacity=\"1\" /><path clip-path=\"url(#clip110)\" d=\"M626.874 49.3643 Q626.874 41.2625 623.512 36.8065 Q620.19 32.3505 614.154 32.3505 Q608.159 32.3505 604.797 36.8065 Q601.475 41.2625 601.475 49.3643 Q601.475 57.4256 604.797 61.8816 Q608.159 66.3376 614.154 66.3376 Q620.19 66.3376 623.512 61.8816 Q626.874 57.4256 626.874 49.3643 M634.328 66.9452 Q634.328 78.5308 629.183 84.1616 Q624.039 89.8329 613.425 89.8329 Q609.496 89.8329 606.012 89.2252 Q602.528 88.6581 599.247 87.4428 L599.247 80.1917 Q602.528 81.9741 605.729 82.8248 Q608.929 83.6755 612.251 83.6755 Q619.583 83.6755 623.228 79.8271 Q626.874 76.0193 626.874 68.282 L626.874 64.5957 Q624.565 68.6061 620.96 70.5911 Q617.355 72.576 612.332 72.576 Q603.987 72.576 598.883 66.2161 Q593.778 59.8562 593.778 49.3643 Q593.778 38.832 598.883 32.472 Q603.987 26.1121 612.332 26.1121 Q617.355 26.1121 620.96 28.0971 Q624.565 30.082 626.874 34.0924 L626.874 27.2059 L634.328 27.2059 L634.328 66.9452 Z\" fill=\"#000000\" fill-rule=\"evenodd\" fill-opacity=\"1\" /><path clip-path=\"url(#clip110)\" d=\"M667.262 32.4315 Q661.266 32.4315 657.783 37.1306 Q654.299 41.7891 654.299 49.9314 Q654.299 58.0738 657.742 62.7728 Q661.226 67.4314 667.262 67.4314 Q673.217 67.4314 676.7 62.7323 Q680.184 58.0333 680.184 49.9314 Q680.184 41.8701 676.7 37.1711 Q673.217 32.4315 667.262 32.4315 M667.262 26.1121 Q676.984 26.1121 682.534 32.4315 Q688.083 38.7509 688.083 49.9314 Q688.083 61.0714 682.534 67.4314 Q676.984 73.7508 667.262 73.7508 Q657.499 73.7508 651.949 67.4314 Q646.44 61.0714 646.44 49.9314 Q646.44 38.7509 651.949 32.4315 Q657.499 26.1121 667.262 26.1121 Z\" fill=\"#000000\" fill-rule=\"evenodd\" fill-opacity=\"1\" /><path clip-path=\"url(#clip110)\" d=\"M726.729 34.1734 Q725.473 33.4443 723.974 33.1202 Q722.516 32.7556 720.734 32.7556 Q714.414 32.7556 711.012 36.8875 Q707.649 40.9789 707.649 48.6757 L707.649 72.576 L700.155 72.576 L700.155 27.2059 L707.649 27.2059 L707.649 34.2544 Q709.999 30.1225 713.766 28.1376 Q717.534 26.1121 722.921 26.1121 Q723.691 26.1121 724.623 26.2337 Q725.554 26.3147 726.689 26.5172 L726.729 34.1734 Z\" fill=\"#000000\" fill-rule=\"evenodd\" fill-opacity=\"1\" /><path clip-path=\"url(#clip110)\" d=\"M771.532 48.0275 L771.532 51.6733 L737.261 51.6733 Q737.748 59.3701 741.879 63.421 Q746.052 67.4314 753.465 67.4314 Q757.759 67.4314 761.769 66.3781 Q765.82 65.3249 769.79 63.2184 L769.79 70.267 Q765.78 71.9684 761.567 72.8596 Q757.354 73.7508 753.019 73.7508 Q742.163 73.7508 735.803 67.4314 Q729.484 61.1119 729.484 50.3365 Q729.484 39.1965 735.479 32.6746 Q741.515 26.1121 751.723 26.1121 Q760.878 26.1121 766.185 32.0264 Q771.532 37.9003 771.532 48.0275 M764.078 45.84 Q763.997 39.7232 760.635 36.0774 Q757.313 32.4315 751.804 32.4315 Q745.566 32.4315 741.798 35.9558 Q738.072 39.4801 737.504 45.8805 L764.078 45.84 Z\" fill=\"#000000\" fill-rule=\"evenodd\" fill-opacity=\"1\" /><path clip-path=\"url(#clip110)\" d=\"M804.385 49.7694 Q795.351 49.7694 791.868 51.8354 Q788.384 53.9013 788.384 58.8839 Q788.384 62.8538 790.976 65.2034 Q793.609 67.5124 798.106 67.5124 Q804.304 67.5124 808.031 63.1374 Q811.798 58.7219 811.798 51.4303 L811.798 49.7694 L804.385 49.7694 M819.252 46.6907 L819.252 72.576 L811.798 72.576 L811.798 65.6895 Q809.246 69.8214 805.438 71.8063 Q801.63 73.7508 796.121 73.7508 Q789.153 73.7508 785.022 69.8619 Q780.93 65.9325 780.93 59.3701 Q780.93 51.7138 786.034 47.825 Q791.179 43.9361 801.347 43.9361 L811.798 43.9361 L811.798 43.2069 Q811.798 38.0623 808.395 35.2672 Q805.033 32.4315 798.916 32.4315 Q795.027 32.4315 791.341 33.3632 Q787.655 34.295 784.252 36.1584 L784.252 29.2718 Q788.343 27.692 792.192 26.9223 Q796.04 26.1121 799.686 26.1121 Q809.53 26.1121 814.391 31.2163 Q819.252 36.3204 819.252 46.6907 Z\" fill=\"#000000\" fill-rule=\"evenodd\" fill-opacity=\"1\" /><path clip-path=\"url(#clip110)\" d=\"M872.319 45.1919 L872.319 72.576 L864.865 72.576 L864.865 45.4349 Q864.865 38.994 862.353 35.7938 Q859.842 32.5936 854.819 32.5936 Q848.783 32.5936 845.299 36.4419 Q841.815 40.2903 841.815 46.9338 L841.815 72.576 L834.321 72.576 L834.321 27.2059 L841.815 27.2059 L841.815 34.2544 Q844.489 30.163 848.094 28.1376 Q851.74 26.1121 856.48 26.1121 Q864.298 26.1121 868.308 30.9732 Q872.319 35.7938 872.319 45.1919 Z\" fill=\"#000000\" fill-rule=\"evenodd\" fill-opacity=\"1\" /><path clip-path=\"url(#clip110)\" d=\"M920.767 65.7705 L920.767 89.8329 L913.273 89.8329 L913.273 27.2059 L920.767 27.2059 L920.767 34.0924 Q923.117 30.0415 926.682 28.0971 Q930.287 26.1121 935.27 26.1121 Q943.533 26.1121 948.678 32.6746 Q953.863 39.2371 953.863 49.9314 Q953.863 60.6258 948.678 67.1883 Q943.533 73.7508 935.27 73.7508 Q930.287 73.7508 926.682 71.8063 Q923.117 69.8214 920.767 65.7705 M946.126 49.9314 Q946.126 41.7081 942.723 37.0496 Q939.361 32.3505 933.447 32.3505 Q927.532 32.3505 924.13 37.0496 Q920.767 41.7081 920.767 49.9314 Q920.767 58.1548 924.13 62.8538 Q927.532 67.5124 933.447 67.5124 Q939.361 67.5124 942.723 62.8538 Q946.126 58.1548 946.126 49.9314 Z\" fill=\"#000000\" fill-rule=\"evenodd\" fill-opacity=\"1\" /><path clip-path=\"url(#clip110)\" d=\"M992.509 34.1734 Q991.253 33.4443 989.754 33.1202 Q988.296 32.7556 986.514 32.7556 Q980.194 32.7556 976.791 36.8875 Q973.429 40.9789 973.429 48.6757 L973.429 72.576 L965.935 72.576 L965.935 27.2059 L973.429 27.2059 L973.429 34.2544 Q975.779 30.1225 979.546 28.1376 Q983.313 26.1121 988.701 26.1121 Q989.471 26.1121 990.402 26.2337 Q991.334 26.3147 992.468 26.5172 L992.509 34.1734 Z\" fill=\"#000000\" fill-rule=\"evenodd\" fill-opacity=\"1\" /><path clip-path=\"url(#clip110)\" d=\"M1016.09 32.4315 Q1010.09 32.4315 1006.61 37.1306 Q1003.12 41.7891 1003.12 49.9314 Q1003.12 58.0738 1006.57 62.7728 Q1010.05 67.4314 1016.09 67.4314 Q1022.04 67.4314 1025.52 62.7323 Q1029.01 58.0333 1029.01 49.9314 Q1029.01 41.8701 1025.52 37.1711 Q1022.04 32.4315 1016.09 32.4315 M1016.09 26.1121 Q1025.81 26.1121 1031.36 32.4315 Q1036.91 38.7509 1036.91 49.9314 Q1036.91 61.0714 1031.36 67.4314 Q1025.81 73.7508 1016.09 73.7508 Q1006.32 73.7508 1000.77 67.4314 Q995.264 61.0714 995.264 49.9314 Q995.264 38.7509 1000.77 32.4315 Q1006.32 26.1121 1016.09 26.1121 Z\" fill=\"#000000\" fill-rule=\"evenodd\" fill-opacity=\"1\" /><path clip-path=\"url(#clip110)\" d=\"M1081.83 49.9314 Q1081.83 41.7081 1078.43 37.0496 Q1075.07 32.3505 1069.15 32.3505 Q1063.24 32.3505 1059.83 37.0496 Q1056.47 41.7081 1056.47 49.9314 Q1056.47 58.1548 1059.83 62.8538 Q1063.24 67.5124 1069.15 67.5124 Q1075.07 67.5124 1078.43 62.8538 Q1081.83 58.1548 1081.83 49.9314 M1056.47 34.0924 Q1058.82 30.0415 1062.39 28.0971 Q1065.99 26.1121 1070.97 26.1121 Q1079.24 26.1121 1084.38 32.6746 Q1089.57 39.2371 1089.57 49.9314 Q1089.57 60.6258 1084.38 67.1883 Q1079.24 73.7508 1070.97 73.7508 Q1065.99 73.7508 1062.39 71.8063 Q1058.82 69.8214 1056.47 65.7705 L1056.47 72.576 L1048.98 72.576 L1048.98 9.54393 L1056.47 9.54393 L1056.47 34.0924 Z\" fill=\"#000000\" fill-rule=\"evenodd\" fill-opacity=\"1\" /><path clip-path=\"url(#clip110)\" d=\"M1101.92 9.54393 L1109.38 9.54393 L1109.38 72.576 L1101.92 72.576 L1101.92 9.54393 Z\" fill=\"#000000\" fill-rule=\"evenodd\" fill-opacity=\"1\" /><path clip-path=\"url(#clip110)\" d=\"M1163.78 48.0275 L1163.78 51.6733 L1129.51 51.6733 Q1130 59.3701 1134.13 63.421 Q1138.3 67.4314 1145.71 67.4314 Q1150.01 67.4314 1154.02 66.3781 Q1158.07 65.3249 1162.04 63.2184 L1162.04 70.267 Q1158.03 71.9684 1153.82 72.8596 Q1149.6 73.7508 1145.27 73.7508 Q1134.41 73.7508 1128.05 67.4314 Q1121.73 61.1119 1121.73 50.3365 Q1121.73 39.1965 1127.73 32.6746 Q1133.76 26.1121 1143.97 26.1121 Q1153.13 26.1121 1158.43 32.0264 Q1163.78 37.9003 1163.78 48.0275 M1156.33 45.84 Q1156.25 39.7232 1152.88 36.0774 Q1149.56 32.4315 1144.05 32.4315 Q1137.81 32.4315 1134.05 35.9558 Q1130.32 39.4801 1129.75 45.8805 L1156.33 45.84 Z\" fill=\"#000000\" fill-rule=\"evenodd\" fill-opacity=\"1\" /><path clip-path=\"url(#clip110)\" d=\"M1211.34 35.9153 Q1214.13 30.8922 1218.02 28.5022 Q1221.91 26.1121 1227.18 26.1121 Q1234.27 26.1121 1238.12 31.0947 Q1241.96 36.0368 1241.96 45.1919 L1241.96 72.576 L1234.47 72.576 L1234.47 45.4349 Q1234.47 38.913 1232.16 35.7533 Q1229.85 32.5936 1225.11 32.5936 Q1219.32 32.5936 1215.96 36.4419 Q1212.59 40.2903 1212.59 46.9338 L1212.59 72.576 L1205.1 72.576 L1205.1 45.4349 Q1205.1 38.8725 1202.79 35.7533 Q1200.48 32.5936 1195.66 32.5936 Q1189.95 32.5936 1186.59 36.4824 Q1183.23 40.3308 1183.23 46.9338 L1183.23 72.576 L1175.73 72.576 L1175.73 27.2059 L1183.23 27.2059 L1183.23 34.2544 Q1185.78 30.082 1189.34 28.0971 Q1192.91 26.1121 1197.81 26.1121 Q1202.75 26.1121 1206.19 28.6237 Q1209.68 31.1352 1211.34 35.9153 Z\" fill=\"#000000\" fill-rule=\"evenodd\" fill-opacity=\"1\" /><polyline clip-path=\"url(#clip112)\" style=\"stroke:#009af9; stroke-linecap:round; stroke-linejoin:round; stroke-width:4; stroke-opacity:1; fill:none\" points=\"\n",
       "  786.813,581.582 390.641,673.273 \n",
       "  \"/>\n",
       "<polyline clip-path=\"url(#clip112)\" style=\"stroke:#e26f46; stroke-linecap:round; stroke-linejoin:round; stroke-width:4; stroke-opacity:1; fill:none\" points=\"\n",
       "  786.78,581.582 1213.59,482.038 \n",
       "  \"/>\n",
       "<polyline clip-path=\"url(#clip112)\" style=\"stroke:#3da44d; stroke-linecap:round; stroke-linejoin:round; stroke-width:4; stroke-opacity:1; fill:none\" points=\"\n",
       "  786.813,581.538 756.173,589.392 \n",
       "  \"/>\n",
       "<path clip-path=\"url(#clip110)\" d=\"\n",
       "M964.309 332.887 L1209.2 332.887 L1209.2 125.527 L964.309 125.527  Z\n",
       "  \" fill=\"#ffffff\" fill-rule=\"evenodd\" fill-opacity=\"1\"/>\n",
       "<polyline clip-path=\"url(#clip110)\" style=\"stroke:#000000; stroke-linecap:round; stroke-linejoin:round; stroke-width:4; stroke-opacity:1; fill:none\" points=\"\n",
       "  964.309,332.887 1209.2,332.887 1209.2,125.527 964.309,125.527 964.309,332.887 \n",
       "  \"/>\n",
       "<polyline clip-path=\"url(#clip110)\" style=\"stroke:#009af9; stroke-linecap:round; stroke-linejoin:round; stroke-width:4; stroke-opacity:1; fill:none\" points=\"\n",
       "  974.001,177.367 1032.16,177.367 \n",
       "  \"/>\n",
       "<path clip-path=\"url(#clip110)\" d=\"M1046.52 178.142 L1046.52 190.804 L1054.02 190.804 Q1057.8 190.804 1059.6 189.254 Q1061.43 187.679 1061.43 184.462 Q1061.43 181.221 1059.6 179.693 Q1057.8 178.142 1054.02 178.142 L1046.52 178.142 M1046.52 163.93 L1046.52 174.346 L1053.45 174.346 Q1056.87 174.346 1058.54 173.073 Q1060.23 171.777 1060.23 169.138 Q1060.23 166.522 1058.54 165.226 Q1056.87 163.93 1053.45 163.93 L1046.52 163.93 M1041.85 160.087 L1053.79 160.087 Q1059.14 160.087 1062.03 162.309 Q1064.93 164.531 1064.93 168.629 Q1064.93 171.8 1063.45 173.675 Q1061.96 175.55 1059.09 176.013 Q1062.54 176.754 1064.44 179.115 Q1066.36 181.453 1066.36 184.971 Q1066.36 189.601 1063.21 192.124 Q1060.07 194.647 1054.26 194.647 L1041.85 194.647 L1041.85 160.087 Z\" fill=\"#000000\" fill-rule=\"evenodd\" fill-opacity=\"1\" /><path clip-path=\"url(#clip110)\" d=\"M1084.23 171.707 Q1080.81 171.707 1078.82 174.392 Q1076.83 177.054 1076.83 181.707 Q1076.83 186.36 1078.79 189.045 Q1080.78 191.707 1084.23 191.707 Q1087.64 191.707 1089.63 189.022 Q1091.62 186.337 1091.62 181.707 Q1091.62 177.101 1089.63 174.416 Q1087.64 171.707 1084.23 171.707 M1084.23 168.096 Q1089.79 168.096 1092.96 171.707 Q1096.13 175.318 1096.13 181.707 Q1096.13 188.073 1092.96 191.707 Q1089.79 195.318 1084.23 195.318 Q1078.65 195.318 1075.48 191.707 Q1072.33 188.073 1072.33 181.707 Q1072.33 175.318 1075.48 171.707 Q1078.65 168.096 1084.23 168.096 Z\" fill=\"#000000\" fill-rule=\"evenodd\" fill-opacity=\"1\" /><path clip-path=\"url(#clip110)\" d=\"M1120.25 172.656 L1120.25 158.629 L1124.51 158.629 L1124.51 194.647 L1120.25 194.647 L1120.25 190.758 Q1118.91 193.073 1116.85 194.207 Q1114.81 195.318 1111.94 195.318 Q1107.24 195.318 1104.28 191.568 Q1101.34 187.818 1101.34 181.707 Q1101.34 175.596 1104.28 171.846 Q1107.24 168.096 1111.94 168.096 Q1114.81 168.096 1116.85 169.23 Q1118.91 170.342 1120.25 172.656 M1105.74 181.707 Q1105.74 186.406 1107.66 189.091 Q1109.6 191.753 1112.98 191.753 Q1116.36 191.753 1118.31 189.091 Q1120.25 186.406 1120.25 181.707 Q1120.25 177.008 1118.31 174.346 Q1116.36 171.661 1112.98 171.661 Q1109.6 171.661 1107.66 174.346 Q1105.74 177.008 1105.74 181.707 Z\" fill=\"#000000\" fill-rule=\"evenodd\" fill-opacity=\"1\" /><path clip-path=\"url(#clip110)\" d=\"M1144.07 197.054 Q1142.26 201.684 1140.55 203.096 Q1138.84 204.508 1135.97 204.508 L1132.57 204.508 L1132.57 200.943 L1135.07 200.943 Q1136.83 200.943 1137.8 200.11 Q1138.77 199.277 1139.95 196.175 L1140.71 194.23 L1130.23 168.721 L1134.74 168.721 L1142.84 188.999 L1150.95 168.721 L1155.46 168.721 L1144.07 197.054 Z\" fill=\"#000000\" fill-rule=\"evenodd\" fill-opacity=\"1\" /><path clip-path=\"url(#clip110)\" d=\"M1158.35 179.763 L1170.83 179.763 L1170.83 183.559 L1158.35 183.559 L1158.35 179.763 Z\" fill=\"#000000\" fill-rule=\"evenodd\" fill-opacity=\"1\" /><path clip-path=\"url(#clip110)\" d=\"M1179.02 190.712 L1186.66 190.712 L1186.66 164.346 L1178.35 166.013 L1178.35 161.754 L1186.62 160.087 L1191.29 160.087 L1191.29 190.712 L1198.93 190.712 L1198.93 194.647 L1179.02 194.647 L1179.02 190.712 Z\" fill=\"#000000\" fill-rule=\"evenodd\" fill-opacity=\"1\" /><polyline clip-path=\"url(#clip110)\" style=\"stroke:#e26f46; stroke-linecap:round; stroke-linejoin:round; stroke-width:4; stroke-opacity:1; fill:none\" points=\"\n",
       "  974.001,229.207 1032.16,229.207 \n",
       "  \"/>\n",
       "<path clip-path=\"url(#clip110)\" d=\"M1046.52 229.982 L1046.52 242.644 L1054.02 242.644 Q1057.8 242.644 1059.6 241.094 Q1061.43 239.519 1061.43 236.302 Q1061.43 233.061 1059.6 231.533 Q1057.8 229.982 1054.02 229.982 L1046.52 229.982 M1046.52 215.77 L1046.52 226.186 L1053.45 226.186 Q1056.87 226.186 1058.54 224.913 Q1060.23 223.617 1060.23 220.978 Q1060.23 218.362 1058.54 217.066 Q1056.87 215.77 1053.45 215.77 L1046.52 215.77 M1041.85 211.927 L1053.79 211.927 Q1059.14 211.927 1062.03 214.149 Q1064.93 216.371 1064.93 220.469 Q1064.93 223.64 1063.45 225.515 Q1061.96 227.39 1059.09 227.853 Q1062.54 228.594 1064.44 230.955 Q1066.36 233.293 1066.36 236.811 Q1066.36 241.441 1063.21 243.964 Q1060.07 246.487 1054.26 246.487 L1041.85 246.487 L1041.85 211.927 Z\" fill=\"#000000\" fill-rule=\"evenodd\" fill-opacity=\"1\" /><path clip-path=\"url(#clip110)\" d=\"M1084.23 223.547 Q1080.81 223.547 1078.82 226.232 Q1076.83 228.894 1076.83 233.547 Q1076.83 238.2 1078.79 240.885 Q1080.78 243.547 1084.23 243.547 Q1087.64 243.547 1089.63 240.862 Q1091.62 238.177 1091.62 233.547 Q1091.62 228.941 1089.63 226.256 Q1087.64 223.547 1084.23 223.547 M1084.23 219.936 Q1089.79 219.936 1092.96 223.547 Q1096.13 227.158 1096.13 233.547 Q1096.13 239.913 1092.96 243.547 Q1089.79 247.158 1084.23 247.158 Q1078.65 247.158 1075.48 243.547 Q1072.33 239.913 1072.33 233.547 Q1072.33 227.158 1075.48 223.547 Q1078.65 219.936 1084.23 219.936 Z\" fill=\"#000000\" fill-rule=\"evenodd\" fill-opacity=\"1\" /><path clip-path=\"url(#clip110)\" d=\"M1120.25 224.496 L1120.25 210.469 L1124.51 210.469 L1124.51 246.487 L1120.25 246.487 L1120.25 242.598 Q1118.91 244.913 1116.85 246.047 Q1114.81 247.158 1111.94 247.158 Q1107.24 247.158 1104.28 243.408 Q1101.34 239.658 1101.34 233.547 Q1101.34 227.436 1104.28 223.686 Q1107.24 219.936 1111.94 219.936 Q1114.81 219.936 1116.85 221.07 Q1118.91 222.182 1120.25 224.496 M1105.74 233.547 Q1105.74 238.246 1107.66 240.931 Q1109.6 243.593 1112.98 243.593 Q1116.36 243.593 1118.31 240.931 Q1120.25 238.246 1120.25 233.547 Q1120.25 228.848 1118.31 226.186 Q1116.36 223.501 1112.98 223.501 Q1109.6 223.501 1107.66 226.186 Q1105.74 228.848 1105.74 233.547 Z\" fill=\"#000000\" fill-rule=\"evenodd\" fill-opacity=\"1\" /><path clip-path=\"url(#clip110)\" d=\"M1144.07 248.894 Q1142.26 253.524 1140.55 254.936 Q1138.84 256.348 1135.97 256.348 L1132.57 256.348 L1132.57 252.783 L1135.07 252.783 Q1136.83 252.783 1137.8 251.95 Q1138.77 251.117 1139.95 248.015 L1140.71 246.07 L1130.23 220.561 L1134.74 220.561 L1142.84 240.839 L1150.95 220.561 L1155.46 220.561 L1144.07 248.894 Z\" fill=\"#000000\" fill-rule=\"evenodd\" fill-opacity=\"1\" /><path clip-path=\"url(#clip110)\" d=\"M1158.35 231.603 L1170.83 231.603 L1170.83 235.399 L1158.35 235.399 L1158.35 231.603 Z\" fill=\"#000000\" fill-rule=\"evenodd\" fill-opacity=\"1\" /><path clip-path=\"url(#clip110)\" d=\"M1182.24 242.552 L1198.56 242.552 L1198.56 246.487 L1176.62 246.487 L1176.62 242.552 Q1179.28 239.797 1183.86 235.168 Q1188.47 230.515 1189.65 229.172 Q1191.89 226.649 1192.77 224.913 Q1193.68 223.154 1193.68 221.464 Q1193.68 218.709 1191.73 216.973 Q1189.81 215.237 1186.71 215.237 Q1184.51 215.237 1182.06 216.001 Q1179.63 216.765 1176.85 218.316 L1176.85 213.594 Q1179.67 212.459 1182.13 211.881 Q1184.58 211.302 1186.62 211.302 Q1191.99 211.302 1195.18 213.987 Q1198.38 216.672 1198.38 221.163 Q1198.38 223.293 1197.57 225.214 Q1196.78 227.112 1194.67 229.705 Q1194.09 230.376 1190.99 233.594 Q1187.89 236.788 1182.24 242.552 Z\" fill=\"#000000\" fill-rule=\"evenodd\" fill-opacity=\"1\" /><polyline clip-path=\"url(#clip110)\" style=\"stroke:#3da44d; stroke-linecap:round; stroke-linejoin:round; stroke-width:4; stroke-opacity:1; fill:none\" points=\"\n",
       "  974.001,281.047 1032.16,281.047 \n",
       "  \"/>\n",
       "<path clip-path=\"url(#clip110)\" d=\"M1046.52 281.822 L1046.52 294.484 L1054.02 294.484 Q1057.8 294.484 1059.6 292.934 Q1061.43 291.359 1061.43 288.142 Q1061.43 284.901 1059.6 283.373 Q1057.8 281.822 1054.02 281.822 L1046.52 281.822 M1046.52 267.61 L1046.52 278.026 L1053.45 278.026 Q1056.87 278.026 1058.54 276.753 Q1060.23 275.457 1060.23 272.818 Q1060.23 270.202 1058.54 268.906 Q1056.87 267.61 1053.45 267.61 L1046.52 267.61 M1041.85 263.767 L1053.79 263.767 Q1059.14 263.767 1062.03 265.989 Q1064.93 268.211 1064.93 272.309 Q1064.93 275.48 1063.45 277.355 Q1061.96 279.23 1059.09 279.693 Q1062.54 280.434 1064.44 282.795 Q1066.36 285.133 1066.36 288.651 Q1066.36 293.281 1063.21 295.804 Q1060.07 298.327 1054.26 298.327 L1041.85 298.327 L1041.85 263.767 Z\" fill=\"#000000\" fill-rule=\"evenodd\" fill-opacity=\"1\" /><path clip-path=\"url(#clip110)\" d=\"M1084.23 275.387 Q1080.81 275.387 1078.82 278.072 Q1076.83 280.734 1076.83 285.387 Q1076.83 290.04 1078.79 292.725 Q1080.78 295.387 1084.23 295.387 Q1087.64 295.387 1089.63 292.702 Q1091.62 290.017 1091.62 285.387 Q1091.62 280.781 1089.63 278.096 Q1087.64 275.387 1084.23 275.387 M1084.23 271.776 Q1089.79 271.776 1092.96 275.387 Q1096.13 278.998 1096.13 285.387 Q1096.13 291.753 1092.96 295.387 Q1089.79 298.998 1084.23 298.998 Q1078.65 298.998 1075.48 295.387 Q1072.33 291.753 1072.33 285.387 Q1072.33 278.998 1075.48 275.387 Q1078.65 271.776 1084.23 271.776 Z\" fill=\"#000000\" fill-rule=\"evenodd\" fill-opacity=\"1\" /><path clip-path=\"url(#clip110)\" d=\"M1120.25 276.336 L1120.25 262.309 L1124.51 262.309 L1124.51 298.327 L1120.25 298.327 L1120.25 294.438 Q1118.91 296.753 1116.85 297.887 Q1114.81 298.998 1111.94 298.998 Q1107.24 298.998 1104.28 295.248 Q1101.34 291.498 1101.34 285.387 Q1101.34 279.276 1104.28 275.526 Q1107.24 271.776 1111.94 271.776 Q1114.81 271.776 1116.85 272.91 Q1118.91 274.022 1120.25 276.336 M1105.74 285.387 Q1105.74 290.086 1107.66 292.771 Q1109.6 295.433 1112.98 295.433 Q1116.36 295.433 1118.31 292.771 Q1120.25 290.086 1120.25 285.387 Q1120.25 280.688 1118.31 278.026 Q1116.36 275.341 1112.98 275.341 Q1109.6 275.341 1107.66 278.026 Q1105.74 280.688 1105.74 285.387 Z\" fill=\"#000000\" fill-rule=\"evenodd\" fill-opacity=\"1\" /><path clip-path=\"url(#clip110)\" d=\"M1144.07 300.734 Q1142.26 305.364 1140.55 306.776 Q1138.84 308.188 1135.97 308.188 L1132.57 308.188 L1132.57 304.623 L1135.07 304.623 Q1136.83 304.623 1137.8 303.79 Q1138.77 302.957 1139.95 299.855 L1140.71 297.91 L1130.23 272.401 L1134.74 272.401 L1142.84 292.679 L1150.95 272.401 L1155.46 272.401 L1144.07 300.734 Z\" fill=\"#000000\" fill-rule=\"evenodd\" fill-opacity=\"1\" /><path clip-path=\"url(#clip110)\" d=\"M1158.35 283.443 L1170.83 283.443 L1170.83 287.239 L1158.35 287.239 L1158.35 283.443 Z\" fill=\"#000000\" fill-rule=\"evenodd\" fill-opacity=\"1\" /><path clip-path=\"url(#clip110)\" d=\"M1192.38 279.693 Q1195.74 280.41 1197.61 282.679 Q1199.51 284.947 1199.51 288.281 Q1199.51 293.396 1195.99 296.197 Q1192.47 298.998 1185.99 298.998 Q1183.82 298.998 1181.5 298.558 Q1179.21 298.142 1176.76 297.285 L1176.76 292.771 Q1178.7 293.906 1181.01 294.484 Q1183.33 295.063 1185.85 295.063 Q1190.25 295.063 1192.54 293.327 Q1194.86 291.591 1194.86 288.281 Q1194.86 285.225 1192.7 283.512 Q1190.57 281.776 1186.76 281.776 L1182.73 281.776 L1182.73 277.934 L1186.94 277.934 Q1190.39 277.934 1192.22 276.568 Q1194.05 275.179 1194.05 272.586 Q1194.05 269.924 1192.15 268.512 Q1190.27 267.077 1186.76 267.077 Q1184.83 267.077 1182.64 267.494 Q1180.44 267.91 1177.8 268.79 L1177.8 264.623 Q1180.46 263.883 1182.77 263.512 Q1185.11 263.142 1187.17 263.142 Q1192.5 263.142 1195.6 265.573 Q1198.7 267.98 1198.7 272.1 Q1198.7 274.971 1197.06 276.961 Q1195.41 278.929 1192.38 279.693 Z\" fill=\"#000000\" fill-rule=\"evenodd\" fill-opacity=\"1\" /><path clip-path=\"url(#clip110)\" d=\"\n",
       "M1553.28 1062.08 L2425.61 1062.08 L2425.61 93.2321 L1553.28 93.2321  Z\n",
       "  \" fill=\"#ffffff\" fill-rule=\"evenodd\" fill-opacity=\"1\"/>\n",
       "<defs>\n",
       "  <clipPath id=\"clip113\">\n",
       "    <rect x=\"1553\" y=\"93\" width=\"873\" height=\"970\"/>\n",
       "  </clipPath>\n",
       "</defs>\n",
       "<polyline clip-path=\"url(#clip113)\" style=\"stroke:#000000; stroke-linecap:round; stroke-linejoin:round; stroke-width:2; stroke-opacity:0.1; fill:none\" points=\"\n",
       "  1577.97,1062.08 1577.97,93.2321 \n",
       "  \"/>\n",
       "<polyline clip-path=\"url(#clip113)\" style=\"stroke:#000000; stroke-linecap:round; stroke-linejoin:round; stroke-width:2; stroke-opacity:0.1; fill:none\" points=\"\n",
       "  1783.71,1062.08 1783.71,93.2321 \n",
       "  \"/>\n",
       "<polyline clip-path=\"url(#clip113)\" style=\"stroke:#000000; stroke-linecap:round; stroke-linejoin:round; stroke-width:2; stroke-opacity:0.1; fill:none\" points=\"\n",
       "  1989.45,1062.08 1989.45,93.2321 \n",
       "  \"/>\n",
       "<polyline clip-path=\"url(#clip113)\" style=\"stroke:#000000; stroke-linecap:round; stroke-linejoin:round; stroke-width:2; stroke-opacity:0.1; fill:none\" points=\"\n",
       "  2195.18,1062.08 2195.18,93.2321 \n",
       "  \"/>\n",
       "<polyline clip-path=\"url(#clip113)\" style=\"stroke:#000000; stroke-linecap:round; stroke-linejoin:round; stroke-width:2; stroke-opacity:0.1; fill:none\" points=\"\n",
       "  2400.92,1062.08 2400.92,93.2321 \n",
       "  \"/>\n",
       "<polyline clip-path=\"url(#clip110)\" style=\"stroke:#000000; stroke-linecap:round; stroke-linejoin:round; stroke-width:4; stroke-opacity:1; fill:none\" points=\"\n",
       "  1553.28,1062.08 2425.61,1062.08 \n",
       "  \"/>\n",
       "<polyline clip-path=\"url(#clip110)\" style=\"stroke:#000000; stroke-linecap:round; stroke-linejoin:round; stroke-width:4; stroke-opacity:1; fill:none\" points=\"\n",
       "  1577.97,1062.08 1577.97,1043.18 \n",
       "  \"/>\n",
       "<polyline clip-path=\"url(#clip110)\" style=\"stroke:#000000; stroke-linecap:round; stroke-linejoin:round; stroke-width:4; stroke-opacity:1; fill:none\" points=\"\n",
       "  1783.71,1062.08 1783.71,1043.18 \n",
       "  \"/>\n",
       "<polyline clip-path=\"url(#clip110)\" style=\"stroke:#000000; stroke-linecap:round; stroke-linejoin:round; stroke-width:4; stroke-opacity:1; fill:none\" points=\"\n",
       "  1989.45,1062.08 1989.45,1043.18 \n",
       "  \"/>\n",
       "<polyline clip-path=\"url(#clip110)\" style=\"stroke:#000000; stroke-linecap:round; stroke-linejoin:round; stroke-width:4; stroke-opacity:1; fill:none\" points=\"\n",
       "  2195.18,1062.08 2195.18,1043.18 \n",
       "  \"/>\n",
       "<polyline clip-path=\"url(#clip110)\" style=\"stroke:#000000; stroke-linecap:round; stroke-linejoin:round; stroke-width:4; stroke-opacity:1; fill:none\" points=\"\n",
       "  2400.92,1062.08 2400.92,1043.18 \n",
       "  \"/>\n",
       "<path clip-path=\"url(#clip110)\" d=\"M1525.68 1114.93 Q1522.53 1114.93 1520.68 1117.09 Q1518.85 1119.24 1518.85 1122.99 Q1518.85 1126.72 1520.68 1128.89 Q1522.53 1131.05 1525.68 1131.05 Q1528.83 1131.05 1530.66 1128.89 Q1532.51 1126.72 1532.51 1122.99 Q1532.51 1119.24 1530.66 1117.09 Q1528.83 1114.93 1525.68 1114.93 M1534.96 1100.28 L1534.96 1104.54 Q1533.2 1103.71 1531.4 1103.27 Q1529.62 1102.83 1527.86 1102.83 Q1523.23 1102.83 1520.77 1105.95 Q1518.34 1109.08 1517.99 1115.4 Q1519.36 1113.38 1521.42 1112.32 Q1523.48 1111.23 1525.96 1111.23 Q1531.17 1111.23 1534.18 1114.4 Q1537.21 1117.55 1537.21 1122.99 Q1537.21 1128.31 1534.06 1131.53 Q1530.91 1134.75 1525.68 1134.75 Q1519.68 1134.75 1516.51 1130.17 Q1513.34 1125.56 1513.34 1116.83 Q1513.34 1108.64 1517.23 1103.78 Q1521.12 1098.89 1527.67 1098.89 Q1529.43 1098.89 1531.21 1099.24 Q1533.02 1099.59 1534.96 1100.28 Z\" fill=\"#000000\" fill-rule=\"evenodd\" fill-opacity=\"1\" /><path clip-path=\"url(#clip110)\" d=\"M1559.43 1115.44 Q1562.79 1116.16 1564.66 1118.43 Q1566.56 1120.7 1566.56 1124.03 Q1566.56 1129.15 1563.04 1131.95 Q1559.52 1134.75 1553.04 1134.75 Q1550.87 1134.75 1548.55 1134.31 Q1546.26 1133.89 1543.8 1133.04 L1543.8 1128.52 Q1545.75 1129.66 1548.06 1130.24 Q1550.38 1130.81 1552.9 1130.81 Q1557.3 1130.81 1559.59 1129.08 Q1561.91 1127.34 1561.91 1124.03 Q1561.91 1120.98 1559.75 1119.26 Q1557.62 1117.53 1553.8 1117.53 L1549.78 1117.53 L1549.78 1113.68 L1553.99 1113.68 Q1557.44 1113.68 1559.27 1112.32 Q1561.1 1110.93 1561.1 1108.34 Q1561.1 1105.68 1559.2 1104.26 Q1557.32 1102.83 1553.8 1102.83 Q1551.88 1102.83 1549.68 1103.25 Q1547.49 1103.66 1544.85 1104.54 L1544.85 1100.37 Q1547.51 1099.63 1549.82 1099.26 Q1552.16 1098.89 1554.22 1098.89 Q1559.55 1098.89 1562.65 1101.32 Q1565.75 1103.73 1565.75 1107.85 Q1565.75 1110.72 1564.11 1112.71 Q1562.46 1114.68 1559.43 1115.44 Z\" fill=\"#000000\" fill-rule=\"evenodd\" fill-opacity=\"1\" /><path clip-path=\"url(#clip110)\" d=\"M1575.43 1128.2 L1580.31 1128.2 L1580.31 1134.08 L1575.43 1134.08 L1575.43 1128.2 Z\" fill=\"#000000\" fill-rule=\"evenodd\" fill-opacity=\"1\" /><path clip-path=\"url(#clip110)\" d=\"M1600.49 1102.6 Q1596.88 1102.6 1595.05 1106.16 Q1593.25 1109.7 1593.25 1116.83 Q1593.25 1123.94 1595.05 1127.5 Q1596.88 1131.05 1600.49 1131.05 Q1604.13 1131.05 1605.93 1127.5 Q1607.76 1123.94 1607.76 1116.83 Q1607.76 1109.7 1605.93 1106.16 Q1604.13 1102.6 1600.49 1102.6 M1600.49 1098.89 Q1606.3 1098.89 1609.36 1103.5 Q1612.44 1108.08 1612.44 1116.83 Q1612.44 1125.56 1609.36 1130.17 Q1606.3 1134.75 1600.49 1134.75 Q1594.68 1134.75 1591.61 1130.17 Q1588.55 1125.56 1588.55 1116.83 Q1588.55 1108.08 1591.61 1103.5 Q1594.68 1098.89 1600.49 1098.89 Z\" fill=\"#000000\" fill-rule=\"evenodd\" fill-opacity=\"1\" /><path clip-path=\"url(#clip110)\" d=\"M1630.66 1102.6 Q1627.05 1102.6 1625.22 1106.16 Q1623.41 1109.7 1623.41 1116.83 Q1623.41 1123.94 1625.22 1127.5 Q1627.05 1131.05 1630.66 1131.05 Q1634.29 1131.05 1636.1 1127.5 Q1637.92 1123.94 1637.92 1116.83 Q1637.92 1109.7 1636.1 1106.16 Q1634.29 1102.6 1630.66 1102.6 M1630.66 1098.89 Q1636.47 1098.89 1639.52 1103.5 Q1642.6 1108.08 1642.6 1116.83 Q1642.6 1125.56 1639.52 1130.17 Q1636.47 1134.75 1630.66 1134.75 Q1624.85 1134.75 1621.77 1130.17 Q1618.71 1125.56 1618.71 1116.83 Q1618.71 1108.08 1621.77 1103.5 Q1624.85 1098.89 1630.66 1098.89 Z\" fill=\"#000000\" fill-rule=\"evenodd\" fill-opacity=\"1\" /><path clip-path=\"url(#clip110)\" d=\"M1731.92 1114.93 Q1728.77 1114.93 1726.92 1117.09 Q1725.09 1119.24 1725.09 1122.99 Q1725.09 1126.72 1726.92 1128.89 Q1728.77 1131.05 1731.92 1131.05 Q1735.06 1131.05 1736.89 1128.89 Q1738.74 1126.72 1738.74 1122.99 Q1738.74 1119.24 1736.89 1117.09 Q1735.06 1114.93 1731.92 1114.93 M1741.2 1100.28 L1741.2 1104.54 Q1739.44 1103.71 1737.63 1103.27 Q1735.85 1102.83 1734.09 1102.83 Q1729.46 1102.83 1727.01 1105.95 Q1724.58 1109.08 1724.23 1115.4 Q1725.6 1113.38 1727.66 1112.32 Q1729.72 1111.23 1732.19 1111.23 Q1737.4 1111.23 1740.41 1114.4 Q1743.44 1117.55 1743.44 1122.99 Q1743.44 1128.31 1740.29 1131.53 Q1737.15 1134.75 1731.92 1134.75 Q1725.92 1134.75 1722.75 1130.17 Q1719.58 1125.56 1719.58 1116.83 Q1719.58 1108.64 1723.47 1103.78 Q1727.36 1098.89 1733.91 1098.89 Q1735.67 1098.89 1737.45 1099.24 Q1739.25 1099.59 1741.2 1100.28 Z\" fill=\"#000000\" fill-rule=\"evenodd\" fill-opacity=\"1\" /><path clip-path=\"url(#clip110)\" d=\"M1765.67 1115.44 Q1769.02 1116.16 1770.9 1118.43 Q1772.79 1120.7 1772.79 1124.03 Q1772.79 1129.15 1769.28 1131.95 Q1765.76 1134.75 1759.28 1134.75 Q1757.1 1134.75 1754.79 1134.31 Q1752.49 1133.89 1750.04 1133.04 L1750.04 1128.52 Q1751.98 1129.66 1754.3 1130.24 Q1756.61 1130.81 1759.14 1130.81 Q1763.54 1130.81 1765.83 1129.08 Q1768.14 1127.34 1768.14 1124.03 Q1768.14 1120.98 1765.99 1119.26 Q1763.86 1117.53 1760.04 1117.53 L1756.01 1117.53 L1756.01 1113.68 L1760.23 1113.68 Q1763.67 1113.68 1765.5 1112.32 Q1767.33 1110.93 1767.33 1108.34 Q1767.33 1105.68 1765.43 1104.26 Q1763.56 1102.83 1760.04 1102.83 Q1758.12 1102.83 1755.92 1103.25 Q1753.72 1103.66 1751.08 1104.54 L1751.08 1100.37 Q1753.74 1099.63 1756.06 1099.26 Q1758.4 1098.89 1760.46 1098.89 Q1765.78 1098.89 1768.88 1101.32 Q1771.98 1103.73 1771.98 1107.85 Q1771.98 1110.72 1770.34 1112.71 Q1768.7 1114.68 1765.67 1115.44 Z\" fill=\"#000000\" fill-rule=\"evenodd\" fill-opacity=\"1\" /><path clip-path=\"url(#clip110)\" d=\"M1781.66 1128.2 L1786.54 1128.2 L1786.54 1134.08 L1781.66 1134.08 L1781.66 1128.2 Z\" fill=\"#000000\" fill-rule=\"evenodd\" fill-opacity=\"1\" /><path clip-path=\"url(#clip110)\" d=\"M1800.76 1130.14 L1817.08 1130.14 L1817.08 1134.08 L1795.13 1134.08 L1795.13 1130.14 Q1797.79 1127.39 1802.38 1122.76 Q1806.98 1118.11 1808.16 1116.76 Q1810.41 1114.24 1811.29 1112.5 Q1812.19 1110.75 1812.19 1109.06 Q1812.19 1106.3 1810.25 1104.56 Q1808.33 1102.83 1805.23 1102.83 Q1803.03 1102.83 1800.57 1103.59 Q1798.14 1104.36 1795.36 1105.91 L1795.36 1101.18 Q1798.19 1100.05 1800.64 1099.47 Q1803.1 1098.89 1805.13 1098.89 Q1810.5 1098.89 1813.7 1101.58 Q1816.89 1104.26 1816.89 1108.75 Q1816.89 1110.88 1816.08 1112.81 Q1815.29 1114.7 1813.19 1117.3 Q1812.61 1117.97 1809.51 1121.18 Q1806.41 1124.38 1800.76 1130.14 Z\" fill=\"#000000\" fill-rule=\"evenodd\" fill-opacity=\"1\" /><path clip-path=\"url(#clip110)\" d=\"M1826.94 1099.52 L1845.29 1099.52 L1845.29 1103.45 L1831.22 1103.45 L1831.22 1111.93 Q1832.24 1111.58 1833.26 1111.42 Q1834.28 1111.23 1835.29 1111.23 Q1841.08 1111.23 1844.46 1114.4 Q1847.84 1117.57 1847.84 1122.99 Q1847.84 1128.57 1844.37 1131.67 Q1840.9 1134.75 1834.58 1134.75 Q1832.4 1134.75 1830.13 1134.38 Q1827.89 1134.01 1825.48 1133.27 L1825.48 1128.57 Q1827.56 1129.7 1829.79 1130.26 Q1832.01 1130.81 1834.48 1130.81 Q1838.49 1130.81 1840.83 1128.71 Q1843.16 1126.6 1843.16 1122.99 Q1843.16 1119.38 1840.83 1117.27 Q1838.49 1115.17 1834.48 1115.17 Q1832.61 1115.17 1830.73 1115.58 Q1828.88 1116 1826.94 1116.88 L1826.94 1099.52 Z\" fill=\"#000000\" fill-rule=\"evenodd\" fill-opacity=\"1\" /><path clip-path=\"url(#clip110)\" d=\"M1937.16 1114.93 Q1934.01 1114.93 1932.16 1117.09 Q1930.33 1119.24 1930.33 1122.99 Q1930.33 1126.72 1932.16 1128.89 Q1934.01 1131.05 1937.16 1131.05 Q1940.3 1131.05 1942.13 1128.89 Q1943.98 1126.72 1943.98 1122.99 Q1943.98 1119.24 1942.13 1117.09 Q1940.3 1114.93 1937.16 1114.93 M1946.44 1100.28 L1946.44 1104.54 Q1944.68 1103.71 1942.87 1103.27 Q1941.09 1102.83 1939.33 1102.83 Q1934.7 1102.83 1932.25 1105.95 Q1929.82 1109.08 1929.47 1115.4 Q1930.84 1113.38 1932.9 1112.32 Q1934.96 1111.23 1937.43 1111.23 Q1942.64 1111.23 1945.65 1114.4 Q1948.68 1117.55 1948.68 1122.99 Q1948.68 1128.31 1945.53 1131.53 Q1942.39 1134.75 1937.16 1134.75 Q1931.16 1134.75 1927.99 1130.17 Q1924.82 1125.56 1924.82 1116.83 Q1924.82 1108.64 1928.71 1103.78 Q1932.6 1098.89 1939.15 1098.89 Q1940.91 1098.89 1942.69 1099.24 Q1944.49 1099.59 1946.44 1100.28 Z\" fill=\"#000000\" fill-rule=\"evenodd\" fill-opacity=\"1\" /><path clip-path=\"url(#clip110)\" d=\"M1970.91 1115.44 Q1974.26 1116.16 1976.14 1118.43 Q1978.03 1120.7 1978.03 1124.03 Q1978.03 1129.15 1974.52 1131.95 Q1971 1134.75 1964.52 1134.75 Q1962.34 1134.75 1960.03 1134.31 Q1957.73 1133.89 1955.28 1133.04 L1955.28 1128.52 Q1957.22 1129.66 1959.54 1130.24 Q1961.85 1130.81 1964.38 1130.81 Q1968.78 1130.81 1971.07 1129.08 Q1973.38 1127.34 1973.38 1124.03 Q1973.38 1120.98 1971.23 1119.26 Q1969.1 1117.53 1965.28 1117.53 L1961.25 1117.53 L1961.25 1113.68 L1965.47 1113.68 Q1968.91 1113.68 1970.74 1112.32 Q1972.57 1110.93 1972.57 1108.34 Q1972.57 1105.68 1970.67 1104.26 Q1968.8 1102.83 1965.28 1102.83 Q1963.36 1102.83 1961.16 1103.25 Q1958.96 1103.66 1956.32 1104.54 L1956.32 1100.37 Q1958.98 1099.63 1961.3 1099.26 Q1963.64 1098.89 1965.7 1098.89 Q1971.02 1098.89 1974.12 1101.32 Q1977.22 1103.73 1977.22 1107.85 Q1977.22 1110.72 1975.58 1112.71 Q1973.94 1114.68 1970.91 1115.44 Z\" fill=\"#000000\" fill-rule=\"evenodd\" fill-opacity=\"1\" /><path clip-path=\"url(#clip110)\" d=\"M1986.9 1128.2 L1991.78 1128.2 L1991.78 1134.08 L1986.9 1134.08 L1986.9 1128.2 Z\" fill=\"#000000\" fill-rule=\"evenodd\" fill-opacity=\"1\" /><path clip-path=\"url(#clip110)\" d=\"M2002.02 1099.52 L2020.37 1099.52 L2020.37 1103.45 L2006.3 1103.45 L2006.3 1111.93 Q2007.32 1111.58 2008.34 1111.42 Q2009.35 1111.23 2010.37 1111.23 Q2016.16 1111.23 2019.54 1114.4 Q2022.92 1117.57 2022.92 1122.99 Q2022.92 1128.57 2019.45 1131.67 Q2015.97 1134.75 2009.65 1134.75 Q2007.48 1134.75 2005.21 1134.38 Q2002.97 1134.01 2000.56 1133.27 L2000.56 1128.57 Q2002.64 1129.7 2004.86 1130.26 Q2007.09 1130.81 2009.56 1130.81 Q2013.57 1130.81 2015.9 1128.71 Q2018.24 1126.6 2018.24 1122.99 Q2018.24 1119.38 2015.9 1117.27 Q2013.57 1115.17 2009.56 1115.17 Q2007.69 1115.17 2005.81 1115.58 Q2003.96 1116 2002.02 1116.88 L2002.02 1099.52 Z\" fill=\"#000000\" fill-rule=\"evenodd\" fill-opacity=\"1\" /><path clip-path=\"url(#clip110)\" d=\"M2042.13 1102.6 Q2038.52 1102.6 2036.69 1106.16 Q2034.89 1109.7 2034.89 1116.83 Q2034.89 1123.94 2036.69 1127.5 Q2038.52 1131.05 2042.13 1131.05 Q2045.77 1131.05 2047.57 1127.5 Q2049.4 1123.94 2049.4 1116.83 Q2049.4 1109.7 2047.57 1106.16 Q2045.77 1102.6 2042.13 1102.6 M2042.13 1098.89 Q2047.94 1098.89 2051 1103.5 Q2054.08 1108.08 2054.08 1116.83 Q2054.08 1125.56 2051 1130.17 Q2047.94 1134.75 2042.13 1134.75 Q2036.32 1134.75 2033.24 1130.17 Q2030.19 1125.56 2030.19 1116.83 Q2030.19 1108.08 2033.24 1103.5 Q2036.32 1098.89 2042.13 1098.89 Z\" fill=\"#000000\" fill-rule=\"evenodd\" fill-opacity=\"1\" /><path clip-path=\"url(#clip110)\" d=\"M2143.39 1114.93 Q2140.24 1114.93 2138.39 1117.09 Q2136.56 1119.24 2136.56 1122.99 Q2136.56 1126.72 2138.39 1128.89 Q2140.24 1131.05 2143.39 1131.05 Q2146.54 1131.05 2148.37 1128.89 Q2150.22 1126.72 2150.22 1122.99 Q2150.22 1119.24 2148.37 1117.09 Q2146.54 1114.93 2143.39 1114.93 M2152.67 1100.28 L2152.67 1104.54 Q2150.91 1103.71 2149.11 1103.27 Q2147.33 1102.83 2145.57 1102.83 Q2140.94 1102.83 2138.48 1105.95 Q2136.05 1109.08 2135.71 1115.4 Q2137.07 1113.38 2139.13 1112.32 Q2141.19 1111.23 2143.67 1111.23 Q2148.88 1111.23 2151.89 1114.4 Q2154.92 1117.55 2154.92 1122.99 Q2154.92 1128.31 2151.77 1131.53 Q2148.62 1134.75 2143.39 1134.75 Q2137.4 1134.75 2134.22 1130.17 Q2131.05 1125.56 2131.05 1116.83 Q2131.05 1108.64 2134.94 1103.78 Q2138.83 1098.89 2145.38 1098.89 Q2147.14 1098.89 2148.92 1099.24 Q2150.73 1099.59 2152.67 1100.28 Z\" fill=\"#000000\" fill-rule=\"evenodd\" fill-opacity=\"1\" /><path clip-path=\"url(#clip110)\" d=\"M2177.14 1115.44 Q2180.5 1116.16 2182.37 1118.43 Q2184.27 1120.7 2184.27 1124.03 Q2184.27 1129.15 2180.75 1131.95 Q2177.23 1134.75 2170.75 1134.75 Q2168.58 1134.75 2166.26 1134.31 Q2163.97 1133.89 2161.52 1133.04 L2161.52 1128.52 Q2163.46 1129.66 2165.77 1130.24 Q2168.09 1130.81 2170.61 1130.81 Q2175.01 1130.81 2177.3 1129.08 Q2179.62 1127.34 2179.62 1124.03 Q2179.62 1120.98 2177.46 1119.26 Q2175.33 1117.53 2171.52 1117.53 L2167.49 1117.53 L2167.49 1113.68 L2171.7 1113.68 Q2175.15 1113.68 2176.98 1112.32 Q2178.81 1110.93 2178.81 1108.34 Q2178.81 1105.68 2176.91 1104.26 Q2175.03 1102.83 2171.52 1102.83 Q2169.59 1102.83 2167.4 1103.25 Q2165.2 1103.66 2162.56 1104.54 L2162.56 1100.37 Q2165.22 1099.63 2167.53 1099.26 Q2169.87 1098.89 2171.93 1098.89 Q2177.26 1098.89 2180.36 1101.32 Q2183.46 1103.73 2183.46 1107.85 Q2183.46 1110.72 2181.82 1112.71 Q2180.17 1114.68 2177.14 1115.44 Z\" fill=\"#000000\" fill-rule=\"evenodd\" fill-opacity=\"1\" /><path clip-path=\"url(#clip110)\" d=\"M2193.14 1128.2 L2198.02 1128.2 L2198.02 1134.08 L2193.14 1134.08 L2193.14 1128.2 Z\" fill=\"#000000\" fill-rule=\"evenodd\" fill-opacity=\"1\" /><path clip-path=\"url(#clip110)\" d=\"M2207.02 1099.52 L2229.25 1099.52 L2229.25 1101.51 L2216.7 1134.08 L2211.82 1134.08 L2223.62 1103.45 L2207.02 1103.45 L2207.02 1099.52 Z\" fill=\"#000000\" fill-rule=\"evenodd\" fill-opacity=\"1\" /><path clip-path=\"url(#clip110)\" d=\"M2238.41 1099.52 L2256.77 1099.52 L2256.77 1103.45 L2242.7 1103.45 L2242.7 1111.93 Q2243.71 1111.58 2244.73 1111.42 Q2245.75 1111.23 2246.77 1111.23 Q2252.56 1111.23 2255.94 1114.4 Q2259.32 1117.57 2259.32 1122.99 Q2259.32 1128.57 2255.84 1131.67 Q2252.37 1134.75 2246.05 1134.75 Q2243.88 1134.75 2241.61 1134.38 Q2239.36 1134.01 2236.95 1133.27 L2236.95 1128.57 Q2239.04 1129.7 2241.26 1130.26 Q2243.48 1130.81 2245.96 1130.81 Q2249.96 1130.81 2252.3 1128.71 Q2254.64 1126.6 2254.64 1122.99 Q2254.64 1119.38 2252.3 1117.27 Q2249.96 1115.17 2245.96 1115.17 Q2244.08 1115.17 2242.21 1115.58 Q2240.36 1116 2238.41 1116.88 L2238.41 1099.52 Z\" fill=\"#000000\" fill-rule=\"evenodd\" fill-opacity=\"1\" /><path clip-path=\"url(#clip110)\" d=\"M2348.63 1114.93 Q2345.48 1114.93 2343.63 1117.09 Q2341.8 1119.24 2341.8 1122.99 Q2341.8 1126.72 2343.63 1128.89 Q2345.48 1131.05 2348.63 1131.05 Q2351.78 1131.05 2353.61 1128.89 Q2355.46 1126.72 2355.46 1122.99 Q2355.46 1119.24 2353.61 1117.09 Q2351.78 1114.93 2348.63 1114.93 M2357.91 1100.28 L2357.91 1104.54 Q2356.15 1103.71 2354.35 1103.27 Q2352.57 1102.83 2350.81 1102.83 Q2346.18 1102.83 2343.72 1105.95 Q2341.29 1109.08 2340.95 1115.4 Q2342.31 1113.38 2344.37 1112.32 Q2346.43 1111.23 2348.91 1111.23 Q2354.12 1111.23 2357.13 1114.4 Q2360.16 1117.55 2360.16 1122.99 Q2360.16 1128.31 2357.01 1131.53 Q2353.86 1134.75 2348.63 1134.75 Q2342.64 1134.75 2339.46 1130.17 Q2336.29 1125.56 2336.29 1116.83 Q2336.29 1108.64 2340.18 1103.78 Q2344.07 1098.89 2350.62 1098.89 Q2352.38 1098.89 2354.16 1099.24 Q2355.97 1099.59 2357.91 1100.28 Z\" fill=\"#000000\" fill-rule=\"evenodd\" fill-opacity=\"1\" /><path clip-path=\"url(#clip110)\" d=\"M2381.06 1103.59 L2369.26 1122.04 L2381.06 1122.04 L2381.06 1103.59 M2379.83 1099.52 L2385.71 1099.52 L2385.71 1122.04 L2390.64 1122.04 L2390.64 1125.93 L2385.71 1125.93 L2385.71 1134.08 L2381.06 1134.08 L2381.06 1125.93 L2365.46 1125.93 L2365.46 1121.42 L2379.83 1099.52 Z\" fill=\"#000000\" fill-rule=\"evenodd\" fill-opacity=\"1\" /><path clip-path=\"url(#clip110)\" d=\"M2398.38 1128.2 L2403.26 1128.2 L2403.26 1134.08 L2398.38 1134.08 L2398.38 1128.2 Z\" fill=\"#000000\" fill-rule=\"evenodd\" fill-opacity=\"1\" /><path clip-path=\"url(#clip110)\" d=\"M2423.44 1102.6 Q2419.83 1102.6 2418.01 1106.16 Q2416.2 1109.7 2416.2 1116.83 Q2416.2 1123.94 2418.01 1127.5 Q2419.83 1131.05 2423.44 1131.05 Q2427.08 1131.05 2428.88 1127.5 Q2430.71 1123.94 2430.71 1116.83 Q2430.71 1109.7 2428.88 1106.16 Q2427.08 1102.6 2423.44 1102.6 M2423.44 1098.89 Q2429.26 1098.89 2432.31 1103.5 Q2435.39 1108.08 2435.39 1116.83 Q2435.39 1125.56 2432.31 1130.17 Q2429.26 1134.75 2423.44 1134.75 Q2417.63 1134.75 2414.56 1130.17 Q2411.5 1125.56 2411.5 1116.83 Q2411.5 1108.08 2414.56 1103.5 Q2417.63 1098.89 2423.44 1098.89 Z\" fill=\"#000000\" fill-rule=\"evenodd\" fill-opacity=\"1\" /><path clip-path=\"url(#clip110)\" d=\"M2453.61 1102.6 Q2450 1102.6 2448.17 1106.16 Q2446.36 1109.7 2446.36 1116.83 Q2446.36 1123.94 2448.17 1127.5 Q2450 1131.05 2453.61 1131.05 Q2457.24 1131.05 2459.05 1127.5 Q2460.88 1123.94 2460.88 1116.83 Q2460.88 1109.7 2459.05 1106.16 Q2457.24 1102.6 2453.61 1102.6 M2453.61 1098.89 Q2459.42 1098.89 2462.47 1103.5 Q2465.55 1108.08 2465.55 1116.83 Q2465.55 1125.56 2462.47 1130.17 Q2459.42 1134.75 2453.61 1134.75 Q2447.8 1134.75 2444.72 1130.17 Q2441.66 1125.56 2441.66 1116.83 Q2441.66 1108.08 2444.72 1103.5 Q2447.8 1098.89 2453.61 1098.89 Z\" fill=\"#000000\" fill-rule=\"evenodd\" fill-opacity=\"1\" /><path clip-path=\"url(#clip110)\" d=\"M1988.51 1179.17 L1988.51 1189.29 L2000.57 1189.29 L2000.57 1193.85 L1988.51 1193.85 L1988.51 1213.2 Q1988.51 1217.56 1989.69 1218.8 Q1990.89 1220.04 1994.56 1220.04 L2000.57 1220.04 L2000.57 1224.94 L1994.56 1224.94 Q1987.78 1224.94 1985.2 1222.43 Q1982.62 1219.88 1982.62 1213.2 L1982.62 1193.85 L1978.32 1193.85 L1978.32 1189.29 L1982.62 1189.29 L1982.62 1179.17 L1988.51 1179.17 Z\" fill=\"#000000\" fill-rule=\"evenodd\" fill-opacity=\"1\" /><polyline clip-path=\"url(#clip113)\" style=\"stroke:#000000; stroke-linecap:round; stroke-linejoin:round; stroke-width:2; stroke-opacity:0.1; fill:none\" points=\"\n",
       "  1553.28,1034.66 2425.61,1034.66 \n",
       "  \"/>\n",
       "<polyline clip-path=\"url(#clip113)\" style=\"stroke:#000000; stroke-linecap:round; stroke-linejoin:round; stroke-width:2; stroke-opacity:0.1; fill:none\" points=\"\n",
       "  1553.28,806.157 2425.61,806.157 \n",
       "  \"/>\n",
       "<polyline clip-path=\"url(#clip113)\" style=\"stroke:#000000; stroke-linecap:round; stroke-linejoin:round; stroke-width:2; stroke-opacity:0.1; fill:none\" points=\"\n",
       "  1553.28,577.655 2425.61,577.655 \n",
       "  \"/>\n",
       "<polyline clip-path=\"url(#clip113)\" style=\"stroke:#000000; stroke-linecap:round; stroke-linejoin:round; stroke-width:2; stroke-opacity:0.1; fill:none\" points=\"\n",
       "  1553.28,349.154 2425.61,349.154 \n",
       "  \"/>\n",
       "<polyline clip-path=\"url(#clip113)\" style=\"stroke:#000000; stroke-linecap:round; stroke-linejoin:round; stroke-width:2; stroke-opacity:0.1; fill:none\" points=\"\n",
       "  1553.28,120.652 2425.61,120.652 \n",
       "  \"/>\n",
       "<polyline clip-path=\"url(#clip110)\" style=\"stroke:#000000; stroke-linecap:round; stroke-linejoin:round; stroke-width:4; stroke-opacity:1; fill:none\" points=\"\n",
       "  1553.28,1062.08 1553.28,93.2321 \n",
       "  \"/>\n",
       "<polyline clip-path=\"url(#clip110)\" style=\"stroke:#000000; stroke-linecap:round; stroke-linejoin:round; stroke-width:4; stroke-opacity:1; fill:none\" points=\"\n",
       "  1553.28,1034.66 1572.18,1034.66 \n",
       "  \"/>\n",
       "<polyline clip-path=\"url(#clip110)\" style=\"stroke:#000000; stroke-linecap:round; stroke-linejoin:round; stroke-width:4; stroke-opacity:1; fill:none\" points=\"\n",
       "  1553.28,806.157 1572.18,806.157 \n",
       "  \"/>\n",
       "<polyline clip-path=\"url(#clip110)\" style=\"stroke:#000000; stroke-linecap:round; stroke-linejoin:round; stroke-width:4; stroke-opacity:1; fill:none\" points=\"\n",
       "  1553.28,577.655 1572.18,577.655 \n",
       "  \"/>\n",
       "<polyline clip-path=\"url(#clip110)\" style=\"stroke:#000000; stroke-linecap:round; stroke-linejoin:round; stroke-width:4; stroke-opacity:1; fill:none\" points=\"\n",
       "  1553.28,349.154 1572.18,349.154 \n",
       "  \"/>\n",
       "<polyline clip-path=\"url(#clip110)\" style=\"stroke:#000000; stroke-linecap:round; stroke-linejoin:round; stroke-width:4; stroke-opacity:1; fill:none\" points=\"\n",
       "  1553.28,120.652 1572.18,120.652 \n",
       "  \"/>\n",
       "<path clip-path=\"url(#clip110)\" d=\"M1382.36 1032.79 Q1379.21 1032.79 1377.36 1034.95 Q1375.53 1037.1 1375.53 1040.85 Q1375.53 1044.58 1377.36 1046.75 Q1379.21 1048.91 1382.36 1048.91 Q1385.51 1048.91 1387.34 1046.75 Q1389.19 1044.58 1389.19 1040.85 Q1389.19 1037.1 1387.34 1034.95 Q1385.51 1032.79 1382.36 1032.79 M1391.64 1018.14 L1391.64 1022.4 Q1389.89 1021.57 1388.08 1021.13 Q1386.3 1020.69 1384.54 1020.69 Q1379.91 1020.69 1377.45 1023.81 Q1375.02 1026.94 1374.68 1033.26 Q1376.04 1031.24 1378.1 1030.18 Q1380.16 1029.09 1382.64 1029.09 Q1387.85 1029.09 1390.86 1032.26 Q1393.89 1035.41 1393.89 1040.85 Q1393.89 1046.17 1390.74 1049.39 Q1387.59 1052.61 1382.36 1052.61 Q1376.37 1052.61 1373.2 1048.03 Q1370.02 1043.42 1370.02 1034.69 Q1370.02 1026.5 1373.91 1021.64 Q1377.8 1016.75 1384.35 1016.75 Q1386.11 1016.75 1387.89 1017.1 Q1389.7 1017.45 1391.64 1018.14 Z\" fill=\"#000000\" fill-rule=\"evenodd\" fill-opacity=\"1\" /><path clip-path=\"url(#clip110)\" d=\"M1416.11 1033.3 Q1419.47 1034.02 1421.34 1036.29 Q1423.24 1038.56 1423.24 1041.89 Q1423.24 1047.01 1419.72 1049.81 Q1416.2 1052.61 1409.72 1052.61 Q1407.55 1052.61 1405.23 1052.17 Q1402.94 1051.75 1400.49 1050.9 L1400.49 1046.38 Q1402.43 1047.52 1404.75 1048.1 Q1407.06 1048.67 1409.58 1048.67 Q1413.98 1048.67 1416.27 1046.94 Q1418.59 1045.2 1418.59 1041.89 Q1418.59 1038.84 1416.44 1037.12 Q1414.31 1035.39 1410.49 1035.39 L1406.46 1035.39 L1406.46 1031.54 L1410.67 1031.54 Q1414.12 1031.54 1415.95 1030.18 Q1417.78 1028.79 1417.78 1026.2 Q1417.78 1023.54 1415.88 1022.12 Q1414.01 1020.69 1410.49 1020.69 Q1408.57 1020.69 1406.37 1021.1 Q1404.17 1021.52 1401.53 1022.4 L1401.53 1018.23 Q1404.19 1017.49 1406.51 1017.12 Q1408.84 1016.75 1410.9 1016.75 Q1416.23 1016.75 1419.33 1019.18 Q1422.43 1021.59 1422.43 1025.71 Q1422.43 1028.58 1420.79 1030.57 Q1419.14 1032.54 1416.11 1033.3 Z\" fill=\"#000000\" fill-rule=\"evenodd\" fill-opacity=\"1\" /><path clip-path=\"url(#clip110)\" d=\"M1432.11 1046.06 L1436.99 1046.06 L1436.99 1051.94 L1432.11 1051.94 L1432.11 1046.06 Z\" fill=\"#000000\" fill-rule=\"evenodd\" fill-opacity=\"1\" /><path clip-path=\"url(#clip110)\" d=\"M1457.18 1020.46 Q1453.57 1020.46 1451.74 1024.02 Q1449.93 1027.56 1449.93 1034.69 Q1449.93 1041.8 1451.74 1045.36 Q1453.57 1048.91 1457.18 1048.91 Q1460.81 1048.91 1462.62 1045.36 Q1464.45 1041.8 1464.45 1034.69 Q1464.45 1027.56 1462.62 1024.02 Q1460.81 1020.46 1457.18 1020.46 M1457.18 1016.75 Q1462.99 1016.75 1466.04 1021.36 Q1469.12 1025.94 1469.12 1034.69 Q1469.12 1043.42 1466.04 1048.03 Q1462.99 1052.61 1457.18 1052.61 Q1451.37 1052.61 1448.29 1048.03 Q1445.23 1043.42 1445.23 1034.69 Q1445.23 1025.94 1448.29 1021.36 Q1451.37 1016.75 1457.18 1016.75 Z\" fill=\"#000000\" fill-rule=\"evenodd\" fill-opacity=\"1\" /><path clip-path=\"url(#clip110)\" d=\"M1487.34 1020.46 Q1483.73 1020.46 1481.9 1024.02 Q1480.09 1027.56 1480.09 1034.69 Q1480.09 1041.8 1481.9 1045.36 Q1483.73 1048.91 1487.34 1048.91 Q1490.97 1048.91 1492.78 1045.36 Q1494.61 1041.8 1494.61 1034.69 Q1494.61 1027.56 1492.78 1024.02 Q1490.97 1020.46 1487.34 1020.46 M1487.34 1016.75 Q1493.15 1016.75 1496.2 1021.36 Q1499.28 1025.94 1499.28 1034.69 Q1499.28 1043.42 1496.2 1048.03 Q1493.15 1052.61 1487.34 1052.61 Q1481.53 1052.61 1478.45 1048.03 Q1475.39 1043.42 1475.39 1034.69 Q1475.39 1025.94 1478.45 1021.36 Q1481.53 1016.75 1487.34 1016.75 Z\" fill=\"#000000\" fill-rule=\"evenodd\" fill-opacity=\"1\" /><path clip-path=\"url(#clip110)\" d=\"M1383.36 804.293 Q1380.21 804.293 1378.36 806.446 Q1376.53 808.599 1376.53 812.349 Q1376.53 816.076 1378.36 818.251 Q1380.21 820.404 1383.36 820.404 Q1386.51 820.404 1388.33 818.251 Q1390.19 816.076 1390.19 812.349 Q1390.19 808.599 1388.33 806.446 Q1386.51 804.293 1383.36 804.293 M1392.64 789.641 L1392.64 793.9 Q1390.88 793.066 1389.08 792.627 Q1387.29 792.187 1385.53 792.187 Q1380.9 792.187 1378.45 795.312 Q1376.02 798.437 1375.67 804.756 Q1377.04 802.742 1379.1 801.677 Q1381.16 800.59 1383.64 800.59 Q1388.84 800.59 1391.85 803.761 Q1394.89 806.909 1394.89 812.349 Q1394.89 817.673 1391.74 820.89 Q1388.59 824.108 1383.36 824.108 Q1377.36 824.108 1374.19 819.525 Q1371.02 814.918 1371.02 806.191 Q1371.02 797.997 1374.91 793.136 Q1378.8 788.252 1385.35 788.252 Q1387.11 788.252 1388.89 788.599 Q1390.7 788.946 1392.64 789.641 Z\" fill=\"#000000\" fill-rule=\"evenodd\" fill-opacity=\"1\" /><path clip-path=\"url(#clip110)\" d=\"M1417.11 804.802 Q1420.46 805.52 1422.34 807.789 Q1424.24 810.057 1424.24 813.39 Q1424.24 818.506 1420.72 821.307 Q1417.2 824.108 1410.72 824.108 Q1408.54 824.108 1406.23 823.668 Q1403.94 823.251 1401.48 822.395 L1401.48 817.881 Q1403.43 819.015 1405.74 819.594 Q1408.06 820.173 1410.58 820.173 Q1414.98 820.173 1417.27 818.437 Q1419.58 816.701 1419.58 813.39 Q1419.58 810.335 1417.43 808.622 Q1415.3 806.886 1411.48 806.886 L1407.45 806.886 L1407.45 803.043 L1411.67 803.043 Q1415.12 803.043 1416.95 801.677 Q1418.77 800.289 1418.77 797.696 Q1418.77 795.034 1416.88 793.622 Q1415 792.187 1411.48 792.187 Q1409.56 792.187 1407.36 792.603 Q1405.16 793.02 1402.52 793.9 L1402.52 789.733 Q1405.19 788.992 1407.5 788.622 Q1409.84 788.252 1411.9 788.252 Q1417.22 788.252 1420.33 790.682 Q1423.43 793.09 1423.43 797.21 Q1423.43 800.08 1421.78 802.071 Q1420.14 804.039 1417.11 804.802 Z\" fill=\"#000000\" fill-rule=\"evenodd\" fill-opacity=\"1\" /><path clip-path=\"url(#clip110)\" d=\"M1433.1 817.557 L1437.99 817.557 L1437.99 823.437 L1433.1 823.437 L1433.1 817.557 Z\" fill=\"#000000\" fill-rule=\"evenodd\" fill-opacity=\"1\" /><path clip-path=\"url(#clip110)\" d=\"M1452.2 819.501 L1468.52 819.501 L1468.52 823.437 L1446.57 823.437 L1446.57 819.501 Q1449.24 816.747 1453.82 812.117 Q1458.43 807.464 1459.61 806.122 Q1461.85 803.599 1462.73 801.863 Q1463.64 800.103 1463.64 798.414 Q1463.64 795.659 1461.69 793.923 Q1459.77 792.187 1456.67 792.187 Q1454.47 792.187 1452.01 792.951 Q1449.58 793.715 1446.81 795.265 L1446.81 790.543 Q1449.63 789.409 1452.08 788.83 Q1454.54 788.252 1456.57 788.252 Q1461.95 788.252 1465.14 790.937 Q1468.33 793.622 1468.33 798.113 Q1468.33 800.242 1467.52 802.164 Q1466.74 804.062 1464.63 806.654 Q1464.05 807.326 1460.95 810.543 Q1457.85 813.738 1452.2 819.501 Z\" fill=\"#000000\" fill-rule=\"evenodd\" fill-opacity=\"1\" /><path clip-path=\"url(#clip110)\" d=\"M1478.38 788.877 L1496.74 788.877 L1496.74 792.812 L1482.66 792.812 L1482.66 801.284 Q1483.68 800.937 1484.7 800.775 Q1485.72 800.59 1486.74 800.59 Q1492.52 800.59 1495.9 803.761 Q1499.28 806.932 1499.28 812.349 Q1499.28 817.927 1495.81 821.029 Q1492.34 824.108 1486.02 824.108 Q1483.84 824.108 1481.57 823.738 Q1479.33 823.367 1476.92 822.626 L1476.92 817.927 Q1479.01 819.062 1481.23 819.617 Q1483.45 820.173 1485.93 820.173 Q1489.93 820.173 1492.27 818.066 Q1494.61 815.96 1494.61 812.349 Q1494.61 808.738 1492.27 806.631 Q1489.93 804.525 1485.93 804.525 Q1484.05 804.525 1482.18 804.941 Q1480.32 805.358 1478.38 806.238 L1478.38 788.877 Z\" fill=\"#000000\" fill-rule=\"evenodd\" fill-opacity=\"1\" /><path clip-path=\"url(#clip110)\" d=\"M1382.36 575.792 Q1379.21 575.792 1377.36 577.945 Q1375.53 580.097 1375.53 583.847 Q1375.53 587.574 1377.36 589.75 Q1379.21 591.903 1382.36 591.903 Q1385.51 591.903 1387.34 589.75 Q1389.19 587.574 1389.19 583.847 Q1389.19 580.097 1387.34 577.945 Q1385.51 575.792 1382.36 575.792 M1391.64 561.139 L1391.64 565.398 Q1389.89 564.565 1388.08 564.125 Q1386.3 563.685 1384.54 563.685 Q1379.91 563.685 1377.45 566.81 Q1375.02 569.935 1374.68 576.255 Q1376.04 574.241 1378.1 573.176 Q1380.16 572.088 1382.64 572.088 Q1387.85 572.088 1390.86 575.259 Q1393.89 578.407 1393.89 583.847 Q1393.89 589.171 1390.74 592.389 Q1387.59 595.606 1382.36 595.606 Q1376.37 595.606 1373.2 591.023 Q1370.02 586.417 1370.02 577.69 Q1370.02 569.496 1373.91 564.634 Q1377.8 559.75 1384.35 559.75 Q1386.11 559.75 1387.89 560.097 Q1389.7 560.445 1391.64 561.139 Z\" fill=\"#000000\" fill-rule=\"evenodd\" fill-opacity=\"1\" /><path clip-path=\"url(#clip110)\" d=\"M1416.11 576.301 Q1419.47 577.019 1421.34 579.287 Q1423.24 581.556 1423.24 584.889 Q1423.24 590.005 1419.72 592.806 Q1416.2 595.606 1409.72 595.606 Q1407.55 595.606 1405.23 595.167 Q1402.94 594.75 1400.49 593.894 L1400.49 589.38 Q1402.43 590.514 1404.75 591.093 Q1407.06 591.671 1409.58 591.671 Q1413.98 591.671 1416.27 589.935 Q1418.59 588.199 1418.59 584.889 Q1418.59 581.833 1416.44 580.12 Q1414.31 578.384 1410.49 578.384 L1406.46 578.384 L1406.46 574.542 L1410.67 574.542 Q1414.12 574.542 1415.95 573.176 Q1417.78 571.787 1417.78 569.195 Q1417.78 566.533 1415.88 565.121 Q1414.01 563.685 1410.49 563.685 Q1408.57 563.685 1406.37 564.102 Q1404.17 564.519 1401.53 565.398 L1401.53 561.232 Q1404.19 560.491 1406.51 560.121 Q1408.84 559.75 1410.9 559.75 Q1416.23 559.75 1419.33 562.181 Q1422.43 564.588 1422.43 568.708 Q1422.43 571.579 1420.79 573.57 Q1419.14 575.537 1416.11 576.301 Z\" fill=\"#000000\" fill-rule=\"evenodd\" fill-opacity=\"1\" /><path clip-path=\"url(#clip110)\" d=\"M1432.11 589.056 L1436.99 589.056 L1436.99 594.935 L1432.11 594.935 L1432.11 589.056 Z\" fill=\"#000000\" fill-rule=\"evenodd\" fill-opacity=\"1\" /><path clip-path=\"url(#clip110)\" d=\"M1447.22 560.375 L1465.58 560.375 L1465.58 564.31 L1451.51 564.31 L1451.51 572.783 Q1452.52 572.435 1453.54 572.273 Q1454.56 572.088 1455.58 572.088 Q1461.37 572.088 1464.75 575.259 Q1468.13 578.431 1468.13 583.847 Q1468.13 589.426 1464.65 592.528 Q1461.18 595.606 1454.86 595.606 Q1452.69 595.606 1450.42 595.236 Q1448.17 594.866 1445.76 594.125 L1445.76 589.426 Q1447.85 590.56 1450.07 591.116 Q1452.29 591.671 1454.77 591.671 Q1458.77 591.671 1461.11 589.565 Q1463.45 587.458 1463.45 583.847 Q1463.45 580.236 1461.11 578.13 Q1458.77 576.023 1454.77 576.023 Q1452.89 576.023 1451.02 576.44 Q1449.17 576.857 1447.22 577.736 L1447.22 560.375 Z\" fill=\"#000000\" fill-rule=\"evenodd\" fill-opacity=\"1\" /><path clip-path=\"url(#clip110)\" d=\"M1487.34 563.454 Q1483.73 563.454 1481.9 567.019 Q1480.09 570.56 1480.09 577.69 Q1480.09 584.796 1481.9 588.361 Q1483.73 591.903 1487.34 591.903 Q1490.97 591.903 1492.78 588.361 Q1494.61 584.796 1494.61 577.69 Q1494.61 570.56 1492.78 567.019 Q1490.97 563.454 1487.34 563.454 M1487.34 559.75 Q1493.15 559.75 1496.2 564.357 Q1499.28 568.94 1499.28 577.69 Q1499.28 586.417 1496.2 591.023 Q1493.15 595.606 1487.34 595.606 Q1481.53 595.606 1478.45 591.023 Q1475.39 586.417 1475.39 577.69 Q1475.39 568.94 1478.45 564.357 Q1481.53 559.75 1487.34 559.75 Z\" fill=\"#000000\" fill-rule=\"evenodd\" fill-opacity=\"1\" /><path clip-path=\"url(#clip110)\" d=\"M1383.36 347.29 Q1380.21 347.29 1378.36 349.443 Q1376.53 351.596 1376.53 355.346 Q1376.53 359.073 1378.36 361.249 Q1380.21 363.401 1383.36 363.401 Q1386.51 363.401 1388.33 361.249 Q1390.19 359.073 1390.19 355.346 Q1390.19 351.596 1388.33 349.443 Q1386.51 347.29 1383.36 347.29 M1392.64 332.638 L1392.64 336.897 Q1390.88 336.064 1389.08 335.624 Q1387.29 335.184 1385.53 335.184 Q1380.9 335.184 1378.45 338.309 Q1376.02 341.434 1375.67 347.753 Q1377.04 345.739 1379.1 344.675 Q1381.16 343.587 1383.64 343.587 Q1388.84 343.587 1391.85 346.758 Q1394.89 349.906 1394.89 355.346 Q1394.89 360.67 1391.74 363.887 Q1388.59 367.105 1383.36 367.105 Q1377.36 367.105 1374.19 362.522 Q1371.02 357.915 1371.02 349.188 Q1371.02 340.994 1374.91 336.133 Q1378.8 331.249 1385.35 331.249 Q1387.11 331.249 1388.89 331.596 Q1390.7 331.943 1392.64 332.638 Z\" fill=\"#000000\" fill-rule=\"evenodd\" fill-opacity=\"1\" /><path clip-path=\"url(#clip110)\" d=\"M1417.11 347.8 Q1420.46 348.517 1422.34 350.786 Q1424.24 353.054 1424.24 356.387 Q1424.24 361.503 1420.72 364.304 Q1417.2 367.105 1410.72 367.105 Q1408.54 367.105 1406.23 366.665 Q1403.94 366.249 1401.48 365.392 L1401.48 360.878 Q1403.43 362.012 1405.74 362.591 Q1408.06 363.17 1410.58 363.17 Q1414.98 363.17 1417.27 361.434 Q1419.58 359.698 1419.58 356.387 Q1419.58 353.332 1417.43 351.619 Q1415.3 349.883 1411.48 349.883 L1407.45 349.883 L1407.45 346.04 L1411.67 346.04 Q1415.12 346.04 1416.95 344.675 Q1418.77 343.286 1418.77 340.693 Q1418.77 338.031 1416.88 336.619 Q1415 335.184 1411.48 335.184 Q1409.56 335.184 1407.36 335.601 Q1405.16 336.017 1402.52 336.897 L1402.52 332.73 Q1405.19 331.989 1407.5 331.619 Q1409.84 331.249 1411.9 331.249 Q1417.22 331.249 1420.33 333.679 Q1423.43 336.087 1423.43 340.207 Q1423.43 343.077 1421.78 345.068 Q1420.14 347.036 1417.11 347.8 Z\" fill=\"#000000\" fill-rule=\"evenodd\" fill-opacity=\"1\" /><path clip-path=\"url(#clip110)\" d=\"M1433.1 360.554 L1437.99 360.554 L1437.99 366.434 L1433.1 366.434 L1433.1 360.554 Z\" fill=\"#000000\" fill-rule=\"evenodd\" fill-opacity=\"1\" /><path clip-path=\"url(#clip110)\" d=\"M1446.99 331.874 L1469.21 331.874 L1469.21 333.864 L1456.67 366.434 L1451.78 366.434 L1463.59 335.809 L1446.99 335.809 L1446.99 331.874 Z\" fill=\"#000000\" fill-rule=\"evenodd\" fill-opacity=\"1\" /><path clip-path=\"url(#clip110)\" d=\"M1478.38 331.874 L1496.74 331.874 L1496.74 335.809 L1482.66 335.809 L1482.66 344.281 Q1483.68 343.934 1484.7 343.772 Q1485.72 343.587 1486.74 343.587 Q1492.52 343.587 1495.9 346.758 Q1499.28 349.929 1499.28 355.346 Q1499.28 360.925 1495.81 364.026 Q1492.34 367.105 1486.02 367.105 Q1483.84 367.105 1481.57 366.735 Q1479.33 366.364 1476.92 365.624 L1476.92 360.925 Q1479.01 362.059 1481.23 362.614 Q1483.45 363.17 1485.93 363.17 Q1489.93 363.17 1492.27 361.063 Q1494.61 358.957 1494.61 355.346 Q1494.61 351.735 1492.27 349.628 Q1489.93 347.522 1485.93 347.522 Q1484.05 347.522 1482.18 347.938 Q1480.32 348.355 1478.38 349.235 L1478.38 331.874 Z\" fill=\"#000000\" fill-rule=\"evenodd\" fill-opacity=\"1\" /><path clip-path=\"url(#clip110)\" d=\"M1382.36 118.789 Q1379.21 118.789 1377.36 120.942 Q1375.53 123.094 1375.53 126.844 Q1375.53 130.571 1377.36 132.747 Q1379.21 134.9 1382.36 134.9 Q1385.51 134.9 1387.34 132.747 Q1389.19 130.571 1389.19 126.844 Q1389.19 123.094 1387.34 120.942 Q1385.51 118.789 1382.36 118.789 M1391.64 104.136 L1391.64 108.395 Q1389.89 107.562 1388.08 107.122 Q1386.3 106.682 1384.54 106.682 Q1379.91 106.682 1377.45 109.807 Q1375.02 112.932 1374.68 119.252 Q1376.04 117.238 1378.1 116.173 Q1380.16 115.085 1382.64 115.085 Q1387.85 115.085 1390.86 118.256 Q1393.89 121.405 1393.89 126.844 Q1393.89 132.168 1390.74 135.386 Q1387.59 138.604 1382.36 138.604 Q1376.37 138.604 1373.2 134.02 Q1370.02 129.414 1370.02 120.687 Q1370.02 112.493 1373.91 107.632 Q1377.8 102.747 1384.35 102.747 Q1386.11 102.747 1387.89 103.095 Q1389.7 103.442 1391.64 104.136 Z\" fill=\"#000000\" fill-rule=\"evenodd\" fill-opacity=\"1\" /><path clip-path=\"url(#clip110)\" d=\"M1414.79 107.446 L1402.99 125.895 L1414.79 125.895 L1414.79 107.446 M1413.57 103.372 L1419.45 103.372 L1419.45 125.895 L1424.38 125.895 L1424.38 129.784 L1419.45 129.784 L1419.45 137.932 L1414.79 137.932 L1414.79 129.784 L1399.19 129.784 L1399.19 125.27 L1413.57 103.372 Z\" fill=\"#000000\" fill-rule=\"evenodd\" fill-opacity=\"1\" /><path clip-path=\"url(#clip110)\" d=\"M1432.11 132.053 L1436.99 132.053 L1436.99 137.932 L1432.11 137.932 L1432.11 132.053 Z\" fill=\"#000000\" fill-rule=\"evenodd\" fill-opacity=\"1\" /><path clip-path=\"url(#clip110)\" d=\"M1457.18 106.451 Q1453.57 106.451 1451.74 110.016 Q1449.93 113.557 1449.93 120.687 Q1449.93 127.793 1451.74 131.358 Q1453.57 134.9 1457.18 134.9 Q1460.81 134.9 1462.62 131.358 Q1464.45 127.793 1464.45 120.687 Q1464.45 113.557 1462.62 110.016 Q1460.81 106.451 1457.18 106.451 M1457.18 102.747 Q1462.99 102.747 1466.04 107.354 Q1469.12 111.937 1469.12 120.687 Q1469.12 129.414 1466.04 134.02 Q1462.99 138.604 1457.18 138.604 Q1451.37 138.604 1448.29 134.02 Q1445.23 129.414 1445.23 120.687 Q1445.23 111.937 1448.29 107.354 Q1451.37 102.747 1457.18 102.747 Z\" fill=\"#000000\" fill-rule=\"evenodd\" fill-opacity=\"1\" /><path clip-path=\"url(#clip110)\" d=\"M1487.34 106.451 Q1483.73 106.451 1481.9 110.016 Q1480.09 113.557 1480.09 120.687 Q1480.09 127.793 1481.9 131.358 Q1483.73 134.9 1487.34 134.9 Q1490.97 134.9 1492.78 131.358 Q1494.61 127.793 1494.61 120.687 Q1494.61 113.557 1492.78 110.016 Q1490.97 106.451 1487.34 106.451 M1487.34 102.747 Q1493.15 102.747 1496.2 107.354 Q1499.28 111.937 1499.28 120.687 Q1499.28 129.414 1496.2 134.02 Q1493.15 138.604 1487.34 138.604 Q1481.53 138.604 1478.45 134.02 Q1475.39 129.414 1475.39 120.687 Q1475.39 111.937 1478.45 107.354 Q1481.53 102.747 1487.34 102.747 Z\" fill=\"#000000\" fill-rule=\"evenodd\" fill-opacity=\"1\" /><path clip-path=\"url(#clip110)\" d=\"M1267.17 692.874 L1272.71 692.874 Q1271.44 695.357 1270.8 698.031 Q1270.16 700.704 1270.16 703.569 Q1270.16 707.929 1271.5 710.126 Q1272.84 712.29 1275.51 712.29 Q1277.55 712.29 1278.72 710.73 Q1279.87 709.171 1280.92 704.46 L1281.37 702.455 Q1282.7 696.216 1285.15 693.607 Q1287.57 690.965 1291.93 690.965 Q1296.9 690.965 1299.8 694.912 Q1302.69 698.826 1302.69 705.701 Q1302.69 708.566 1302.12 711.685 Q1301.58 714.773 1300.46 718.21 L1294.42 718.21 Q1296.1 714.963 1296.96 711.812 Q1297.79 708.661 1297.79 705.574 Q1297.79 701.436 1296.39 699.208 Q1294.96 696.98 1292.38 696.98 Q1289.99 696.98 1288.72 698.604 Q1287.45 700.195 1286.27 705.638 L1285.79 707.675 Q1284.64 713.117 1282.29 715.536 Q1279.9 717.955 1275.76 717.955 Q1270.74 717.955 1268 714.391 Q1265.26 710.826 1265.26 704.269 Q1265.26 701.023 1265.74 698.158 Q1266.22 695.293 1267.17 692.874 Z\" fill=\"#000000\" fill-rule=\"evenodd\" fill-opacity=\"1\" /><path clip-path=\"url(#clip110)\" d=\"M1256 675.846 L1266.12 675.846 L1266.12 663.783 L1270.67 663.783 L1270.67 675.846 L1290.02 675.846 Q1294.38 675.846 1295.63 674.669 Q1296.87 673.459 1296.87 669.799 L1296.87 663.783 L1301.77 663.783 L1301.77 669.799 Q1301.77 676.578 1299.25 679.156 Q1296.71 681.734 1290.02 681.734 L1270.67 681.734 L1270.67 686.031 L1266.12 686.031 L1266.12 681.734 L1256 681.734 L1256 675.846 Z\" fill=\"#000000\" fill-rule=\"evenodd\" fill-opacity=\"1\" /><path clip-path=\"url(#clip110)\" d=\"M1282.48 625.589 L1285.34 625.589 L1285.34 652.516 Q1291.39 652.134 1294.58 648.887 Q1297.73 645.609 1297.73 639.784 Q1297.73 636.411 1296.9 633.26 Q1296.07 630.077 1294.42 626.958 L1299.95 626.958 Q1301.29 630.109 1301.99 633.419 Q1302.69 636.729 1302.69 640.135 Q1302.69 648.665 1297.73 653.662 Q1292.76 658.627 1284.29 658.627 Q1275.54 658.627 1270.42 653.916 Q1265.26 649.174 1265.26 641.153 Q1265.26 633.96 1269.91 629.79 Q1274.52 625.589 1282.48 625.589 M1280.76 631.445 Q1275.96 631.509 1273.09 634.151 Q1270.23 636.761 1270.23 641.089 Q1270.23 645.991 1273 648.951 Q1275.76 651.879 1280.79 652.325 L1280.76 631.445 Z\" fill=\"#000000\" fill-rule=\"evenodd\" fill-opacity=\"1\" /><path clip-path=\"url(#clip110)\" d=\"M1296.42 610.311 L1315.33 610.311 L1315.33 616.2 L1266.12 616.2 L1266.12 610.311 L1271.53 610.311 Q1268.35 608.465 1266.82 605.664 Q1265.26 602.832 1265.26 598.917 Q1265.26 592.424 1270.42 588.381 Q1275.57 584.307 1283.98 584.307 Q1292.38 584.307 1297.54 588.381 Q1302.69 592.424 1302.69 598.917 Q1302.69 602.832 1301.16 605.664 Q1299.6 608.465 1296.42 610.311 M1283.98 590.387 Q1277.52 590.387 1273.85 593.06 Q1270.16 595.702 1270.16 600.349 Q1270.16 604.996 1273.85 607.669 Q1277.52 610.311 1283.98 610.311 Q1290.44 610.311 1294.13 607.669 Q1297.79 604.996 1297.79 600.349 Q1297.79 595.702 1294.13 593.06 Q1290.44 590.387 1283.98 590.387 Z\" fill=\"#000000\" fill-rule=\"evenodd\" fill-opacity=\"1\" /><path clip-path=\"url(#clip110)\" d=\"M1267.17 531.154 L1272.71 531.154 Q1271.44 533.636 1270.8 536.31 Q1270.16 538.984 1270.16 541.848 Q1270.16 546.209 1271.5 548.405 Q1272.84 550.569 1275.51 550.569 Q1277.55 550.569 1278.72 549.01 Q1279.87 547.45 1280.92 542.739 L1281.37 540.734 Q1282.7 534.496 1285.15 531.886 Q1287.57 529.244 1291.93 529.244 Q1296.9 529.244 1299.8 533.191 Q1302.69 537.106 1302.69 543.981 Q1302.69 546.845 1302.12 549.964 Q1301.58 553.052 1300.46 556.489 L1294.42 556.489 Q1296.1 553.243 1296.96 550.092 Q1297.79 546.941 1297.79 543.853 Q1297.79 539.716 1296.39 537.488 Q1294.96 535.26 1292.38 535.26 Q1289.99 535.26 1288.72 536.883 Q1287.45 538.474 1286.27 543.917 L1285.79 545.954 Q1284.64 551.397 1282.29 553.816 Q1279.9 556.235 1275.76 556.235 Q1270.74 556.235 1268 552.67 Q1265.26 549.105 1265.26 542.548 Q1265.26 539.302 1265.74 536.437 Q1266.22 533.573 1267.17 531.154 Z\" fill=\"#000000\" fill-rule=\"evenodd\" fill-opacity=\"1\" /><path clip-path=\"url(#clip110)\" d=\"M1266.12 519.918 L1266.12 514.062 L1301.77 514.062 L1301.77 519.918 L1266.12 519.918 M1252.24 519.918 L1252.24 514.062 L1259.66 514.062 L1259.66 519.918 L1252.24 519.918 Z\" fill=\"#000000\" fill-rule=\"evenodd\" fill-opacity=\"1\" /><path clip-path=\"url(#clip110)\" d=\"M1266.12 504.354 L1266.12 476.536 L1271.47 476.536 L1297.09 498.561 L1297.09 476.536 L1301.77 476.536 L1301.77 505.15 L1296.42 505.15 L1270.8 483.124 L1270.8 504.354 L1266.12 504.354 Z\" fill=\"#000000\" fill-rule=\"evenodd\" fill-opacity=\"1\" /><path clip-path=\"url(#clip110)\" d=\"M1282.48 437.1 L1285.34 437.1 L1285.34 464.027 Q1291.39 463.645 1294.58 460.399 Q1297.73 457.121 1297.73 451.296 Q1297.73 447.922 1296.9 444.771 Q1296.07 441.588 1294.42 438.469 L1299.95 438.469 Q1301.29 441.62 1301.99 444.93 Q1302.69 448.24 1302.69 451.646 Q1302.69 460.176 1297.73 465.173 Q1292.76 470.138 1284.29 470.138 Q1275.54 470.138 1270.42 465.428 Q1265.26 460.685 1265.26 452.665 Q1265.26 445.471 1269.91 441.302 Q1274.52 437.1 1282.48 437.1 M1280.76 442.957 Q1275.96 443.02 1273.09 445.662 Q1270.23 448.272 1270.23 452.601 Q1270.23 457.502 1273 460.463 Q1275.76 463.391 1280.79 463.836 L1280.76 442.957 Z\" fill=\"#000000\" fill-rule=\"evenodd\" fill-opacity=\"1\" /><path clip-path=\"url(#clip110)\" d=\"M1639.57 20.1573 L1628.47 50.2555 L1650.71 50.2555 L1639.57 20.1573 M1634.95 12.096 L1644.23 12.096 L1667.28 72.576 L1658.77 72.576 L1653.26 57.061 L1626 57.061 L1620.49 72.576 L1611.86 72.576 L1634.95 12.096 Z\" fill=\"#000000\" fill-rule=\"evenodd\" fill-opacity=\"1\" /><path clip-path=\"url(#clip110)\" d=\"M1704.18 34.0924 L1704.18 9.54393 L1711.64 9.54393 L1711.64 72.576 L1704.18 72.576 L1704.18 65.7705 Q1701.83 69.8214 1698.23 71.8063 Q1694.66 73.7508 1689.64 73.7508 Q1681.42 73.7508 1676.23 67.1883 Q1671.09 60.6258 1671.09 49.9314 Q1671.09 39.2371 1676.23 32.6746 Q1681.42 26.1121 1689.64 26.1121 Q1694.66 26.1121 1698.23 28.0971 Q1701.83 30.0415 1704.18 34.0924 M1678.78 49.9314 Q1678.78 58.1548 1682.15 62.8538 Q1685.55 67.5124 1691.46 67.5124 Q1697.38 67.5124 1700.78 62.8538 Q1704.18 58.1548 1704.18 49.9314 Q1704.18 41.7081 1700.78 37.0496 Q1697.38 32.3505 1691.46 32.3505 Q1685.55 32.3505 1682.15 37.0496 Q1678.78 41.7081 1678.78 49.9314 Z\" fill=\"#000000\" fill-rule=\"evenodd\" fill-opacity=\"1\" /><path clip-path=\"url(#clip110)\" d=\"M1747.61 49.7694 Q1738.57 49.7694 1735.09 51.8354 Q1731.61 53.9013 1731.61 58.8839 Q1731.61 62.8538 1734.2 65.2034 Q1736.83 67.5124 1741.33 67.5124 Q1747.53 67.5124 1751.25 63.1374 Q1755.02 58.7219 1755.02 51.4303 L1755.02 49.7694 L1747.61 49.7694 M1762.47 46.6907 L1762.47 72.576 L1755.02 72.576 L1755.02 65.6895 Q1752.47 69.8214 1748.66 71.8063 Q1744.85 73.7508 1739.34 73.7508 Q1732.38 73.7508 1728.24 69.8619 Q1724.15 65.9325 1724.15 59.3701 Q1724.15 51.7138 1729.26 47.825 Q1734.4 43.9361 1744.57 43.9361 L1755.02 43.9361 L1755.02 43.2069 Q1755.02 38.0623 1751.62 35.2672 Q1748.26 32.4315 1742.14 32.4315 Q1738.25 32.4315 1734.56 33.3632 Q1730.88 34.295 1727.47 36.1584 L1727.47 29.2718 Q1731.57 27.692 1735.41 26.9223 Q1739.26 26.1121 1742.91 26.1121 Q1752.75 26.1121 1757.61 31.2163 Q1762.47 36.3204 1762.47 46.6907 Z\" fill=\"#000000\" fill-rule=\"evenodd\" fill-opacity=\"1\" /><path clip-path=\"url(#clip110)\" d=\"M1785.04 65.7705 L1785.04 89.8329 L1777.54 89.8329 L1777.54 27.2059 L1785.04 27.2059 L1785.04 34.0924 Q1787.39 30.0415 1790.95 28.0971 Q1794.56 26.1121 1799.54 26.1121 Q1807.8 26.1121 1812.95 32.6746 Q1818.13 39.2371 1818.13 49.9314 Q1818.13 60.6258 1812.95 67.1883 Q1807.8 73.7508 1799.54 73.7508 Q1794.56 73.7508 1790.95 71.8063 Q1787.39 69.8214 1785.04 65.7705 M1810.4 49.9314 Q1810.4 41.7081 1806.99 37.0496 Q1803.63 32.3505 1797.72 32.3505 Q1791.8 32.3505 1788.4 37.0496 Q1785.04 41.7081 1785.04 49.9314 Q1785.04 58.1548 1788.4 62.8538 Q1791.8 67.5124 1797.72 67.5124 Q1803.63 67.5124 1806.99 62.8538 Q1810.4 58.1548 1810.4 49.9314 Z\" fill=\"#000000\" fill-rule=\"evenodd\" fill-opacity=\"1\" /><path clip-path=\"url(#clip110)\" d=\"M1837.86 14.324 L1837.86 27.2059 L1853.21 27.2059 L1853.21 32.9987 L1837.86 32.9987 L1837.86 57.6282 Q1837.86 63.1779 1839.36 64.7578 Q1840.9 66.3376 1845.56 66.3376 L1853.21 66.3376 L1853.21 72.576 L1845.56 72.576 Q1836.93 72.576 1833.65 69.3758 Q1830.37 66.1351 1830.37 57.6282 L1830.37 32.9987 L1824.9 32.9987 L1824.9 27.2059 L1830.37 27.2059 L1830.37 14.324 L1837.86 14.324 Z\" fill=\"#000000\" fill-rule=\"evenodd\" fill-opacity=\"1\" /><path clip-path=\"url(#clip110)\" d=\"M1863.02 27.2059 L1870.47 27.2059 L1870.47 72.576 L1863.02 72.576 L1863.02 27.2059 M1863.02 9.54393 L1870.47 9.54393 L1870.47 18.9825 L1863.02 18.9825 L1863.02 9.54393 Z\" fill=\"#000000\" fill-rule=\"evenodd\" fill-opacity=\"1\" /><path clip-path=\"url(#clip110)\" d=\"M1880.72 27.2059 L1888.62 27.2059 L1902.8 65.2844 L1916.98 27.2059 L1924.88 27.2059 L1907.86 72.576 L1897.73 72.576 L1880.72 27.2059 Z\" fill=\"#000000\" fill-rule=\"evenodd\" fill-opacity=\"1\" /><path clip-path=\"url(#clip110)\" d=\"M1973.97 48.0275 L1973.97 51.6733 L1939.7 51.6733 Q1940.19 59.3701 1944.32 63.421 Q1948.49 67.4314 1955.91 67.4314 Q1960.2 67.4314 1964.21 66.3781 Q1968.26 65.3249 1972.23 63.2184 L1972.23 70.267 Q1968.22 71.9684 1964.01 72.8596 Q1959.79 73.7508 1955.46 73.7508 Q1944.6 73.7508 1938.24 67.4314 Q1931.92 61.1119 1931.92 50.3365 Q1931.92 39.1965 1937.92 32.6746 Q1943.96 26.1121 1954.16 26.1121 Q1963.32 26.1121 1968.63 32.0264 Q1973.97 37.9003 1973.97 48.0275 M1966.52 45.84 Q1966.44 39.7232 1963.08 36.0774 Q1959.75 32.4315 1954.24 32.4315 Q1948.01 32.4315 1944.24 35.9558 Q1940.51 39.4801 1939.94 45.8805 L1966.52 45.84 Z\" fill=\"#000000\" fill-rule=\"evenodd\" fill-opacity=\"1\" /><path clip-path=\"url(#clip110)\" d=\"M2041.5 28.5427 L2041.5 35.5912 Q2038.34 33.9709 2034.94 33.1607 Q2031.54 32.3505 2027.89 32.3505 Q2022.34 32.3505 2019.54 34.0519 Q2016.79 35.7533 2016.79 39.156 Q2016.79 41.7486 2018.78 43.2475 Q2020.76 44.7058 2026.76 46.0426 L2029.31 46.6097 Q2037.25 48.3111 2040.57 51.4303 Q2043.93 54.509 2043.93 60.0587 Q2043.93 66.3781 2038.91 70.0644 Q2033.93 73.7508 2025.18 73.7508 Q2021.53 73.7508 2017.56 73.0216 Q2013.63 72.3329 2009.26 70.9151 L2009.26 63.2184 Q2013.39 65.3654 2017.4 66.4591 Q2021.41 67.5124 2025.34 67.5124 Q2030.6 67.5124 2033.44 65.73 Q2036.28 63.9071 2036.28 60.6258 Q2036.28 57.5877 2034.21 55.9673 Q2032.18 54.3469 2025.26 52.8481 L2022.66 52.2405 Q2015.74 50.7821 2012.66 47.7845 Q2009.58 44.7463 2009.58 39.4801 Q2009.58 33.0797 2014.12 29.5959 Q2018.65 26.1121 2027 26.1121 Q2031.13 26.1121 2034.78 26.7198 Q2038.42 27.3274 2041.5 28.5427 Z\" fill=\"#000000\" fill-rule=\"evenodd\" fill-opacity=\"1\" /><path clip-path=\"url(#clip110)\" d=\"M2063.17 14.324 L2063.17 27.2059 L2078.53 27.2059 L2078.53 32.9987 L2063.17 32.9987 L2063.17 57.6282 Q2063.17 63.1779 2064.67 64.7578 Q2066.21 66.3376 2070.87 66.3376 L2078.53 66.3376 L2078.53 72.576 L2070.87 72.576 Q2062.24 72.576 2058.96 69.3758 Q2055.68 66.1351 2055.68 57.6282 L2055.68 32.9987 L2050.21 32.9987 L2050.21 27.2059 L2055.68 27.2059 L2055.68 14.324 L2063.17 14.324 Z\" fill=\"#000000\" fill-rule=\"evenodd\" fill-opacity=\"1\" /><path clip-path=\"url(#clip110)\" d=\"M2127.14 48.0275 L2127.14 51.6733 L2092.87 51.6733 Q2093.35 59.3701 2097.48 63.421 Q2101.66 67.4314 2109.07 67.4314 Q2113.36 67.4314 2117.37 66.3781 Q2121.43 65.3249 2125.4 63.2184 L2125.4 70.267 Q2121.38 71.9684 2117.17 72.8596 Q2112.96 73.7508 2108.62 73.7508 Q2097.77 73.7508 2091.41 67.4314 Q2085.09 61.1119 2085.09 50.3365 Q2085.09 39.1965 2091.08 32.6746 Q2097.12 26.1121 2107.33 26.1121 Q2116.48 26.1121 2121.79 32.0264 Q2127.14 37.9003 2127.14 48.0275 M2119.68 45.84 Q2119.6 39.7232 2116.24 36.0774 Q2112.92 32.4315 2107.41 32.4315 Q2101.17 32.4315 2097.4 35.9558 Q2093.68 39.4801 2093.11 45.8805 L2119.68 45.84 Z\" fill=\"#000000\" fill-rule=\"evenodd\" fill-opacity=\"1\" /><path clip-path=\"url(#clip110)\" d=\"M2146.58 65.7705 L2146.58 89.8329 L2139.09 89.8329 L2139.09 27.2059 L2146.58 27.2059 L2146.58 34.0924 Q2148.93 30.0415 2152.5 28.0971 Q2156.1 26.1121 2161.08 26.1121 Q2169.35 26.1121 2174.49 32.6746 Q2179.68 39.2371 2179.68 49.9314 Q2179.68 60.6258 2174.49 67.1883 Q2169.35 73.7508 2161.08 73.7508 Q2156.1 73.7508 2152.5 71.8063 Q2148.93 69.8214 2146.58 65.7705 M2171.94 49.9314 Q2171.94 41.7081 2168.54 37.0496 Q2165.17 32.3505 2159.26 32.3505 Q2153.35 32.3505 2149.94 37.0496 Q2146.58 41.7081 2146.58 49.9314 Q2146.58 58.1548 2149.94 62.8538 Q2153.35 67.5124 2159.26 67.5124 Q2165.17 67.5124 2168.54 62.8538 Q2171.94 58.1548 2171.94 49.9314 Z\" fill=\"#000000\" fill-rule=\"evenodd\" fill-opacity=\"1\" /><path clip-path=\"url(#clip110)\" d=\"M2247.33 28.5427 L2247.33 35.5912 Q2244.17 33.9709 2240.76 33.1607 Q2237.36 32.3505 2233.72 32.3505 Q2228.17 32.3505 2225.37 34.0519 Q2222.62 35.7533 2222.62 39.156 Q2222.62 41.7486 2224.6 43.2475 Q2226.59 44.7058 2232.58 46.0426 L2235.13 46.6097 Q2243.07 48.3111 2246.4 51.4303 Q2249.76 54.509 2249.76 60.0587 Q2249.76 66.3781 2244.73 70.0644 Q2239.75 73.7508 2231 73.7508 Q2227.36 73.7508 2223.39 73.0216 Q2219.46 72.3329 2215.08 70.9151 L2215.08 63.2184 Q2219.21 65.3654 2223.22 66.4591 Q2227.23 67.5124 2231.16 67.5124 Q2236.43 67.5124 2239.27 65.73 Q2242.1 63.9071 2242.1 60.6258 Q2242.1 57.5877 2240.04 55.9673 Q2238.01 54.3469 2231.08 52.8481 L2228.49 52.2405 Q2221.56 50.7821 2218.48 47.7845 Q2215.41 44.7463 2215.41 39.4801 Q2215.41 33.0797 2219.94 29.5959 Q2224.48 26.1121 2232.83 26.1121 Q2236.96 26.1121 2240.6 26.7198 Q2244.25 27.3274 2247.33 28.5427 Z\" fill=\"#000000\" fill-rule=\"evenodd\" fill-opacity=\"1\" /><path clip-path=\"url(#clip110)\" d=\"M2261.63 27.2059 L2269.08 27.2059 L2269.08 72.576 L2261.63 72.576 L2261.63 27.2059 M2261.63 9.54393 L2269.08 9.54393 L2269.08 18.9825 L2261.63 18.9825 L2261.63 9.54393 Z\" fill=\"#000000\" fill-rule=\"evenodd\" fill-opacity=\"1\" /><path clip-path=\"url(#clip110)\" d=\"M2281.44 27.2059 L2316.84 27.2059 L2316.84 34.0114 L2288.81 66.6212 L2316.84 66.6212 L2316.84 72.576 L2280.42 72.576 L2280.42 65.7705 L2308.46 33.1607 L2281.44 33.1607 L2281.44 27.2059 Z\" fill=\"#000000\" fill-rule=\"evenodd\" fill-opacity=\"1\" /><path clip-path=\"url(#clip110)\" d=\"M2367.03 48.0275 L2367.03 51.6733 L2332.76 51.6733 Q2333.25 59.3701 2337.38 63.421 Q2341.55 67.4314 2348.96 67.4314 Q2353.26 67.4314 2357.27 66.3781 Q2361.32 65.3249 2365.29 63.2184 L2365.29 70.267 Q2361.28 71.9684 2357.07 72.8596 Q2352.85 73.7508 2348.52 73.7508 Q2337.66 73.7508 2331.3 67.4314 Q2324.98 61.1119 2324.98 50.3365 Q2324.98 39.1965 2330.98 32.6746 Q2337.01 26.1121 2347.22 26.1121 Q2356.38 26.1121 2361.68 32.0264 Q2367.03 37.9003 2367.03 48.0275 M2359.58 45.84 Q2359.5 39.7232 2356.13 36.0774 Q2352.81 32.4315 2347.3 32.4315 Q2341.07 32.4315 2337.3 35.9558 Q2333.57 39.4801 2333 45.8805 L2359.58 45.84 Z\" fill=\"#000000\" fill-rule=\"evenodd\" fill-opacity=\"1\" /><path clip-path=\"url(#clip110)\" d=\"\n",
       "M2256.87 229.207 L2396.53 229.207 L2396.53 125.527 L2256.87 125.527  Z\n",
       "  \" fill=\"#ffffff\" fill-rule=\"evenodd\" fill-opacity=\"1\"/>\n",
       "<polyline clip-path=\"url(#clip110)\" style=\"stroke:#000000; stroke-linecap:round; stroke-linejoin:round; stroke-width:4; stroke-opacity:1; fill:none\" points=\"\n",
       "  2256.87,229.207 2396.53,229.207 2396.53,125.527 2256.87,125.527 2256.87,229.207 \n",
       "  \"/>\n",
       "<polyline clip-path=\"url(#clip110)\" style=\"stroke:#009af9; stroke-linecap:round; stroke-linejoin:round; stroke-width:4; stroke-opacity:1; fill:none\" points=\"\n",
       "  2266.56,177.367 2324.72,177.367 \n",
       "  \"/>\n",
       "<path clip-path=\"url(#clip110)\" d=\"M2348.25 197.054 Q2346.45 201.684 2344.73 203.096 Q2343.02 204.508 2340.15 204.508 L2336.75 204.508 L2336.75 200.943 L2339.25 200.943 Q2341.01 200.943 2341.98 200.11 Q2342.95 199.277 2344.13 196.175 L2344.9 194.23 L2334.41 168.721 L2338.92 168.721 L2347.03 188.999 L2355.13 168.721 L2359.64 168.721 L2348.25 197.054 Z\" fill=\"#000000\" fill-rule=\"evenodd\" fill-opacity=\"1\" /><path clip-path=\"url(#clip110)\" d=\"M2366.93 190.712 L2374.57 190.712 L2374.57 164.346 L2366.26 166.013 L2366.26 161.754 L2374.53 160.087 L2379.2 160.087 L2379.2 190.712 L2386.84 190.712 L2386.84 194.647 L2366.93 194.647 L2366.93 190.712 Z\" fill=\"#000000\" fill-rule=\"evenodd\" fill-opacity=\"1\" /><path clip-path=\"url(#clip110)\" d=\"\n",
       "M2680.43 1062.08 L3552.76 1062.08 L3552.76 93.2321 L2680.43 93.2321  Z\n",
       "  \" fill=\"#ffffff\" fill-rule=\"evenodd\" fill-opacity=\"1\"/>\n",
       "<defs>\n",
       "  <clipPath id=\"clip114\">\n",
       "    <rect x=\"2680\" y=\"93\" width=\"873\" height=\"970\"/>\n",
       "  </clipPath>\n",
       "</defs>\n",
       "<polyline clip-path=\"url(#clip114)\" style=\"stroke:#000000; stroke-linecap:round; stroke-linejoin:round; stroke-width:2; stroke-opacity:0.1; fill:none\" points=\"\n",
       "  2705.12,1062.08 2705.12,93.2321 \n",
       "  \"/>\n",
       "<polyline clip-path=\"url(#clip114)\" style=\"stroke:#000000; stroke-linecap:round; stroke-linejoin:round; stroke-width:2; stroke-opacity:0.1; fill:none\" points=\"\n",
       "  2835.74,1062.08 2835.74,93.2321 \n",
       "  \"/>\n",
       "<polyline clip-path=\"url(#clip114)\" style=\"stroke:#000000; stroke-linecap:round; stroke-linejoin:round; stroke-width:2; stroke-opacity:0.1; fill:none\" points=\"\n",
       "  2966.37,1062.08 2966.37,93.2321 \n",
       "  \"/>\n",
       "<polyline clip-path=\"url(#clip114)\" style=\"stroke:#000000; stroke-linecap:round; stroke-linejoin:round; stroke-width:2; stroke-opacity:0.1; fill:none\" points=\"\n",
       "  3097,1062.08 3097,93.2321 \n",
       "  \"/>\n",
       "<polyline clip-path=\"url(#clip114)\" style=\"stroke:#000000; stroke-linecap:round; stroke-linejoin:round; stroke-width:2; stroke-opacity:0.1; fill:none\" points=\"\n",
       "  3227.63,1062.08 3227.63,93.2321 \n",
       "  \"/>\n",
       "<polyline clip-path=\"url(#clip114)\" style=\"stroke:#000000; stroke-linecap:round; stroke-linejoin:round; stroke-width:2; stroke-opacity:0.1; fill:none\" points=\"\n",
       "  3358.25,1062.08 3358.25,93.2321 \n",
       "  \"/>\n",
       "<polyline clip-path=\"url(#clip114)\" style=\"stroke:#000000; stroke-linecap:round; stroke-linejoin:round; stroke-width:2; stroke-opacity:0.1; fill:none\" points=\"\n",
       "  3488.88,1062.08 3488.88,93.2321 \n",
       "  \"/>\n",
       "<polyline clip-path=\"url(#clip110)\" style=\"stroke:#000000; stroke-linecap:round; stroke-linejoin:round; stroke-width:4; stroke-opacity:1; fill:none\" points=\"\n",
       "  2680.43,1062.08 3552.76,1062.08 \n",
       "  \"/>\n",
       "<polyline clip-path=\"url(#clip110)\" style=\"stroke:#000000; stroke-linecap:round; stroke-linejoin:round; stroke-width:4; stroke-opacity:1; fill:none\" points=\"\n",
       "  2705.12,1062.08 2705.12,1043.18 \n",
       "  \"/>\n",
       "<polyline clip-path=\"url(#clip110)\" style=\"stroke:#000000; stroke-linecap:round; stroke-linejoin:round; stroke-width:4; stroke-opacity:1; fill:none\" points=\"\n",
       "  2835.74,1062.08 2835.74,1043.18 \n",
       "  \"/>\n",
       "<polyline clip-path=\"url(#clip110)\" style=\"stroke:#000000; stroke-linecap:round; stroke-linejoin:round; stroke-width:4; stroke-opacity:1; fill:none\" points=\"\n",
       "  2966.37,1062.08 2966.37,1043.18 \n",
       "  \"/>\n",
       "<polyline clip-path=\"url(#clip110)\" style=\"stroke:#000000; stroke-linecap:round; stroke-linejoin:round; stroke-width:4; stroke-opacity:1; fill:none\" points=\"\n",
       "  3097,1062.08 3097,1043.18 \n",
       "  \"/>\n",
       "<polyline clip-path=\"url(#clip110)\" style=\"stroke:#000000; stroke-linecap:round; stroke-linejoin:round; stroke-width:4; stroke-opacity:1; fill:none\" points=\"\n",
       "  3227.63,1062.08 3227.63,1043.18 \n",
       "  \"/>\n",
       "<polyline clip-path=\"url(#clip110)\" style=\"stroke:#000000; stroke-linecap:round; stroke-linejoin:round; stroke-width:4; stroke-opacity:1; fill:none\" points=\"\n",
       "  3358.25,1062.08 3358.25,1043.18 \n",
       "  \"/>\n",
       "<polyline clip-path=\"url(#clip110)\" style=\"stroke:#000000; stroke-linecap:round; stroke-linejoin:round; stroke-width:4; stroke-opacity:1; fill:none\" points=\"\n",
       "  3488.88,1062.08 3488.88,1043.18 \n",
       "  \"/>\n",
       "<path clip-path=\"url(#clip110)\" d=\"M2705.12 1102.6 Q2701.51 1102.6 2699.68 1106.16 Q2697.87 1109.7 2697.87 1116.83 Q2697.87 1123.94 2699.68 1127.5 Q2701.51 1131.05 2705.12 1131.05 Q2708.75 1131.05 2710.56 1127.5 Q2712.39 1123.94 2712.39 1116.83 Q2712.39 1109.7 2710.56 1106.16 Q2708.75 1102.6 2705.12 1102.6 M2705.12 1098.89 Q2710.93 1098.89 2713.98 1103.5 Q2717.06 1108.08 2717.06 1116.83 Q2717.06 1125.56 2713.98 1130.17 Q2710.93 1134.75 2705.12 1134.75 Q2699.31 1134.75 2696.23 1130.17 Q2693.17 1125.56 2693.17 1116.83 Q2693.17 1108.08 2696.23 1103.5 Q2699.31 1098.89 2705.12 1098.89 Z\" fill=\"#000000\" fill-rule=\"evenodd\" fill-opacity=\"1\" /><path clip-path=\"url(#clip110)\" d=\"M2810.43 1130.14 L2818.07 1130.14 L2818.07 1103.78 L2809.76 1105.44 L2809.76 1101.18 L2818.02 1099.52 L2822.7 1099.52 L2822.7 1130.14 L2830.34 1130.14 L2830.34 1134.08 L2810.43 1134.08 L2810.43 1130.14 Z\" fill=\"#000000\" fill-rule=\"evenodd\" fill-opacity=\"1\" /><path clip-path=\"url(#clip110)\" d=\"M2849.78 1102.6 Q2846.17 1102.6 2844.34 1106.16 Q2842.54 1109.7 2842.54 1116.83 Q2842.54 1123.94 2844.34 1127.5 Q2846.17 1131.05 2849.78 1131.05 Q2853.42 1131.05 2855.22 1127.5 Q2857.05 1123.94 2857.05 1116.83 Q2857.05 1109.7 2855.22 1106.16 Q2853.42 1102.6 2849.78 1102.6 M2849.78 1098.89 Q2855.59 1098.89 2858.65 1103.5 Q2861.73 1108.08 2861.73 1116.83 Q2861.73 1125.56 2858.65 1130.17 Q2855.59 1134.75 2849.78 1134.75 Q2843.97 1134.75 2840.89 1130.17 Q2837.84 1125.56 2837.84 1116.83 Q2837.84 1108.08 2840.89 1103.5 Q2843.97 1098.89 2849.78 1098.89 Z\" fill=\"#000000\" fill-rule=\"evenodd\" fill-opacity=\"1\" /><path clip-path=\"url(#clip110)\" d=\"M2945.14 1130.14 L2961.46 1130.14 L2961.46 1134.08 L2939.52 1134.08 L2939.52 1130.14 Q2942.18 1127.39 2946.76 1122.76 Q2951.37 1118.11 2952.55 1116.76 Q2954.8 1114.24 2955.68 1112.5 Q2956.58 1110.75 2956.58 1109.06 Q2956.58 1106.3 2954.63 1104.56 Q2952.71 1102.83 2949.61 1102.83 Q2947.41 1102.83 2944.96 1103.59 Q2942.53 1104.36 2939.75 1105.91 L2939.75 1101.18 Q2942.57 1100.05 2945.03 1099.47 Q2947.48 1098.89 2949.52 1098.89 Q2954.89 1098.89 2958.08 1101.58 Q2961.28 1104.26 2961.28 1108.75 Q2961.28 1110.88 2960.47 1112.81 Q2959.68 1114.7 2957.57 1117.3 Q2957 1117.97 2953.89 1121.18 Q2950.79 1124.38 2945.14 1130.14 Z\" fill=\"#000000\" fill-rule=\"evenodd\" fill-opacity=\"1\" /><path clip-path=\"url(#clip110)\" d=\"M2981.28 1102.6 Q2977.67 1102.6 2975.84 1106.16 Q2974.03 1109.7 2974.03 1116.83 Q2974.03 1123.94 2975.84 1127.5 Q2977.67 1131.05 2981.28 1131.05 Q2984.91 1131.05 2986.72 1127.5 Q2988.55 1123.94 2988.55 1116.83 Q2988.55 1109.7 2986.72 1106.16 Q2984.91 1102.6 2981.28 1102.6 M2981.28 1098.89 Q2987.09 1098.89 2990.14 1103.5 Q2993.22 1108.08 2993.22 1116.83 Q2993.22 1125.56 2990.14 1130.17 Q2987.09 1134.75 2981.28 1134.75 Q2975.47 1134.75 2972.39 1130.17 Q2969.33 1125.56 2969.33 1116.83 Q2969.33 1108.08 2972.39 1103.5 Q2975.47 1098.89 2981.28 1098.89 Z\" fill=\"#000000\" fill-rule=\"evenodd\" fill-opacity=\"1\" /><path clip-path=\"url(#clip110)\" d=\"M3085.84 1115.44 Q3089.2 1116.16 3091.07 1118.43 Q3092.97 1120.7 3092.97 1124.03 Q3092.97 1129.15 3089.45 1131.95 Q3085.93 1134.75 3079.45 1134.75 Q3077.28 1134.75 3074.96 1134.31 Q3072.67 1133.89 3070.22 1133.04 L3070.22 1128.52 Q3072.16 1129.66 3074.48 1130.24 Q3076.79 1130.81 3079.31 1130.81 Q3083.71 1130.81 3086 1129.08 Q3088.32 1127.34 3088.32 1124.03 Q3088.32 1120.98 3086.16 1119.26 Q3084.04 1117.53 3080.22 1117.53 L3076.19 1117.53 L3076.19 1113.68 L3080.4 1113.68 Q3083.85 1113.68 3085.68 1112.32 Q3087.51 1110.93 3087.51 1108.34 Q3087.51 1105.68 3085.61 1104.26 Q3083.73 1102.83 3080.22 1102.83 Q3078.29 1102.83 3076.1 1103.25 Q3073.9 1103.66 3071.26 1104.54 L3071.26 1100.37 Q3073.92 1099.63 3076.23 1099.26 Q3078.57 1098.89 3080.63 1098.89 Q3085.96 1098.89 3089.06 1101.32 Q3092.16 1103.73 3092.16 1107.85 Q3092.16 1110.72 3090.52 1112.71 Q3088.87 1114.68 3085.84 1115.44 Z\" fill=\"#000000\" fill-rule=\"evenodd\" fill-opacity=\"1\" /><path clip-path=\"url(#clip110)\" d=\"M3111.84 1102.6 Q3108.22 1102.6 3106.4 1106.16 Q3104.59 1109.7 3104.59 1116.83 Q3104.59 1123.94 3106.4 1127.5 Q3108.22 1131.05 3111.84 1131.05 Q3115.47 1131.05 3117.28 1127.5 Q3119.1 1123.94 3119.1 1116.83 Q3119.1 1109.7 3117.28 1106.16 Q3115.47 1102.6 3111.84 1102.6 M3111.84 1098.89 Q3117.65 1098.89 3120.7 1103.5 Q3123.78 1108.08 3123.78 1116.83 Q3123.78 1125.56 3120.7 1130.17 Q3117.65 1134.75 3111.84 1134.75 Q3106.03 1134.75 3102.95 1130.17 Q3099.89 1125.56 3099.89 1116.83 Q3099.89 1108.08 3102.95 1103.5 Q3106.03 1098.89 3111.84 1098.89 Z\" fill=\"#000000\" fill-rule=\"evenodd\" fill-opacity=\"1\" /><path clip-path=\"url(#clip110)\" d=\"M3215.8 1103.59 L3203.99 1122.04 L3215.8 1122.04 L3215.8 1103.59 M3214.57 1099.52 L3220.45 1099.52 L3220.45 1122.04 L3225.38 1122.04 L3225.38 1125.93 L3220.45 1125.93 L3220.45 1134.08 L3215.8 1134.08 L3215.8 1125.93 L3200.19 1125.93 L3200.19 1121.42 L3214.57 1099.52 Z\" fill=\"#000000\" fill-rule=\"evenodd\" fill-opacity=\"1\" /><path clip-path=\"url(#clip110)\" d=\"M3243.11 1102.6 Q3239.5 1102.6 3237.67 1106.16 Q3235.87 1109.7 3235.87 1116.83 Q3235.87 1123.94 3237.67 1127.5 Q3239.5 1131.05 3243.11 1131.05 Q3246.75 1131.05 3248.55 1127.5 Q3250.38 1123.94 3250.38 1116.83 Q3250.38 1109.7 3248.55 1106.16 Q3246.75 1102.6 3243.11 1102.6 M3243.11 1098.89 Q3248.92 1098.89 3251.98 1103.5 Q3255.06 1108.08 3255.06 1116.83 Q3255.06 1125.56 3251.98 1130.17 Q3248.92 1134.75 3243.11 1134.75 Q3237.3 1134.75 3234.22 1130.17 Q3231.17 1125.56 3231.17 1116.83 Q3231.17 1108.08 3234.22 1103.5 Q3237.3 1098.89 3243.11 1098.89 Z\" fill=\"#000000\" fill-rule=\"evenodd\" fill-opacity=\"1\" /><path clip-path=\"url(#clip110)\" d=\"M3332.95 1099.52 L3351.31 1099.52 L3351.31 1103.45 L3337.23 1103.45 L3337.23 1111.93 Q3338.25 1111.58 3339.27 1111.42 Q3340.29 1111.23 3341.31 1111.23 Q3347.09 1111.23 3350.47 1114.4 Q3353.85 1117.57 3353.85 1122.99 Q3353.85 1128.57 3350.38 1131.67 Q3346.91 1134.75 3340.59 1134.75 Q3338.41 1134.75 3336.15 1134.38 Q3333.9 1134.01 3331.49 1133.27 L3331.49 1128.57 Q3333.58 1129.7 3335.8 1130.26 Q3338.02 1130.81 3340.5 1130.81 Q3344.5 1130.81 3346.84 1128.71 Q3349.18 1126.6 3349.18 1122.99 Q3349.18 1119.38 3346.84 1117.27 Q3344.5 1115.17 3340.5 1115.17 Q3338.62 1115.17 3336.75 1115.58 Q3334.9 1116 3332.95 1116.88 L3332.95 1099.52 Z\" fill=\"#000000\" fill-rule=\"evenodd\" fill-opacity=\"1\" /><path clip-path=\"url(#clip110)\" d=\"M3373.07 1102.6 Q3369.46 1102.6 3367.63 1106.16 Q3365.82 1109.7 3365.82 1116.83 Q3365.82 1123.94 3367.63 1127.5 Q3369.46 1131.05 3373.07 1131.05 Q3376.7 1131.05 3378.51 1127.5 Q3380.34 1123.94 3380.34 1116.83 Q3380.34 1109.7 3378.51 1106.16 Q3376.7 1102.6 3373.07 1102.6 M3373.07 1098.89 Q3378.88 1098.89 3381.93 1103.5 Q3385.01 1108.08 3385.01 1116.83 Q3385.01 1125.56 3381.93 1130.17 Q3378.88 1134.75 3373.07 1134.75 Q3367.26 1134.75 3364.18 1130.17 Q3361.12 1125.56 3361.12 1116.83 Q3361.12 1108.08 3364.18 1103.5 Q3367.26 1098.89 3373.07 1098.89 Z\" fill=\"#000000\" fill-rule=\"evenodd\" fill-opacity=\"1\" /><path clip-path=\"url(#clip110)\" d=\"M3474.28 1114.93 Q3471.14 1114.93 3469.28 1117.09 Q3467.46 1119.24 3467.46 1122.99 Q3467.46 1126.72 3469.28 1128.89 Q3471.14 1131.05 3474.28 1131.05 Q3477.43 1131.05 3479.26 1128.89 Q3481.11 1126.72 3481.11 1122.99 Q3481.11 1119.24 3479.26 1117.09 Q3477.43 1114.93 3474.28 1114.93 M3483.57 1100.28 L3483.57 1104.54 Q3481.81 1103.71 3480 1103.27 Q3478.22 1102.83 3476.46 1102.83 Q3471.83 1102.83 3469.38 1105.95 Q3466.95 1109.08 3466.6 1115.4 Q3467.97 1113.38 3470.03 1112.32 Q3472.09 1111.23 3474.56 1111.23 Q3479.77 1111.23 3482.78 1114.4 Q3485.81 1117.55 3485.81 1122.99 Q3485.81 1128.31 3482.66 1131.53 Q3479.52 1134.75 3474.28 1134.75 Q3468.29 1134.75 3465.12 1130.17 Q3461.95 1125.56 3461.95 1116.83 Q3461.95 1108.64 3465.84 1103.78 Q3469.72 1098.89 3476.28 1098.89 Q3478.03 1098.89 3479.82 1099.24 Q3481.62 1099.59 3483.57 1100.28 Z\" fill=\"#000000\" fill-rule=\"evenodd\" fill-opacity=\"1\" /><path clip-path=\"url(#clip110)\" d=\"M3503.87 1102.6 Q3500.26 1102.6 3498.43 1106.16 Q3496.62 1109.7 3496.62 1116.83 Q3496.62 1123.94 3498.43 1127.5 Q3500.26 1131.05 3503.87 1131.05 Q3507.5 1131.05 3509.31 1127.5 Q3511.14 1123.94 3511.14 1116.83 Q3511.14 1109.7 3509.31 1106.16 Q3507.5 1102.6 3503.87 1102.6 M3503.87 1098.89 Q3509.68 1098.89 3512.73 1103.5 Q3515.81 1108.08 3515.81 1116.83 Q3515.81 1125.56 3512.73 1130.17 Q3509.68 1134.75 3503.87 1134.75 Q3498.06 1134.75 3494.98 1130.17 Q3491.92 1125.56 3491.92 1116.83 Q3491.92 1108.08 3494.98 1103.5 Q3498.06 1098.89 3503.87 1098.89 Z\" fill=\"#000000\" fill-rule=\"evenodd\" fill-opacity=\"1\" /><path clip-path=\"url(#clip110)\" d=\"M3115.65 1179.17 L3115.65 1189.29 L3127.72 1189.29 L3127.72 1193.85 L3115.65 1193.85 L3115.65 1213.2 Q3115.65 1217.56 3116.83 1218.8 Q3118.04 1220.04 3121.7 1220.04 L3127.72 1220.04 L3127.72 1224.94 L3121.7 1224.94 Q3114.92 1224.94 3112.34 1222.43 Q3109.76 1219.88 3109.76 1213.2 L3109.76 1193.85 L3105.47 1193.85 L3105.47 1189.29 L3109.76 1189.29 L3109.76 1179.17 L3115.65 1179.17 Z\" fill=\"#000000\" fill-rule=\"evenodd\" fill-opacity=\"1\" /><polyline clip-path=\"url(#clip114)\" style=\"stroke:#000000; stroke-linecap:round; stroke-linejoin:round; stroke-width:2; stroke-opacity:0.1; fill:none\" points=\"\n",
       "  2680.43,962.578 3552.76,962.578 \n",
       "  \"/>\n",
       "<polyline clip-path=\"url(#clip114)\" style=\"stroke:#000000; stroke-linecap:round; stroke-linejoin:round; stroke-width:2; stroke-opacity:0.1; fill:none\" points=\"\n",
       "  2680.43,779.777 3552.76,779.777 \n",
       "  \"/>\n",
       "<polyline clip-path=\"url(#clip114)\" style=\"stroke:#000000; stroke-linecap:round; stroke-linejoin:round; stroke-width:2; stroke-opacity:0.1; fill:none\" points=\"\n",
       "  2680.43,596.976 3552.76,596.976 \n",
       "  \"/>\n",
       "<polyline clip-path=\"url(#clip114)\" style=\"stroke:#000000; stroke-linecap:round; stroke-linejoin:round; stroke-width:2; stroke-opacity:0.1; fill:none\" points=\"\n",
       "  2680.43,414.175 3552.76,414.175 \n",
       "  \"/>\n",
       "<polyline clip-path=\"url(#clip114)\" style=\"stroke:#000000; stroke-linecap:round; stroke-linejoin:round; stroke-width:2; stroke-opacity:0.1; fill:none\" points=\"\n",
       "  2680.43,231.373 3552.76,231.373 \n",
       "  \"/>\n",
       "<polyline clip-path=\"url(#clip110)\" style=\"stroke:#000000; stroke-linecap:round; stroke-linejoin:round; stroke-width:4; stroke-opacity:1; fill:none\" points=\"\n",
       "  2680.43,1062.08 2680.43,93.2321 \n",
       "  \"/>\n",
       "<polyline clip-path=\"url(#clip110)\" style=\"stroke:#000000; stroke-linecap:round; stroke-linejoin:round; stroke-width:4; stroke-opacity:1; fill:none\" points=\"\n",
       "  2680.43,962.578 2699.33,962.578 \n",
       "  \"/>\n",
       "<polyline clip-path=\"url(#clip110)\" style=\"stroke:#000000; stroke-linecap:round; stroke-linejoin:round; stroke-width:4; stroke-opacity:1; fill:none\" points=\"\n",
       "  2680.43,779.777 2699.33,779.777 \n",
       "  \"/>\n",
       "<polyline clip-path=\"url(#clip110)\" style=\"stroke:#000000; stroke-linecap:round; stroke-linejoin:round; stroke-width:4; stroke-opacity:1; fill:none\" points=\"\n",
       "  2680.43,596.976 2699.33,596.976 \n",
       "  \"/>\n",
       "<polyline clip-path=\"url(#clip110)\" style=\"stroke:#000000; stroke-linecap:round; stroke-linejoin:round; stroke-width:4; stroke-opacity:1; fill:none\" points=\"\n",
       "  2680.43,414.175 2699.33,414.175 \n",
       "  \"/>\n",
       "<polyline clip-path=\"url(#clip110)\" style=\"stroke:#000000; stroke-linecap:round; stroke-linejoin:round; stroke-width:4; stroke-opacity:1; fill:none\" points=\"\n",
       "  2680.43,231.373 2699.33,231.373 \n",
       "  \"/>\n",
       "<path clip-path=\"url(#clip110)\" d=\"M2560.9 945.298 L2579.25 945.298 L2579.25 949.233 L2565.18 949.233 L2565.18 957.705 Q2566.2 957.358 2567.22 957.196 Q2568.23 957.011 2569.25 957.011 Q2575.04 957.011 2578.42 960.182 Q2581.8 963.354 2581.8 968.77 Q2581.8 974.349 2578.33 977.451 Q2574.85 980.529 2568.54 980.529 Q2566.36 980.529 2564.09 980.159 Q2561.85 979.789 2559.44 979.048 L2559.44 974.349 Q2561.52 975.483 2563.74 976.039 Q2565.97 976.594 2568.44 976.594 Q2572.45 976.594 2574.79 974.488 Q2577.12 972.381 2577.12 968.77 Q2577.12 965.159 2574.79 963.053 Q2572.45 960.946 2568.44 960.946 Q2566.57 960.946 2564.69 961.363 Q2562.84 961.779 2560.9 962.659 L2560.9 945.298 Z\" fill=\"#000000\" fill-rule=\"evenodd\" fill-opacity=\"1\" /><path clip-path=\"url(#clip110)\" d=\"M2591.01 973.978 L2595.9 973.978 L2595.9 979.858 L2591.01 979.858 L2591.01 973.978 Z\" fill=\"#000000\" fill-rule=\"evenodd\" fill-opacity=\"1\" /><path clip-path=\"url(#clip110)\" d=\"M2610.11 975.923 L2626.43 975.923 L2626.43 979.858 L2604.48 979.858 L2604.48 975.923 Q2607.15 973.168 2611.73 968.539 Q2616.34 963.886 2617.52 962.543 Q2619.76 960.02 2620.64 958.284 Q2621.54 956.525 2621.54 954.835 Q2621.54 952.08 2619.6 950.344 Q2617.68 948.608 2614.58 948.608 Q2612.38 948.608 2609.92 949.372 Q2607.49 950.136 2604.72 951.687 L2604.72 946.965 Q2607.54 945.83 2609.99 945.252 Q2612.45 944.673 2614.48 944.673 Q2619.85 944.673 2623.05 947.358 Q2626.24 950.043 2626.24 954.534 Q2626.24 956.664 2625.43 958.585 Q2624.65 960.483 2622.54 963.076 Q2621.96 963.747 2618.86 966.965 Q2615.76 970.159 2610.11 975.923 Z\" fill=\"#000000\" fill-rule=\"evenodd\" fill-opacity=\"1\" /><path clip-path=\"url(#clip110)\" d=\"M2558.81 762.497 L2577.17 762.497 L2577.17 766.432 L2563.1 766.432 L2563.1 774.904 Q2564.11 774.557 2565.13 774.395 Q2566.15 774.21 2567.17 774.21 Q2572.96 774.21 2576.34 777.381 Q2579.72 780.552 2579.72 785.969 Q2579.72 791.548 2576.24 794.65 Q2572.77 797.728 2566.45 797.728 Q2564.28 797.728 2562.01 797.358 Q2559.76 796.987 2557.35 796.247 L2557.35 791.548 Q2559.44 792.682 2561.66 793.237 Q2563.88 793.793 2566.36 793.793 Q2570.36 793.793 2572.7 791.687 Q2575.04 789.58 2575.04 785.969 Q2575.04 782.358 2572.7 780.251 Q2570.36 778.145 2566.36 778.145 Q2564.48 778.145 2562.61 778.562 Q2560.76 778.978 2558.81 779.858 L2558.81 762.497 Z\" fill=\"#000000\" fill-rule=\"evenodd\" fill-opacity=\"1\" /><path clip-path=\"url(#clip110)\" d=\"M2588.93 791.177 L2593.81 791.177 L2593.81 797.057 L2588.93 797.057 L2588.93 791.177 Z\" fill=\"#000000\" fill-rule=\"evenodd\" fill-opacity=\"1\" /><path clip-path=\"url(#clip110)\" d=\"M2616.85 766.571 L2605.04 785.02 L2616.85 785.02 L2616.85 766.571 M2615.62 762.497 L2621.5 762.497 L2621.5 785.02 L2626.43 785.02 L2626.43 788.909 L2621.5 788.909 L2621.5 797.057 L2616.85 797.057 L2616.85 788.909 L2601.24 788.909 L2601.24 784.395 L2615.62 762.497 Z\" fill=\"#000000\" fill-rule=\"evenodd\" fill-opacity=\"1\" /><path clip-path=\"url(#clip110)\" d=\"M2559.14 579.696 L2577.49 579.696 L2577.49 583.631 L2563.42 583.631 L2563.42 592.103 Q2564.44 591.756 2565.46 591.594 Q2566.48 591.409 2567.49 591.409 Q2573.28 591.409 2576.66 594.58 Q2580.04 597.751 2580.04 603.168 Q2580.04 608.747 2576.57 611.848 Q2573.1 614.927 2566.78 614.927 Q2564.6 614.927 2562.33 614.557 Q2560.09 614.186 2557.68 613.446 L2557.68 608.747 Q2559.76 609.881 2561.98 610.436 Q2564.21 610.992 2566.68 610.992 Q2570.69 610.992 2573.03 608.885 Q2575.36 606.779 2575.36 603.168 Q2575.36 599.557 2573.03 597.45 Q2570.69 595.344 2566.68 595.344 Q2564.81 595.344 2562.93 595.76 Q2561.08 596.177 2559.14 597.057 L2559.14 579.696 Z\" fill=\"#000000\" fill-rule=\"evenodd\" fill-opacity=\"1\" /><path clip-path=\"url(#clip110)\" d=\"M2589.25 608.376 L2594.14 608.376 L2594.14 614.256 L2589.25 614.256 L2589.25 608.376 Z\" fill=\"#000000\" fill-rule=\"evenodd\" fill-opacity=\"1\" /><path clip-path=\"url(#clip110)\" d=\"M2614.9 595.112 Q2611.75 595.112 2609.9 597.265 Q2608.07 599.418 2608.07 603.168 Q2608.07 606.895 2609.9 609.071 Q2611.75 611.223 2614.9 611.223 Q2618.05 611.223 2619.88 609.071 Q2621.73 606.895 2621.73 603.168 Q2621.73 599.418 2619.88 597.265 Q2618.05 595.112 2614.9 595.112 M2624.18 580.46 L2624.18 584.719 Q2622.42 583.886 2620.62 583.446 Q2618.84 583.006 2617.08 583.006 Q2612.45 583.006 2609.99 586.131 Q2607.56 589.256 2607.22 595.575 Q2608.58 593.561 2610.64 592.497 Q2612.7 591.409 2615.18 591.409 Q2620.39 591.409 2623.4 594.58 Q2626.43 597.728 2626.43 603.168 Q2626.43 608.492 2623.28 611.709 Q2620.13 614.927 2614.9 614.927 Q2608.91 614.927 2605.73 610.344 Q2602.56 605.737 2602.56 597.01 Q2602.56 588.816 2606.45 583.955 Q2610.34 579.071 2616.89 579.071 Q2618.65 579.071 2620.43 579.418 Q2622.24 579.765 2624.18 580.46 Z\" fill=\"#000000\" fill-rule=\"evenodd\" fill-opacity=\"1\" /><path clip-path=\"url(#clip110)\" d=\"M2559.39 396.895 L2577.75 396.895 L2577.75 400.83 L2563.67 400.83 L2563.67 409.302 Q2564.69 408.955 2565.71 408.793 Q2566.73 408.608 2567.75 408.608 Q2573.54 408.608 2576.91 411.779 Q2580.29 414.95 2580.29 420.367 Q2580.29 425.945 2576.82 429.047 Q2573.35 432.126 2567.03 432.126 Q2564.85 432.126 2562.59 431.756 Q2560.34 431.385 2557.93 430.644 L2557.93 425.945 Q2560.02 427.08 2562.24 427.635 Q2564.46 428.191 2566.94 428.191 Q2570.94 428.191 2573.28 426.084 Q2575.62 423.978 2575.62 420.367 Q2575.62 416.756 2573.28 414.649 Q2570.94 412.543 2566.94 412.543 Q2565.06 412.543 2563.19 412.959 Q2561.34 413.376 2559.39 414.256 L2559.39 396.895 Z\" fill=\"#000000\" fill-rule=\"evenodd\" fill-opacity=\"1\" /><path clip-path=\"url(#clip110)\" d=\"M2589.51 425.575 L2594.39 425.575 L2594.39 431.455 L2589.51 431.455 L2589.51 425.575 Z\" fill=\"#000000\" fill-rule=\"evenodd\" fill-opacity=\"1\" /><path clip-path=\"url(#clip110)\" d=\"M2614.58 415.043 Q2611.24 415.043 2609.32 416.825 Q2607.42 418.607 2607.42 421.732 Q2607.42 424.857 2609.32 426.64 Q2611.24 428.422 2614.58 428.422 Q2617.91 428.422 2619.83 426.64 Q2621.75 424.834 2621.75 421.732 Q2621.75 418.607 2619.83 416.825 Q2617.93 415.043 2614.58 415.043 M2609.9 413.052 Q2606.89 412.311 2605.2 410.251 Q2603.54 408.191 2603.54 405.228 Q2603.54 401.084 2606.47 398.677 Q2609.44 396.27 2614.58 396.27 Q2619.74 396.27 2622.68 398.677 Q2625.62 401.084 2625.62 405.228 Q2625.62 408.191 2623.93 410.251 Q2622.26 412.311 2619.28 413.052 Q2622.66 413.839 2624.53 416.131 Q2626.43 418.422 2626.43 421.732 Q2626.43 426.756 2623.35 429.441 Q2620.29 432.126 2614.58 432.126 Q2608.86 432.126 2605.78 429.441 Q2602.72 426.756 2602.72 421.732 Q2602.72 418.422 2604.62 416.131 Q2606.52 413.839 2609.9 413.052 M2608.19 405.668 Q2608.19 408.353 2609.85 409.857 Q2611.54 411.362 2614.58 411.362 Q2617.59 411.362 2619.28 409.857 Q2620.99 408.353 2620.99 405.668 Q2620.99 402.983 2619.28 401.478 Q2617.59 399.973 2614.58 399.973 Q2611.54 399.973 2609.85 401.478 Q2608.19 402.983 2608.19 405.668 Z\" fill=\"#000000\" fill-rule=\"evenodd\" fill-opacity=\"1\" /><path clip-path=\"url(#clip110)\" d=\"M2569.83 229.51 Q2566.68 229.51 2564.83 231.663 Q2563 233.816 2563 237.566 Q2563 241.292 2564.83 243.468 Q2566.68 245.621 2569.83 245.621 Q2572.98 245.621 2574.81 243.468 Q2576.66 241.292 2576.66 237.566 Q2576.66 233.816 2574.81 231.663 Q2572.98 229.51 2569.83 229.51 M2579.11 214.857 L2579.11 219.117 Q2577.35 218.283 2575.55 217.843 Q2573.77 217.404 2572.01 217.404 Q2567.38 217.404 2564.92 220.529 Q2562.49 223.654 2562.15 229.973 Q2563.51 227.959 2565.57 226.894 Q2567.63 225.806 2570.11 225.806 Q2575.32 225.806 2578.33 228.978 Q2581.36 232.126 2581.36 237.566 Q2581.36 242.89 2578.21 246.107 Q2575.06 249.325 2569.83 249.325 Q2563.84 249.325 2560.66 244.741 Q2557.49 240.135 2557.49 231.408 Q2557.49 223.214 2561.38 218.353 Q2565.27 213.468 2571.82 213.468 Q2573.58 213.468 2575.36 213.816 Q2577.17 214.163 2579.11 214.857 Z\" fill=\"#000000\" fill-rule=\"evenodd\" fill-opacity=\"1\" /><path clip-path=\"url(#clip110)\" d=\"M2589.41 242.774 L2594.3 242.774 L2594.3 248.653 L2589.41 248.653 L2589.41 242.774 Z\" fill=\"#000000\" fill-rule=\"evenodd\" fill-opacity=\"1\" /><path clip-path=\"url(#clip110)\" d=\"M2614.48 217.172 Q2610.87 217.172 2609.04 220.737 Q2607.24 224.279 2607.24 231.408 Q2607.24 238.515 2609.04 242.079 Q2610.87 245.621 2614.48 245.621 Q2618.12 245.621 2619.92 242.079 Q2621.75 238.515 2621.75 231.408 Q2621.75 224.279 2619.92 220.737 Q2618.12 217.172 2614.48 217.172 M2614.48 213.468 Q2620.29 213.468 2623.35 218.075 Q2626.43 222.658 2626.43 231.408 Q2626.43 240.135 2623.35 244.741 Q2620.29 249.325 2614.48 249.325 Q2608.67 249.325 2605.6 244.741 Q2602.54 240.135 2602.54 231.408 Q2602.54 222.658 2605.6 218.075 Q2608.67 213.468 2614.48 213.468 Z\" fill=\"#000000\" fill-rule=\"evenodd\" fill-opacity=\"1\" /><path clip-path=\"url(#clip110)\" d=\"M2497.58 629.074 Q2497.32 629.074 2495.65 628.204 Q2493.94 627.335 2487.85 624.275 Q2481.73 621.216 2475.32 618.059 L2452.46 606.691 Q2451.01 605.886 2451.01 604.855 Q2451.01 603.921 2451.59 603.502 Q2452.17 603.084 2456.06 601.151 Q2457.96 600.153 2459.19 599.573 L2496.51 580.926 Q2497.32 580.604 2497.58 580.572 Q2498.22 580.572 2498.22 581.699 L2498.22 627.335 Q2498.22 629.074 2497.58 629.074 M2493.2 624.726 L2493.2 589.235 L2457.58 606.981 L2493.2 624.726 Z\" fill=\"#000000\" fill-rule=\"evenodd\" fill-opacity=\"1\" /><path clip-path=\"url(#clip110)\" d=\"M2455.16 526.604 L2466.56 527.924 Q2467.59 528.021 2467.92 528.182 Q2468.21 528.343 2468.21 528.858 Q2468.21 529.245 2467.98 529.47 Q2467.72 529.663 2467.43 529.663 Q2467.27 529.663 2466.85 529.631 Q2466.43 529.599 2466.24 529.599 Q2464.24 529.309 2462.73 529.309 Q2459.93 529.309 2458.42 530.146 Q2456.87 530.984 2456.16 533.141 Q2455.42 535.299 2455.42 539.357 L2455.42 548.633 Q2455.42 550.758 2455.81 551.273 Q2456.19 551.756 2458 552.207 L2473.87 556.169 L2473.87 549.953 Q2473.87 547.634 2473.58 546.249 Q2473.29 544.832 2472.49 543.898 Q2471.65 542.932 2470.52 542.417 Q2469.4 541.869 2467.37 541.322 Q2466.69 541.161 2466.43 541 Q2466.18 540.806 2466.18 540.388 Q2466.18 540.066 2466.4 539.84 Q2466.6 539.615 2466.89 539.615 L2482.31 543.383 Q2483.08 543.576 2483.37 543.769 Q2483.63 543.963 2483.63 544.349 Q2483.63 544.768 2483.41 544.993 Q2483.18 545.219 2482.92 545.219 Q2482.67 545.219 2482.18 545.025 Q2480.09 544.542 2478.96 544.542 Q2478.32 544.542 2478 544.607 Q2477.67 544.639 2477.22 544.929 Q2476.74 545.186 2476.51 545.766 Q2476.29 546.346 2476.13 547.441 Q2475.94 548.536 2475.94 550.178 L2475.94 556.684 L2493.94 561.193 Q2495.13 561.515 2495.45 561.515 Q2495.81 561.515 2495.93 561.354 Q2496.03 561.161 2496.1 560.645 Q2496.19 560.066 2496.19 559.196 L2496.19 549.566 Q2496.19 547.441 2496 545.734 Q2495.81 544.027 2495.32 542.61 Q2494.84 541.161 2494.29 540.066 Q2493.74 538.971 2492.75 537.94 Q2491.72 536.91 2490.81 536.201 Q2489.88 535.46 2488.3 534.591 Q2486.72 533.721 2485.44 533.109 Q2484.12 532.497 2481.99 531.563 Q2481.22 531.306 2481.22 530.694 Q2481.22 530.34 2481.41 530.146 Q2481.57 529.953 2481.73 529.921 L2481.93 529.921 Q2482.54 530.114 2482.86 530.243 L2497.09 536.298 Q2497.9 536.652 2498.06 536.942 Q2498.22 537.232 2498.22 538.359 L2498.22 572.594 Q2498.22 573.367 2498.19 573.689 Q2498.16 573.979 2498 574.204 Q2497.8 574.429 2497.42 574.429 Q2496.8 574.429 2496.55 574.172 Q2496.26 573.914 2496.22 573.624 Q2496.19 573.334 2496.19 572.594 Q2496.19 570.983 2496.1 570.017 Q2496 569.051 2495.87 568.439 Q2495.71 567.795 2495.26 567.473 Q2494.81 567.119 2494.42 566.958 Q2494 566.797 2493.07 566.571 L2458.19 557.876 Q2457 557.554 2456.61 557.554 Q2456.19 557.554 2455.94 557.843 Q2455.68 558.101 2455.58 558.81 Q2455.45 559.518 2455.45 560.098 Q2455.42 560.645 2455.42 561.837 Q2455.42 562.61 2455.39 562.932 Q2455.36 563.222 2455.19 563.447 Q2455.03 563.673 2454.68 563.673 Q2453.78 563.673 2453.58 563.286 Q2453.36 562.867 2453.36 561.708 L2453.36 528.407 Q2453.36 527.087 2453.65 526.797 Q2453.91 526.475 2455.16 526.604 Z\" fill=\"#000000\" fill-rule=\"evenodd\" fill-opacity=\"1\" /><path clip-path=\"url(#clip110)\" d=\"M2861.83 12.096 L2900.07 12.096 L2900.07 18.9825 L2870.01 18.9825 L2870.01 36.8875 L2898.82 36.8875 L2898.82 43.7741 L2870.01 43.7741 L2870.01 65.6895 L2900.8 65.6895 L2900.8 72.576 L2861.83 72.576 L2861.83 12.096 Z\" fill=\"#000000\" fill-rule=\"evenodd\" fill-opacity=\"1\" /><path clip-path=\"url(#clip110)\" d=\"M2951.64 45.1919 L2951.64 72.576 L2944.19 72.576 L2944.19 45.4349 Q2944.19 38.994 2941.67 35.7938 Q2939.16 32.5936 2934.14 32.5936 Q2928.1 32.5936 2924.62 36.4419 Q2921.14 40.2903 2921.14 46.9338 L2921.14 72.576 L2913.64 72.576 L2913.64 27.2059 L2921.14 27.2059 L2921.14 34.2544 Q2923.81 30.163 2927.41 28.1376 Q2931.06 26.1121 2935.8 26.1121 Q2943.62 26.1121 2947.63 30.9732 Q2951.64 35.7938 2951.64 45.1919 Z\" fill=\"#000000\" fill-rule=\"evenodd\" fill-opacity=\"1\" /><path clip-path=\"url(#clip110)\" d=\"M3005.31 48.0275 L3005.31 51.6733 L2971.04 51.6733 Q2971.53 59.3701 2975.66 63.421 Q2979.83 67.4314 2987.25 67.4314 Q2991.54 67.4314 2995.55 66.3781 Q2999.6 65.3249 3003.57 63.2184 L3003.57 70.267 Q2999.56 71.9684 2995.35 72.8596 Q2991.14 73.7508 2986.8 73.7508 Q2975.94 73.7508 2969.58 67.4314 Q2963.27 61.1119 2963.27 50.3365 Q2963.27 39.1965 2969.26 32.6746 Q2975.3 26.1121 2985.5 26.1121 Q2994.66 26.1121 2999.97 32.0264 Q3005.31 37.9003 3005.31 48.0275 M2997.86 45.84 Q2997.78 39.7232 2994.42 36.0774 Q2991.1 32.4315 2985.59 32.4315 Q2979.35 32.4315 2975.58 35.9558 Q2971.85 39.4801 2971.29 45.8805 L2997.86 45.84 Z\" fill=\"#000000\" fill-rule=\"evenodd\" fill-opacity=\"1\" /><path clip-path=\"url(#clip110)\" d=\"M3043.84 34.1734 Q3042.58 33.4443 3041.08 33.1202 Q3039.62 32.7556 3037.84 32.7556 Q3031.52 32.7556 3028.12 36.8875 Q3024.76 40.9789 3024.76 48.6757 L3024.76 72.576 L3017.26 72.576 L3017.26 27.2059 L3024.76 27.2059 L3024.76 34.2544 Q3027.11 30.1225 3030.88 28.1376 Q3034.64 26.1121 3040.03 26.1121 Q3040.8 26.1121 3041.73 26.2337 Q3042.66 26.3147 3043.8 26.5172 L3043.84 34.1734 Z\" fill=\"#000000\" fill-rule=\"evenodd\" fill-opacity=\"1\" /><path clip-path=\"url(#clip110)\" d=\"M3080.05 49.3643 Q3080.05 41.2625 3076.69 36.8065 Q3073.37 32.3505 3067.33 32.3505 Q3061.34 32.3505 3057.98 36.8065 Q3054.65 41.2625 3054.65 49.3643 Q3054.65 57.4256 3057.98 61.8816 Q3061.34 66.3376 3067.33 66.3376 Q3073.37 66.3376 3076.69 61.8816 Q3080.05 57.4256 3080.05 49.3643 M3087.51 66.9452 Q3087.51 78.5308 3082.36 84.1616 Q3077.22 89.8329 3066.6 89.8329 Q3062.67 89.8329 3059.19 89.2252 Q3055.71 88.6581 3052.43 87.4428 L3052.43 80.1917 Q3055.71 81.9741 3058.91 82.8248 Q3062.11 83.6755 3065.43 83.6755 Q3072.76 83.6755 3076.41 79.8271 Q3080.05 76.0193 3080.05 68.282 L3080.05 64.5957 Q3077.74 68.6061 3074.14 70.5911 Q3070.53 72.576 3065.51 72.576 Q3057.17 72.576 3052.06 66.2161 Q3046.96 59.8562 3046.96 49.3643 Q3046.96 38.832 3052.06 32.472 Q3057.17 26.1121 3065.51 26.1121 Q3070.53 26.1121 3074.14 28.0971 Q3077.74 30.082 3080.05 34.0924 L3080.05 27.2059 L3087.51 27.2059 L3087.51 66.9452 Z\" fill=\"#000000\" fill-rule=\"evenodd\" fill-opacity=\"1\" /><path clip-path=\"url(#clip110)\" d=\"M3121.74 76.7889 Q3118.58 84.8907 3115.58 87.3618 Q3112.58 89.8329 3107.56 89.8329 L3101.6 89.8329 L3101.6 83.5945 L3105.98 83.5945 Q3109.06 83.5945 3110.76 82.1361 Q3112.46 80.6778 3114.53 75.2496 L3115.86 71.8468 L3097.51 27.2059 L3105.41 27.2059 L3119.59 62.6918 L3133.77 27.2059 L3141.67 27.2059 L3121.74 76.7889 Z\" fill=\"#000000\" fill-rule=\"evenodd\" fill-opacity=\"1\" /><path clip-path=\"url(#clip110)\" d=\"M3217.14 48.0275 L3217.14 51.6733 L3182.86 51.6733 Q3183.35 59.3701 3187.48 63.421 Q3191.66 67.4314 3199.07 67.4314 Q3203.36 67.4314 3207.37 66.3781 Q3211.42 65.3249 3215.39 63.2184 L3215.39 70.267 Q3211.38 71.9684 3207.17 72.8596 Q3202.96 73.7508 3198.62 73.7508 Q3187.77 73.7508 3181.41 67.4314 Q3175.09 61.1119 3175.09 50.3365 Q3175.09 39.1965 3181.08 32.6746 Q3187.12 26.1121 3197.33 26.1121 Q3206.48 26.1121 3211.79 32.0264 Q3217.14 37.9003 3217.14 48.0275 M3209.68 45.84 Q3209.6 39.7232 3206.24 36.0774 Q3202.92 32.4315 3197.41 32.4315 Q3191.17 32.4315 3187.4 35.9558 Q3183.68 39.4801 3183.11 45.8805 L3209.68 45.84 Z\" fill=\"#000000\" fill-rule=\"evenodd\" fill-opacity=\"1\" /><path clip-path=\"url(#clip110)\" d=\"M3255.66 34.1734 Q3254.4 33.4443 3252.91 33.1202 Q3251.45 32.7556 3249.66 32.7556 Q3243.34 32.7556 3239.94 36.8875 Q3236.58 40.9789 3236.58 48.6757 L3236.58 72.576 L3229.09 72.576 L3229.09 27.2059 L3236.58 27.2059 L3236.58 34.2544 Q3238.93 30.1225 3242.7 28.1376 Q3246.46 26.1121 3251.85 26.1121 Q3252.62 26.1121 3253.55 26.2337 Q3254.48 26.3147 3255.62 26.5172 L3255.66 34.1734 Z\" fill=\"#000000\" fill-rule=\"evenodd\" fill-opacity=\"1\" /><path clip-path=\"url(#clip110)\" d=\"M3288.31 34.1734 Q3287.05 33.4443 3285.56 33.1202 Q3284.1 32.7556 3282.31 32.7556 Q3276 32.7556 3272.59 36.8875 Q3269.23 40.9789 3269.23 48.6757 L3269.23 72.576 L3261.74 72.576 L3261.74 27.2059 L3269.23 27.2059 L3269.23 34.2544 Q3271.58 30.1225 3275.35 28.1376 Q3279.11 26.1121 3284.5 26.1121 Q3285.27 26.1121 3286.2 26.2337 Q3287.14 26.3147 3288.27 26.5172 L3288.31 34.1734 Z\" fill=\"#000000\" fill-rule=\"evenodd\" fill-opacity=\"1\" /><path clip-path=\"url(#clip110)\" d=\"M3311.89 32.4315 Q3305.89 32.4315 3302.41 37.1306 Q3298.92 41.7891 3298.92 49.9314 Q3298.92 58.0738 3302.37 62.7728 Q3305.85 67.4314 3311.89 67.4314 Q3317.84 67.4314 3321.32 62.7323 Q3324.81 58.0333 3324.81 49.9314 Q3324.81 41.8701 3321.32 37.1711 Q3317.84 32.4315 3311.89 32.4315 M3311.89 26.1121 Q3321.61 26.1121 3327.16 32.4315 Q3332.71 38.7509 3332.71 49.9314 Q3332.71 61.0714 3327.16 67.4314 Q3321.61 73.7508 3311.89 73.7508 Q3302.12 73.7508 3296.57 67.4314 Q3291.06 61.0714 3291.06 49.9314 Q3291.06 38.7509 3296.57 32.4315 Q3302.12 26.1121 3311.89 26.1121 Z\" fill=\"#000000\" fill-rule=\"evenodd\" fill-opacity=\"1\" /><path clip-path=\"url(#clip110)\" d=\"M3371.35 34.1734 Q3370.1 33.4443 3368.6 33.1202 Q3367.14 32.7556 3365.36 32.7556 Q3359.04 32.7556 3355.64 36.8875 Q3352.27 40.9789 3352.27 48.6757 L3352.27 72.576 L3344.78 72.576 L3344.78 27.2059 L3352.27 27.2059 L3352.27 34.2544 Q3354.62 30.1225 3358.39 28.1376 Q3362.16 26.1121 3367.55 26.1121 Q3368.32 26.1121 3369.25 26.2337 Q3370.18 26.3147 3371.31 26.5172 L3371.35 34.1734 Z\" fill=\"#000000\" fill-rule=\"evenodd\" fill-opacity=\"1\" /></svg>\n"
      ]
     },
     "execution_count": 14,
     "metadata": {},
     "output_type": "execute_result"
    }
   ],
   "source": [
    "bodylist = [\"Body-1\", \"Body-2\", \"Body-3\"]\n",
    "pl = plot(title=\"Pythagorean problem\",xlabel=\"x\", ylabel=\"y\",aspect_ratio=1)\n",
    "\n",
    "out=similar(u0)\n",
    "ulist =[coord_bar(out,u) for u in sol.u]\n",
    "tlist = sol.t[1:end]\n",
    "\n",
    "for j = 1:3\n",
    " xlist  = map(u->u[1,j,1], ulist)\n",
    " ylist  = map(u->u[2,j,1], ulist)\n",
    " pl = plot!(xlist,ylist, label = bodylist[j])   \n",
    "end  \n",
    "\n",
    "pl2=plot(xlabel=\"t\", ylabel=\"step size\",title=\"Adaptive step size\")\n",
    "steps =sol.t[2:end]-sol.t[1:end-1]\n",
    "pl2=plot!(sol.t[2:end],steps)\n",
    "\n",
    "setprecision(BigFloat, 256)\n",
    "u0Big=BigFloat.(u0)\n",
    "GmBig=BigFloat.(Gm)\n",
    "\n",
    "E0=NbodyEnergy3REL(u0Big,GmBig)\n",
    "ΔE1 = map(x->NbodyEnergy3REL(BigFloat.(x),GmBig), sol.u)./E0.-1\n",
    "pl3=plot(title=\"Energy error\", xlabel=\"t\", ylabel=L\"\\Delta E\")\n",
    "pl3=plot!(sol.t,log10.(abs.(ΔE1)), label=\"\")\n",
    "\n",
    "plot(pl,pl2,pl3, layout=(1,3), size=(900,300))"
   ]
  },
  {
   "cell_type": "code",
   "execution_count": null,
   "id": "bdce1bb9",
   "metadata": {},
   "outputs": [],
   "source": []
  }
 ],
 "metadata": {
  "kernelspec": {
   "display_name": "Julia 1.8.4",
   "language": "julia",
   "name": "julia-1.8"
  },
  "language_info": {
   "file_extension": ".jl",
   "mimetype": "application/julia",
   "name": "julia",
   "version": "1.8.4"
  }
 },
 "nbformat": 4,
 "nbformat_minor": 5
}
