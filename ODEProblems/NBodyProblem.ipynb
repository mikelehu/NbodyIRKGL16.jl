{
 "cells": [
  {
   "cell_type": "markdown",
   "metadata": {},
   "source": [
    "# NBodyProblem"
   ]
  },
  {
   "cell_type": "markdown",
   "metadata": {},
   "source": [
    "<ul id=\"top\">\n",
    "  <li><a href=\"#Initial-values\">Initial-values</a></li>\n",
    "      <ul>\n",
    "        <li><a href=\"#N16-Body-Problem-(Initial-values)\">N16-Body</a></li>\n",
    "        <li><a href=\"#N15-Body-Problem-(Initial-values)\">N15-Body</a></li>  \n",
    "        <li><a href=\"#N11-Body-Problem-(Initial-values)\">N11-Body</a></li>\n",
    "        <li><a href=\"#N10-Body-Problem-(Initial-values)\">N10-Body</a></li>\n",
    "        <li><a href=\"#N6-Body-Problem-(Initial-values)\">N6-Body</a></li>\n",
    "      </ul>\n",
    "  <li><a href=\"#Hamiltonian-and-Momentum\">Hamiltonian and Momentum</a></li>\n",
    "  <li><a href=\"#Change-variables\">Change-variables (canonical heliocentric coordinates)</a></li>\n",
    "      <ul>\n",
    "        <li><a href=\"#N16-Body-Problem-(Change-variables)\">N16-Body</a></li>\n",
    "        <li><a href=\"#N10-Body-Problem-(Change-variables)\">N10-Body</a></li>\n",
    "      </ul>\n",
    "   <li><a href=\"#ChangeHeltoBar-(solution)\">ChangeHeltoBar (solution)</a></li>\n",
    "    <li><a href=\"#Semi-Major-Axis-And-Eccentricity\">Semi Major Axis And Eccentricity</a></li>\n",
    "</ul>"
   ]
  },
  {
   "cell_type": "code",
   "execution_count": 81,
   "metadata": {},
   "outputs": [],
   "source": [
    "using LinearAlgebra"
   ]
  },
  {
   "cell_type": "markdown",
   "metadata": {},
   "source": [
    "## Initial values"
   ]
  },
  {
   "cell_type": "markdown",
   "metadata": {},
   "source": [
    "### N16-Body Problem (Initial values)"
   ]
  },
  {
   "cell_type": "code",
   "execution_count": 82,
   "metadata": {},
   "outputs": [],
   "source": [
    "#   N16_DE430()\n",
    "#   N16_KComputation() \n",
    "#   N16_Initial_Values()"
   ]
  },
  {
   "cell_type": "code",
   "execution_count": 83,
   "metadata": {},
   "outputs": [
    {
     "data": {
      "text/plain": [
       "N16_DE430 (generic function with 1 method)"
      ]
     },
     "execution_count": 83,
     "metadata": {},
     "output_type": "execute_result"
    }
   ],
   "source": [
    "function N16_DE430()\n",
    "\"\"\"    \n",
    "    Initial values have been take from the planetary and lunar ephemeris DE430 (2014).\n",
    "    Given in the next order:\n",
    "       Sun, Mercury, Venus, Mars, Jupiter, Saturn, Uranus, Neptune, Pluto,\n",
    "       Ceres, Pallas, Vesta, Iris, Bamberga, \n",
    "       Earth + Moon, Moon\n",
    "\"\"\"    \n",
    "    #setprecision(prec);   #number of bit of sigfinicant\n",
    "    \n",
    "    nbody=16;\n",
    "    iE=nbody-1;  # Earth indice\n",
    "    iM=nbody;    # Moon  indice\n",
    "    \n",
    "    # Position\n",
    "    \n",
    "#    Table 13. Initial positions (au) and velocities (au/day) of the asteroids with respect to the Sun at\n",
    "#Julian day (TDB) 2440400.5 (June 28, 1969) in the ICRF2 frame (1 of 15).\n",
    "    \n",
    "    Sunq = [parse(BigFloat,\"0.00450250878464055477\"),\n",
    "            parse(BigFloat,\"0.00076707642709100705\"),\n",
    "            parse(BigFloat,\"0.00026605791776697764\")]\n",
    "    \n",
    "    Ceresq = Sunq + [parse(BigFloat,\"1.438681809676469747\"),\n",
    "                     parse(BigFloat,\"-2.204373633189407045\"),\n",
    "                     parse(BigFloat,\"-1.326397853361325874\")]\n",
    "    \n",
    "    Pallasq =Sunq + [parse(BigFloat,\"0.203832272462290465\"),\n",
    "                     parse(BigFloat,\"-3.209619436062307152\"),\n",
    "                     parse(BigFloat,\"0.623843179079393351\")]\n",
    "    \n",
    "    Vestaq = Sunq + [parse(BigFloat,\"0.182371836377417107\"),\n",
    "                     parse(BigFloat,\"2.386628211277654010\"),\n",
    "                     parse(BigFloat,\"0.924596062836265498\")]\n",
    "    \n",
    "    Irisq = Sunq +  [parse(BigFloat,\"1.892475267790300286\"),\n",
    "                     parse(BigFloat,\"-0.848414748075139946\"),\n",
    "                     parse(BigFloat,\"-0.157159319044464590\")]\n",
    "    \n",
    "    Bambergaq = Sunq + [parse(BigFloat,\"1.398759064223541682\"),\n",
    "                        parse(BigFloat,\"-1.287476729008325105\"),\n",
    "                        parse(BigFloat,\"-0.669098428660833799\")]\n",
    "    \n",
    "    asteroideakq = vcat(Ceresq, Pallasq, Vestaq, Irisq, Bambergaq);\n",
    "\n",
    "#Table 5. Initial positions (au) and velocities (au/day) of the Sun and planets at Julian day (TDB) 2440400.5\n",
    "#(June 28, 1969), given with respect to the integration origin in the ICRF2 frame.    \n",
    "    \n",
    "     q0= vcat(\n",
    "         [parse(BigFloat,\"0.00450250878464055477\"),\n",
    "          parse(BigFloat,\"0.00076707642709100705\"),\n",
    "          parse(BigFloat,\"0.00026605791776697764\"),\n",
    "        \n",
    "          parse(BigFloat,\"0.36176271656028195477\"),\n",
    "          parse(BigFloat,\"-0.09078197215676599295\"),\n",
    "          parse(BigFloat,\"-0.08571497256275117236\"),\n",
    "        \n",
    "          parse(BigFloat,\"0.61275194083507215477\"),\n",
    "          parse(BigFloat,\"-0.34836536903362219295\"),\n",
    "          parse(BigFloat,\"-0.19527828667594382236\"),\n",
    "        \n",
    "          parse(BigFloat,\"-0.11018607714879824523\"),\n",
    "          parse(BigFloat,\"-1.32759945030298299295\"),\n",
    "          parse(BigFloat,\"-0.60588914048429142236\"),\n",
    "        \n",
    "          parse(BigFloat,\"-5.37970676855393644523\"),\n",
    "          parse(BigFloat,\"-0.83048132656339789295\"),\n",
    "          parse(BigFloat,\"-0.22482887442656542236\"),\n",
    "        \n",
    "          parse(BigFloat,\"7.89439068290953155477\"),\n",
    "          parse(BigFloat,\"4.59647805517127300705\"),\n",
    "          parse(BigFloat,\"1.55869584283189997764\"),\n",
    "        \n",
    "          parse(BigFloat,\"-18.26540225387235944523\"),\n",
    "          parse(BigFloat,\"-1.16195541867586999295\"),\n",
    "          parse(BigFloat,\"-0.25010605772133802236\"),\n",
    "        \n",
    "          parse(BigFloat,\"-16.05503578023336944523\"),\n",
    "          parse(BigFloat,\"-23.94219155985470899295\"),\n",
    "          parse(BigFloat,\"-9.40015796880239402236\"),\n",
    "         \n",
    "          parse(BigFloat,\"-30.48331376718383944523\"),\n",
    "          parse(BigFloat,\"-0.87240555684104999295\"),\n",
    "          parse(BigFloat,\"8.91157617249954997764\")],\n",
    "          asteroideakq, \n",
    "        # EM Bary and Moon\n",
    "         [parse(BigFloat,\"0.12051741410138465477\"),\n",
    "          parse(BigFloat,\"-0.92583847476914859295\"),\n",
    "          parse(BigFloat,\"-0.40154022645315222236\"),\n",
    "        \n",
    "#Table 6. Initial position (au) and velocity (au/day) of the Moon at Julian day (TDB) 2440400.5\n",
    "#(June 28, 1969), given with respect to Earth in the ICRF2 frame.        \n",
    "        \n",
    "          parse(BigFloat,\"-0.00080817735147818490\"),\n",
    "          parse(BigFloat,\"-0.0019946299854970130\"),\n",
    "          parse(BigFloat,\"-0.00108726268307068900\")])\n",
    "\n",
    "    \n",
    "    # Velocity\n",
    "    \n",
    "    Sunv = [parse(BigFloat,\"-0.00000035174953607552\"),\n",
    "            parse(BigFloat,\"0.00000517762640983341\"),\n",
    "            parse(BigFloat,\"0.00000222910217891203\")]\n",
    "    \n",
    "    Ceresv = Sunv + [parse(BigFloat,\"0.008465406136316316\"),\n",
    "                     parse(BigFloat,\"0.004684247977335608\"),\n",
    "                     parse(BigFloat,\"0.000466157738595739\")]\n",
    "    \n",
    "    Pallasv = Sunv + [parse(BigFloat,\"0.008534313855651248\"),\n",
    "                      parse(BigFloat,\"-0.000860659210123161\"),\n",
    "                      parse(BigFloat,\"-0.000392901992572746\")]\n",
    "    \n",
    "    Vestav = Sunv + [parse(BigFloat,\"-0.010174496747119257\"),\n",
    "                     parse(BigFloat,\"0.000041478190529952\"),\n",
    "                     parse(BigFloat,\"0.001344157634155624\")]\n",
    "    \n",
    "    Irisv = Sunv + [parse(BigFloat,\"0.002786950314570632\"),\n",
    "                    parse(BigFloat,\"0.011314057384917047\"),\n",
    "                    parse(BigFloat,\"0.004975132577079665\")]\n",
    "    \n",
    "    Bambergav = Sunv + [parse(BigFloat,\"0.007164363244556328\"),\n",
    "                        parse(BigFloat,\"0.009219958777618218\"),\n",
    "                        parse(BigFloat,\"0.006857861727407507\")]\n",
    "    \n",
    "    asteroideakv = vcat(Ceresv, Pallasv, Vestav, Irisv, Bambergav)\n",
    "    \n",
    "    v0 = vcat(\n",
    "        [parse(BigFloat,\"-0.00000035174953607552\"),\n",
    "         parse(BigFloat,\"0.00000517762640983341\"),\n",
    "         parse(BigFloat,\"0.00000222910217891203\"),\n",
    "        \n",
    "         parse(BigFloat,\"0.00336749397200575848\"),\n",
    "         parse(BigFloat,\"0.02489452055768343341\"),\n",
    "         parse(BigFloat,\"0.01294630040970409203\"),\n",
    "        \n",
    "         parse(BigFloat,\"0.01095206842352823448\"),\n",
    "         parse(BigFloat,\"0.01561768426786768341\"),\n",
    "         parse(BigFloat,\"0.00633110570297786403\"),\n",
    "        \n",
    "         parse(BigFloat,\"0.01448165305704756448\"),\n",
    "         parse(BigFloat,\"0.00024246307683646861\"),\n",
    "         parse(BigFloat,\"-0.00028152072792433877\"),\n",
    "        \n",
    "         parse(BigFloat,\"0.00109201259423733748\"),\n",
    "         parse(BigFloat,\"-0.00651811661280738459\"),\n",
    "         parse(BigFloat,\"-0.00282078276229867897\"),\n",
    "        \n",
    "         parse(BigFloat,\"-0.00321755651650091552\"),\n",
    "         parse(BigFloat,\"0.00433581034174662541\"),\n",
    "         parse(BigFloat,\"0.00192864631686015503\"),\n",
    "        \n",
    "         parse(BigFloat,\"0.00022119039101561468\"),\n",
    "         parse(BigFloat,\"-0.00376247500810884459\"),\n",
    "         parse(BigFloat,\"-0.00165101502742994997\"),\n",
    "        \n",
    "         parse(BigFloat,\"0.00264276984798005548\"),\n",
    "         parse(BigFloat,\"-0.00149831255054097759\"),\n",
    "         parse(BigFloat,\"-0.00067904196080291327\"),\n",
    "        \n",
    "         parse(BigFloat,\"0.00032220737349778078\"),\n",
    "         parse(BigFloat,\"-0.00314357639364532859\"),\n",
    "         parse(BigFloat,\"-0.00107794975959731297\")],\n",
    "    \n",
    "          asteroideakv,\n",
    "    \n",
    "          #EM Bary and Moon*)\n",
    "         [parse(BigFloat,\"0.01681126830978379448\"),\n",
    "          parse(BigFloat,\"0.00174830923073434441\"),\n",
    "          parse(BigFloat,\"0.00075820289738312913\"),\n",
    "        \n",
    "          parse(BigFloat,\"0.00060108481561422370\"),\n",
    "          parse(BigFloat,\"-0.00016744546915764980\"),\n",
    "          parse(BigFloat,\"-0.00008556214140094871\")])\n",
    "    \n",
    "    # Masses\n",
    "    \n",
    "    Gm=[parse(BigFloat,\"0.295912208285591100e-3\"),\n",
    "        parse(BigFloat,\"0.491248045036476000e-10\"),\n",
    "        parse(BigFloat,\"0.724345233264412000e-9\"),\n",
    "        parse(BigFloat,\"0.954954869555077000e-10\"),\n",
    "        parse(BigFloat,\"0.282534584083387000e-6\"),\n",
    "        parse(BigFloat,\"0.845970607324503000e-7\"),\n",
    "        parse(BigFloat,\"0.129202482578296000e-7\"),\n",
    "        parse(BigFloat,\"0.152435734788511000e-7\"),\n",
    "        parse(BigFloat,\"0.217844105197418000e-11\"),\n",
    "    #Ceres, Pallas, Vesta, Iris, Bamberga\n",
    "        parse(BigFloat,\"0.140047655617234400e-12\"),\n",
    "        parse(BigFloat,\"0.310444819893871300e-13\"),\n",
    "        parse(BigFloat,\"0.385475018780881000e-13\"),\n",
    "        parse(BigFloat,\"0.213643444257140700e-14\"),\n",
    "        parse(BigFloat,\"0.138862658985619900e-14\"),\n",
    "    # Earth and Moon\n",
    "        parse(BigFloat,\"0.888769244512563400e-9\"),\n",
    "        parse(BigFloat,\"0.109318945074237400e-10\")\n",
    "];\n",
    "    return(nbody,q0,v0,Gm,iE,iM)\n",
    "    \n",
    "end"
   ]
  },
  {
   "cell_type": "code",
   "execution_count": 84,
   "metadata": {},
   "outputs": [
    {
     "data": {
      "text/plain": [
       "N16_KComputation (generic function with 1 method)"
      ]
     },
     "execution_count": 84,
     "metadata": {},
     "output_type": "execute_result"
    }
   ],
   "source": [
    "function N16_KComputation(nbody,Gm,iE,iM)\n",
    "\n",
    "    kbody=nbody-1;\n",
    "    k=Array{BigFloat}(undef,kbody) \n",
    "    \n",
    "    GmSun=Gm[1]\n",
    "    \n",
    "    for i in 1:kbody\n",
    "        k[i]=GmSun+Gm[i+1]\n",
    "    end\n",
    "    \n",
    "    k[iE-1]=GmSun+Gm[iE]+Gm[iM]\n",
    "    k[iM-1]=Gm[iE]*Gm[iE]*Gm[iE]/((Gm[iE]+Gm[iM])*(Gm[iE]+Gm[iM]))\n",
    "    \n",
    "    return(k)\n",
    "end"
   ]
  },
  {
   "cell_type": "code",
   "execution_count": 85,
   "metadata": {},
   "outputs": [
    {
     "data": {
      "text/plain": [
       "N16_Initial_Values (generic function with 2 methods)"
      ]
     },
     "execution_count": 85,
     "metadata": {},
     "output_type": "execute_result"
    }
   ],
   "source": [
    "function N16_Initial_Values()\n",
    "\n",
    "    \n",
    "    # Get positions and velocities from DE430 Ephemerides\n",
    "\n",
    "    (nbody,q0,v0,Gm,iE,iM)=N16_DE430()\n",
    "    \n",
    "    dim=3\n",
    "    \n",
    "    iE1 = (iE-1)*dim\n",
    "    iM1 = (iM-1)*dim\n",
    "    \n",
    "    # Compute Earth and Moon Cartesian Coordinates\n",
    "    \n",
    "    MM=sum(Gm)\n",
    "    \n",
    "    qB = q0[iE1+1:iE1+dim]\n",
    "    vB = v0[iE1+1:iE1+dim]\n",
    "    \n",
    "    qG = q0[iM1+1:iM1+dim]     # Moon position respect to Earth\n",
    "    vG = v0[iM1+1:iM1+dim]     # Moon velocity respect to Earth\n",
    "    \n",
    "    qE = qB - Gm[iM]*qG/(Gm[iM]+Gm[iE])\n",
    "    vE = vB - Gm[iM]*vG/(Gm[iM]+Gm[iE])\n",
    "    \n",
    "    qN = qE + qG\n",
    "    vN = vE + vG\n",
    "    \n",
    "    q0[iE1+1:iE1+dim] = qE\n",
    "    v0[iE1+1:iE1+dim] = vE\n",
    "    q0[iM1+1:iM1+dim] = qN\n",
    "    v0[iM1+1:iM1+dim] = vN\n",
    "    \n",
    "    \n",
    "    Qbarycenter=BigFloat[0.,0.,0.]\n",
    "    Vbarycenter=BigFloat[0.,0.,0.]\n",
    "    \n",
    "    for i in 1:nbody\n",
    "        i1=(i-1)*dim\n",
    "        Qbarycenter+=(Gm[i]*q0[i1+1:i1+dim])/MM \n",
    "        Vbarycenter+=(Gm[i]*v0[i1+1:i1+dim])/MM \n",
    "    end\n",
    "    \n",
    "    for i in 1:nbody\n",
    "        i1=(i-1)*dim;\n",
    "        q0[i1+1:i1+dim]-=Qbarycenter; \n",
    "        v0[i1+1:i1+dim]-=Vbarycenter[1:dim] \n",
    "    end\n",
    "       \n",
    "    # KComputation\n",
    "    \n",
    "    (k)=N16_KComputation(nbody,Gm,iE,iM)\n",
    "    \n",
    "    return(nbody,vcat(q0,v0),k,Gm,iE,iM)\n",
    "      \n",
    "    \n",
    "end\n",
    "\n",
    "        "
   ]
  },
  {
   "cell_type": "code",
   "execution_count": 86,
   "metadata": {},
   "outputs": [
    {
     "data": {
      "text/plain": [
       "N16_Initial_Values (generic function with 2 methods)"
      ]
     },
     "execution_count": 86,
     "metadata": {},
     "output_type": "execute_result"
    }
   ],
   "source": [
    "function N16_Initial_Values(u0)\n",
    "\n",
    "    \n",
    "\n",
    "    (nbody,qx,vx,Gm,iE,iM)=N16_DE430()\n",
    "        \n",
    "    dim=3\n",
    "    d::Int8 = size(u0)[1]/2    \n",
    "    \n",
    "    q0=u0[1:d]  \n",
    "    v0=u0[d+1:2*d]\n",
    "    \n",
    "    iE1 = (iE-1)*dim\n",
    "    iM1 = (iM-1)*dim\n",
    "    MM=sum(Gm)\n",
    "    \n",
    "    # Implementation\n",
    "    \n",
    "    qB = q0[iE1+1:iE1+dim]\n",
    "    vB = v0[iE1+1:iE1+dim]\n",
    "    \n",
    "    qG = q0[iM1+1:iM1+dim]     # Moon position respect to Earth\n",
    "    vG = v0[iM1+1:iM1+dim]     # Moon velocity respect to Earth\n",
    "    \n",
    "    qE = qB - Gm[iM]*qG/(Gm[iM]+Gm[iE])\n",
    "    vE = vB - Gm[iM]*vG/(Gm[iM]+Gm[iE])\n",
    "    \n",
    "    qN = qE + qG\n",
    "    vN = vE + vG    \n",
    "    \n",
    "    q0[iE1+1:iE1+dim] = qE\n",
    "    v0[iE1+1:iE1+dim] = vE\n",
    "    q0[iM1+1:iM1+dim] = qN\n",
    "    v0[iM1+1:iM1+dim] = vN\n",
    "    \n",
    "    Qbarycenter=BigFloat[0.,0.,0.]\n",
    "    Vbarycenter=BigFloat[0.,0.,0.]\n",
    "    \n",
    "    for i in 1:nbody\n",
    "        i1=(i-1)*dim\n",
    "        Qbarycenter+=(Gm[i]*q0[i1+1:i1+dim])/MM \n",
    "        Vbarycenter+=(Gm[i]*v0[i1+1:i1+dim])/MM \n",
    "    end\n",
    "    \n",
    "    for i in 1:nbody\n",
    "        i1=(i-1)*dim\n",
    "        q0[i1+1:i1+dim]-=Qbarycenter \n",
    "        v0[i1+1:i1+dim]-=Vbarycenter[1:dim] \n",
    "    end\n",
    "       \n",
    "    \n",
    "    (k)=N16_KComputation(nbody,Gm,iE,iM)\n",
    "    \n",
    "    return(nbody,vcat(q0,v0),k,Gm,iE,iM);\n",
    "      \n",
    "    \n",
    "end\n",
    "\n",
    "        "
   ]
  },
  {
   "cell_type": "markdown",
   "metadata": {},
   "source": [
    "<a href=\"#top\">Back to the top</a>\n",
    "\n",
    "\n",
    "### N15-Body Problem (Initial values)"
   ]
  },
  {
   "cell_type": "code",
   "execution_count": 87,
   "metadata": {},
   "outputs": [],
   "source": [
    "#   N15_DE430()\n",
    "#   N15_KComputation() \n",
    "#   N15_Initial_Values()\n"
   ]
  },
  {
   "cell_type": "code",
   "execution_count": 88,
   "metadata": {},
   "outputs": [
    {
     "data": {
      "text/plain": [
       "N15_DE430 (generic function with 1 method)"
      ]
     },
     "execution_count": 88,
     "metadata": {},
     "output_type": "execute_result"
    }
   ],
   "source": [
    "function N15_DE430()\n",
    "\"\"\"    \n",
    "    Initial values have been take from the planetary and lunar ephemeris DE430 (2014).\n",
    "    Given in the next order:\n",
    "       Sun, Mercury, Venus, Earth+Moon, Mars, Jupiter, Saturn, Uranus, Neptune, Pluto,\n",
    "       Ceres, Pallas, Vesta, Iris, Bamberga, \n",
    "\"\"\"    \n",
    "    #setprecision(prec);   #number of bit of sigfinicant\n",
    "    \n",
    "    nbody=15;\n",
    "\n",
    "    \n",
    "    # Position\n",
    "    \n",
    "#    Table 13. Initial positions (au) and velocities (au/day) of the asteroids with respect to the Sun at\n",
    "#Julian day (TDB) 2440400.5 (June 28, 1969) in the ICRF2 frame (1 of 15).\n",
    "    \n",
    "    Sunq = [parse(BigFloat,\"0.00450250878464055477\"),\n",
    "            parse(BigFloat,\"0.00076707642709100705\"),\n",
    "            parse(BigFloat,\"0.00026605791776697764\")]\n",
    "    \n",
    "    Ceresq = Sunq + [parse(BigFloat,\"1.438681809676469747\"),\n",
    "                     parse(BigFloat,\"-2.204373633189407045\"),\n",
    "                     parse(BigFloat,\"-1.326397853361325874\")]\n",
    "    \n",
    "    Pallasq =Sunq + [parse(BigFloat,\"0.203832272462290465\"),\n",
    "                     parse(BigFloat,\"-3.209619436062307152\"),\n",
    "                     parse(BigFloat,\"0.623843179079393351\")]\n",
    "    \n",
    "    Vestaq = Sunq + [parse(BigFloat,\"0.182371836377417107\"),\n",
    "                     parse(BigFloat,\"2.386628211277654010\"),\n",
    "                     parse(BigFloat,\"0.924596062836265498\")]\n",
    "    \n",
    "    Irisq = Sunq +  [parse(BigFloat,\"1.892475267790300286\"),\n",
    "                     parse(BigFloat,\"-0.848414748075139946\"),\n",
    "                     parse(BigFloat,\"-0.157159319044464590\")]\n",
    "    \n",
    "    Bambergaq = Sunq + [parse(BigFloat,\"1.398759064223541682\"),\n",
    "                        parse(BigFloat,\"-1.287476729008325105\"),\n",
    "                        parse(BigFloat,\"-0.669098428660833799\")]\n",
    "    \n",
    "    asteroideakq = vcat(Ceresq, Pallasq, Vestaq, Irisq, Bambergaq);\n",
    "\n",
    "#Table 5. Initial positions (au) and velocities (au/day) of the Sun and planets at Julian day (TDB) 2440400.5\n",
    "#(June 28, 1969), given with respect to the integration origin in the ICRF2 frame.    \n",
    "    \n",
    "     q0= vcat(\n",
    "         [parse(BigFloat,\"0.00450250878464055477\"),\n",
    "          parse(BigFloat,\"0.00076707642709100705\"),\n",
    "          parse(BigFloat,\"0.00026605791776697764\"),\n",
    "        \n",
    "          parse(BigFloat,\"0.36176271656028195477\"),\n",
    "          parse(BigFloat,\"-0.09078197215676599295\"),\n",
    "          parse(BigFloat,\"-0.08571497256275117236\"),\n",
    "        \n",
    "          parse(BigFloat,\"0.61275194083507215477\"),\n",
    "          parse(BigFloat,\"-0.34836536903362219295\"),\n",
    "          parse(BigFloat,\"-0.19527828667594382236\"),\n",
    "            \n",
    "          parse(BigFloat,\"0.12051741410138465477\"),    # EMB\n",
    "          parse(BigFloat,\"-0.92583847476914859295\"),\n",
    "          parse(BigFloat,\"-0.40154022645315222236\"),  \n",
    "                 \n",
    "          parse(BigFloat,\"-0.11018607714879824523\"),\n",
    "          parse(BigFloat,\"-1.32759945030298299295\"),\n",
    "          parse(BigFloat,\"-0.60588914048429142236\"),\n",
    "        \n",
    "          parse(BigFloat,\"-5.37970676855393644523\"),\n",
    "          parse(BigFloat,\"-0.83048132656339789295\"),\n",
    "          parse(BigFloat,\"-0.22482887442656542236\"),\n",
    "        \n",
    "          parse(BigFloat,\"7.89439068290953155477\"),\n",
    "          parse(BigFloat,\"4.59647805517127300705\"),\n",
    "          parse(BigFloat,\"1.55869584283189997764\"),\n",
    "        \n",
    "          parse(BigFloat,\"-18.26540225387235944523\"),\n",
    "          parse(BigFloat,\"-1.16195541867586999295\"),\n",
    "          parse(BigFloat,\"-0.25010605772133802236\"),\n",
    "        \n",
    "          parse(BigFloat,\"-16.05503578023336944523\"),\n",
    "          parse(BigFloat,\"-23.94219155985470899295\"),\n",
    "          parse(BigFloat,\"-9.40015796880239402236\"),\n",
    "         \n",
    "          parse(BigFloat,\"-30.48331376718383944523\"),\n",
    "          parse(BigFloat,\"-0.87240555684104999295\"),\n",
    "          parse(BigFloat,\"8.91157617249954997764\")],\n",
    "          asteroideakq)\n",
    "\n",
    "    \n",
    "    # Velocity\n",
    "    \n",
    "    Sunv = [parse(BigFloat,\"-0.00000035174953607552\"),\n",
    "            parse(BigFloat,\"0.00000517762640983341\"),\n",
    "            parse(BigFloat,\"0.00000222910217891203\")]\n",
    "    \n",
    "    Ceresv = Sunv + [parse(BigFloat,\"0.008465406136316316\"),\n",
    "                     parse(BigFloat,\"0.004684247977335608\"),\n",
    "                     parse(BigFloat,\"0.000466157738595739\")]\n",
    "    \n",
    "    Pallasv = Sunv + [parse(BigFloat,\"0.008534313855651248\"),\n",
    "                      parse(BigFloat,\"-0.000860659210123161\"),\n",
    "                      parse(BigFloat,\"-0.000392901992572746\")]\n",
    "    \n",
    "    Vestav = Sunv + [parse(BigFloat,\"-0.010174496747119257\"),\n",
    "                     parse(BigFloat,\"0.000041478190529952\"),\n",
    "                     parse(BigFloat,\"0.001344157634155624\")]\n",
    "    \n",
    "    Irisv = Sunv + [parse(BigFloat,\"0.002786950314570632\"),\n",
    "                    parse(BigFloat,\"0.011314057384917047\"),\n",
    "                    parse(BigFloat,\"0.004975132577079665\")]\n",
    "    \n",
    "    Bambergav = Sunv + [parse(BigFloat,\"0.007164363244556328\"),\n",
    "                        parse(BigFloat,\"0.009219958777618218\"),\n",
    "                        parse(BigFloat,\"0.006857861727407507\")]\n",
    "    \n",
    "    asteroideakv = vcat(Ceresv, Pallasv, Vestav, Irisv, Bambergav)\n",
    "    \n",
    "    v0 = vcat(\n",
    "        [parse(BigFloat,\"-0.00000035174953607552\"),\n",
    "         parse(BigFloat,\"0.00000517762640983341\"),\n",
    "         parse(BigFloat,\"0.00000222910217891203\"),\n",
    "        \n",
    "         parse(BigFloat,\"0.00336749397200575848\"),\n",
    "         parse(BigFloat,\"0.02489452055768343341\"),\n",
    "         parse(BigFloat,\"0.01294630040970409203\"),\n",
    "        \n",
    "         parse(BigFloat,\"0.01095206842352823448\"),\n",
    "         parse(BigFloat,\"0.01561768426786768341\"),\n",
    "         parse(BigFloat,\"0.00633110570297786403\"),\n",
    "            \n",
    "         parse(BigFloat,\"0.01681126830978379448\"),    # EMB\n",
    "         parse(BigFloat,\"0.00174830923073434441\"),\n",
    "         parse(BigFloat,\"0.00075820289738312913\"),   \n",
    "        \n",
    "         parse(BigFloat,\"0.01448165305704756448\"),\n",
    "         parse(BigFloat,\"0.00024246307683646861\"),\n",
    "         parse(BigFloat,\"-0.00028152072792433877\"),\n",
    "        \n",
    "         parse(BigFloat,\"0.00109201259423733748\"),\n",
    "         parse(BigFloat,\"-0.00651811661280738459\"),\n",
    "         parse(BigFloat,\"-0.00282078276229867897\"),\n",
    "        \n",
    "         parse(BigFloat,\"-0.00321755651650091552\"),\n",
    "         parse(BigFloat,\"0.00433581034174662541\"),\n",
    "         parse(BigFloat,\"0.00192864631686015503\"),\n",
    "        \n",
    "         parse(BigFloat,\"0.00022119039101561468\"),\n",
    "         parse(BigFloat,\"-0.00376247500810884459\"),\n",
    "         parse(BigFloat,\"-0.00165101502742994997\"),\n",
    "        \n",
    "         parse(BigFloat,\"0.00264276984798005548\"),\n",
    "         parse(BigFloat,\"-0.00149831255054097759\"),\n",
    "         parse(BigFloat,\"-0.00067904196080291327\"),\n",
    "        \n",
    "         parse(BigFloat,\"0.00032220737349778078\"),\n",
    "         parse(BigFloat,\"-0.00314357639364532859\"),\n",
    "         parse(BigFloat,\"-0.00107794975959731297\")],    \n",
    "         asteroideakv)\n",
    "    \n",
    "    # Masses\n",
    "    \n",
    "    Gm=[parse(BigFloat,\"0.295912208285591100e-3\"),\n",
    "        parse(BigFloat,\"0.491248045036476000e-10\"),\n",
    "        parse(BigFloat,\"0.724345233264412000e-9\"),\n",
    "        parse(BigFloat,\"0.888769244512563400e-9\")+parse(BigFloat,\"0.109318945074237400e-10\"),\n",
    "        parse(BigFloat,\"0.954954869555077000e-10\"),\n",
    "        parse(BigFloat,\"0.282534584083387000e-6\"),\n",
    "        parse(BigFloat,\"0.845970607324503000e-7\"),\n",
    "        parse(BigFloat,\"0.129202482578296000e-7\"),\n",
    "        parse(BigFloat,\"0.152435734788511000e-7\"),\n",
    "        parse(BigFloat,\"0.217844105197418000e-11\"),\n",
    "    #Ceres, Pallas, Vesta, Iris, Bamberga\n",
    "        parse(BigFloat,\"0.140047655617234400e-12\"),\n",
    "        parse(BigFloat,\"0.310444819893871300e-13\"),\n",
    "        parse(BigFloat,\"0.385475018780881000e-13\"),\n",
    "        parse(BigFloat,\"0.213643444257140700e-14\"),\n",
    "        parse(BigFloat,\"0.138862658985619900e-14\")]\n",
    "    \n",
    "    return(nbody,q0,v0,Gm)\n",
    "    \n",
    "end\n"
   ]
  },
  {
   "cell_type": "code",
   "execution_count": 89,
   "metadata": {},
   "outputs": [
    {
     "data": {
      "text/plain": [
       "N15_KComputation (generic function with 1 method)"
      ]
     },
     "execution_count": 89,
     "metadata": {},
     "output_type": "execute_result"
    }
   ],
   "source": [
    "function N15_KComputation(nbody,Gm)\n",
    "\n",
    "    kbody=nbody-1;\n",
    "    k=Array{BigFloat}(undef,kbody) \n",
    "    \n",
    "    GmSun=Gm[1]\n",
    "    \n",
    "    for i in 1:kbody\n",
    "        k[i]=GmSun+Gm[i+1]\n",
    "    end\n",
    "    \n",
    "    return(k)\n",
    "end\n",
    "\n"
   ]
  },
  {
   "cell_type": "code",
   "execution_count": 90,
   "metadata": {},
   "outputs": [
    {
     "data": {
      "text/plain": [
       "N15_Initial_Values (generic function with 1 method)"
      ]
     },
     "execution_count": 90,
     "metadata": {},
     "output_type": "execute_result"
    }
   ],
   "source": [
    "function N15_Initial_Values()\n",
    "\n",
    "    \n",
    "    # Get positions and velocities from DE430 Ephemerides\n",
    "\n",
    "    (nbody,q0,v0,Gm)=N15_DE430()  \n",
    "  \n",
    "    dim=3  \n",
    "    MM=sum(Gm)\n",
    "    \n",
    "    # BaryCenter=0\n",
    "    \n",
    "    Qbarycenter=BigFloat[0.,0.,0.]\n",
    "    Vbarycenter=BigFloat[0.,0.,0.]\n",
    "    \n",
    "    for i in 1:nbody\n",
    "        i1=(i-1)*dim\n",
    "        Qbarycenter+=(Gm[i]*q0[i1+1:i1+dim])/MM \n",
    "        Vbarycenter+=(Gm[i]*v0[i1+1:i1+dim])/MM \n",
    "    end\n",
    "    \n",
    "    for i in 1:nbody\n",
    "        i1=(i-1)*dim\n",
    "        q0[i1+1:i1+dim]-=Qbarycenter \n",
    "        v0[i1+1:i1+dim]-=Vbarycenter[1:dim]\n",
    "    end     \n",
    "    \n",
    "    (k)=N15_KComputation(nbody,Gm)\n",
    "    \n",
    "    return(nbody,vcat(q0,v0),k,Gm)\n",
    "      \n",
    "    \n",
    "end"
   ]
  },
  {
   "cell_type": "markdown",
   "metadata": {},
   "source": [
    "<a href=\"#top\">Back to the top</a>"
   ]
  },
  {
   "cell_type": "markdown",
   "metadata": {},
   "source": [
    "### N11-Body Problem (Initial values)"
   ]
  },
  {
   "cell_type": "code",
   "execution_count": 91,
   "metadata": {},
   "outputs": [],
   "source": [
    "#   N11_DE430()\n",
    "#   N11_KComputation() \n",
    "#   N11_Initial_Values()"
   ]
  },
  {
   "cell_type": "code",
   "execution_count": 92,
   "metadata": {},
   "outputs": [
    {
     "data": {
      "text/plain": [
       "N11_DE430 (generic function with 1 method)"
      ]
     },
     "execution_count": 92,
     "metadata": {},
     "output_type": "execute_result"
    }
   ],
   "source": [
    "function N11_DE430()\n",
    "\"\"\"    \n",
    "    Initial values have been take from the planetary and lunar ephemeris DE430 (2014).\n",
    "     Given in the next order:\n",
    "       Sun, Mercury, Venus, Mars, Jupiter, Saturn, Uranus, Neptune, Pluto, \n",
    "       Earth + Moon, Moon\n",
    "\"\"\"    \n",
    "    #setprecision(prec);   #number of bit of sigfinicant\n",
    "    \n",
    "    nbody=11\n",
    "    iE=nbody-1  # Earth indice\n",
    "    iM=nbody    # Moon  indice\n",
    "    \n",
    "    # Position\n",
    "    \n",
    "    Sunq = [parse(BigFloat,\"0.00450250878464055477\"),\n",
    "            parse(BigFloat,\"0.00076707642709100705\"),\n",
    "            parse(BigFloat,\"0.00026605791776697764\")]\n",
    "        \n",
    "     q0= vcat(\n",
    "         [parse(BigFloat,\"0.00450250878464055477\"),\n",
    "          parse(BigFloat,\"0.00076707642709100705\"),\n",
    "          parse(BigFloat,\"0.00026605791776697764\"),\n",
    "        \n",
    "          parse(BigFloat,\"0.36176271656028195477\"),\n",
    "          parse(BigFloat,\"-0.09078197215676599295\"),\n",
    "          parse(BigFloat,\"-0.08571497256275117236\"),\n",
    "        \n",
    "          parse(BigFloat,\"0.61275194083507215477\"),\n",
    "          parse(BigFloat,\"-0.34836536903362219295\"),\n",
    "          parse(BigFloat,\"-0.19527828667594382236\"),\n",
    "        \n",
    "          parse(BigFloat,\"-0.11018607714879824523\"),\n",
    "          parse(BigFloat,\"-1.32759945030298299295\"),\n",
    "          parse(BigFloat,\"-0.60588914048429142236\"),\n",
    "        \n",
    "          parse(BigFloat,\"-5.37970676855393644523\"),\n",
    "          parse(BigFloat,\"-0.83048132656339789295\"),\n",
    "          parse(BigFloat,\"-0.22482887442656542236\"),\n",
    "        \n",
    "          parse(BigFloat,\"7.89439068290953155477\"),\n",
    "          parse(BigFloat,\"4.59647805517127300705\"),\n",
    "          parse(BigFloat,\"1.55869584283189997764\"),\n",
    "        \n",
    "          parse(BigFloat,\"-18.26540225387235944523\"),\n",
    "          parse(BigFloat,\"-1.16195541867586999295\"),\n",
    "          parse(BigFloat,\"-0.25010605772133802236\"),\n",
    "        \n",
    "          parse(BigFloat,\"-16.05503578023336944523\"),\n",
    "          parse(BigFloat,\"-23.94219155985470899295\"),\n",
    "          parse(BigFloat,\"-9.40015796880239402236\"),\n",
    "        \n",
    "          parse(BigFloat,\"-30.48331376718383944523\"),\n",
    "          parse(BigFloat,\"-0.87240555684104999295\"),\n",
    "          parse(BigFloat,\"8.91157617249954997764\")],\n",
    "    \n",
    "        # EM Bary and Moon\n",
    "         [parse(BigFloat,\"0.12051741410138465477\"),\n",
    "          parse(BigFloat,\"-0.92583847476914859295\"),\n",
    "          parse(BigFloat,\"-0.40154022645315222236\"),\n",
    "          parse(BigFloat,\"-0.00080817735147818490\"),\n",
    "          parse(BigFloat,\"-0.0019946299854970130\"),\n",
    "          parse(BigFloat,\"-0.00108726268307068900\")])\n",
    "\n",
    "    \n",
    "    # Velocity\n",
    "    \n",
    "    Sunv = [parse(BigFloat,\"-0.00000035174953607552\"),\n",
    "            parse(BigFloat,\"0.00000517762640983341\"),\n",
    "            parse(BigFloat,\"0.00000222910217891203\")]   \n",
    "    \n",
    "    v0 = vcat(\n",
    "        [parse(BigFloat,\"-0.00000035174953607552\"),\n",
    "         parse(BigFloat,\"0.00000517762640983341\"),\n",
    "         parse(BigFloat,\"0.00000222910217891203\"),\n",
    "        \n",
    "         parse(BigFloat,\"0.00336749397200575848\"),\n",
    "         parse(BigFloat,\"0.02489452055768343341\"),\n",
    "         parse(BigFloat,\"0.01294630040970409203\"),\n",
    "        \n",
    "         parse(BigFloat,\"0.01095206842352823448\"),\n",
    "         parse(BigFloat,\"0.01561768426786768341\"),\n",
    "         parse(BigFloat,\"0.00633110570297786403\"),\n",
    "        \n",
    "         parse(BigFloat,\"0.01448165305704756448\"),\n",
    "         parse(BigFloat,\"0.00024246307683646861\"),\n",
    "         parse(BigFloat,\"-0.00028152072792433877\"),\n",
    "        \n",
    "         parse(BigFloat,\"0.00109201259423733748\"),\n",
    "         parse(BigFloat,\"-0.00651811661280738459\"),\n",
    "         parse(BigFloat,\"-0.00282078276229867897\"),\n",
    "\n",
    "         parse(BigFloat,\"-0.00321755651650091552\"),\n",
    "         parse(BigFloat,\"0.00433581034174662541\"),\n",
    "         parse(BigFloat,\"0.00192864631686015503\"),\n",
    "        \n",
    "         parse(BigFloat,\"0.00022119039101561468\"),\n",
    "         parse(BigFloat,\"-0.00376247500810884459\"),\n",
    "         parse(BigFloat,\"-0.00165101502742994997\"),\n",
    "        \n",
    "         parse(BigFloat,\"0.00264276984798005548\"),\n",
    "         parse(BigFloat,\"-0.00149831255054097759\"),\n",
    "         parse(BigFloat,\"-0.00067904196080291327\"),\n",
    "        \n",
    "         parse(BigFloat,\"0.00032220737349778078\"),\n",
    "         parse(BigFloat,\"-0.00314357639364532859\"),\n",
    "         parse(BigFloat,\"-0.00107794975959731297\")],\n",
    "    \n",
    "          #EM Bary and Moon*)\n",
    "         [parse(BigFloat,\"0.01681126830978379448\"),\n",
    "          parse(BigFloat,\"0.00174830923073434441\"),\n",
    "          parse(BigFloat,\"0.00075820289738312913\"),\n",
    "        \n",
    "          parse(BigFloat,\"0.00060108481561422370\"),\n",
    "          parse(BigFloat,\"-0.00016744546915764980\"),\n",
    "          parse(BigFloat,\"-0.00008556214140094871\")])\n",
    "    \n",
    "    # Masses\n",
    "    \n",
    "    Gm=[parse(BigFloat,\"0.295912208285591100e-3\"),\n",
    "        parse(BigFloat,\"0.491248045036476000e-10\"),\n",
    "        parse(BigFloat,\"0.724345233264412000e-9\"),\n",
    "        parse(BigFloat,\"0.954954869555077000e-10\"),\n",
    "        parse(BigFloat,\"0.282534584083387000e-6\"),\n",
    "        parse(BigFloat,\"0.845970607324503000e-7\"),\n",
    "        parse(BigFloat,\"0.129202482578296000e-7\"),\n",
    "        parse(BigFloat,\"0.152435734788511000e-7\"),\n",
    "        parse(BigFloat,\"0.217844105197418000e-11\"),\n",
    "    # Earth and Moon\n",
    "        parse(BigFloat,\"0.888769244512563400e-9\"),\n",
    "        parse(BigFloat,\"0.109318945074237400e-10\")]\n",
    "    \n",
    "    return(nbody,q0,v0,Gm,iE,iM)\n",
    "    \n",
    "end"
   ]
  },
  {
   "cell_type": "code",
   "execution_count": 93,
   "metadata": {},
   "outputs": [
    {
     "data": {
      "text/plain": [
       "N11_KComputation (generic function with 1 method)"
      ]
     },
     "execution_count": 93,
     "metadata": {},
     "output_type": "execute_result"
    }
   ],
   "source": [
    "function N11_KComputation(nbody,Gm,iE,iM)\n",
    "\n",
    "    return(N16_KComputation(nbody,Gm,iE,iM))\n",
    "    \n",
    "end"
   ]
  },
  {
   "cell_type": "code",
   "execution_count": 94,
   "metadata": {},
   "outputs": [
    {
     "data": {
      "text/plain": [
       "N11_Initial_Values (generic function with 1 method)"
      ]
     },
     "execution_count": 94,
     "metadata": {},
     "output_type": "execute_result"
    }
   ],
   "source": [
    "function N11_Initial_Values()\n",
    "\n",
    "    \n",
    "    # Get positions and velocities from DE430 Ephemerides\n",
    "\n",
    "    (nbody,q0,v0,Gm,iE,iM)=N11_DE430()  \n",
    "  \n",
    "    # Compute Earth and Moon Cartesian Coordinates\n",
    "    \n",
    "    dim=3  \n",
    "    iE1 = (iE-1)*dim\n",
    "    iM1 = (iM-1)*dim\n",
    "    MM=sum(Gm)\n",
    "     \n",
    "    qB = q0[iE1+1:iE1+dim]\n",
    "    vB = v0[iE1+1:iE1+dim]\n",
    "    \n",
    "    qG = q0[iM1+1:iM1+dim]     # Moon position respect to Earth\n",
    "    vG = v0[iM1+1:iM1+dim]     # Moon velocity respect to Earth\n",
    "    \n",
    "    qE = qB - Gm[iM]*qG/(Gm[iM]+Gm[iE])\n",
    "    vE = vB - Gm[iM]*vG/(Gm[iM]+Gm[iE])\n",
    "    \n",
    "    qN = qE + qG\n",
    "    vN = vE + vG\n",
    "    \n",
    "    q0[iE1+1:iE1+dim] = qE\n",
    "    v0[iE1+1:iE1+dim] = vE\n",
    "    q0[iM1+1:iM1+dim] = qN\n",
    "    v0[iM1+1:iM1+dim] = vN\n",
    "    \n",
    "    Qbarycenter=BigFloat[0.,0.,0.]\n",
    "    Vbarycenter=BigFloat[0.,0.,0.]\n",
    "    \n",
    "    for i in 1:nbody\n",
    "        i1=(i-1)*dim\n",
    "        Qbarycenter+=(Gm[i]*q0[i1+1:i1+dim])/MM \n",
    "        Vbarycenter+=(Gm[i]*v0[i1+1:i1+dim])/MM \n",
    "    end\n",
    "    \n",
    "    for i in 1:nbody\n",
    "        i1=(i-1)*dim\n",
    "        q0[i1+1:i1+dim]-=Qbarycenter \n",
    "        v0[i1+1:i1+dim]-=Vbarycenter[1:dim]\n",
    "    end     \n",
    "    \n",
    "    (k)=N11_KComputation(nbody,Gm,iE,iM)\n",
    "    \n",
    "    return(nbody,vcat(q0,v0),k,Gm,iE,iM)\n",
    "      \n",
    "    \n",
    "end\n"
   ]
  },
  {
   "cell_type": "markdown",
   "metadata": {},
   "source": [
    "<a href=\"#top\">Back to the top</a>"
   ]
  },
  {
   "cell_type": "markdown",
   "metadata": {},
   "source": [
    "### N10-Body Problem (Initial values)"
   ]
  },
  {
   "cell_type": "code",
   "execution_count": 95,
   "metadata": {},
   "outputs": [],
   "source": [
    "#   N10_DE430()\n",
    "#   N10_KComputation() \n",
    "#   N10_Initial_Values()"
   ]
  },
  {
   "cell_type": "code",
   "execution_count": 96,
   "metadata": {},
   "outputs": [
    {
     "data": {
      "text/plain": [
       "N10_DE430 (generic function with 1 method)"
      ]
     },
     "execution_count": 96,
     "metadata": {},
     "output_type": "execute_result"
    }
   ],
   "source": [
    "function N10_DE430()   \n",
    "\"\"\"    \n",
    "     Initial Value from DE430\n",
    "     Given in the next order:\n",
    "       Sun,Mercury,Venus,Earth+Moon,Mars,Jupiter,Saturn,Uranus,Neptune,Pluto\n",
    "\"\"\"\n",
    "    \n",
    "    nbody=10    \n",
    "     \n",
    "    # Position   \n",
    "    \n",
    "     q0= [parse(BigFloat,\"0.00450250878464055477\"),\n",
    "          parse(BigFloat,\"0.00076707642709100705\"),\n",
    "          parse(BigFloat,\"0.00026605791776697764\"),\n",
    "        \n",
    "          parse(BigFloat,\"0.36176271656028195477\"),\n",
    "          parse(BigFloat,\"-0.09078197215676599295\"),\n",
    "          parse(BigFloat,\"-0.08571497256275117236\"),\n",
    "        \n",
    "          parse(BigFloat,\"0.61275194083507215477\"),\n",
    "          parse(BigFloat,\"-0.34836536903362219295\"),\n",
    "          parse(BigFloat,\"-0.19527828667594382236\"),\n",
    "        \n",
    "          parse(BigFloat,\"0.12051741410138465477\"),\n",
    "          parse(BigFloat,\"-0.92583847476914859295\"),\n",
    "          parse(BigFloat,\"-0.40154022645315222236\"),\n",
    "        \n",
    "          parse(BigFloat,\"-0.11018607714879824523\"),\n",
    "          parse(BigFloat,\"-1.32759945030298299295\"),\n",
    "          parse(BigFloat,\"-0.60588914048429142236\"),\n",
    "        \n",
    "          parse(BigFloat,\"-5.37970676855393644523\"),\n",
    "          parse(BigFloat,\"-0.83048132656339789295\"),\n",
    "          parse(BigFloat,\"-0.22482887442656542236\"),\n",
    "        \n",
    "          parse(BigFloat,\"7.89439068290953155477\"),\n",
    "          parse(BigFloat,\"4.59647805517127300705\"),\n",
    "          parse(BigFloat,\"1.55869584283189997764\"),\n",
    "         \n",
    "          parse(BigFloat,\"-18.26540225387235944523\"),\n",
    "          parse(BigFloat,\"-1.16195541867586999295\"),\n",
    "          parse(BigFloat,\"-0.25010605772133802236\"),\n",
    "        \n",
    "          parse(BigFloat,\"-16.05503578023336944523\"),\n",
    "          parse(BigFloat,\"-23.94219155985470899295\"),\n",
    "          parse(BigFloat,\"-9.40015796880239402236\"),\n",
    "        \n",
    "          parse(BigFloat,\"-30.48331376718383944523\"),\n",
    "          parse(BigFloat,\"-0.87240555684104999295\"),\n",
    "          parse(BigFloat,\"8.91157617249954997764\")]\n",
    "\n",
    "    \n",
    "    # Velocity\n",
    "\n",
    "   v0 = [parse(BigFloat,\"-0.00000035174953607552\"),\n",
    "         parse(BigFloat,\"0.00000517762640983341\"),\n",
    "         parse(BigFloat,\"0.00000222910217891203\"),\n",
    "        \n",
    "         parse(BigFloat,\"0.00336749397200575848\"),\n",
    "         parse(BigFloat,\"0.02489452055768343341\"),\n",
    "         parse(BigFloat,\"0.01294630040970409203\"), \n",
    "        \n",
    "         parse(BigFloat,\"0.01095206842352823448\"),\n",
    "         parse(BigFloat,\"0.01561768426786768341\"),\n",
    "         parse(BigFloat,\"0.00633110570297786403\"),\n",
    "        \n",
    "         parse(BigFloat,\"0.01681126830978379448\"),\n",
    "         parse(BigFloat,\"0.00174830923073434441\"),\n",
    "         parse(BigFloat,\"0.00075820289738312913\"),\n",
    "        \n",
    "         parse(BigFloat,\"0.01448165305704756448\"),\n",
    "         parse(BigFloat,\"0.00024246307683646861\"),\n",
    "         parse(BigFloat,\"-0.00028152072792433877\"),\n",
    "        \n",
    "         parse(BigFloat,\"0.00109201259423733748\"),\n",
    "         parse(BigFloat,\"-0.00651811661280738459\"),\n",
    "         parse(BigFloat,\"-0.00282078276229867897\"),\n",
    "        \n",
    "         parse(BigFloat,\"-0.00321755651650091552\"),\n",
    "         parse(BigFloat,\"0.00433581034174662541\"),\n",
    "         parse(BigFloat,\"0.00192864631686015503\"),\n",
    "        \n",
    "         parse(BigFloat,\"0.00022119039101561468\"),\n",
    "         parse(BigFloat,\"-0.00376247500810884459\"),\n",
    "         parse(BigFloat,\"-0.00165101502742994997\"),\n",
    "        \n",
    "         parse(BigFloat,\"0.00264276984798005548\"),\n",
    "         parse(BigFloat,\"-0.00149831255054097759\"),\n",
    "         parse(BigFloat,\"-0.00067904196080291327\"),\n",
    "        \n",
    "         parse(BigFloat,\"0.00032220737349778078\"),\n",
    "         parse(BigFloat,\"-0.00314357639364532859\"),\n",
    "         parse(BigFloat,\"-0.00107794975959731297\")]\n",
    "    \n",
    "    # Masses\n",
    "      \n",
    "    Gm=[parse(BigFloat,\"0.295912208285591100e-3\"),\n",
    "        parse(BigFloat,\"0.491248045036476000e-10\"),\n",
    "        parse(BigFloat,\"0.724345233264412000e-9\"),\n",
    "        parse(BigFloat,\"0.888769244512563400e-9\")+parse(BigFloat,\"0.109318945074237400e-10\"),\n",
    "        parse(BigFloat,\"0.954954869555077000e-10\"),\n",
    "        parse(BigFloat,\"0.282534584083387000e-6\"),\n",
    "        parse(BigFloat,\"0.845970607324503000e-7\"),\n",
    "        parse(BigFloat,\"0.129202482578296000e-7\"),\n",
    "        parse(BigFloat,\"0.152435734788511000e-7\"),\n",
    "        parse(BigFloat,\"0.217844105197418000e-11\")]\n",
    "    \n",
    "    return(nbody,q0,v0,Gm);\n",
    "    \n",
    "end"
   ]
  },
  {
   "cell_type": "code",
   "execution_count": 97,
   "metadata": {},
   "outputs": [
    {
     "data": {
      "text/plain": [
       "N10_KComputation (generic function with 1 method)"
      ]
     },
     "execution_count": 97,
     "metadata": {},
     "output_type": "execute_result"
    }
   ],
   "source": [
    "function N10_KComputation(nbody,Gm)\n",
    "\n",
    "    kbody=nbody-1;\n",
    "    k=Array{BigFloat}(undef,kbody)\n",
    "    \n",
    "    GmSun=Gm[1]\n",
    "    \n",
    "    for i in 1:kbody\n",
    "        k[i]=GmSun+Gm[i+1]\n",
    "    end\n",
    "    \n",
    "    return(k)\n",
    "end"
   ]
  },
  {
   "cell_type": "code",
   "execution_count": 98,
   "metadata": {},
   "outputs": [
    {
     "data": {
      "text/plain": [
       "N10_Initial_Values (generic function with 1 method)"
      ]
     },
     "execution_count": 98,
     "metadata": {},
     "output_type": "execute_result"
    }
   ],
   "source": [
    "function N10_Initial_Values()    \n",
    "\n",
    "    # Get positions and velocities from DE430 Ephemerides\n",
    "    \n",
    "    (nbody,q0,v0,Gm)=N10_DE430()\n",
    "    \n",
    "    dim=3    \n",
    "    MM=sum(Gm)\n",
    "    \n",
    "    # BaryCenter=0\n",
    "             \n",
    "    Qbarycenter=BigFloat[0.,0.,0.]\n",
    "    Vbarycenter=BigFloat[0.,0.,0.]\n",
    "    \n",
    "    for i in 1:nbody\n",
    "        i1=(i-1)*dim\n",
    "        Qbarycenter+=(Gm[i]*q0[i1+1:i1+dim])/MM \n",
    "        Vbarycenter+=(Gm[i]*v0[i1+1:i1+dim])/MM \n",
    "    end\n",
    "    \n",
    "    for i in 1:nbody\n",
    "        i1=(i-1)*dim\n",
    "        q0[i1+1:i1+dim]-=Qbarycenter \n",
    "        v0[i1+1:i1+dim]-=Vbarycenter[1:dim] \n",
    "    end\n",
    "       \n",
    "    k=N10_KComputation(nbody,Gm)        \n",
    "    return(nbody,vcat(q0,v0),k,Gm)      \n",
    "    \n",
    "end        "
   ]
  },
  {
   "cell_type": "markdown",
   "metadata": {},
   "source": [
    "### N6-Body Problem (Initial values)"
   ]
  },
  {
   "cell_type": "code",
   "execution_count": 99,
   "metadata": {},
   "outputs": [],
   "source": [
    "#   N6_DE430()\n",
    "#   N6_KComputation() \n",
    "#   N6_Initial_Values()"
   ]
  },
  {
   "cell_type": "code",
   "execution_count": 100,
   "metadata": {},
   "outputs": [
    {
     "data": {
      "text/plain": [
       "N6_DE430 (generic function with 1 method)"
      ]
     },
     "execution_count": 100,
     "metadata": {},
     "output_type": "execute_result"
    }
   ],
   "source": [
    "function N6_DE430()   \n",
    "\"\"\"    \n",
    "    Initial Value from \"Geometric Numerical Integration (Hairer, Wanner,...), pag.14)\n",
    "    Given in the next order:\n",
    "    Sun,Jupiter,Saturn,Uranus,Neptune,Pluto\n",
    "\"\"\"\n",
    "    #setprecision(prec);   #number of bit of sigfinicant\n",
    "    \n",
    "    nbody=6;\n",
    "    \n",
    "     \n",
    "    # Position   \n",
    "    \n",
    "   q0= [parse(BigFloat,\"0.0\"),parse(BigFloat,\"0.0\"),parse(BigFloat,\"0.0\"),\n",
    "        parse(BigFloat,\"-3.5023653\"),parse(BigFloat,\"-3.8169847\"),parse(BigFloat,\"-1.5507963\"),\n",
    "        parse(BigFloat,\"9.0755314\"),parse(BigFloat,\"-3.0458353\"), parse(BigFloat,\"-1.6483708\"),        \n",
    "        parse(BigFloat,\"8.3101420\"),parse(BigFloat,\"-16.2901086\"),parse(BigFloat,\"-7.2521278\"),        \n",
    "        parse(BigFloat,\"11.4707666\"),parse(BigFloat,\"-25.7294829\"),parse(BigFloat,\"-10.8169456\"),\n",
    "        parse(BigFloat,\"-15.5387357\"),parse(BigFloat,\"-25.2225594\"),parse(BigFloat,\"-3.1902382\")]\n",
    "        \n",
    "        \n",
    "    # Velocity\n",
    "\n",
    "  v0 = [parse(BigFloat,\"0.0\"),parse(BigFloat,\"0.0\"),parse(BigFloat,\"0.0\"),\n",
    "        parse(BigFloat,\"0.00565429\"),parse(BigFloat,\"-0.00412490\"),parse(BigFloat,\"-0.00190589\"),        \n",
    "        parse(BigFloat,\"0.00168318\"),parse(BigFloat,\"0.00483525\"), parse(BigFloat,\"0.00192462\"),\n",
    "        parse(BigFloat,\"0.00354178\"),parse(BigFloat,\"0.00137102\"), parse(BigFloat,\"0.00055029\"),        \n",
    "        parse(BigFloat,\"0.00288930\"),parse(BigFloat,\"0.00114527\"), parse(BigFloat,\"0.00039677\"),\n",
    "        parse(BigFloat,\"0.00276725\"),parse(BigFloat,\"-0.00170702\"),parse(BigFloat,\"-0.00136504\")]\n",
    "  \n",
    "    \n",
    "    # Masses\n",
    "    \n",
    "    G = parse(BigFloat,\"2.95912208286e-4\")\n",
    "    \n",
    "    Gm=G.*[parse(BigFloat,\"1.00000597682\"),\n",
    "        parse(BigFloat,\"0.000954786104043\"),\n",
    "        parse(BigFloat,\"0.000285583733151\"),\n",
    "        parse(BigFloat,\"0.0000437273164546\"),\n",
    "        parse(BigFloat,\"0.0000517759138449\"),\n",
    "        parse(BigFloat,\"7.692307692307693e-9\")]   ##\"1.0/(1.3e8) \n",
    "    \n",
    "    return(nbody,q0,v0,Gm)\n",
    "    \n",
    "end"
   ]
  },
  {
   "cell_type": "code",
   "execution_count": 101,
   "metadata": {},
   "outputs": [
    {
     "data": {
      "text/plain": [
       "N6_KComputation (generic function with 1 method)"
      ]
     },
     "execution_count": 101,
     "metadata": {},
     "output_type": "execute_result"
    }
   ],
   "source": [
    "function N6_KComputation(nbody,Gm)\n",
    "\n",
    "    kbody=nbody-1;\n",
    "    k=Array{BigFloat}(undef,kbody)\n",
    "    \n",
    "    GmSun=Gm[1]\n",
    "    \n",
    "    for i in 1:kbody\n",
    "        k[i]=GmSun+Gm[i+1]\n",
    "    end\n",
    "    \n",
    "    return(k)\n",
    "end"
   ]
  },
  {
   "cell_type": "code",
   "execution_count": 102,
   "metadata": {},
   "outputs": [
    {
     "data": {
      "text/plain": [
       "N6_Initial_Values (generic function with 1 method)"
      ]
     },
     "execution_count": 102,
     "metadata": {},
     "output_type": "execute_result"
    }
   ],
   "source": [
    "function N6_Initial_Values()\n",
    "    \n",
    "\n",
    "    # Get positions and velocities from DE430 Ephemerides\n",
    "    \n",
    "    (nbody,q0,v0,Gm)=N6_430()\n",
    "    \n",
    "    dim=3 \n",
    "    MM=sum(Gm)\n",
    "    \n",
    "    # Barycenter=0\n",
    "    \n",
    "    Qbarycenter=BigFloat[0.,0.,0.]\n",
    "    Vbarycenter=BigFloat[0.,0.,0.]\n",
    "    \n",
    "    for i in 1:nbody\n",
    "        i1=(i-1)*dim\n",
    "        Qbarycenter+=(Gm[i]*q0[i1+1:i1+dim])/MM \n",
    "        Vbarycenter+=(Gm[i]*v0[i1+1:i1+dim])/MM \n",
    "    end\n",
    "    \n",
    "    for i in 1:nbody\n",
    "        i1=(i-1)*dim\n",
    "        q0[i1+1:i1+dim]-=Qbarycenter \n",
    "        v0[i1+1:i1+dim]-=Vbarycenter[1:dim] \n",
    "    end      \n",
    "    \n",
    "    k=N6_KComputation(nbody,Gm)        \n",
    "    return(nbody,vcat(q0,v0),k,Gm)      \n",
    "    \n",
    "end "
   ]
  },
  {
   "cell_type": "markdown",
   "metadata": {},
   "source": [
    "<a href=\"#top\">Back to the top</a>"
   ]
  },
  {
   "cell_type": "markdown",
   "metadata": {
    "collapsed": true
   },
   "source": [
    "## Hamiltonian and Momentum"
   ]
  },
  {
   "cell_type": "code",
   "execution_count": 103,
   "metadata": {},
   "outputs": [
    {
     "data": {
      "text/plain": [
       "NBodyHam (generic function with 1 method)"
      ]
     },
     "execution_count": 103,
     "metadata": {},
     "output_type": "execute_result"
    }
   ],
   "source": [
    "function NBodyHam(neq, out, params)\n",
    "\"\"\"    \n",
    "     Nbody problem Hamiltonian (Cartesian Coordinates)     \n",
    "\"\"\"    \n",
    "    \n",
    "    # Declarations \n",
    "    \n",
    "    dim=3\n",
    "    d::Int8 = neq/2\n",
    "    nbody::Int8=neq/(2*dim)\n",
    "    \n",
    "    # Implementation\n",
    "  \n",
    "    uu=out[2:end]\n",
    "    Gm=params\n",
    "    \n",
    "    H=0.\n",
    "    P=0.\n",
    "    \n",
    "    for i in 1:nbody\n",
    "        \n",
    "        i1=(i-1)*dim\n",
    "        i2=d+i1\n",
    "        qi=uu[i1+1:i1+dim]\n",
    "        vi=uu[i2+1:i2+dim]\n",
    "        H+=Gm[i]*dot(vi,vi)\n",
    "        \n",
    "        for j in i+1:nbody           \n",
    "            j1=(j-1)*dim\n",
    "            j2=d+j1\n",
    "            qj=uu[j1+1:j1+dim]\n",
    "            qij=qi-qj\n",
    "            r=norm(qij)\n",
    "            P+=(Gm[i]/r)*Gm[j]\n",
    "        end\n",
    "    end\n",
    "    \n",
    "    return(H/2-P)\n",
    "        \n",
    "end"
   ]
  },
  {
   "cell_type": "code",
   "execution_count": 104,
   "metadata": {},
   "outputs": [
    {
     "data": {
      "text/plain": [
       "NBodyMom (generic function with 1 method)"
      ]
     },
     "execution_count": 104,
     "metadata": {},
     "output_type": "execute_result"
    }
   ],
   "source": [
    "function NBodyMom(neq, out, params)\n",
    "\"\"\"    \n",
    "   \n",
    "    Nbody problem Angular momemtum (Cartesian Coordinates)     \n",
    "\"\"\"    \n",
    "    \n",
    "    # Declarations \n",
    "    \n",
    "    dim=3\n",
    "    d::Int8 = neq/2\n",
    "    nbody::Int8=neq/(2*dim)\n",
    "    \n",
    "    L=BigFloat[0.,0.,0.]\n",
    "    \n",
    "    # Implementation\n",
    "  \n",
    "    uu=out[2:end]\n",
    "    Gm=params\n",
    "    \n",
    "    for i in 1:nbody\n",
    "        \n",
    "        i1=(i-1)*dim\n",
    "        i2=d+i1\n",
    "        qi=uu[i1+1:i1+dim]\n",
    "        vi=uu[i2+1:i2+dim]\n",
    "        L+=cross(qi, Gm[i]*vi)\n",
    " \n",
    "    end\n",
    "      \n",
    "    return (L)\n",
    "    \n",
    "end"
   ]
  },
  {
   "cell_type": "markdown",
   "metadata": {},
   "source": [
    "<a href=\"#top\">Back to the top</a>"
   ]
  },
  {
   "cell_type": "markdown",
   "metadata": {},
   "source": [
    "## Change variables"
   ]
  },
  {
   "cell_type": "markdown",
   "metadata": {},
   "source": [
    "### N16-Body-Problem-(Change-variables)"
   ]
  },
  {
   "cell_type": "code",
   "execution_count": 105,
   "metadata": {},
   "outputs": [],
   "source": [
    "#  N16-BodyProblem (With Moon as separate body)\n",
    "#     Valid for N16, and N11-BodyProblem\n",
    "#     From baricentric coordinates (u) to heliocentric canonical coordinates (U)\n",
    "#     and also, inverse functions\n",
    "#\n",
    "#     ChangeBartoHel(u,Gm)\n",
    "#     ChangeHeltoBar(U,Gm)\n",
    "#     ChangeVariableQ(qq,Gm);\n",
    "#     ChangeVariableQInv(QQ,Gm);\n",
    "#     ChangeVariableP(pp,Gm)\n",
    "#     ChangeVariablePInv(PP,Gm)\n",
    "#     ChangeVariableV(vv,Gm)\n",
    "#     ChangeVariableVInv(VV,Gm)\n",
    "#     ChangeVariable(u,Gm)\n",
    "#     ChangeVariableInv(U,Gm)"
   ]
  },
  {
   "cell_type": "code",
   "execution_count": 106,
   "metadata": {},
   "outputs": [
    {
     "data": {
      "text/plain": [
       "ChangeHeltoBar (generic function with 2 methods)"
      ]
     },
     "execution_count": 106,
     "metadata": {},
     "output_type": "execute_result"
    }
   ],
   "source": [
    "function ChangeBartoHel(u,Gm)\n",
    "\n",
    "#     From baricentric coordinates (u) to heliocentric canonical coordinates (U)\n",
    "\n",
    "    dim=3\n",
    "    nbody=length(Gm)\n",
    "    neq=nbody*2*dim\n",
    "    d = Int(neq/2)\n",
    "    qq=u[1:d]\n",
    "    vv=u[d+1:neq]\n",
    "    \n",
    "    QQ=ChangeVariableQ(qq,Gm)\n",
    "    VV=ChangeVariableV(vv,Gm)\n",
    "    U=vcat(QQ[4:end],VV[4:end])\n",
    "\n",
    "    return U\n",
    "\n",
    "end\n",
    "\n",
    "\n",
    "function ChangeHeltoBar(U,Gm)\n",
    "\n",
    "#     From  heliocentric canonical coordinates (U) to baricentric coordinates (u) \n",
    "\n",
    "    dim=3\n",
    "    nbodyH=length(Gm)-1\n",
    "    neqH=nbodyH*2*dim\n",
    "    d = Int(neqH/2)\n",
    "    QQ=vcat([0,0,0],U[1:d])\n",
    "    VV=vcat([0,0,0],U[d+1:neqH])\n",
    "    \n",
    "    qq=ChangeVariableQInv(QQ,Gm)\n",
    "    vv=ChangeVariableVInv(VV,Gm)\n",
    "    u=vcat(qq,vv)\n",
    "\n",
    "    return u\n",
    "\n",
    "end\n",
    "\n"
   ]
  },
  {
   "cell_type": "code",
   "execution_count": 107,
   "metadata": {},
   "outputs": [
    {
     "data": {
      "text/plain": [
       "ChangeVariableQ (generic function with 1 method)"
      ]
     },
     "execution_count": 107,
     "metadata": {},
     "output_type": "execute_result"
    }
   ],
   "source": [
    "function ChangeVariableQ(qq,Gm)\n",
    "    \n",
    "    dim=3\n",
    "    nbody=size(Gm)[1]\n",
    "    iE=nbody-1\n",
    "    iM=nbody\n",
    "    iE1 = (iE-1)*dim\n",
    "    iM1 = (iM-1)*dim\n",
    "    MM=sum(Gm)\n",
    "    QQ=zeros(BigFloat,dim*nbody)\n",
    "    \n",
    "    for i in 1:nbody\n",
    "        i1=(i-1)*dim\n",
    "        QQ[1:dim]+=(Gm[i]*qq[i1+1:i1+dim])/MM \n",
    "    end\n",
    "    \n",
    "    for i in 2:nbody-2\n",
    "        i1=(i-1)*dim\n",
    "        QQ[i1+1:i1+dim]=qq[i1+1:i1+dim]-qq[1:dim]\n",
    "    end\n",
    "    \n",
    "    QQ[iE1+1:iE1+dim]=(Gm[iE]*qq[iE1+1:iE1+dim]+Gm[iM]*qq[iM1+1:iM1+dim])/(Gm[iE]+Gm[iM])-qq[1:dim]\n",
    "    QQ[iM1+1:iM1+dim]=Gm[iE]/(Gm[iE]+Gm[iM])*(qq[iM1+1:iM1+dim]-qq[iE1+1:iE1+dim])  \n",
    "\n",
    "    \n",
    "    return QQ\n",
    "    \n",
    "end    "
   ]
  },
  {
   "cell_type": "code",
   "execution_count": 108,
   "metadata": {},
   "outputs": [
    {
     "data": {
      "text/plain": [
       "ChangeVariableQInv (generic function with 1 method)"
      ]
     },
     "execution_count": 108,
     "metadata": {},
     "output_type": "execute_result"
    }
   ],
   "source": [
    "function ChangeVariableQInv(QQ,Gm)\n",
    "    \n",
    "    dim=3\n",
    "    nbody=size(Gm)[1]\n",
    "    iE=nbody-1\n",
    "    iM=nbody\n",
    "    iE1 = (iE-1)*dim\n",
    "    iM1 = (iM-1)*dim\n",
    "    MM=sum(Gm)\n",
    "    \n",
    "    qB=QQ[iE1+1:iE1+dim]\n",
    "    qMB=QQ[iM1+1:iM1+dim]\n",
    "    qN=qB+qMB\n",
    "    qE=qB-Gm[iM]*qMB/Gm[iE]    \n",
    "\n",
    "    \n",
    "    Q=copy(QQ)\n",
    "    Q[iE1+1:iE1+dim]=qE\n",
    "    Q[iM1+1:iM1+dim]=qN\n",
    "    \n",
    "    q=zeros(BigFloat,size(Q)[1])\n",
    "    \n",
    "    q[1:dim]=Q[1:dim]\n",
    "    for i in 2:nbody\n",
    "        i1=(i-1)*dim\n",
    "        q[1:dim]-=(Gm[i]*Q[i1+1:i1+dim])/MM\n",
    "    end\n",
    "    \n",
    "    for i in 2:nbody \n",
    "        i1=(i-1)*dim\n",
    "        q[i1+1:i1+dim]=Q[i1+1:i1+dim]+q[1:dim]\n",
    "    end\n",
    "    \n",
    "    return q\n",
    "\n",
    "end"
   ]
  },
  {
   "cell_type": "code",
   "execution_count": 109,
   "metadata": {},
   "outputs": [
    {
     "data": {
      "text/plain": [
       "ChangeVariableP (generic function with 1 method)"
      ]
     },
     "execution_count": 109,
     "metadata": {},
     "output_type": "execute_result"
    }
   ],
   "source": [
    "function ChangeVariableP(pp,Gm)\n",
    "    \n",
    "    dim=3\n",
    "    nbody=size(Gm)[1]\n",
    "    iE=nbody-1\n",
    "    iM=nbody\n",
    "    iE1 = (iE-1)*dim\n",
    "    iM1 = (iM-1)*dim\n",
    "    MM=sum(Gm)\n",
    "    PP=zeros(BigFloat,dim*nbody)\n",
    "           \n",
    "\n",
    "    for i in 1:nbody\n",
    "        i1=(i-1)*dim\n",
    "        PP[1:dim]+=pp[i1+1:i1+dim]\n",
    "    end\n",
    "    \n",
    "    for i in 2:nbody-2\n",
    "        i1=(i-1)*dim\n",
    "        PP[i1+1:i1+dim]=pp[i1+1:i1+dim]-Gm[i]/MM*PP[1:dim]\n",
    "    end\n",
    "    \n",
    "    PP[iE1+1:iE1+dim]=pp[iE1+1:iE1+dim]+pp[iM1+1:iM1+dim]-(Gm[iE]+Gm[iM])/MM*PP[1:dim]\n",
    "    PP[iM1+1:iM1+dim]=pp[iM1+1:iM1+dim]-Gm[iM]/Gm[iE]*pp[iE1+1:iE1+dim]\n",
    "    \n",
    "    return PP\n",
    "    \n",
    "end"
   ]
  },
  {
   "cell_type": "code",
   "execution_count": 110,
   "metadata": {},
   "outputs": [
    {
     "data": {
      "text/plain": [
       "ChangeVariablePInv (generic function with 1 method)"
      ]
     },
     "execution_count": 110,
     "metadata": {},
     "output_type": "execute_result"
    }
   ],
   "source": [
    "function ChangeVariablePInv(PP,Gm)\n",
    "    \n",
    "    dim=3\n",
    "    nbody=size(Gm)[1]\n",
    "    iE=nbody-1\n",
    "    iM=nbody\n",
    "    iE1 = (iE-1)*dim\n",
    "    iM1 = (iM-1)*dim\n",
    "    MM=sum(Gm)\n",
    "    pp=zeros(BigFloat,dim*nbody)\n",
    "    \n",
    "    \n",
    "    pp[iE1+1:iE1+dim]=Gm[iE]/(Gm[iE]+Gm[iM])*(PP[iE1+1:iE1+dim]-\n",
    "    PP[iM1+1:iM1+dim]+(Gm[iE]+Gm[iM])/MM*PP[1:dim])\n",
    "\n",
    "    pp[iM1+1:iM1+dim]=PP[iM1+1:iM1+dim]+Gm[iM]/Gm[iE]*pp[iE1+1:iE1+dim]\n",
    "       \n",
    "    for i in 2:nbody-2\n",
    "        i1=(i-1)*dim\n",
    "        pp[i1+1:i1+dim]=PP[i1+1:i1+dim]+Gm[i]/MM*PP[1:dim]\n",
    "    end  \n",
    "     \n",
    "    pp[1:dim]=PP[1:dim]    \n",
    "    for i in 2:nbody\n",
    "        i1=(i-1)*dim\n",
    "        pp[1:dim]-=pp[i1+1:i1+dim]\n",
    "    end\n",
    "          \n",
    "    return pp\n",
    "    \n",
    "end"
   ]
  },
  {
   "cell_type": "code",
   "execution_count": 111,
   "metadata": {},
   "outputs": [
    {
     "data": {
      "text/plain": [
       "ChangeVariableV (generic function with 1 method)"
      ]
     },
     "execution_count": 111,
     "metadata": {},
     "output_type": "execute_result"
    }
   ],
   "source": [
    "function ChangeVariableV(vv,Gm)\n",
    "    \n",
    "    dim=3\n",
    "    nbody=size(Gm)[1]\n",
    "    iE=nbody-1\n",
    "    iM=nbody\n",
    "    iE1 = (iE-1)*dim\n",
    "    iM1 = (iM-1)*dim\n",
    "    MM=sum(Gm)\n",
    "    pp=zeros(BigFloat,dim*nbody)\n",
    "    \n",
    "\n",
    "    for i in 1:nbody\n",
    "        i1=(i-1)*dim\n",
    "        pp[i1+1:i1+dim]=Gm[i]*vv[i1+1:i1+dim]\n",
    "    end\n",
    "    \n",
    "    PP = ChangeVariableP(pp,Gm)\n",
    "    \n",
    "    mu=zeros(BigFloat,nbody)\n",
    "    GmSun=Gm[1]\n",
    "    \n",
    "    for i in 1:nbody-2\n",
    "        mu[i]=(GmSun*Gm[i])/(GmSun+Gm[i])\n",
    "    end\n",
    "    \n",
    "    mu[iE]=GmSun*(Gm[iE]+Gm[iM])/(GmSun+Gm[iE]+Gm[iM])\n",
    "    mu[iM]=Gm[iM]*(Gm[iE]+Gm[iM])/Gm[iE]\n",
    "    \n",
    "    VV=zeros(BigFloat,dim*nbody)\n",
    "    \n",
    "    for i in 1:nbody\n",
    "        i1=(i-1)*dim\n",
    "        VV[i1+1:i1+dim]= PP[i1+1:i1+dim]/mu[i]\n",
    "    end\n",
    "    \n",
    "    return VV\n",
    "    \n",
    "end\n"
   ]
  },
  {
   "cell_type": "code",
   "execution_count": 112,
   "metadata": {},
   "outputs": [
    {
     "data": {
      "text/plain": [
       "ChangeVariableVInv (generic function with 1 method)"
      ]
     },
     "execution_count": 112,
     "metadata": {},
     "output_type": "execute_result"
    }
   ],
   "source": [
    "function ChangeVariableVInv(VV,Gm)\n",
    "    \n",
    "    dim=3\n",
    "    nbody=size(Gm)[1]\n",
    "    iE=nbody-1\n",
    "    iM=nbody\n",
    "    iE1 = (iE-1)*dim\n",
    "    iM1 = (iM-1)*dim\n",
    "    MM=sum(Gm)\n",
    "    \n",
    "    mu=zeros(BigFloat,nbody)\n",
    "    GmSun=Gm[1] \n",
    "    \n",
    "    for i in 1:nbody-2\n",
    "        mu[i]=(GmSun*Gm[i])/(GmSun+Gm[i])\n",
    "    end\n",
    "    \n",
    "    mu[iE]=GmSun*(Gm[iE]+Gm[iM])/(GmSun+Gm[iE]+Gm[iM])\n",
    "    mu[iM]=Gm[iM]*(Gm[iE]+Gm[iM])/Gm[iE]    \n",
    "    \n",
    "    PP=zeros(BigFloat,dim*nbody)\n",
    "    \n",
    "    for i in 1:nbody\n",
    "        i1=(i-1)*dim\n",
    "        PP[i1+1:i1+dim]=mu[i]*VV[i1+1:i1+dim]\n",
    "    end\n",
    "    \n",
    "    pp = ChangeVariablePInv(PP,Gm)  \n",
    "    \n",
    "    vv=zeros(BigFloat,dim*nbody)\n",
    "    \n",
    "    for i in 1:nbody\n",
    "        i1=(i-1)*dim\n",
    "        vv[i1+1:i1+dim]= pp[i1+1:i1+dim]/Gm[i]\n",
    "    end\n",
    "    \n",
    "    return vv\n",
    "    \n",
    "end   "
   ]
  },
  {
   "cell_type": "code",
   "execution_count": 113,
   "metadata": {},
   "outputs": [
    {
     "data": {
      "text/plain": [
       "ChangeVariable (generic function with 1 method)"
      ]
     },
     "execution_count": 113,
     "metadata": {},
     "output_type": "execute_result"
    }
   ],
   "source": [
    "function ChangeVariable(u,Gm)\n",
    "    \n",
    "    dim=3\n",
    "    nbody=size(Gm)[1]\n",
    "    n=dim*nbody\n",
    "    \n",
    "    q=u[1:n]\n",
    "    v=u[n+1:end]\n",
    "    Q = ChangeVariableQ(q,Gm)\n",
    "    V = ChangeVariableV(v,Gm)\n",
    "\n",
    "    return vcat(Q,V)\n",
    "    \n",
    "end"
   ]
  },
  {
   "cell_type": "code",
   "execution_count": 114,
   "metadata": {},
   "outputs": [
    {
     "data": {
      "text/plain": [
       "ChangeVariableInv (generic function with 1 method)"
      ]
     },
     "execution_count": 114,
     "metadata": {},
     "output_type": "execute_result"
    }
   ],
   "source": [
    "function ChangeVariableInv(U,Gm)\n",
    "    \n",
    "    dim=3\n",
    "    nbody=size(Gm)[1]\n",
    "    n=dim*nbody\n",
    "    \n",
    "    Q=U[1:n]\n",
    "    V=U[n+1:end]\n",
    "    q = ChangeVariableQInv(Q,Gm)\n",
    "    v = ChangeVariableVInv(V,Gm)\n",
    "\n",
    "    return vcat(q,v)\n",
    "    \n",
    "end"
   ]
  },
  {
   "cell_type": "markdown",
   "metadata": {},
   "source": [
    "### Some test"
   ]
  },
  {
   "cell_type": "code",
   "execution_count": 115,
   "metadata": {},
   "outputs": [
    {
     "data": {
      "text/plain": [
       "11"
      ]
     },
     "execution_count": 115,
     "metadata": {},
     "output_type": "execute_result"
    }
   ],
   "source": [
    "dim=3\n",
    "nbody=11"
   ]
  },
  {
   "cell_type": "code",
   "execution_count": 116,
   "metadata": {},
   "outputs": [
    {
     "data": {
      "text/plain": [
       "3.374258921966839166374146820511781612056336433375616257188692135731372984819831e-77"
      ]
     },
     "execution_count": 116,
     "metadata": {},
     "output_type": "execute_result"
    }
   ],
   "source": [
    "aux=rand(dim*nbody)\n",
    "qqs=map((x) -> BigFloat(x), aux)\n",
    "aux=rand(nbody)\n",
    "Gms=map((x) -> BigFloat(x), aux)\n",
    "QQs=ChangeVariableQ(qqs,Gms)\n",
    "qqb=ChangeVariableQInv(QQs,Gms)\n",
    "norm(qqb-qqs) "
   ]
  },
  {
   "cell_type": "code",
   "execution_count": 117,
   "metadata": {},
   "outputs": [
    {
     "data": {
      "text/plain": [
       "0.0"
      ]
     },
     "execution_count": 117,
     "metadata": {},
     "output_type": "execute_result"
    }
   ],
   "source": [
    "aux=rand(dim*nbody)\n",
    "pps=map((x) -> BigFloat(x), aux)\n",
    "aux=rand(nbody)\n",
    "Gms=map((x) -> BigFloat(x), aux)\n",
    "PPs=ChangeVariableP(pps,Gms)\n",
    "ppb=ChangeVariablePInv(PPs,Gms)\n",
    "norm(ppb-pps) "
   ]
  },
  {
   "cell_type": "code",
   "execution_count": 118,
   "metadata": {},
   "outputs": [
    {
     "data": {
      "text/plain": [
       "6.912307524210082802528651774164477075095484348751969665424771803924008347242385e-78"
      ]
     },
     "execution_count": 118,
     "metadata": {},
     "output_type": "execute_result"
    }
   ],
   "source": [
    "aux=rand(dim*nbody)\n",
    "vvs=map((x) -> BigFloat(x), aux)\n",
    "aux=rand(nbody)\n",
    "Gms=map((x) -> BigFloat(x), aux)\n",
    "VVs=ChangeVariableV(vvs,Gms)\n",
    "vvb=ChangeVariableVInv(VVs,Gms)\n",
    "norm(vvb-vvs) "
   ]
  },
  {
   "cell_type": "code",
   "execution_count": 119,
   "metadata": {},
   "outputs": [
    {
     "data": {
      "text/plain": [
       "5.857334493054067594303557656355935344019009684469476591686466832073203458314054e-77"
      ]
     },
     "execution_count": 119,
     "metadata": {},
     "output_type": "execute_result"
    }
   ],
   "source": [
    "aux=rand(2*dim*nbody)\n",
    "uus=map((x) -> BigFloat(x), aux)\n",
    "aux=rand(nbody)\n",
    "Gms=map((x) -> BigFloat(x), aux)\n",
    "UUs=ChangeVariable(uus,Gms)\n",
    "uub=ChangeVariableInv(UUs,Gms)\n",
    "norm(uub-uus) "
   ]
  },
  {
   "cell_type": "markdown",
   "metadata": {},
   "source": [
    "<a href=\"#top\">Back to the top</a>"
   ]
  },
  {
   "cell_type": "markdown",
   "metadata": {},
   "source": [
    "### N10-Body-Problem-(Change-variables)"
   ]
  },
  {
   "cell_type": "code",
   "execution_count": 120,
   "metadata": {},
   "outputs": [],
   "source": [
    "#  N10-BodyProblem (Earth+Moon one body)\n",
    "#     Valid for N6, N10, N15-BodyProblem\n",
    "#     From baricentric coordinates (u) to heliocentric canonical coordinates (U)\n",
    "#     and also, inverse functions\n",
    "#\n",
    "#\n",
    "#     ChangeBartoHel10(u,Gm)\n",
    "#     ChangeHeltoBar10(U,Gm)\n",
    "#     ChangeVariable10Q(qq,Gm);\n",
    "#     ChangeVariable10QInv(QQ,Gm);\n",
    "#     ChangeVariable10P(pp,Gm)\n",
    "#     ChangeVariable10PInv(PP,Gm)\n",
    "#     ChangeVariable10V(vv,Gm)\n",
    "#     ChangeVariable10VInv(VV,Gm)\n",
    "#     ChangeVariable10(u,Gm)\n",
    "#     ChangeVariable10Inv(U,Gm)"
   ]
  },
  {
   "cell_type": "code",
   "execution_count": 121,
   "metadata": {},
   "outputs": [
    {
     "data": {
      "text/plain": [
       "ChangeHeltoBar10 (generic function with 2 methods)"
      ]
     },
     "execution_count": 121,
     "metadata": {},
     "output_type": "execute_result"
    }
   ],
   "source": [
    "function ChangeBartoHel10(u,Gm)\n",
    "\n",
    "#     From baricentric coordinates (u) to heliocentric canonical coordinates (U)\n",
    "\n",
    "    dim=3\n",
    "    nbody=length(Gm)\n",
    "    neq=nbody*2*dim\n",
    "    d = Int(neq/2)\n",
    "    qq=u[1:d]\n",
    "    vv=u[d+1:neq]\n",
    "    \n",
    "    QQ=ChangeVariable10Q(qq,Gm)\n",
    "    VV=ChangeVariable10V(vv,Gm)\n",
    "    U=vcat(QQ[4:end],VV[4:end])\n",
    "\n",
    "    return U\n",
    "\n",
    "end\n",
    "\n",
    "\n",
    "function ChangeHeltoBar10(U,Gm)\n",
    "\n",
    "#     From  heliocentric canonical coordinates (U) to baricentric coordinates (u) \n",
    "\n",
    "    dim=3\n",
    "    nbodyH=length(Gm)-1\n",
    "    neqH=nbodyH*2*dim\n",
    "    d = Int(neqH/2)\n",
    "    QQ=vcat([0,0,0],U[1:d])\n",
    "    VV=vcat([0,0,0],U[d+1:neqH])\n",
    "    \n",
    "    qq=ChangeVariable10QInv(QQ,Gm)\n",
    "    vv=ChangeVariable10VInv(VV,Gm)\n",
    "    u=vcat(qq,vv)\n",
    "\n",
    "    return u\n",
    "\n",
    "end"
   ]
  },
  {
   "cell_type": "code",
   "execution_count": 122,
   "metadata": {},
   "outputs": [
    {
     "data": {
      "text/plain": [
       "ChangeVariable10Q (generic function with 1 method)"
      ]
     },
     "execution_count": 122,
     "metadata": {},
     "output_type": "execute_result"
    }
   ],
   "source": [
    "function ChangeVariable10Q(qq,Gm)\n",
    "          \n",
    "    dim=3\n",
    "    nbody=size(Gm)[1]\n",
    "    MM=sum(Gm)\n",
    "    QQ=zeros(BigFloat,dim*nbody)\n",
    "    \n",
    "    for i in 1:nbody\n",
    "        i1=(i-1)*dim\n",
    "        QQ[1:dim]+=(Gm[i]*qq[i1+1:i1+dim])/MM \n",
    "    end\n",
    "    \n",
    "    for i in 2:nbody\n",
    "        i1=(i-1)*dim\n",
    "        QQ[i1+1:i1+dim]=qq[i1+1:i1+dim]-qq[1:dim]\n",
    "    end\n",
    "       \n",
    "    return QQ\n",
    "    \n",
    "end    "
   ]
  },
  {
   "cell_type": "code",
   "execution_count": 123,
   "metadata": {},
   "outputs": [
    {
     "data": {
      "text/plain": [
       "ChangeVariable10QInv (generic function with 1 method)"
      ]
     },
     "execution_count": 123,
     "metadata": {},
     "output_type": "execute_result"
    }
   ],
   "source": [
    "function ChangeVariable10QInv(QQ,Gm)\n",
    "      \n",
    "    dim=3\n",
    "    nbody=size(Gm)[1]\n",
    "    MM=sum(Gm)\n",
    "   \n",
    "    Q=copy(QQ)    \n",
    "    q=zeros(BigFloat,size(Q)[1])\n",
    "    \n",
    "    q[1:dim]=Q[1:dim]\n",
    "    for i in 2:nbody\n",
    "        i1=(i-1)*dim\n",
    "        q[1:dim]-=(Gm[i]*Q[i1+1:i1+dim])/MM\n",
    "    end\n",
    "    \n",
    "    for i in 2:nbody \n",
    "        i1=(i-1)*dim\n",
    "        q[i1+1:i1+dim]=Q[i1+1:i1+dim]+q[1:dim]\n",
    "    end\n",
    "    \n",
    "    return q\n",
    "\n",
    "end"
   ]
  },
  {
   "cell_type": "code",
   "execution_count": 124,
   "metadata": {},
   "outputs": [
    {
     "data": {
      "text/plain": [
       "ChangeVariable10P (generic function with 1 method)"
      ]
     },
     "execution_count": 124,
     "metadata": {},
     "output_type": "execute_result"
    }
   ],
   "source": [
    "function ChangeVariable10P(pp,Gm)\n",
    "    \n",
    "    dim=3\n",
    "    nbody=size(Gm)[1]\n",
    "    MM=sum(Gm)\n",
    "    PP=zeros(BigFloat,dim*nbody)\n",
    "           \n",
    "\n",
    "    for i in 1:nbody\n",
    "        i1=(i-1)*dim\n",
    "        PP[1:dim]+=pp[i1+1:i1+dim] \n",
    "    end\n",
    "    \n",
    "    for i in 2:nbody\n",
    "        i1=(i-1)*dim\n",
    "        PP[i1+1:i1+dim]=pp[i1+1:i1+dim]-Gm[i]/MM*PP[1:dim]\n",
    "    end   \n",
    "     \n",
    "    return PP\n",
    "    \n",
    "end  "
   ]
  },
  {
   "cell_type": "code",
   "execution_count": 125,
   "metadata": {},
   "outputs": [
    {
     "data": {
      "text/plain": [
       "ChangeVariable10PInv (generic function with 1 method)"
      ]
     },
     "execution_count": 125,
     "metadata": {},
     "output_type": "execute_result"
    }
   ],
   "source": [
    "function ChangeVariable10PInv(PP,Gm)\n",
    "    \n",
    "    dim=3\n",
    "    nbody=size(Gm)[1]\n",
    "    MM=sum(Gm)\n",
    "    pp=zeros(BigFloat,dim*nbody)\n",
    "    \n",
    "       \n",
    "    for i in 2:nbody\n",
    "        i1=(i-1)*dim\n",
    "        pp[i1+1:i1+dim]=PP[i1+1:i1+dim]+Gm[i]/MM*PP[1:dim]\n",
    "    end  \n",
    "     \n",
    "    pp[1:dim]=PP[1:dim]  \n",
    "    \n",
    "    for i in 2:nbody\n",
    "        i1=(i-1)*dim\n",
    "        pp[1:dim]-=pp[i1+1:i1+dim]\n",
    "    end\n",
    "          \n",
    "    return pp\n",
    "    \n",
    "end"
   ]
  },
  {
   "cell_type": "code",
   "execution_count": 126,
   "metadata": {},
   "outputs": [
    {
     "data": {
      "text/plain": [
       "ChangeVariable10V (generic function with 1 method)"
      ]
     },
     "execution_count": 126,
     "metadata": {},
     "output_type": "execute_result"
    }
   ],
   "source": [
    "function ChangeVariable10V(vv,Gm)\n",
    "    \n",
    "    dim=3\n",
    "    nbody=size(Gm)[1]\n",
    "    MM=sum(Gm)\n",
    "    pp=zeros(BigFloat,dim*nbody)\n",
    "    \n",
    "\n",
    "    for i in 1:nbody\n",
    "        i1=(i-1)*dim\n",
    "        pp[i1+1:i1+dim]=Gm[i]*vv[i1+1:i1+dim]\n",
    "    end\n",
    "    \n",
    "    PP = ChangeVariable10P(pp,Gm)\n",
    "    \n",
    "    mu=zeros(BigFloat,nbody)\n",
    "    GmSun=Gm[1]\n",
    "    \n",
    "    for i in 1:nbody\n",
    "        mu[i]=(GmSun*Gm[i])/(GmSun+Gm[i])\n",
    "    end\n",
    "       \n",
    "    VV=zeros(BigFloat,dim*nbody)\n",
    "    \n",
    "    for i in 1:nbody\n",
    "        i1=(i-1)*dim\n",
    "        VV[i1+1:i1+dim]= PP[i1+1:i1+dim]/mu[i]\n",
    "    end\n",
    "    \n",
    "    return VV\n",
    "    \n",
    "end"
   ]
  },
  {
   "cell_type": "code",
   "execution_count": 127,
   "metadata": {},
   "outputs": [
    {
     "data": {
      "text/plain": [
       "ChangeVariable10VInv (generic function with 1 method)"
      ]
     },
     "execution_count": 127,
     "metadata": {},
     "output_type": "execute_result"
    }
   ],
   "source": [
    "function ChangeVariable10VInv(VV,Gm)\n",
    "    \n",
    "    dim=3\n",
    "    nbody=size(Gm)[1]\n",
    "    MM=sum(Gm)\n",
    "    \n",
    "    mu=zeros(BigFloat,nbody)\n",
    "    GmSun=Gm[1] \n",
    "    \n",
    "    for i in 1:nbody\n",
    "        mu[i]=(GmSun*Gm[i])/(GmSun+Gm[i])\n",
    "    end   \n",
    "    \n",
    "    PP=zeros(BigFloat,dim*nbody)\n",
    "    \n",
    "    for i in 1:nbody\n",
    "        i1=(i-1)*dim\n",
    "        PP[i1+1:i1+dim]=mu[i]*VV[i1+1:i1+dim]\n",
    "    end\n",
    "    \n",
    "    pp = ChangeVariable10PInv(PP,Gm)\n",
    "    \n",
    "    \n",
    "    vv=zeros(BigFloat,dim*nbody)\n",
    "    \n",
    "    for i in 1:nbody\n",
    "        i1=(i-1)*dim\n",
    "        vv[i1+1:i1+dim]= pp[i1+1:i1+dim]/Gm[i]\n",
    "    end\n",
    "    \n",
    "    return vv\n",
    "    \n",
    "end   "
   ]
  },
  {
   "cell_type": "code",
   "execution_count": 128,
   "metadata": {},
   "outputs": [
    {
     "data": {
      "text/plain": [
       "ChangeVariable10 (generic function with 1 method)"
      ]
     },
     "execution_count": 128,
     "metadata": {},
     "output_type": "execute_result"
    }
   ],
   "source": [
    "function ChangeVariable10(u,Gm)\n",
    "    \n",
    "    dim=3\n",
    "    nbody=size(Gm)[1]\n",
    "    n=dim*nbody\n",
    "    \n",
    "    q=u[1:n]\n",
    "    v=u[n+1:end]\n",
    "    Q = ChangeVariable10Q(q,Gm)\n",
    "    V = ChangeVariable10V(v,Gm)\n",
    "\n",
    "    return vcat(Q,V)\n",
    "    \n",
    "end"
   ]
  },
  {
   "cell_type": "code",
   "execution_count": 129,
   "metadata": {},
   "outputs": [
    {
     "data": {
      "text/plain": [
       "ChangeVariable10Inv (generic function with 1 method)"
      ]
     },
     "execution_count": 129,
     "metadata": {},
     "output_type": "execute_result"
    }
   ],
   "source": [
    "function ChangeVariable10Inv(U,Gm)\n",
    "    \n",
    "    dim=3\n",
    "    nbody=size(Gm)[1]\n",
    "    n=dim*nbody\n",
    "    \n",
    "    Q=U[1:n]\n",
    "    V=U[n+1:end]\n",
    "    q = ChangeVariable10QInv(Q,Gm)\n",
    "    v = ChangeVariable10VInv(V,Gm)\n",
    "\n",
    "    return vcat(q,v)\n",
    "    \n",
    "end"
   ]
  },
  {
   "cell_type": "markdown",
   "metadata": {},
   "source": [
    "### Some tests"
   ]
  },
  {
   "cell_type": "code",
   "execution_count": 130,
   "metadata": {},
   "outputs": [],
   "source": [
    "#setprecision(100)   #number of bit of sigfinicant\n",
    "dim=3;\n",
    "nbody=10;"
   ]
  },
  {
   "cell_type": "code",
   "execution_count": 131,
   "metadata": {},
   "outputs": [
    {
     "data": {
      "text/plain": [
       "8.112943790809956333303200393990553339405913915193065031814264950103775237040196e-77"
      ]
     },
     "execution_count": 131,
     "metadata": {},
     "output_type": "execute_result"
    }
   ],
   "source": [
    "aux=rand(dim*nbody);\n",
    "qqs=map((x) -> BigFloat(x), aux)\n",
    "aux=rand(nbody);\n",
    "Gms=map((x) -> BigFloat(x), aux);\n",
    "QQs=ChangeVariable10Q(qqs,Gms);\n",
    "qqb=ChangeVariable10QInv(QQs,Gms);\n",
    "norm(qqb-qqs) "
   ]
  },
  {
   "cell_type": "code",
   "execution_count": 132,
   "metadata": {},
   "outputs": [
    {
     "data": {
      "text/plain": [
       "0.0"
      ]
     },
     "execution_count": 132,
     "metadata": {},
     "output_type": "execute_result"
    }
   ],
   "source": [
    "aux=rand(dim*nbody);\n",
    "pps=map((x) -> BigFloat(x), aux);\n",
    "aux=rand(nbody);\n",
    "Gms=map((x) -> BigFloat(x), aux);\n",
    "PPs=ChangeVariable10P(pps,Gms);\n",
    "ppb=ChangeVariable10PInv(PPs,Gms);\n",
    "norm(ppb-pps)"
   ]
  },
  {
   "cell_type": "code",
   "execution_count": 133,
   "metadata": {},
   "outputs": [
    {
     "data": {
      "text/plain": [
       "0.0"
      ]
     },
     "execution_count": 133,
     "metadata": {},
     "output_type": "execute_result"
    }
   ],
   "source": [
    "aux=rand(dim*nbody);\n",
    "vvs=map((x) -> BigFloat(x), aux);\n",
    "aux=rand(nbody);\n",
    "Gms=map((x) -> BigFloat(x), aux);\n",
    "VVs=ChangeVariable10V(vvs,Gms);\n",
    "vvb=ChangeVariable10VInv(VVs,Gms);\n",
    "norm(vvb-vvs) "
   ]
  },
  {
   "cell_type": "code",
   "execution_count": 134,
   "metadata": {},
   "outputs": [
    {
     "data": {
      "text/plain": [
       "2.928667246527033797151778828177967672009504842234738295843233416036601729157027e-77"
      ]
     },
     "execution_count": 134,
     "metadata": {},
     "output_type": "execute_result"
    }
   ],
   "source": [
    "aux=rand(2*dim*nbody);\n",
    "uus=map((x) -> BigFloat(x), aux);\n",
    "aux=rand(nbody);\n",
    "Gms=map((x) -> BigFloat(x), aux);\n",
    "UUs=ChangeVariable10(uus,Gms);\n",
    "uub=ChangeVariable10Inv(UUs,Gms);\n",
    "norm(uub-uus) "
   ]
  },
  {
   "cell_type": "markdown",
   "metadata": {},
   "source": [
    "<a href=\"#top\">Back to the top</a>"
   ]
  },
  {
   "cell_type": "markdown",
   "metadata": {},
   "source": [
    "## ChangeHeltoBar (solution)"
   ]
  },
  {
   "cell_type": "code",
   "execution_count": 135,
   "metadata": {},
   "outputs": [
    {
     "data": {
      "text/plain": [
       "ChangeHeltoBar (generic function with 2 methods)"
      ]
     },
     "execution_count": 135,
     "metadata": {},
     "output_type": "execute_result"
    }
   ],
   "source": [
    "function ChangeHeltoBar(solu::Array{Array{BigFloat,1},1}, \n",
    "                        Gm::Array{BigFloat,1},\n",
    "                        ti::Array{BigFloat,1},\n",
    "                        nbodyH::Int64) \n",
    "\n",
    "\"\"\"    \n",
    "    Valid for N-11,N16-BodyProblem    \n",
    "    Moon as separate body\n",
    "\"\"\"  \n",
    "    \n",
    "    nout=length(solu)\n",
    "    solq=map(x->x[1:3*nbodyH],solu)\n",
    "    solv=map(x->x[3*nbodyH+1:end],solu)\n",
    "    solQ=map(x->ChangeVariableQInv(vcat(BigFloat[0.,0.,0.],x),Gm),solq)\n",
    "    solV=map(x->ChangeVariableVInv(vcat(BigFloat[0.,0.,0.],x),Gm),solv)\n",
    "    solU=[vcat(ti[1],solQ[1],solV[1])]\n",
    "    for i in 2:nout\n",
    "       push!(solU,vcat(ti[i],solQ[i],solV[i]))\n",
    "    end\n",
    "    \n",
    "    return solU\n",
    "\n",
    "end   "
   ]
  },
  {
   "cell_type": "code",
   "execution_count": 136,
   "metadata": {},
   "outputs": [
    {
     "data": {
      "text/plain": [
       "ChangeHeltoBar10 (generic function with 2 methods)"
      ]
     },
     "execution_count": 136,
     "metadata": {},
     "output_type": "execute_result"
    }
   ],
   "source": [
    "function ChangeHeltoBar10(solu::Array{Array{BigFloat,1},1}, \n",
    "                          Gm::Array{BigFloat,1},\n",
    "                          ti::Array{BigFloat,1},\n",
    "                          nbodyH::Int64)  \n",
    "\"\"\"    \n",
    "    Valid for N6,N10-BodyProblem    \n",
    "\"\"\"    \n",
    "    nout=length(solu)\n",
    "    \n",
    "    solq=map(x->x[1:3*nbodyH],solu)\n",
    "    solv=map(x->x[3*nbodyH+1:end],solu)\n",
    "    solQ=map(x->ChangeVariable10QInv(vcat(BigFloat[0.,0.,0.],x),Gm),solq)\n",
    "    solV=map(x->ChangeVariable10VInv(vcat(BigFloat[0.,0.,0.],x),Gm),solv)\n",
    "    solU=[vcat(ti[1],solQ[1],solV[1])]\n",
    "    for i in 2:nout\n",
    "       push!(solU,vcat(ti[i],solQ[i],solV[i]))\n",
    "    end\n",
    "    \n",
    "    return solU\n",
    "\n",
    "end   "
   ]
  },
  {
   "cell_type": "markdown",
   "metadata": {},
   "source": [
    "<a href=\"#top\">Back to the top</a>"
   ]
  },
  {
   "cell_type": "markdown",
   "metadata": {},
   "source": [
    "## Semi-Major-Axis-And-Eccentricity"
   ]
  },
  {
   "cell_type": "code",
   "execution_count": 137,
   "metadata": {},
   "outputs": [
    {
     "data": {
      "text/plain": [
       "KeplerA (generic function with 1 method)"
      ]
     },
     "execution_count": 137,
     "metadata": {},
     "output_type": "execute_result"
    }
   ],
   "source": [
    "function KeplerA(qv, mu)  \n",
    "\"\"\"\n",
    "    Compute Semi Major Axis    \n",
    "\"\"\"    \n",
    "    \n",
    "    #Position\n",
    "    q1=qv[1]\n",
    "    q2=qv[2]\n",
    "    q3=qv[3]\n",
    "\n",
    "    #Velocity\n",
    "    v1=qv[4]\n",
    "    v2=qv[5]\n",
    "    v3=qv[6]\n",
    "    \n",
    "    r0 = sqrt(q1*q1 + q2*q2 + q3*q3)\n",
    "    eta = (q1*v1 + q2*v2 + q3*v3)\n",
    "    alpha = mu/r0\n",
    "    beta = 2*alpha - (v1*v1 + v2*v2 + v3*v3)\n",
    "    \n",
    "    return mu/beta\n",
    "    \n",
    "end    "
   ]
  },
  {
   "cell_type": "code",
   "execution_count": 138,
   "metadata": {},
   "outputs": [
    {
     "data": {
      "text/plain": [
       "KeplerE (generic function with 1 method)"
      ]
     },
     "execution_count": 138,
     "metadata": {},
     "output_type": "execute_result"
    }
   ],
   "source": [
    "function KeplerE(qv,mu)\n",
    "\"\"\"\n",
    "    Compute Eccentricity    \n",
    "\"\"\"        \n",
    "    \n",
    "    #Position\n",
    "    q1=qv[1]\n",
    "    q2=qv[2]\n",
    "    q3=qv[3]\n",
    "\n",
    "    #Velocity    \n",
    "    v1=qv[4]\n",
    "    v2=qv[5]\n",
    "    v3=qv[6]\n",
    "\n",
    "    r0 = sqrt(q1*q1 + q2*q2 + q3*q3)\n",
    "    eta = (q1*v1 + q2*v2 + q3*v3)\n",
    "    alpha = mu/r0\n",
    "    beta = 2*alpha - (v1*v1 + v2*v2 + v3*v3)\n",
    "    zeta = mu - beta*r0\n",
    "    \n",
    "    return sqrt(beta*eta^2 + zeta^2)/mu\n",
    "\n",
    "end      "
   ]
  },
  {
   "cell_type": "code",
   "execution_count": 139,
   "metadata": {},
   "outputs": [
    {
     "data": {
      "text/plain": [
       "KeplerAList (generic function with 1 method)"
      ]
     },
     "execution_count": 139,
     "metadata": {},
     "output_type": "execute_result"
    }
   ],
   "source": [
    "function KeplerAList(u,muak)     \n",
    "   \n",
    "    dim=3\n",
    "    neq::Int8=length(u)\n",
    "    n::Int8=neq/(2*dim)\n",
    "    \n",
    "    res=[];\n",
    "    \n",
    "    for i in 0:n-1\n",
    "        ui=vcat(u[dim*i+1:dim*i+dim],u[dim*(n+i)+1:dim*(n+i)+dim]) \n",
    "        mui=muak[i+1]\n",
    "        push!(res,KeplerA(ui,mui))\n",
    "    end\n",
    "    \n",
    "    return res \n",
    "end  "
   ]
  },
  {
   "cell_type": "code",
   "execution_count": 140,
   "metadata": {},
   "outputs": [
    {
     "data": {
      "text/plain": [
       "KeplerEList (generic function with 1 method)"
      ]
     },
     "execution_count": 140,
     "metadata": {},
     "output_type": "execute_result"
    }
   ],
   "source": [
    "function KeplerEList(u,muak)     \n",
    "   \n",
    "    dim=3\n",
    "    neq::Int8=length(u)\n",
    "    n::Int8=neq/(2*dim)\n",
    "    \n",
    "    res=[];\n",
    "\n",
    "    \n",
    "    for i in 0:n-1\n",
    "        ui=vcat(u[dim*i+1:dim*i+dim],u[dim*(n+i)+1:dim*(n+i)+dim])     \n",
    "        mui=muak[i+1]\n",
    "        push!(res,KeplerE(ui,mui))\n",
    "    end\n",
    "    \n",
    "    return res \n",
    "    \n",
    "end   "
   ]
  },
  {
   "cell_type": "markdown",
   "metadata": {},
   "source": [
    "<a href=\"#top\">Back to the top</a>"
   ]
  }
 ],
 "metadata": {
  "@webio": {
   "lastCommId": null,
   "lastKernelId": null
  },
  "anaconda-cloud": {},
  "kernelspec": {
   "display_name": "Julia 1.0.1",
   "language": "julia",
   "name": "julia-1.0"
  },
  "language_info": {
   "file_extension": ".jl",
   "mimetype": "application/julia",
   "name": "julia",
   "version": "1.0.1"
  }
 },
 "nbformat": 4,
 "nbformat_minor": 1
}
